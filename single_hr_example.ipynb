{
 "cells": [
  {
   "cell_type": "markdown",
   "metadata": {},
   "source": [
    "# Single Heart Rate Monitor Example"
   ]
  },
  {
   "cell_type": "markdown",
   "metadata": {},
   "source": [
    "This is a minimal demonstration of how to set up and use BleakFSM.\n",
    "\n",
    "This examples uses Bluetooth Low Energy (BLE) Heart Rate service.\n",
    "+ It must support Bluetooth, not just ANT+\n",
    "+ The GATT Characteristic required is: `00002a37-0000-1000-8000-00805f9b34fb`\n",
    "+ You may use the [`bluetooth_dissect.py` tool](https://github.com/tensorturtle/bluetooth_dissect) to check if your device supports that GATT Characteristic.\n",
    "\n",
    "Example compatible devices:\n",
    "+ Magene H603\n",
    "+ Wahoo TICKR & TICKR Fit\n",
    "+ WHOOP 4.0 (Broadcast Heart Rate ON)\n",
    "+ and many more advertised as \"supports Bluetooth Heart Rate\"\n",
    "\n",
    "If you don't have access to a BLE Heart Rate device or want to a different BLE GATT characteristic, see the [Migration Guide](migration_guide.ipynb)\n",
    "\n",
    "\n",
    "## How to run this Notebook\n",
    "\n",
    "+ Make sure your computer's bluetooth adapter is powered on.\n",
    "+ At first, I recommend stepping through each cell, reading the code and explanations.\n",
    "+ You will need to set your Heart Rate monitor's address the first time.\n",
    "+ At any time, `print(model.state)` to confirm which state you're in. This will help you figure out what you can do from there."
   ]
  },
  {
   "cell_type": "code",
   "execution_count": 1,
   "metadata": {},
   "outputs": [
    {
     "name": "stdout",
     "output_type": "stream",
     "text": [
      "Defaulting to user installation because normal site-packages is not writeable\n",
      "\u001b[31mERROR: Could not open requirements file: [Errno 2] No such file or directory: '-q'\u001b[0m\n",
      "\u001b[33mWARNING: You are using pip version 21.2.4; however, version 24.0 is available.\n",
      "You should consider upgrading via the '/Library/Developer/CommandLineTools/usr/bin/python3 -m pip install --upgrade pip' command.\u001b[0m\n"
     ]
    }
   ],
   "source": [
    "!pip3 install -r -q requirements.txt"
   ]
  },
  {
   "cell_type": "markdown",
   "metadata": {},
   "source": [
    "# Setup"
   ]
  },
  {
   "cell_type": "code",
   "execution_count": 2,
   "metadata": {},
   "outputs": [],
   "source": [
    "import asyncio"
   ]
  },
  {
   "cell_type": "code",
   "execution_count": 3,
   "metadata": {},
   "outputs": [],
   "source": [
    "from bleak_fsm import machine, BleakModel"
   ]
  },
  {
   "cell_type": "code",
   "execution_count": 4,
   "metadata": {},
   "outputs": [],
   "source": [
    "model = BleakModel(\n",
    "    # the following kwargs are optional. Their defaults are:\n",
    "    scan_stale_time=120, # seconds\n",
    "    auto_rescan=True,\n",
    "    auto_rescan_timeout=3 # seconds\n",
    ")\n",
    "machine.add_model(model)"
   ]
  },
  {
   "cell_type": "markdown",
   "metadata": {},
   "source": [
    "Toggle this `USE_PYCYCLING` flag to see how this library can accomodate using standard, raw BLeakClient or Pycycling-wrapped BleakClient."
   ]
  },
  {
   "cell_type": "code",
   "execution_count": 5,
   "metadata": {},
   "outputs": [],
   "source": [
    "USE_PYCYCLING = True"
   ]
  },
  {
   "cell_type": "code",
   "execution_count": 6,
   "metadata": {},
   "outputs": [],
   "source": [
    "# Define callbacks\n",
    "\n",
    "if USE_PYCYCLING:\n",
    "    from pycycling.heart_rate_service import HeartRateService\n",
    "    model.wrap = lambda client: HeartRateService(client)\n",
    "    model.enable_notifications = lambda client: client.enable_hr_measurement_notifications()\n",
    "    model.disable_notifications = lambda client: client.disable_hr_measurement_notifications()\n",
    "    def handle_hr_measurement(value):\n",
    "        print(\"Using Pycycling wrapper around BleakClient\")\n",
    "        print(f\"Heart Rate: {value}\")\n",
    "    model.set_measurement_handler = lambda client: client.set_hr_measurement_handler(handle_hr_measurement)\n",
    "else:\n",
    "    HEART_RATE_MEASUREMENT_CHARACTERISTIC_UUID = \"00002a37-0000-1000-8000-00805f9b34fb\"\n",
    "    model.enable_notifications = lambda client: client.start_notify(HEART_RATE_MEASUREMENT_CHARACTERISTIC_UUID, handle_hr_measurement)\n",
    "    model.disable_notifications = lambda client: client.stop_notify(HEART_RATE_MEASUREMENT_CHARACTERISTIC_UUID)\n",
    "    def handle_hr_measurement(sender, data):\n",
    "        print(\"Using raw BleakClient\")\n",
    "        print(f\"Data received from {sender}: {data}\")\n",
    "        flag = data[0]\n",
    "        heart_rate = data[1]\n",
    "        print(f\"Heart Rate: {heart_rate} beats per minute\")\n",
    "    model.set_measurement_handler = lambda client: handle_hr_measurement\n"
   ]
  },
  {
   "cell_type": "markdown",
   "metadata": {},
   "source": [
    "# Usage"
   ]
  },
  {
   "cell_type": "markdown",
   "metadata": {},
   "source": [
    "Since we're in a Jupyter notebook, we need to use `create_task()` instead of `get_event_loop().run_until_complete()` to use the existing event loop which Jupyter runs on."
   ]
  },
  {
   "cell_type": "code",
   "execution_count": 7,
   "metadata": {},
   "outputs": [
    {
     "data": {
      "text/plain": [
       "<Task pending name='Task-5' coro=<AsyncEvent.trigger() running at /Users/tensorturtle/Library/Python/3.9/lib/python/site-packages/transitions/extensions/asyncio.py:166>>"
      ]
     },
     "execution_count": 7,
     "metadata": {},
     "output_type": "execute_result"
    }
   ],
   "source": [
    "asyncio.create_task(model.start_scan())"
   ]
  },
  {
   "cell_type": "markdown",
   "metadata": {},
   "source": [
    "We could have used\n",
    "\n",
    "```\n",
    "await model.start_scan()\n",
    "```\n",
    "\n",
    "but it would block until the scan is finished.\n",
    "For this demonstratoin, we don't want that because we want to demonstrate how `BleakModel.bt_devices` gets populated as the scanning progresses."
   ]
  },
  {
   "cell_type": "code",
   "execution_count": 8,
   "metadata": {},
   "outputs": [
    {
     "data": {
      "text/plain": [
       "'Scanning'"
      ]
     },
     "execution_count": 8,
     "metadata": {},
     "output_type": "execute_result"
    }
   ],
   "source": [
    "model.state"
   ]
  },
  {
   "cell_type": "code",
   "execution_count": 9,
   "metadata": {},
   "outputs": [
    {
     "data": {
      "text/plain": [
       "<Task pending name='Task-7' coro=<stop_after_delay() running at /var/folders/16/dbv855p93hx5m7mgrd8fwscw0000gn/T/ipykernel_8535/1686944154.py:2>>"
      ]
     },
     "execution_count": 9,
     "metadata": {},
     "output_type": "execute_result"
    }
   ],
   "source": [
    "# Stop scan after delay\n",
    "async def stop_after_delay(delay, model):\n",
    "    print(\"Starting sleep for 2 seconds (giving the scanner time to scan)\")\n",
    "    await asyncio.sleep(delay)\n",
    "    print(\"Slept for 2 seconds (sending end signal to scanner)\")\n",
    "    await model.stop_scan()\n",
    "    print(\"Stopped scanning\")\n",
    "    \n",
    "\n",
    "asyncio.create_task(stop_after_delay(2, model))"
   ]
  },
  {
   "cell_type": "markdown",
   "metadata": {},
   "source": [
    "If you run the following cell without pause after the \n",
    "\n",
    "```\n",
    "asyncio.create_task(model.start_scan())\n",
    "```\n",
    "\n",
    "cell, then you'll see the bluetooth adapter finding more devices, stopping at `max_devices`."
   ]
  },
  {
   "cell_type": "code",
   "execution_count": 10,
   "metadata": {},
   "outputs": [
    {
     "name": "stdout",
     "output_type": "stream",
     "text": [
      "Starting sleep for 2 seconds (giving the scanner time to scan)\n",
      "0 devices found in 0.0 seconds.\n",
      "2 devices found in 0.05 seconds.\n",
      "2 devices found in 0.1 seconds.\n",
      "2 devices found in 0.15 seconds.\n",
      "5 devices found in 0.2 seconds.\n",
      "5 devices found in 0.25 seconds.\n",
      "5 devices found in 0.3 seconds.\n",
      "5 devices found in 0.35 seconds.\n",
      "5 devices found in 0.4 seconds.\n",
      "6 devices found in 0.45 seconds.\n",
      "6 devices found in 0.5 seconds.\n",
      "6 devices found in 0.55 seconds.\n",
      "6 devices found in 0.6 seconds.\n",
      "6 devices found in 0.65 seconds.\n",
      "6 devices found in 0.7 seconds.\n",
      "6 devices found in 0.75 seconds.\n",
      "6 devices found in 0.8 seconds.\n",
      "6 devices found in 0.85 seconds.\n",
      "6 devices found in 0.9 seconds.\n",
      "6 devices found in 0.95 seconds.\n",
      "8 devices found in 1.0 seconds.\n",
      "8 devices found in 1.05 seconds.\n",
      "8 devices found in 1.1 seconds.\n",
      "8 devices found in 1.15 seconds.\n",
      "9 devices found in 1.2 seconds.\n",
      "9 devices found in 1.25 seconds.\n",
      "9 devices found in 1.3 seconds.\n",
      "9 devices found in 1.35 seconds.\n",
      "9 devices found in 1.4 seconds.\n",
      "9 devices found in 1.45 seconds.\n",
      "9 devices found in 1.5 seconds.\n",
      "9 devices found in 1.55 seconds.\n",
      "9 devices found in 1.6 seconds.\n",
      "9 devices found in 1.65 seconds.\n",
      "9 devices found in 1.7 seconds.\n",
      "9 devices found in 1.75 seconds.\n",
      "9 devices found in 1.8 seconds.\n",
      "9 devices found in 1.85 seconds.\n",
      "9 devices found in 1.9 seconds.\n",
      "9 devices found in 1.95 seconds.\n",
      "Slept for 2 seconds (sending end signal to scanner)\n",
      "Stopped scanning\n"
     ]
    }
   ],
   "source": [
    "async def print_as_we_go(max_devices=30):\n",
    "    for i in range(40):\n",
    "        if len(BleakModel.bt_devices) >= max_devices:\n",
    "            print(f\"{len(BleakModel.bt_devices)} devices found. Stopping scan.\")\n",
    "            await model.stop_scan()\n",
    "            break\n",
    "        print(f\"{len(BleakModel.bt_devices)} devices found in {round(i*0.05,2)} seconds.\")\n",
    "        await asyncio.sleep(0.05)\n",
    "\n",
    "await print_as_we_go()"
   ]
  },
  {
   "cell_type": "code",
   "execution_count": 11,
   "metadata": {},
   "outputs": [
    {
     "data": {
      "text/plain": [
       "{'9C274FDE-B95E-AA3C-F18B-03FEF0CFCBCF': BLEDevice(9C274FDE-B95E-AA3C-F18B-03FEF0CFCBCF, None),\n",
       " '14863C4D-BF71-4EA3-C6B4-98001056AAF8': BLEDevice(14863C4D-BF71-4EA3-C6B4-98001056AAF8, WHOOPDEDOO),\n",
       " '9E41F52B-BDEF-3C85-F51D-E0DE23B7CB41': BLEDevice(9E41F52B-BDEF-3C85-F51D-E0DE23B7CB41, Study),\n",
       " 'DC2343A7-C46E-E1BB-30E9-BC6E274B4A39': BLEDevice(DC2343A7-C46E-E1BB-30E9-BC6E274B4A39, Fast Fred),\n",
       " '3FEC3389-7F84-AFC4-6EF1-BDE6CD37F862': BLEDevice(3FEC3389-7F84-AFC4-6EF1-BDE6CD37F862, Green Apple),\n",
       " '37DA5EA4-DB46-2D6D-9E8F-A7B7D4DBCCA4': BLEDevice(37DA5EA4-DB46-2D6D-9E8F-A7B7D4DBCCA4, GiGA Genie 3_F70E),\n",
       " '68A66DC7-C6A6-D7D2-A8F5-CA0B2EA93DBE': BLEDevice(68A66DC7-C6A6-D7D2-A8F5-CA0B2EA93DBE, None),\n",
       " '0DC87FFA-43F3-CB05-4067-7340F43B69E4': BLEDevice(0DC87FFA-43F3-CB05-4067-7340F43B69E4, None),\n",
       " 'EB3E049D-D069-8F09-77FD-252700268401': BLEDevice(EB3E049D-D069-8F09-77FD-252700268401, None)}"
      ]
     },
     "execution_count": 11,
     "metadata": {},
     "output_type": "execute_result"
    }
   ],
   "source": [
    "BleakModel.bt_devices"
   ]
  },
  {
   "cell_type": "markdown",
   "metadata": {},
   "source": [
    "Copy-and-paste the key corresponding to the device that you want to connect to:"
   ]
  },
  {
   "cell_type": "code",
   "execution_count": 12,
   "metadata": {},
   "outputs": [],
   "source": [
    "target_address = \"14863C4D-BF71-4EA3-C6B4-98001056AAF8\""
   ]
  },
  {
   "cell_type": "markdown",
   "metadata": {},
   "source": [
    "Or search for the name of the device from the values and retrieve its key.\n",
    "\n",
    "While most consumer heart rate monitors have a name, this name might be not unique or missing."
   ]
  },
  {
   "cell_type": "code",
   "execution_count": 13,
   "metadata": {},
   "outputs": [],
   "source": [
    "target_name = \"WHOOPDEDOO\"\n",
    "\n",
    "target_address = \"\"\n",
    "for k,v in BleakModel.bt_devices.items():\n",
    "    if v.name == target_name:\n",
    "        target_address = k"
   ]
  },
  {
   "cell_type": "markdown",
   "metadata": {},
   "source": [
    "Anyhow, we will attempt to connect to the following address:"
   ]
  },
  {
   "cell_type": "code",
   "execution_count": 14,
   "metadata": {},
   "outputs": [
    {
     "name": "stdout",
     "output_type": "stream",
     "text": [
      "14863C4D-BF71-4EA3-C6B4-98001056AAF8\n"
     ]
    }
   ],
   "source": [
    "print(target_address)"
   ]
  },
  {
   "cell_type": "code",
   "execution_count": 15,
   "metadata": {},
   "outputs": [
    {
     "data": {
      "text/plain": [
       "True"
      ]
     },
     "execution_count": 15,
     "metadata": {},
     "output_type": "execute_result"
    }
   ],
   "source": [
    "# The sleeps are in here to give the scanner time to find the device,\n",
    "# if and when you \"Run All\" this jupyter notebook.\n",
    "await asyncio.sleep(3)\n",
    "await model.set_target(target_address)"
   ]
  },
  {
   "cell_type": "markdown",
   "metadata": {},
   "source": [
    "Sidebar: Note how the above cell returns `True`. All transition methods on `model` returns True if the transition was successful. Therefore you may explicitly define happy-path and exception-path in different ways:\n",
    "\n",
    "\n",
    "```python\n",
    "# for debugging, and most succinctly, you can assert\n",
    "assert await model.set_target(target_address), \"Failed to set target\"\n",
    "\n",
    "# if-else the return value\n",
    "if await model.set_target(target_address):\n",
    "    # probably do nothing, because transition ran successfully\n",
    "else:\n",
    "    # raise an exception of your own, re-try, or otherwise handle failure to transition.\n",
    "````"
   ]
  },
  {
   "cell_type": "markdown",
   "metadata": {},
   "source": [
    " When you provide a target address to the `model`, its state changes to `TargetSet`"
   ]
  },
  {
   "cell_type": "code",
   "execution_count": 16,
   "metadata": {},
   "outputs": [
    {
     "data": {
      "text/plain": [
       "'TargetSet'"
      ]
     },
     "execution_count": 16,
     "metadata": {},
     "output_type": "execute_result"
    }
   ],
   "source": [
    "model.state"
   ]
  },
  {
   "cell_type": "markdown",
   "metadata": {},
   "source": [
    "From `TargetSet` state, you may now attempt to connect to the device.\n",
    "\n",
    "By default, if it has been over 120 seconds since the last scan, if `auto_rescan=True`, the model will automatically re-scan and then attempt the connection.\n",
    "These parameters may be changed in the `BleakModule` instantiation above."
   ]
  },
  {
   "cell_type": "code",
   "execution_count": 17,
   "metadata": {},
   "outputs": [
    {
     "name": "stdout",
     "output_type": "stream",
     "text": [
      "Connected to 14863C4D-BF71-4EA3-C6B4-98001056AAF8\n"
     ]
    },
    {
     "data": {
      "text/plain": [
       "True"
      ]
     },
     "execution_count": 17,
     "metadata": {},
     "output_type": "execute_result"
    }
   ],
   "source": [
    "await model.connect()"
   ]
  },
  {
   "cell_type": "code",
   "execution_count": 18,
   "metadata": {},
   "outputs": [],
   "source": [
    "if model.state != \"Connected\":\n",
    "    raise Exception(\"Failed to connect. If the device was not properly disconnected last time, restart either the device or bluetooth adapter\")"
   ]
  },
  {
   "cell_type": "markdown",
   "metadata": {},
   "source": [
    "In order to receive/send actual data from/to the connected device, we need to start a stream.\n",
    "\n",
    "This will run forever until `model.disconnect()` is called, so for now let's sleep for several seconds and then call that."
   ]
  },
  {
   "cell_type": "code",
   "execution_count": 19,
   "metadata": {},
   "outputs": [
    {
     "data": {
      "text/plain": [
       "<Task pending name='Task-14' coro=<run_stream() running at /var/folders/16/dbv855p93hx5m7mgrd8fwscw0000gn/T/ipykernel_8535/3697076873.py:1>>"
      ]
     },
     "execution_count": 19,
     "metadata": {},
     "output_type": "execute_result"
    }
   ],
   "source": [
    "async def run_stream():\n",
    "    await model.stream()\n",
    "\n",
    "asyncio.create_task(run_stream())"
   ]
  },
  {
   "cell_type": "code",
   "execution_count": 20,
   "metadata": {},
   "outputs": [
    {
     "name": "stdout",
     "output_type": "stream",
     "text": [
      "Started streaming\n",
      "Using Pycycling wrapper around BleakClient\n",
      "Heart Rate: HeartRateMeasurement(sensor_contact=False, bpm=61, rr_interval=[], energy_expended=None)\n",
      "Using Pycycling wrapper around BleakClient\n",
      "Heart Rate: HeartRateMeasurement(sensor_contact=False, bpm=61, rr_interval=[], energy_expended=None)\n",
      "Using Pycycling wrapper around BleakClient\n",
      "Heart Rate: HeartRateMeasurement(sensor_contact=False, bpm=61, rr_interval=[], energy_expended=None)\n",
      "Using Pycycling wrapper around BleakClient\n",
      "Heart Rate: HeartRateMeasurement(sensor_contact=False, bpm=60, rr_interval=[], energy_expended=None)\n",
      "Using Pycycling wrapper around BleakClient\n",
      "Heart Rate: HeartRateMeasurement(sensor_contact=False, bpm=60, rr_interval=[], energy_expended=None)\n"
     ]
    }
   ],
   "source": [
    "await asyncio.sleep(5)"
   ]
  },
  {
   "cell_type": "markdown",
   "metadata": {},
   "source": [
    "Bleak-FSM encapsulates a kind of bug in Bleak, where it is not possible to re-use a connected client. \n",
    "\n",
    "That is, we shouldn't step back to \"Connected\" state from \"Streaming\", because we can't go from \"Connected\" back to \"Streaming\".\n",
    "\n",
    "Instead we need to go back two steps to \"TargetSet\", re-establish a connection, and then we can stream again.\n",
    "\n",
    "Bleak-FSM enforces this behavior for your own safety.\n",
    "There exists not method for you to even try to go from \"Streaming\" to \"Connected\".\n"
   ]
  },
  {
   "cell_type": "code",
   "execution_count": 21,
   "metadata": {},
   "outputs": [
    {
     "name": "stdout",
     "output_type": "stream",
     "text": [
      "Stopped streaming\n",
      "Disconnected from 14863C4D-BF71-4EA3-C6B4-98001056AAF8\n"
     ]
    },
    {
     "data": {
      "text/plain": [
       "True"
      ]
     },
     "execution_count": 21,
     "metadata": {},
     "output_type": "execute_result"
    }
   ],
   "source": [
    "await model.disconnect()"
   ]
  },
  {
   "cell_type": "markdown",
   "metadata": {},
   "source": [
    "Whenever the application terminates, or otherwise no longer needs to communicate with the bluetooth device, it should always call `disconnect()` on the model. The model state should always e either \"TargetSet\" or \"Init\"."
   ]
  },
  {
   "cell_type": "code",
   "execution_count": 22,
   "metadata": {},
   "outputs": [
    {
     "data": {
      "text/plain": [
       "'TargetSet'"
      ]
     },
     "execution_count": 22,
     "metadata": {},
     "output_type": "execute_result"
    }
   ],
   "source": [
    "model.state"
   ]
  },
  {
   "cell_type": "code",
   "execution_count": 23,
   "metadata": {},
   "outputs": [
    {
     "data": {
      "text/plain": [
       "True"
      ]
     },
     "execution_count": 23,
     "metadata": {},
     "output_type": "execute_result"
    }
   ],
   "source": [
    "await model.unset_target()"
   ]
  },
  {
   "cell_type": "code",
   "execution_count": 43,
   "metadata": {},
   "outputs": [
    {
     "data": {
      "text/plain": [
       "'Init'"
      ]
     },
     "execution_count": 43,
     "metadata": {},
     "output_type": "execute_result"
    }
   ],
   "source": [
    "model.state"
   ]
  },
  {
   "cell_type": "markdown",
   "metadata": {},
   "source": [
    "At this point, we have returned to 'Init' state, and you may 'start_scan', 'set_target_address', 'connect', etc."
   ]
  },
  {
   "cell_type": "markdown",
   "metadata": {},
   "source": [
    "# Again, with Errors\n",
    "\n",
    "Let's review the above tutorial, this time also checking that the proper errors are being emitted when you  attempt illegal things.\n",
    "\n",
    "We'll discuss how best to handle those errors."
   ]
  },
  {
   "cell_type": "markdown",
   "metadata": {},
   "source": [
    "Removing some safeguards by setting `auto_rescan=False`. The default is True."
   ]
  },
  {
   "cell_type": "code",
   "execution_count": 25,
   "metadata": {},
   "outputs": [],
   "source": [
    "model = BleakModel(\n",
    "    scan_stale_time=5, # making it short for the sake of the example\n",
    "    auto_rescan=False,\n",
    ")\n",
    "\n",
    "machine.add_model(model)"
   ]
  },
  {
   "cell_type": "code",
   "execution_count": 26,
   "metadata": {},
   "outputs": [
    {
     "data": {
      "text/plain": [
       "'Init'"
      ]
     },
     "execution_count": 26,
     "metadata": {},
     "output_type": "execute_result"
    }
   ],
   "source": [
    "model.state"
   ]
  },
  {
   "cell_type": "markdown",
   "metadata": {},
   "source": [
    "Let's try to skip a step in the Finite State Machine.\n",
    "\n",
    "From `Init`, we are only allowed to go to `TargetSet`.\n",
    "\n",
    "If we try to go to `Connect`, we should get a `MachineError`:"
   ]
  },
  {
   "cell_type": "code",
   "execution_count": 27,
   "metadata": {},
   "outputs": [
    {
     "name": "stdout",
     "output_type": "stream",
     "text": [
      "Correct error raised:\n",
      "\"Can't trigger event connect from state Init!\"\n"
     ]
    }
   ],
   "source": [
    "from transitions import MachineError\n",
    "try:\n",
    "    await model.connect()\n",
    "except MachineError as e:\n",
    "    print(\"Correct error raised:\")\n",
    "    print(e)"
   ]
  },
  {
   "cell_type": "markdown",
   "metadata": {},
   "source": [
    "In order to go to `TargetSet`, we need an address.\n",
    "\n",
    "To get an address, we need to scan. For simplicity, we'll just `await` it instead of sending it to the background as we did above."
   ]
  },
  {
   "cell_type": "code",
   "execution_count": 28,
   "metadata": {},
   "outputs": [
    {
     "data": {
      "text/plain": [
       "True"
      ]
     },
     "execution_count": 28,
     "metadata": {},
     "output_type": "execute_result"
    }
   ],
   "source": [
    "await model.start_scan()"
   ]
  },
  {
   "cell_type": "markdown",
   "metadata": {},
   "source": [
    "This puts us in \"Scaning\" state:"
   ]
  },
  {
   "cell_type": "code",
   "execution_count": 29,
   "metadata": {},
   "outputs": [
    {
     "name": "stdout",
     "output_type": "stream",
     "text": [
      "Scanning\n"
     ]
    }
   ],
   "source": [
    "print(model.state)"
   ]
  },
  {
   "cell_type": "markdown",
   "metadata": {},
   "source": [
    "From \"Scanning\", transitioning to any other state besides \"Init\" is illegal:"
   ]
  },
  {
   "cell_type": "code",
   "execution_count": 30,
   "metadata": {},
   "outputs": [
    {
     "name": "stdout",
     "output_type": "stream",
     "text": [
      "Correct error raised:\n",
      "\"Can't trigger event connect from state Scanning!\"\n"
     ]
    }
   ],
   "source": [
    "try:\n",
    "    await model.connect()\n",
    "except MachineError as e:\n",
    "    print(\"Correct error raised:\")\n",
    "    print(e)"
   ]
  },
  {
   "cell_type": "markdown",
   "metadata": {},
   "source": [
    "Let's stop the scan."
   ]
  },
  {
   "cell_type": "code",
   "execution_count": 31,
   "metadata": {},
   "outputs": [
    {
     "data": {
      "text/plain": [
       "True"
      ]
     },
     "execution_count": 31,
     "metadata": {},
     "output_type": "execute_result"
    }
   ],
   "source": [
    "await asyncio.sleep(3)\n",
    "await model.stop_scan()"
   ]
  },
  {
   "cell_type": "code",
   "execution_count": 32,
   "metadata": {},
   "outputs": [
    {
     "name": "stdout",
     "output_type": "stream",
     "text": [
      "Init\n"
     ]
    }
   ],
   "source": [
    "print(model.state)"
   ]
  },
  {
   "cell_type": "markdown",
   "metadata": {},
   "source": [
    "As before, when scanning is done, the results are saved in the class variable `BleakModel.bt_devices`.\n",
    "\n",
    "Let's throw a wrench into the gears and use an invalid address.\n",
    "We expect a `BleakFSMError`"
   ]
  },
  {
   "cell_type": "code",
   "execution_count": 33,
   "metadata": {},
   "outputs": [],
   "source": [
    "from bleak_fsm import BleakFSMError"
   ]
  },
  {
   "cell_type": "code",
   "execution_count": 34,
   "metadata": {},
   "outputs": [
    {
     "name": "stdout",
     "output_type": "stream",
     "text": [
      "Correct error raised:\n",
      "Address some_incorrect_nonexistent_address not found in discovered devices\n"
     ]
    }
   ],
   "source": [
    "incorrect_target_address = \"some_incorrect_nonexistent_address\"\n",
    "try:\n",
    "    await model.set_target(incorrect_target_address)\n",
    "except BleakFSMError as e:\n",
    "    print(\"Correct error raised:\")\n",
    "    print(e)"
   ]
  },
  {
   "cell_type": "markdown",
   "metadata": {},
   "source": [
    "Now back on track, let's set the target with a correct target address determined above:"
   ]
  },
  {
   "cell_type": "code",
   "execution_count": 35,
   "metadata": {},
   "outputs": [
    {
     "data": {
      "text/plain": [
       "True"
      ]
     },
     "execution_count": 35,
     "metadata": {},
     "output_type": "execute_result"
    }
   ],
   "source": [
    "await model.set_target(target_address)"
   ]
  },
  {
   "cell_type": "markdown",
   "metadata": {},
   "source": [
    "We will now test what happens if we try to connect when the last scan is too old. \n",
    "\n",
    "Notice how we instantiated `model` as:\n",
    "\n",
    "```python\n",
    "model = BleakModel(\n",
    "    scan_stale_time=5,\n",
    "    auto_rescan=False,\n",
    ")\n",
    "```\n",
    "\n",
    "If we sleep 5 seconds, then the scanned results will be considered stale. And since `auto_rescan` was set to False, we will get a `StaleScanError`:"
   ]
  },
  {
   "cell_type": "code",
   "execution_count": 36,
   "metadata": {},
   "outputs": [],
   "source": [
    "from bleak_fsm import StaleScanError"
   ]
  },
  {
   "cell_type": "code",
   "execution_count": 37,
   "metadata": {},
   "outputs": [
    {
     "name": "stdout",
     "output_type": "stream",
     "text": [
      "Correct error raised:\n",
      "Scan is stale. Please rescan. Consider setting 'auto_rescan=True' to avoid this error.\n"
     ]
    }
   ],
   "source": [
    "await asyncio.sleep(5) # sleeping in order to trigger stale scan error\n",
    "\n",
    "try:\n",
    "    await model.connect()\n",
    "except StaleScanError as e:\n",
    "    print(\"Correct error raised:\")\n",
    "    print(e)\n"
   ]
  },
  {
   "cell_type": "markdown",
   "metadata": {},
   "source": [
    "The error message gives us ways to handle this error.\n",
    "\n",
    "Let's rescan:"
   ]
  },
  {
   "cell_type": "code",
   "execution_count": 38,
   "metadata": {},
   "outputs": [
    {
     "name": "stdout",
     "output_type": "stream",
     "text": [
      "Connected to 14863C4D-BF71-4EA3-C6B4-98001056AAF8\n"
     ]
    },
    {
     "data": {
      "text/plain": [
       "True"
      ]
     },
     "execution_count": 38,
     "metadata": {},
     "output_type": "execute_result"
    }
   ],
   "source": [
    "await model.unset_target()\n",
    "await model.start_scan()\n",
    "await asyncio.sleep(3)\n",
    "await model.stop_scan()\n",
    "\n",
    "# then we can connect as long as we do it immediately\n",
    "await model.set_target(target_address)\n",
    "await model.connect()"
   ]
  },
  {
   "cell_type": "code",
   "execution_count": 39,
   "metadata": {},
   "outputs": [
    {
     "data": {
      "text/plain": [
       "'Connected'"
      ]
     },
     "execution_count": 39,
     "metadata": {},
     "output_type": "execute_result"
    }
   ],
   "source": [
    "model.state"
   ]
  },
  {
   "cell_type": "code",
   "execution_count": 40,
   "metadata": {},
   "outputs": [
    {
     "name": "stdout",
     "output_type": "stream",
     "text": [
      "Disconnected from 14863C4D-BF71-4EA3-C6B4-98001056AAF8\n"
     ]
    },
    {
     "data": {
      "text/plain": [
       "True"
      ]
     },
     "execution_count": 40,
     "metadata": {},
     "output_type": "execute_result"
    }
   ],
   "source": [
    "await model.disconnect()"
   ]
  },
  {
   "cell_type": "code",
   "execution_count": 41,
   "metadata": {},
   "outputs": [
    {
     "data": {
      "text/plain": [
       "True"
      ]
     },
     "execution_count": 41,
     "metadata": {},
     "output_type": "execute_result"
    }
   ],
   "source": [
    "await model.unset_target()"
   ]
  },
  {
   "cell_type": "code",
   "execution_count": 42,
   "metadata": {},
   "outputs": [
    {
     "data": {
      "text/plain": [
       "'Init'"
      ]
     },
     "execution_count": 42,
     "metadata": {},
     "output_type": "execute_result"
    }
   ],
   "source": [
    "model.state"
   ]
  }
 ],
 "metadata": {
  "kernelspec": {
   "display_name": "Python 3",
   "language": "python",
   "name": "python3"
  },
  "language_info": {
   "codemirror_mode": {
    "name": "ipython",
    "version": 3
   },
   "file_extension": ".py",
   "mimetype": "text/x-python",
   "name": "python",
   "nbconvert_exporter": "python",
   "pygments_lexer": "ipython3",
   "version": "3.9.6"
  }
 },
 "nbformat": 4,
 "nbformat_minor": 2
}
