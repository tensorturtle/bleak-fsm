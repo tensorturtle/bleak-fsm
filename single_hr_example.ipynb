{
 "cells": [
  {
   "cell_type": "markdown",
   "metadata": {},
   "source": [
    "# Single Heart Rate Monitor Example"
   ]
  },
  {
   "cell_type": "markdown",
   "metadata": {},
   "source": [
    "This is a minimal demonstration of how to set up and use BleakFSM.\n",
    "\n",
    "This examples uses Bluetooth Low Energy (BLE) Heart Rate service.\n",
    "+ It must support Bluetooth, not just ANT+\n",
    "+ The GATT Characteristic required is: `00002a37-0000-1000-8000-00805f9b34fb`\n",
    "+ You may use the [`bluetooth_dissect.py` tool](https://github.com/tensorturtle/bluetooth_dissect) to check if your device supports that GATT Characteristic.\n",
    "\n",
    "Example compatible devices:\n",
    "+ Magene H603\n",
    "+ Wahoo TICKR & TICKR Fit\n",
    "+ WHOOP 4.0 (Broadcast Heart Rate ON)\n",
    "+ and many more advertised as \"supports Bluetooth Heart Rate\"\n",
    "\n",
    "If you don't have access to a BLE Heart Rate device or want to a different BLE GATT characteristic, see the [Migration Guide](migration_guide.ipynb)\n",
    "\n",
    "\n",
    "## How to run this Notebook\n",
    "\n",
    "+ Make sure your computer's bluetooth adapter is powered on.\n",
    "+ At first, I recommend stepping through each cell, reading the code and explanations.\n",
    "+ You will need to set your Heart Rate monitor's address the first time.\n",
    "+ At any time, `print(model.state)` to confirm which state you're in. This will help you figure out what you can do from there."
   ]
  },
  {
   "cell_type": "code",
   "execution_count": 4,
   "metadata": {},
   "outputs": [
    {
     "name": "stdout",
     "output_type": "stream",
     "text": [
      "Defaulting to user installation because normal site-packages is not writeable\n",
      "\u001b[31mERROR: Could not open requirements file: [Errno 2] No such file or directory: '-q'\u001b[0m\n",
      "\u001b[33mWARNING: You are using pip version 21.2.4; however, version 24.0 is available.\n",
      "You should consider upgrading via the '/Library/Developer/CommandLineTools/usr/bin/python3 -m pip install --upgrade pip' command.\u001b[0m\n"
     ]
    }
   ],
   "source": [
    "!pip3 install -r -q requirements.txt"
   ]
  },
  {
   "cell_type": "markdown",
   "metadata": {},
   "source": [
    "# Setup"
   ]
  },
  {
   "cell_type": "code",
   "execution_count": 5,
   "metadata": {},
   "outputs": [],
   "source": [
    "import asyncio"
   ]
  },
  {
   "cell_type": "code",
   "execution_count": 6,
   "metadata": {},
   "outputs": [],
   "source": [
    "from bleak_fsm import machine, BleakModel"
   ]
  },
  {
   "cell_type": "code",
   "execution_count": 7,
   "metadata": {},
   "outputs": [],
   "source": [
    "model = BleakModel(\n",
    "    # the following kwargs are optional. Their defaults are:\n",
    "    scan_stale_time=120, # seconds\n",
    "    auto_rescan=True,\n",
    "    auto_rescan_timeout=3 # seconds\n",
    ")\n",
    "machine.add_model(model)"
   ]
  },
  {
   "cell_type": "markdown",
   "metadata": {},
   "source": [
    "Toggle this `USE_PYCYCLING` flag to see how this library can accomodate using standard, raw BLeakClient or Pycycling-wrapped BleakClient."
   ]
  },
  {
   "cell_type": "code",
   "execution_count": 8,
   "metadata": {},
   "outputs": [],
   "source": [
    "USE_PYCYCLING = False"
   ]
  },
  {
   "cell_type": "code",
   "execution_count": 9,
   "metadata": {},
   "outputs": [],
   "source": [
    "# Define callbacks\n",
    "\n",
    "if USE_PYCYCLING:\n",
    "    from pycycling.heart_rate_service import HeartRateService\n",
    "    model.wrap = lambda client: HeartRateService(client)\n",
    "    model.enable_notifications = lambda client: client.enable_hr_measurement_notifications()\n",
    "    model.disable_notifications = lambda client: client.disable_hr_measurement_notifications()\n",
    "    def handle_hr_measurement(value):\n",
    "        print(\"Using Pycycling wrapper around BleakClient\")\n",
    "        print(f\"Heart Rate: {value}\")\n",
    "    model.set_measurement_handler = lambda client: client.set_hr_measurement_handler(handle_hr_measurement)\n",
    "else:\n",
    "    HEART_RATE_MEASUREMENT_CHARACTERISTIC_UUID = \"00002a37-0000-1000-8000-00805f9b34fb\"\n",
    "    model.enable_notifications = lambda client: client.start_notify(HEART_RATE_MEASUREMENT_CHARACTERISTIC_UUID, handle_hr_measurement)\n",
    "    model.disable_notifications = lambda client: client.stop_notify(HEART_RATE_MEASUREMENT_CHARACTERISTIC_UUID)\n",
    "    def handle_hr_measurement(sender, data):\n",
    "        print(\"Using raw BleakClient\")\n",
    "        print(f\"Data received from {sender}: {data}\")\n",
    "        flag = data[0]\n",
    "        heart_rate = data[1]\n",
    "        print(f\"Heart Rate: {heart_rate} beats per minute\")\n",
    "    model.set_measurement_handler = lambda client: handle_hr_measurement\n"
   ]
  },
  {
   "cell_type": "markdown",
   "metadata": {},
   "source": [
    "# Usage"
   ]
  },
  {
   "cell_type": "markdown",
   "metadata": {},
   "source": [
    "Since we're in a Jupyter notebook, we need to use `create_task()` instead of `get_event_loop().run_until_complete()` to use the existing event loop which Jupyter runs on."
   ]
  },
  {
   "cell_type": "code",
   "execution_count": 10,
   "metadata": {},
   "outputs": [
    {
     "data": {
      "text/plain": [
       "<Task pending name='Task-5' coro=<AsyncEvent.trigger() running at /Users/tensorturtle/Library/Python/3.9/lib/python/site-packages/transitions/extensions/asyncio.py:166>>"
      ]
     },
     "execution_count": 10,
     "metadata": {},
     "output_type": "execute_result"
    }
   ],
   "source": [
    "asyncio.create_task(model.start_scan())"
   ]
  },
  {
   "cell_type": "markdown",
   "metadata": {},
   "source": [
    "We could have used\n",
    "\n",
    "```\n",
    "await model.start_scan()\n",
    "```\n",
    "\n",
    "but it would block until the scan is finished.\n",
    "For this demonstratoin, we don't want that because we want to demonstrate how `BleakModel.bt_devices` gets populated as the scanning progresses."
   ]
  },
  {
   "cell_type": "code",
   "execution_count": 11,
   "metadata": {},
   "outputs": [
    {
     "data": {
      "text/plain": [
       "'Scanning'"
      ]
     },
     "execution_count": 11,
     "metadata": {},
     "output_type": "execute_result"
    }
   ],
   "source": [
    "model.state"
   ]
  },
  {
   "cell_type": "code",
   "execution_count": 12,
   "metadata": {},
   "outputs": [
    {
     "data": {
      "text/plain": [
       "<Task pending name='Task-7' coro=<stop_after_delay() running at /var/folders/16/dbv855p93hx5m7mgrd8fwscw0000gn/T/ipykernel_34388/1686944154.py:2>>"
      ]
     },
     "execution_count": 12,
     "metadata": {},
     "output_type": "execute_result"
    }
   ],
   "source": [
    "# Stop scan after delay\n",
    "async def stop_after_delay(delay, model):\n",
    "    print(\"Starting sleep for 2 seconds (giving the scanner time to scan)\")\n",
    "    await asyncio.sleep(delay)\n",
    "    print(\"Slept for 2 seconds (sending end signal to scanner)\")\n",
    "    await model.stop_scan()\n",
    "    print(\"Stopped scanning\")\n",
    "    \n",
    "\n",
    "asyncio.create_task(stop_after_delay(2, model))"
   ]
  },
  {
   "cell_type": "code",
   "execution_count": 13,
   "metadata": {},
   "outputs": [
    {
     "name": "stdout",
     "output_type": "stream",
     "text": [
      "49 devices found in 0.0 seconds.\n",
      "49 devices found in 0.05 seconds.\n",
      "49 devices found in 0.1 seconds.\n",
      "49 devices found in 0.15 seconds.\n",
      "49 devices found in 0.2 seconds.\n",
      "49 devices found in 0.25 seconds.\n",
      "49 devices found in 0.3 seconds.\n",
      "49 devices found in 0.35 seconds.\n",
      "49 devices found in 0.4 seconds.\n",
      "49 devices found in 0.45 seconds.\n",
      "49 devices found in 0.5 seconds.\n",
      "49 devices found in 0.55 seconds.\n",
      "49 devices found in 0.6 seconds.\n",
      "49 devices found in 0.65 seconds.\n",
      "49 devices found in 0.7 seconds.\n",
      "49 devices found in 0.75 seconds.\n",
      "49 devices found in 0.8 seconds.\n",
      "49 devices found in 0.85 seconds.\n",
      "49 devices found in 0.9 seconds.\n",
      "50 devices found in 0.95 seconds.\n"
     ]
    }
   ],
   "source": [
    "async def print_as_we_go():\n",
    "    for i in range(20):\n",
    "        print(f\"{len(BleakModel.bt_devices)} devices found in {round(i*0.05,2)} seconds.\")\n",
    "        await asyncio.sleep(0.05)\n",
    "\n",
    "await print_as_we_go()"
   ]
  },
  {
   "cell_type": "code",
   "execution_count": 14,
   "metadata": {},
   "outputs": [
    {
     "data": {
      "text/plain": [
       "{'89C1A686-1457-77B8-2D9F-22D2EEB7D63C': BLEDevice(89C1A686-1457-77B8-2D9F-22D2EEB7D63C, None),\n",
       " 'A4B5822F-B0E7-B780-2294-709B891C4D17': BLEDevice(A4B5822F-B0E7-B780-2294-709B891C4D17, SNUG_smartVentilator),\n",
       " 'E9A5B39F-14EE-784C-16E4-002303200250': BLEDevice(E9A5B39F-14EE-784C-16E4-002303200250, OpenFit by Shokz),\n",
       " '14863C4D-BF71-4EA3-C6B4-98001056AAF8': BLEDevice(14863C4D-BF71-4EA3-C6B4-98001056AAF8, WHOOPDEDOO),\n",
       " '385E107F-4647-637F-E5DA-39725C39B106': BLEDevice(385E107F-4647-637F-E5DA-39725C39B106, None),\n",
       " '867F3213-C9A9-F661-47F0-607135923369': BLEDevice(867F3213-C9A9-F661-47F0-607135923369, 20272A03713613AAD),\n",
       " '6A49E2AF-A64F-6674-BFAE-DFFE77CEA51C': BLEDevice(6A49E2AF-A64F-6674-BFAE-DFFE77CEA51C, LEDDMX-00-044B),\n",
       " 'DB97A830-B1F2-DF91-8381-42C05FC00C40': BLEDevice(DB97A830-B1F2-DF91-8381-42C05FC00C40, None),\n",
       " '2AC8DE9A-46FF-3D9A-C132-F528387E7238': BLEDevice(2AC8DE9A-46FF-3D9A-C132-F528387E7238, None),\n",
       " '0F40B3D6-A9E7-6552-89C2-B2A88BD38202': BLEDevice(0F40B3D6-A9E7-6552-89C2-B2A88BD38202, ITkxRDYx6x8AAAAAAAAAInNjaWQ9MTUxMDQ1NTMxNzMzJm1hYz0xODM0YWY0YWRmMDk),\n",
       " 'CF440040-E8B1-0789-B789-021773DE1502': BLEDevice(CF440040-E8B1-0789-B789-021773DE1502, None),\n",
       " '79482C13-75D9-42AA-A376-DE06485ACBCA': BLEDevice(79482C13-75D9-42AA-A376-DE06485ACBCA, None),\n",
       " 'F3243236-4CC7-8A21-ACC0-89FB27FB63E0': BLEDevice(F3243236-4CC7-8A21-ACC0-89FB27FB63E0, None),\n",
       " '5037F2DE-455A-B87B-BA2A-D8B5698E33DB': BLEDevice(5037F2DE-455A-B87B-BA2A-D8B5698E33DB, None),\n",
       " '3E7878EF-4327-2D71-8D4C-1FCF9B2DE9B4': BLEDevice(3E7878EF-4327-2D71-8D4C-1FCF9B2DE9B4, None),\n",
       " 'F4767B42-7E6E-08CF-D90D-419A2BEF7B5A': BLEDevice(F4767B42-7E6E-08CF-D90D-419A2BEF7B5A, None),\n",
       " '37574594-3CDA-6888-F518-908352C9FAE1': BLEDevice(37574594-3CDA-6888-F518-908352C9FAE1, None),\n",
       " '3FEC3389-7F84-AFC4-6EF1-BDE6CD37F862': BLEDevice(3FEC3389-7F84-AFC4-6EF1-BDE6CD37F862, Green Apple),\n",
       " '62089268-B878-26A1-147D-E6E3159FD2B5': BLEDevice(62089268-B878-26A1-147D-E6E3159FD2B5, None),\n",
       " '21BB3101-00E3-1DA8-E7FD-61A937E47EEE': BLEDevice(21BB3101-00E3-1DA8-E7FD-61A937E47EEE, None),\n",
       " '9C1A70BB-81CD-682C-CD23-5EC0B64E1DAA': BLEDevice(9C1A70BB-81CD-682C-CD23-5EC0B64E1DAA, None),\n",
       " 'E1326A73-6030-FAC4-AAC8-4C4A6D0528CB': BLEDevice(E1326A73-6030-FAC4-AAC8-4C4A6D0528CB, None),\n",
       " '315B0DDB-82F4-5D66-514C-3FFC6A4B9D6F': BLEDevice(315B0DDB-82F4-5D66-514C-3FFC6A4B9D6F, None),\n",
       " '3F9590DE-D10D-E459-F530-ACBAEBB966A8': BLEDevice(3F9590DE-D10D-E459-F530-ACBAEBB966A8, None),\n",
       " '50A07F65-C485-B8B9-3D39-3005DE73643A': BLEDevice(50A07F65-C485-B8B9-3D39-3005DE73643A, None),\n",
       " '0774ED3A-5CAC-9A26-BFB5-1D1E8D0AEABD': BLEDevice(0774ED3A-5CAC-9A26-BFB5-1D1E8D0AEABD, 정),\n",
       " '3FEC16AE-C5E4-9E5F-8BA6-5F62120FF18B': BLEDevice(3FEC16AE-C5E4-9E5F-8BA6-5F62120FF18B, Beoplay S3),\n",
       " '2857C2CE-E3DE-D276-B6B4-A245FE567A18': BLEDevice(2857C2CE-E3DE-D276-B6B4-A245FE567A18, None),\n",
       " '6BBC2F1C-CDCF-2D14-C856-E03FDA8753E5': BLEDevice(6BBC2F1C-CDCF-2D14-C856-E03FDA8753E5, None),\n",
       " '96477604-1E4D-538B-03E4-076EBEE9E5A7': BLEDevice(96477604-1E4D-538B-03E4-076EBEE9E5A7, [Monitor] Samsung M5 (27)),\n",
       " '25F072E2-E852-463E-44BB-EEE8BDBE3A79': BLEDevice(25F072E2-E852-463E-44BB-EEE8BDBE3A79, None),\n",
       " '208DBDE9-C759-4F6B-2A74-2940EADB3800': BLEDevice(208DBDE9-C759-4F6B-2A74-2940EADB3800, None),\n",
       " '1F287CC0-0128-3721-71E9-198B0461025E': BLEDevice(1F287CC0-0128-3721-71E9-198B0461025E, None),\n",
       " '29F8CFA3-7C33-099C-891F-3604EC33003D': BLEDevice(29F8CFA3-7C33-099C-891F-3604EC33003D, None),\n",
       " '9F6E86F4-9230-6DCD-D8B6-891EC5C7B202': BLEDevice(9F6E86F4-9230-6DCD-D8B6-891EC5C7B202, None),\n",
       " '260EF5F6-9629-356A-C846-57912D2E436E': BLEDevice(260EF5F6-9629-356A-C846-57912D2E436E, None),\n",
       " '2740DC1A-A9E1-E3F2-193C-A5043C5D09BF': BLEDevice(2740DC1A-A9E1-E3F2-193C-A5043C5D09BF, SWAN),\n",
       " '8D4A398E-8E10-672D-93EF-AF1010A1415E': BLEDevice(8D4A398E-8E10-672D-93EF-AF1010A1415E, None),\n",
       " '581F6EB7-1B99-4AE3-4D8A-4B80E352AA66': BLEDevice(581F6EB7-1B99-4AE3-4D8A-4B80E352AA66, None),\n",
       " 'C513E8FE-32A0-873A-64C8-BC67E34FFB01': BLEDevice(C513E8FE-32A0-873A-64C8-BC67E34FFB01, None),\n",
       " '7C4B09F1-5E37-ED17-7CF8-F001424E7C33': BLEDevice(7C4B09F1-5E37-ED17-7CF8-F001424E7C33, None),\n",
       " 'C988728C-A497-3036-3259-85C485850A2D': BLEDevice(C988728C-A497-3036-3259-85C485850A2D, None),\n",
       " '0570475B-1435-DD69-1EFB-4F955FFC4919': BLEDevice(0570475B-1435-DD69-1EFB-4F955FFC4919, None),\n",
       " '6C5AD961-8B8F-5200-4527-390A353D691C': BLEDevice(6C5AD961-8B8F-5200-4527-390A353D691C, None),\n",
       " 'B2D111A4-E45B-420E-0AB1-AD0CF9893FD5': BLEDevice(B2D111A4-E45B-420E-0AB1-AD0CF9893FD5, None),\n",
       " 'CF1AD611-4387-C004-C1BE-91189E0E57F9': BLEDevice(CF1AD611-4387-C004-C1BE-91189E0E57F9, None),\n",
       " '132E9B2D-8868-E063-E7BA-42520D0D2EF6': BLEDevice(132E9B2D-8868-E063-E7BA-42520D0D2EF6, None),\n",
       " '40EAFA5D-0869-A99A-2E39-D13A124BD35C': BLEDevice(40EAFA5D-0869-A99A-2E39-D13A124BD35C, None),\n",
       " '611D102B-431D-36D0-377E-161FF33F389C': BLEDevice(611D102B-431D-36D0-377E-161FF33F389C, None),\n",
       " 'B4863220-CCA7-DD55-62FF-C5C77996F3FE': BLEDevice(B4863220-CCA7-DD55-62FF-C5C77996F3FE, None),\n",
       " 'ECE60EB4-63D6-73CB-D796-4FF766F4E402': BLEDevice(ECE60EB4-63D6-73CB-D796-4FF766F4E402, None),\n",
       " '1C13FBB3-15E0-3971-0EEE-251342B07D3E': BLEDevice(1C13FBB3-15E0-3971-0EEE-251342B07D3E, None),\n",
       " '37D23B50-8271-4BD1-7895-B6EBD2754198': BLEDevice(37D23B50-8271-4BD1-7895-B6EBD2754198, BYD-88880A08AB8E)}"
      ]
     },
     "execution_count": 14,
     "metadata": {},
     "output_type": "execute_result"
    }
   ],
   "source": [
    "BleakModel.bt_devices"
   ]
  },
  {
   "cell_type": "markdown",
   "metadata": {},
   "source": [
    "Copy-and-paste the key corresponding to the device that you want to connect to:"
   ]
  },
  {
   "cell_type": "code",
   "execution_count": 15,
   "metadata": {},
   "outputs": [],
   "source": [
    "target_address = \"14863C4D-BF71-4EA3-C6B4-98001056AAF8\""
   ]
  },
  {
   "cell_type": "markdown",
   "metadata": {},
   "source": [
    "Or search for the name of the device from the values and retrieve its key.\n",
    "\n",
    "While most consumer heart rate monitors have a name, this name might be not unique or missing."
   ]
  },
  {
   "cell_type": "code",
   "execution_count": 16,
   "metadata": {},
   "outputs": [],
   "source": [
    "target_name = \"WHOOPDEDOO\"\n",
    "\n",
    "target_address = \"\"\n",
    "for k,v in BleakModel.bt_devices.items():\n",
    "    if v.name == target_name:\n",
    "        target_address = k"
   ]
  },
  {
   "cell_type": "markdown",
   "metadata": {},
   "source": [
    "Anyhow, we will attempt to connect to the following address:"
   ]
  },
  {
   "cell_type": "code",
   "execution_count": 17,
   "metadata": {},
   "outputs": [
    {
     "name": "stdout",
     "output_type": "stream",
     "text": [
      "14863C4D-BF71-4EA3-C6B4-98001056AAF8\n"
     ]
    }
   ],
   "source": [
    "print(target_address)"
   ]
  },
  {
   "cell_type": "code",
   "execution_count": 18,
   "metadata": {},
   "outputs": [
    {
     "data": {
      "text/plain": [
       "True"
      ]
     },
     "execution_count": 18,
     "metadata": {},
     "output_type": "execute_result"
    }
   ],
   "source": [
    "# The sleeps are in here to give the scanner time to find the device,\n",
    "# if and when you \"Run All\" this jupyter notebook.\n",
    "await asyncio.sleep(3)\n",
    "await model.set_target(target_address)"
   ]
  },
  {
   "cell_type": "markdown",
   "metadata": {},
   "source": [
    "When you provide a target address to the `model`, its state changes to:"
   ]
  },
  {
   "cell_type": "code",
   "execution_count": 19,
   "metadata": {},
   "outputs": [
    {
     "data": {
      "text/plain": [
       "'TargetSet'"
      ]
     },
     "execution_count": 19,
     "metadata": {},
     "output_type": "execute_result"
    }
   ],
   "source": [
    "model.state"
   ]
  },
  {
   "cell_type": "markdown",
   "metadata": {},
   "source": [
    "From `TargetSet` state, you may now attempt to connect to the device.\n",
    "\n",
    "By default, if it has been over 120 seconds since the last scan, if `auto_rescan=True`, the model will automatically re-scan and then attempt the connection.\n",
    "These parameters may be changed in the `BleakModule` instantiation above."
   ]
  },
  {
   "cell_type": "code",
   "execution_count": 20,
   "metadata": {},
   "outputs": [
    {
     "name": "stdout",
     "output_type": "stream",
     "text": [
      "Connected to 14863C4D-BF71-4EA3-C6B4-98001056AAF8\n"
     ]
    },
    {
     "data": {
      "text/plain": [
       "True"
      ]
     },
     "execution_count": 20,
     "metadata": {},
     "output_type": "execute_result"
    }
   ],
   "source": [
    "await model.connect()"
   ]
  },
  {
   "cell_type": "code",
   "execution_count": 21,
   "metadata": {},
   "outputs": [
    {
     "data": {
      "text/plain": [
       "'Connected'"
      ]
     },
     "execution_count": 21,
     "metadata": {},
     "output_type": "execute_result"
    }
   ],
   "source": [
    "model.state"
   ]
  },
  {
   "cell_type": "markdown",
   "metadata": {},
   "source": [
    "In order to receive/send actual data from/to the connected device, we need to start a stream.\n",
    "\n",
    "This will run forever until `model.disconnect()` is called, so for now let's sleep for several seconds and then call that."
   ]
  },
  {
   "cell_type": "code",
   "execution_count": 22,
   "metadata": {},
   "outputs": [
    {
     "data": {
      "text/plain": [
       "<Task pending name='Task-14' coro=<run_stream() running at /var/folders/16/dbv855p93hx5m7mgrd8fwscw0000gn/T/ipykernel_34388/3697076873.py:1>>"
      ]
     },
     "execution_count": 22,
     "metadata": {},
     "output_type": "execute_result"
    }
   ],
   "source": [
    "async def run_stream():\n",
    "    await model.stream()\n",
    "\n",
    "asyncio.create_task(run_stream())"
   ]
  },
  {
   "cell_type": "code",
   "execution_count": 23,
   "metadata": {},
   "outputs": [
    {
     "name": "stdout",
     "output_type": "stream",
     "text": [
      "Started streaming\n",
      "Using raw BleakClient\n",
      "Data received from 00002a37-0000-1000-8000-00805f9b34fb (Handle: 36): Heart Rate Measurement: bytearray(b'\\x00K')\n",
      "Heart Rate: 75 beats per minute\n",
      "Using raw BleakClient\n",
      "Data received from 00002a37-0000-1000-8000-00805f9b34fb (Handle: 36): Heart Rate Measurement: bytearray(b'\\x00K')\n",
      "Heart Rate: 75 beats per minute\n",
      "Using raw BleakClient\n",
      "Data received from 00002a37-0000-1000-8000-00805f9b34fb (Handle: 36): Heart Rate Measurement: bytearray(b'\\x00K')\n",
      "Heart Rate: 75 beats per minute\n",
      "Using raw BleakClient\n",
      "Data received from 00002a37-0000-1000-8000-00805f9b34fb (Handle: 36): Heart Rate Measurement: bytearray(b'\\x00K')\n",
      "Heart Rate: 75 beats per minute\n",
      "Using raw BleakClient\n",
      "Data received from 00002a37-0000-1000-8000-00805f9b34fb (Handle: 36): Heart Rate Measurement: bytearray(b'\\x00K')\n",
      "Heart Rate: 75 beats per minute\n"
     ]
    }
   ],
   "source": [
    "await asyncio.sleep(5)"
   ]
  },
  {
   "cell_type": "markdown",
   "metadata": {},
   "source": [
    "Bleak-FSM encapsulates a kind of bug in Bleak, where it is not possible to re-use a connected client. \n",
    "\n",
    "That is, we shouldn't step back to \"Connected\" state from \"Streaming\", because we can't go from \"Connected\" back to \"Streaming\".\n",
    "\n",
    "Instead we need to go back two steps to \"TargetSet\", re-establish a connection, and then we can stream again.\n",
    "\n",
    "Bleak-FSM enforces this behavior for your own safety.\n",
    "There exists not method for you to even try to go from \"Streaming\" to \"Connected\".\n"
   ]
  },
  {
   "cell_type": "code",
   "execution_count": 24,
   "metadata": {},
   "outputs": [
    {
     "name": "stdout",
     "output_type": "stream",
     "text": [
      "Stopped streaming\n",
      "Disconnected from 14863C4D-BF71-4EA3-C6B4-98001056AAF8\n"
     ]
    },
    {
     "data": {
      "text/plain": [
       "True"
      ]
     },
     "execution_count": 24,
     "metadata": {},
     "output_type": "execute_result"
    }
   ],
   "source": [
    "await model.disconnect()"
   ]
  },
  {
   "cell_type": "code",
   "execution_count": 25,
   "metadata": {},
   "outputs": [
    {
     "data": {
      "text/plain": [
       "'TargetSet'"
      ]
     },
     "execution_count": 25,
     "metadata": {},
     "output_type": "execute_result"
    }
   ],
   "source": [
    "model.state"
   ]
  },
  {
   "cell_type": "code",
   "execution_count": 26,
   "metadata": {},
   "outputs": [
    {
     "data": {
      "text/plain": [
       "True"
      ]
     },
     "execution_count": 26,
     "metadata": {},
     "output_type": "execute_result"
    }
   ],
   "source": [
    "await model.unset_target()"
   ]
  },
  {
   "cell_type": "code",
   "execution_count": 27,
   "metadata": {},
   "outputs": [
    {
     "data": {
      "text/plain": [
       "'Init'"
      ]
     },
     "execution_count": 27,
     "metadata": {},
     "output_type": "execute_result"
    }
   ],
   "source": [
    "model.state"
   ]
  },
  {
   "cell_type": "markdown",
   "metadata": {},
   "source": [
    "At this point, we have returned to 'Init' state, and you may 'start_scan', 'set_target_address', 'connect', etc."
   ]
  },
  {
   "cell_type": "markdown",
   "metadata": {},
   "source": [
    "# Again, with Errors\n",
    "\n",
    "Let's review the above tutorial, this time also checking that the proper errors are being emitted when you  attempt illegal things.\n",
    "\n",
    "We'll discuss how best to handle those errors."
   ]
  },
  {
   "cell_type": "markdown",
   "metadata": {},
   "source": [
    "Removing some safeguards by setting `auto_rescan=False`. The default is True."
   ]
  },
  {
   "cell_type": "code",
   "execution_count": 28,
   "metadata": {},
   "outputs": [],
   "source": [
    "model = BleakModel(\n",
    "    scan_stale_time=5, # making it short for the sake of the example\n",
    "    auto_rescan=False,\n",
    ")\n",
    "\n",
    "machine.add_model(model)"
   ]
  },
  {
   "cell_type": "code",
   "execution_count": 29,
   "metadata": {},
   "outputs": [
    {
     "data": {
      "text/plain": [
       "'Init'"
      ]
     },
     "execution_count": 29,
     "metadata": {},
     "output_type": "execute_result"
    }
   ],
   "source": [
    "model.state"
   ]
  },
  {
   "cell_type": "markdown",
   "metadata": {},
   "source": [
    "Let's try to skip a step in the Finite State Machine.\n",
    "\n",
    "From `Init`, we are only allowed to go to `TargetSet`.\n",
    "\n",
    "If we try to go to `Connect`, we should get a `MachineError`:"
   ]
  },
  {
   "cell_type": "code",
   "execution_count": 30,
   "metadata": {},
   "outputs": [
    {
     "name": "stdout",
     "output_type": "stream",
     "text": [
      "Correct error raised:\n",
      "\"Can't trigger event connect from state Init!\"\n"
     ]
    }
   ],
   "source": [
    "from transitions import MachineError\n",
    "try:\n",
    "    await model.connect()\n",
    "except MachineError as e:\n",
    "    print(\"Correct error raised:\")\n",
    "    print(e)"
   ]
  },
  {
   "cell_type": "markdown",
   "metadata": {},
   "source": [
    "In order to go to `TargetSet`, we need an address.\n",
    "\n",
    "To get an address, we need to scan. For simplicity, we'll just `await` it instead of sending it to the background as we did above."
   ]
  },
  {
   "cell_type": "code",
   "execution_count": 31,
   "metadata": {},
   "outputs": [
    {
     "data": {
      "text/plain": [
       "True"
      ]
     },
     "execution_count": 31,
     "metadata": {},
     "output_type": "execute_result"
    }
   ],
   "source": [
    "await model.start_scan()"
   ]
  },
  {
   "cell_type": "markdown",
   "metadata": {},
   "source": [
    "This puts us in \"Scaning\" state:"
   ]
  },
  {
   "cell_type": "code",
   "execution_count": 32,
   "metadata": {},
   "outputs": [
    {
     "name": "stdout",
     "output_type": "stream",
     "text": [
      "Scanning\n"
     ]
    }
   ],
   "source": [
    "print(model.state)"
   ]
  },
  {
   "cell_type": "markdown",
   "metadata": {},
   "source": [
    "From \"Scanning\", transitioning to any other state besides \"Init\" is illegal:"
   ]
  },
  {
   "cell_type": "code",
   "execution_count": 33,
   "metadata": {},
   "outputs": [
    {
     "name": "stdout",
     "output_type": "stream",
     "text": [
      "Correct error raised:\n",
      "\"Can't trigger event connect from state Scanning!\"\n"
     ]
    }
   ],
   "source": [
    "try:\n",
    "    await model.connect()\n",
    "except MachineError as e:\n",
    "    print(\"Correct error raised:\")\n",
    "    print(e)"
   ]
  },
  {
   "cell_type": "markdown",
   "metadata": {},
   "source": [
    "Let's stop the scan."
   ]
  },
  {
   "cell_type": "code",
   "execution_count": 34,
   "metadata": {},
   "outputs": [
    {
     "data": {
      "text/plain": [
       "True"
      ]
     },
     "execution_count": 34,
     "metadata": {},
     "output_type": "execute_result"
    }
   ],
   "source": [
    "await asyncio.sleep(3)\n",
    "await model.stop_scan()"
   ]
  },
  {
   "cell_type": "markdown",
   "metadata": {},
   "source": [
    "The fact that `start_scan()` and `stop_scan()` are separated out like this means that we can do interesting things, like running a scan until a specified number of devices are found:"
   ]
  },
  {
   "cell_type": "code",
   "execution_count": 35,
   "metadata": {},
   "outputs": [
    {
     "name": "stdout",
     "output_type": "stream",
     "text": [
      "Init\n"
     ]
    }
   ],
   "source": [
    "print(model.state)"
   ]
  },
  {
   "cell_type": "markdown",
   "metadata": {},
   "source": [
    "As before, when scanning is done, the results are saved in the class variable `BleakModel.bt_devices`.\n",
    "\n",
    "Let's throw a wrench into the gears and use an invalid address.\n",
    "We expect a `BleakFSMError`"
   ]
  },
  {
   "cell_type": "code",
   "execution_count": 36,
   "metadata": {},
   "outputs": [],
   "source": [
    "from bleak_fsm import BleakFSMError"
   ]
  },
  {
   "cell_type": "code",
   "execution_count": 37,
   "metadata": {},
   "outputs": [
    {
     "name": "stdout",
     "output_type": "stream",
     "text": [
      "Correct error raised:\n",
      "Address some_incorrect_nonexistent_address not found in discovered devices\n"
     ]
    }
   ],
   "source": [
    "incorrect_target_address = \"some_incorrect_nonexistent_address\"\n",
    "try:\n",
    "    await model.set_target(incorrect_target_address)\n",
    "except BleakFSMError as e:\n",
    "    print(\"Correct error raised:\")\n",
    "    print(e)"
   ]
  },
  {
   "cell_type": "markdown",
   "metadata": {},
   "source": [
    "Now back on track, let's set the target with a correct target address determined above:"
   ]
  },
  {
   "cell_type": "code",
   "execution_count": 38,
   "metadata": {},
   "outputs": [
    {
     "data": {
      "text/plain": [
       "True"
      ]
     },
     "execution_count": 38,
     "metadata": {},
     "output_type": "execute_result"
    }
   ],
   "source": [
    "await model.set_target(target_address)"
   ]
  },
  {
   "cell_type": "markdown",
   "metadata": {},
   "source": [
    "We will now test what happens if we try to connect when the last scan is too old. \n",
    "\n",
    "Notice how we instantiated `model` as:\n",
    "```\n",
    "model = BleakModel(\n",
    "    scan_stale_time=5,\n",
    "    auto_rescan=False,\n",
    ")\n",
    "```\n",
    "\n",
    "If we sleep 5 seconds, then the scanned results will be considered stale. And since `auto_rescan` was set to False, we will get a `StaleScanError`:"
   ]
  },
  {
   "cell_type": "code",
   "execution_count": 39,
   "metadata": {},
   "outputs": [],
   "source": [
    "from bleak_fsm import StaleScanError"
   ]
  },
  {
   "cell_type": "code",
   "execution_count": 40,
   "metadata": {},
   "outputs": [
    {
     "name": "stdout",
     "output_type": "stream",
     "text": [
      "Correct error raised:\n",
      "Scan is stale. Please rescan. Consider setting 'auto_rescan=True' to avoid this error.\n"
     ]
    }
   ],
   "source": [
    "await asyncio.sleep(5) # sleeping in order to trigger stale scan error\n",
    "\n",
    "try:\n",
    "    await model.connect()\n",
    "except StaleScanError as e:\n",
    "    print(\"Correct error raised:\")\n",
    "    print(e)\n"
   ]
  },
  {
   "cell_type": "markdown",
   "metadata": {},
   "source": [
    "The error message gives us ways to handle this error.\n",
    "\n",
    "Let's rescan:"
   ]
  },
  {
   "cell_type": "code",
   "execution_count": 41,
   "metadata": {},
   "outputs": [
    {
     "name": "stdout",
     "output_type": "stream",
     "text": [
      "Connected to 14863C4D-BF71-4EA3-C6B4-98001056AAF8\n"
     ]
    },
    {
     "data": {
      "text/plain": [
       "True"
      ]
     },
     "execution_count": 41,
     "metadata": {},
     "output_type": "execute_result"
    }
   ],
   "source": [
    "await model.unset_target()\n",
    "await model.start_scan()\n",
    "await asyncio.sleep(3)\n",
    "await model.stop_scan()\n",
    "\n",
    "# then we can connect as long as we do it immediately\n",
    "await model.set_target(target_address)\n",
    "await model.connect()"
   ]
  },
  {
   "cell_type": "code",
   "execution_count": 42,
   "metadata": {},
   "outputs": [
    {
     "data": {
      "text/plain": [
       "'Connected'"
      ]
     },
     "execution_count": 42,
     "metadata": {},
     "output_type": "execute_result"
    }
   ],
   "source": [
    "model.state"
   ]
  },
  {
   "cell_type": "code",
   "execution_count": 43,
   "metadata": {},
   "outputs": [
    {
     "name": "stdout",
     "output_type": "stream",
     "text": [
      "Disconnected from 14863C4D-BF71-4EA3-C6B4-98001056AAF8\n"
     ]
    },
    {
     "data": {
      "text/plain": [
       "True"
      ]
     },
     "execution_count": 43,
     "metadata": {},
     "output_type": "execute_result"
    }
   ],
   "source": [
    "await model.disconnect()"
   ]
  },
  {
   "cell_type": "code",
   "execution_count": 44,
   "metadata": {},
   "outputs": [
    {
     "data": {
      "text/plain": [
       "True"
      ]
     },
     "execution_count": 44,
     "metadata": {},
     "output_type": "execute_result"
    }
   ],
   "source": [
    "await model.unset_target()"
   ]
  },
  {
   "cell_type": "code",
   "execution_count": 45,
   "metadata": {},
   "outputs": [
    {
     "data": {
      "text/plain": [
       "'Init'"
      ]
     },
     "execution_count": 45,
     "metadata": {},
     "output_type": "execute_result"
    }
   ],
   "source": [
    "model.state"
   ]
  },
  {
   "cell_type": "code",
   "execution_count": null,
   "metadata": {},
   "outputs": [],
   "source": []
  }
 ],
 "metadata": {
  "kernelspec": {
   "display_name": "Python 3",
   "language": "python",
   "name": "python3"
  },
  "language_info": {
   "codemirror_mode": {
    "name": "ipython",
    "version": 3
   },
   "file_extension": ".py",
   "mimetype": "text/x-python",
   "name": "python",
   "nbconvert_exporter": "python",
   "pygments_lexer": "ipython3",
   "version": "3.9.6"
  }
 },
 "nbformat": 4,
 "nbformat_minor": 2
}
