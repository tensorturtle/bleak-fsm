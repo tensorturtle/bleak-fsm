{
 "cells": [
  {
   "cell_type": "markdown",
   "metadata": {},
   "source": [
    "# Single Heart Rate Monitor Example"
   ]
  },
  {
   "cell_type": "markdown",
   "metadata": {},
   "source": [
    "This is a minimal demonstration of how to set up and use BleakFSM.\n",
    "\n",
    "You may choose to use raw BleakClient or Pycycling.\n",
    "\n",
    "Click on \"Run All\" to run the full notebook (which should run to the end without errors).\n",
    "\n",
    "Or, go at your own pace by running each cell.\n",
    "\n",
    "## Tips\n",
    "\n",
    "+ At any time, print `model.state` to confirm which state you're in. This will help you figure out what you can do from there."
   ]
  },
  {
   "cell_type": "code",
   "execution_count": 30,
   "metadata": {},
   "outputs": [
    {
     "name": "stdout",
     "output_type": "stream",
     "text": [
      "Defaulting to user installation because normal site-packages is not writeable\n",
      "\u001b[31mERROR: Could not open requirements file: [Errno 2] No such file or directory: '-q'\u001b[0m\n",
      "\u001b[33mWARNING: You are using pip version 21.2.4; however, version 24.0 is available.\n",
      "You should consider upgrading via the '/Library/Developer/CommandLineTools/usr/bin/python3 -m pip install --upgrade pip' command.\u001b[0m\n"
     ]
    }
   ],
   "source": [
    "!pip3 install -r -q requirements.txt"
   ]
  },
  {
   "cell_type": "markdown",
   "metadata": {},
   "source": [
    "# Setup"
   ]
  },
  {
   "cell_type": "code",
   "execution_count": 31,
   "metadata": {},
   "outputs": [],
   "source": [
    "import asyncio\n"
   ]
  },
  {
   "cell_type": "code",
   "execution_count": 32,
   "metadata": {},
   "outputs": [],
   "source": [
    "from bleak_fsm import machine, BleakModel"
   ]
  },
  {
   "cell_type": "code",
   "execution_count": 33,
   "metadata": {},
   "outputs": [],
   "source": [
    "model = BleakModel()\n",
    "machine.add_model(model)"
   ]
  },
  {
   "cell_type": "code",
   "execution_count": 34,
   "metadata": {},
   "outputs": [],
   "source": [
    "USE_PYCYCLING = True"
   ]
  },
  {
   "cell_type": "code",
   "execution_count": 35,
   "metadata": {},
   "outputs": [],
   "source": [
    "# Define callbacks\n",
    "\n",
    "if USE_PYCYCLING:\n",
    "    from pycycling.heart_rate_service import HeartRateService\n",
    "    model.wrap = lambda client: HeartRateService(client)\n",
    "    model.enable_notifications = lambda client: client.enable_hr_measurement_notifications()\n",
    "    model.disable_notifications = lambda client: client.disable_hr_measurement_notifications()\n",
    "    def handle_hr_measurement(value):\n",
    "        print(\"Using Pycycling wrapper around BleakClient\")\n",
    "        print(f\"Heart Rate: {value}\")\n",
    "    model.set_measurement_handler = lambda client: client.set_hr_measurement_handler(handle_hr_measurement)\n",
    "else:\n",
    "    HEART_RATE_MEASUREMENT_CHARACTERISTIC_UUID = \"00002a37-0000-1000-8000-00805f9b34fb\"\n",
    "    model.enable_notifications = lambda client: client.start_notify(HEART_RATE_MEASUREMENT_CHARACTERISTIC_UUID, handle_hr_measurement)\n",
    "    model.disable_notifications = lambda client: client.stop_notify(HEART_RATE_MEASUREMENT_CHARACTERISTIC_UUID)\n",
    "    def handle_hr_measurement(sender, data):\n",
    "        print(\"Using raw BleakClient\")\n",
    "        print(f\"Data received from {sender}: {data}\")\n",
    "        flag = data[0]\n",
    "        heart_rate = data[1]\n",
    "        print(f\"Heart Rate: {heart_rate} beats per minute\")\n",
    "    model.set_measurement_handler = lambda client: handle_hr_measurement\n"
   ]
  },
  {
   "cell_type": "markdown",
   "metadata": {},
   "source": [
    "# Usage"
   ]
  },
  {
   "cell_type": "code",
   "execution_count": 36,
   "metadata": {},
   "outputs": [
    {
     "data": {
      "text/plain": [
       "<Task pending name='Task-26' coro=<AsyncEvent.trigger() running at /Users/tensorturtle/Library/Python/3.9/lib/python/site-packages/transitions/extensions/asyncio.py:166>>"
      ]
     },
     "execution_count": 36,
     "metadata": {},
     "output_type": "execute_result"
    }
   ],
   "source": [
    "# Since we're in a Jupyter notebook, \n",
    "# we need to use `create_task()` instead of `get_event_loop().run_until_complete()`\n",
    "# to use the existing event loop which Jupyter runs on.\n",
    "asyncio.create_task(model.start_scan())\n",
    "# if we used\n",
    "# `await model.start_scan()`\n",
    "# then it would work, but it would block until the scan is finished, which is not what we want,\n",
    "# because below we will show how the `model.bt_devices` dictionary gets filled with the results of the scan."
   ]
  },
  {
   "cell_type": "code",
   "execution_count": 37,
   "metadata": {},
   "outputs": [
    {
     "data": {
      "text/plain": [
       "'Scanning'"
      ]
     },
     "execution_count": 37,
     "metadata": {},
     "output_type": "execute_result"
    }
   ],
   "source": [
    "model.state"
   ]
  },
  {
   "cell_type": "code",
   "execution_count": 38,
   "metadata": {},
   "outputs": [
    {
     "data": {
      "text/plain": [
       "<Task pending name='Task-28' coro=<stop_after_delay() running at /var/folders/16/dbv855p93hx5m7mgrd8fwscw0000gn/T/ipykernel_86696/1686944154.py:2>>"
      ]
     },
     "execution_count": 38,
     "metadata": {},
     "output_type": "execute_result"
    }
   ],
   "source": [
    "# Stop scan after delay\n",
    "async def stop_after_delay(delay, model):\n",
    "    print(\"Starting sleep for 2 seconds (giving the scanner time to scan)\")\n",
    "    await asyncio.sleep(delay)\n",
    "    print(\"Slept for 2 seconds (sending end signal to scanner)\")\n",
    "    await model.stop_scan()\n",
    "    print(\"Stopped scanning\")\n",
    "    \n",
    "\n",
    "asyncio.create_task(stop_after_delay(2, model))"
   ]
  },
  {
   "cell_type": "code",
   "execution_count": 39,
   "metadata": {},
   "outputs": [
    {
     "name": "stdout",
     "output_type": "stream",
     "text": [
      "Starting sleep for 2 seconds (giving the scanner time to scan)\n",
      "143 devices found in 0.0 seconds.\n",
      "143 devices found in 0.05 seconds.\n",
      "143 devices found in 0.1 seconds.\n",
      "143 devices found in 0.15 seconds.\n",
      "143 devices found in 0.2 seconds.\n",
      "143 devices found in 0.25 seconds.\n",
      "143 devices found in 0.3 seconds.\n",
      "143 devices found in 0.35 seconds.\n",
      "143 devices found in 0.4 seconds.\n",
      "143 devices found in 0.45 seconds.\n",
      "143 devices found in 0.5 seconds.\n",
      "143 devices found in 0.55 seconds.\n",
      "143 devices found in 0.6 seconds.\n",
      "143 devices found in 0.65 seconds.\n",
      "143 devices found in 0.7 seconds.\n",
      "143 devices found in 0.75 seconds.\n",
      "143 devices found in 0.8 seconds.\n",
      "143 devices found in 0.85 seconds.\n",
      "143 devices found in 0.9 seconds.\n",
      "143 devices found in 0.95 seconds.\n"
     ]
    }
   ],
   "source": [
    "async def print_as_we_go():\n",
    "    for i in range(20):\n",
    "        print(f\"{len(model.bt_devices)} devices found in {round(i*0.05,2)} seconds.\")\n",
    "        await asyncio.sleep(0.05)\n",
    "\n",
    "await print_as_we_go()"
   ]
  },
  {
   "cell_type": "code",
   "execution_count": 40,
   "metadata": {},
   "outputs": [
    {
     "data": {
      "text/plain": [
       "{'71236655-F4FC-D837-41B0-E892B06683BD': BLEDevice(71236655-F4FC-D837-41B0-E892B06683BD, Buds2 Pro),\n",
       " '25F0889C-F780-F707-F08C-E3D61B2FDD28': BLEDevice(25F0889C-F780-F707-F08C-E3D61B2FDD28, None),\n",
       " 'E9568877-2EF4-2623-BC72-75F46B60844F': BLEDevice(E9568877-2EF4-2623-BC72-75F46B60844F, None),\n",
       " 'FDCE05D9-92FD-46C5-05CC-F21094FF49DB': BLEDevice(FDCE05D9-92FD-46C5-05CC-F21094FF49DB, None),\n",
       " 'D1F8CF76-8380-5BEB-96E9-61A97C8E5354': BLEDevice(D1F8CF76-8380-5BEB-96E9-61A97C8E5354, None),\n",
       " '765DF92E-3806-13CC-7D8D-FDB1ED983EA5': BLEDevice(765DF92E-3806-13CC-7D8D-FDB1ED983EA5, None),\n",
       " 'C0C42CD0-51EA-8EF8-8E82-5E87024F8870': BLEDevice(C0C42CD0-51EA-8EF8-8E82-5E87024F8870, Logitech Pebble),\n",
       " '552F8AFB-F463-133D-0C77-222F9AFA2ECB': BLEDevice(552F8AFB-F463-133D-0C77-222F9AFA2ECB, None),\n",
       " '9F61C36A-D851-6DCD-0A62-926D93E0C6C9': BLEDevice(9F61C36A-D851-6DCD-0A62-926D93E0C6C9, 55445771,4,0,0),\n",
       " '03B447A1-E005-B088-6E5F-52A5D391BA92': BLEDevice(03B447A1-E005-B088-6E5F-52A5D391BA92, None),\n",
       " '06F5ABB5-5849-F965-5F62-815C77D438E7': BLEDevice(06F5ABB5-5849-F965-5F62-815C77D438E7, None),\n",
       " '0B521843-2D1C-1594-4A0C-84334230BE24': BLEDevice(0B521843-2D1C-1594-4A0C-84334230BE24, None),\n",
       " 'C382F458-5234-7B27-B37B-CBA07461E8E0': BLEDevice(C382F458-5234-7B27-B37B-CBA07461E8E0, None),\n",
       " '2BB1B8DC-0215-61F3-FB6F-BEE5A464D79F': BLEDevice(2BB1B8DC-0215-61F3-FB6F-BEE5A464D79F, None),\n",
       " 'B807A14A-27BA-B9CB-2155-4495ED50AB25': BLEDevice(B807A14A-27BA-B9CB-2155-4495ED50AB25, None),\n",
       " '20495F45-4B7F-6C33-763A-1ACBF88C0F4C': BLEDevice(20495F45-4B7F-6C33-763A-1ACBF88C0F4C, None),\n",
       " '979CC140-9875-EA26-7950-A9A24C04E4A2': BLEDevice(979CC140-9875-EA26-7950-A9A24C04E4A2, None),\n",
       " '38312D53-B478-ABA8-F2AE-37BE3C9C6B73': BLEDevice(38312D53-B478-ABA8-F2AE-37BE3C9C6B73, None),\n",
       " 'FED261F7-9BF8-4E01-0BC4-7971A5B64D15': BLEDevice(FED261F7-9BF8-4E01-0BC4-7971A5B64D15, None),\n",
       " '06FE8DFC-A13C-74A4-6215-DEA5A777CB8D': BLEDevice(06FE8DFC-A13C-74A4-6215-DEA5A777CB8D, None),\n",
       " 'B382454B-1ACE-B9E7-B71A-4CD2D322459B': BLEDevice(B382454B-1ACE-B9E7-B71A-4CD2D322459B, None),\n",
       " 'B52DCE2F-5296-2900-F74E-80BA190E2199': BLEDevice(B52DCE2F-5296-2900-F74E-80BA190E2199, None),\n",
       " 'F751F05D-029F-C892-8DD2-EB65D4694C18': BLEDevice(F751F05D-029F-C892-8DD2-EB65D4694C18, None),\n",
       " 'E0B0697C-AAB6-416D-A4D1-B24E05013B3D': BLEDevice(E0B0697C-AAB6-416D-A4D1-B24E05013B3D, None),\n",
       " 'BAB0811E-F85B-7EF8-F35C-9A27B60B23C0': BLEDevice(BAB0811E-F85B-7EF8-F35C-9A27B60B23C0, None),\n",
       " '0737B4B5-008E-B338-7247-FBE439EB38B4': BLEDevice(0737B4B5-008E-B338-7247-FBE439EB38B4, None),\n",
       " 'E747024C-27C8-AA35-4C69-763135CBABC5': BLEDevice(E747024C-27C8-AA35-4C69-763135CBABC5, ProPods Aero),\n",
       " 'FC525329-9382-CB5B-C56D-43839221D9C4': BLEDevice(FC525329-9382-CB5B-C56D-43839221D9C4, None),\n",
       " 'DE1590C1-AB20-504D-90E4-442B87496EF1': BLEDevice(DE1590C1-AB20-504D-90E4-442B87496EF1, None),\n",
       " '920E5B8D-7967-FCA3-BF64-7FF3939BC873': BLEDevice(920E5B8D-7967-FCA3-BF64-7FF3939BC873, None),\n",
       " '0A3B9FEA-10A6-1BE6-76EB-A179E57D2058': BLEDevice(0A3B9FEA-10A6-1BE6-76EB-A179E57D2058, None),\n",
       " '000144F1-1ACD-8B06-B6F5-E3096F4A7D3F': BLEDevice(000144F1-1ACD-8B06-B6F5-E3096F4A7D3F, None),\n",
       " '373723B8-ADEC-E90B-A32C-C895648335E2': BLEDevice(373723B8-ADEC-E90B-A32C-C895648335E2, None),\n",
       " 'C38DDBC6-8AA8-3D13-5D9E-3B66C60573C0': BLEDevice(C38DDBC6-8AA8-3D13-5D9E-3B66C60573C0, None),\n",
       " '54D27501-7BA7-CC10-105C-A7AD140DD3F1': BLEDevice(54D27501-7BA7-CC10-105C-A7AD140DD3F1, None),\n",
       " '18762008-6272-6451-567F-AE50EF712F22': BLEDevice(18762008-6272-6451-567F-AE50EF712F22, None),\n",
       " '4D399FDF-8F58-A464-F187-A0C569088F57': BLEDevice(4D399FDF-8F58-A464-F187-A0C569088F57, LE-214),\n",
       " '018A6114-F7F2-8001-CCA4-2D331FD609EF': BLEDevice(018A6114-F7F2-8001-CCA4-2D331FD609EF, None),\n",
       " '288B1169-3540-2626-8E3C-158946F9422A': BLEDevice(288B1169-3540-2626-8E3C-158946F9422A, None),\n",
       " '0592CF8C-8A85-F6F1-CA76-0C538DF2BF98': BLEDevice(0592CF8C-8A85-F6F1-CA76-0C538DF2BF98, None),\n",
       " '0942F827-C30E-AC29-645D-AC90813CB8E2': BLEDevice(0942F827-C30E-AC29-645D-AC90813CB8E2, None),\n",
       " '0830CAD6-DFEF-1176-CE7E-FBB04A9EE574': BLEDevice(0830CAD6-DFEF-1176-CE7E-FBB04A9EE574, None),\n",
       " 'EC37B25E-CB76-D42E-7A5A-65B38C4966D4': BLEDevice(EC37B25E-CB76-D42E-7A5A-65B38C4966D4, None),\n",
       " 'D4252657-53D3-61F0-8DEA-8AFC6DCDF765': BLEDevice(D4252657-53D3-61F0-8DEA-8AFC6DCDF765, None),\n",
       " 'FF7E25B7-2673-0CF7-0DDB-0D25F1D48024': BLEDevice(FF7E25B7-2673-0CF7-0DDB-0D25F1D48024, None),\n",
       " '08B09565-97D3-28FE-BFFE-937E6902CD4F': BLEDevice(08B09565-97D3-28FE-BFFE-937E6902CD4F, None),\n",
       " 'A2BDEEAE-FE52-60A2-B9C1-D65AE9667E7B': BLEDevice(A2BDEEAE-FE52-60A2-B9C1-D65AE9667E7B, None),\n",
       " '6F24B5ED-3B1D-ED11-75E0-955013AF5DCD': BLEDevice(6F24B5ED-3B1D-ED11-75E0-955013AF5DCD, None),\n",
       " '9713AC87-24B8-CF35-140A-EF401B1A93F6': BLEDevice(9713AC87-24B8-CF35-140A-EF401B1A93F6, None),\n",
       " 'E4241904-1271-B711-1241-2FAE1367ADD0': BLEDevice(E4241904-1271-B711-1241-2FAE1367ADD0, None),\n",
       " 'BE3C9137-AB50-5C0D-5E26-433556FD86BC': BLEDevice(BE3C9137-AB50-5C0D-5E26-433556FD86BC, Galaxy Watch4 (TM8A)),\n",
       " 'ADFC3A60-3F2C-7CEE-4F9F-5D9D9FFC0309': BLEDevice(ADFC3A60-3F2C-7CEE-4F9F-5D9D9FFC0309, None),\n",
       " 'F73AD3C6-418F-A15F-5663-C38B504855F7': BLEDevice(F73AD3C6-418F-A15F-5663-C38B504855F7, None),\n",
       " '5ACF3BEC-3022-F1EC-C92D-42C6848E7D79': BLEDevice(5ACF3BEC-3022-F1EC-C92D-42C6848E7D79, None),\n",
       " '25524185-AEB8-9476-CEBF-64C370939BA7': BLEDevice(25524185-AEB8-9476-CEBF-64C370939BA7, None),\n",
       " '901E3419-4C34-2C1A-80E0-74C258440953': BLEDevice(901E3419-4C34-2C1A-80E0-74C258440953, None),\n",
       " '7BA6F652-5AAC-822E-10B4-5CB8587158D4': BLEDevice(7BA6F652-5AAC-822E-10B4-5CB8587158D4, None),\n",
       " '2FF78CFF-9E33-4F5A-2D44-FAF1825E96F7': BLEDevice(2FF78CFF-9E33-4F5A-2D44-FAF1825E96F7, None),\n",
       " '87A49F52-AFCE-1EB2-FF8E-A94ECB9C7F82': BLEDevice(87A49F52-AFCE-1EB2-FF8E-A94ECB9C7F82, None),\n",
       " 'D7003535-8793-E3FB-07E1-1DEF577290FD': BLEDevice(D7003535-8793-E3FB-07E1-1DEF577290FD, None),\n",
       " '67B3E383-3C6D-2BB0-55DC-B35E80819893': BLEDevice(67B3E383-3C6D-2BB0-55DC-B35E80819893, None),\n",
       " '3C7B7EA7-E1D7-4E53-4FE7-CD9CF0F3D3E6': BLEDevice(3C7B7EA7-E1D7-4E53-4FE7-CD9CF0F3D3E6, None),\n",
       " 'C9E2E378-0FE9-4F5A-BD3D-A22F3C0B2EAF': BLEDevice(C9E2E378-0FE9-4F5A-BD3D-A22F3C0B2EAF, None),\n",
       " 'F96A906F-2244-9B8E-23B5-81D5CB95371C': BLEDevice(F96A906F-2244-9B8E-23B5-81D5CB95371C, None),\n",
       " '02C93592-90E6-0A4A-A0E7-A6881F922252': BLEDevice(02C93592-90E6-0A4A-A0E7-A6881F922252, None),\n",
       " '541DE720-D8C0-3E1F-C3F8-5043149359AE': BLEDevice(541DE720-D8C0-3E1F-C3F8-5043149359AE, None),\n",
       " 'A69F5CC7-95E7-8A55-8CAF-342753D77C18': BLEDevice(A69F5CC7-95E7-8A55-8CAF-342753D77C18, None),\n",
       " '2C8BA031-313F-64ED-8A95-CDE1B82A30D6': BLEDevice(2C8BA031-313F-64ED-8A95-CDE1B82A30D6, None),\n",
       " '9F3D0BE4-FFA9-4D4E-121D-85CD36BB8D4F': BLEDevice(9F3D0BE4-FFA9-4D4E-121D-85CD36BB8D4F, None),\n",
       " '158C1B23-B7D5-0DC0-4813-C64A112CC235': BLEDevice(158C1B23-B7D5-0DC0-4813-C64A112CC235, None),\n",
       " '97574695-CEE4-992B-864F-631CDDA52FC9': BLEDevice(97574695-CEE4-992B-864F-631CDDA52FC9, None),\n",
       " '7F3076D5-A9B7-DA67-EE90-CC8137B75975': BLEDevice(7F3076D5-A9B7-DA67-EE90-CC8137B75975, None),\n",
       " 'F3901E77-FF62-B19F-A490-55BF0FC6FB5C': BLEDevice(F3901E77-FF62-B19F-A490-55BF0FC6FB5C, None),\n",
       " '3CBFAEF3-AD79-B15E-DA29-C8F279EF2A39': BLEDevice(3CBFAEF3-AD79-B15E-DA29-C8F279EF2A39, None),\n",
       " '36D07898-3FED-743E-0B7A-077D1ADF4A7F': BLEDevice(36D07898-3FED-743E-0B7A-077D1ADF4A7F, None),\n",
       " '0BDBE507-5863-BE6A-9D99-BB27DA3DA141': BLEDevice(0BDBE507-5863-BE6A-9D99-BB27DA3DA141, None),\n",
       " '1821344A-797D-4E13-3D03-55FC89F0E1B8': BLEDevice(1821344A-797D-4E13-3D03-55FC89F0E1B8, None),\n",
       " '063ED134-2050-E403-BC7E-E4F6E36057A7': BLEDevice(063ED134-2050-E403-BC7E-E4F6E36057A7, None),\n",
       " 'D2F824DB-59CF-E08C-3225-C00BFC4D5E1E': BLEDevice(D2F824DB-59CF-E08C-3225-C00BFC4D5E1E, None),\n",
       " 'E6C829F6-3E96-0955-6DC5-CE7CCFD79D4E': BLEDevice(E6C829F6-3E96-0955-6DC5-CE7CCFD79D4E, None),\n",
       " 'D6C2D0C1-6949-296B-13DF-BF4C2115B8D9': BLEDevice(D6C2D0C1-6949-296B-13DF-BF4C2115B8D9, None),\n",
       " '6D87157F-63F9-C913-4D03-3141808360C7': BLEDevice(6D87157F-63F9-C913-4D03-3141808360C7, None),\n",
       " '8A32006E-9329-2ADC-9EC5-25581D573DC2': BLEDevice(8A32006E-9329-2ADC-9EC5-25581D573DC2, None),\n",
       " '11FC4B9C-78DA-BBA8-8A45-3A6481A55A37': BLEDevice(11FC4B9C-78DA-BBA8-8A45-3A6481A55A37, None),\n",
       " '515E61D8-B982-33AA-9AFD-5BA0CFE72637': BLEDevice(515E61D8-B982-33AA-9AFD-5BA0CFE72637, None),\n",
       " 'E4C35221-B2EF-F7F5-62BE-796A5EC84C5C': BLEDevice(E4C35221-B2EF-F7F5-62BE-796A5EC84C5C, None),\n",
       " 'DC3FAAB4-19E0-2C54-EA2C-5096C3AE1239': BLEDevice(DC3FAAB4-19E0-2C54-EA2C-5096C3AE1239, None),\n",
       " 'F3C93FC2-4AC5-D717-3B14-ACD0E1BD2EB0': BLEDevice(F3C93FC2-4AC5-D717-3B14-ACD0E1BD2EB0, None),\n",
       " '4242612D-3784-CBC9-BC5F-C6E2C824AA12': BLEDevice(4242612D-3784-CBC9-BC5F-C6E2C824AA12, None),\n",
       " '03150569-1CE9-BE02-43D5-DA859809B502': BLEDevice(03150569-1CE9-BE02-43D5-DA859809B502, None),\n",
       " '78EB7EA1-7F36-178A-790A-0ACDBEC5D890': BLEDevice(78EB7EA1-7F36-178A-790A-0ACDBEC5D890, None),\n",
       " 'EC4147B7-E7A3-B875-3485-9F40D3E96734': BLEDevice(EC4147B7-E7A3-B875-3485-9F40D3E96734, None),\n",
       " '78CBD3C5-5DE7-547E-BB5C-FAA72468F411': BLEDevice(78CBD3C5-5DE7-547E-BB5C-FAA72468F411, None),\n",
       " 'E38D4654-5126-8F63-89CE-E61D66D95046': BLEDevice(E38D4654-5126-8F63-89CE-E61D66D95046, None),\n",
       " '3727C3EE-02DE-7DB6-4A05-5E9FE68539E2': BLEDevice(3727C3EE-02DE-7DB6-4A05-5E9FE68539E2, None),\n",
       " '8B3E03DB-F549-1666-7ED2-BBE0CC382F33': BLEDevice(8B3E03DB-F549-1666-7ED2-BBE0CC382F33, CX 400BT TW),\n",
       " '9E7A2DAA-5908-0B17-B8D7-9AFBCA7B8EFC': BLEDevice(9E7A2DAA-5908-0B17-B8D7-9AFBCA7B8EFC, None),\n",
       " '01A3557E-1A9B-7CE0-18AD-DF9E6CE63E18': BLEDevice(01A3557E-1A9B-7CE0-18AD-DF9E6CE63E18, None),\n",
       " '45187FDC-79C8-ABB9-4009-629F95DD3D62': BLEDevice(45187FDC-79C8-ABB9-4009-629F95DD3D62, None),\n",
       " 'D1765D3D-0593-4579-1E77-835636E15257': BLEDevice(D1765D3D-0593-4579-1E77-835636E15257, None),\n",
       " '2A6DE099-1E73-20F7-93DE-8D8EC2815C3D': BLEDevice(2A6DE099-1E73-20F7-93DE-8D8EC2815C3D, None),\n",
       " 'D739A006-531E-B337-EDFF-9592216BF687': BLEDevice(D739A006-531E-B337-EDFF-9592216BF687, None),\n",
       " '2120D8A1-053D-D0D4-B8CA-404D18E6C77E': BLEDevice(2120D8A1-053D-D0D4-B8CA-404D18E6C77E, None),\n",
       " '4772BD55-7FDE-8885-9CF0-2DECE98EB1F9': BLEDevice(4772BD55-7FDE-8885-9CF0-2DECE98EB1F9, None),\n",
       " '8F4C6984-25D7-5E7E-22D2-5A189AFF5C2F': BLEDevice(8F4C6984-25D7-5E7E-22D2-5A189AFF5C2F, None),\n",
       " 'B8CF40AF-6C09-9F91-22BE-C4E925885133': BLEDevice(B8CF40AF-6C09-9F91-22BE-C4E925885133, None),\n",
       " 'B6F87858-1F92-FB98-1701-5E596E4C42B4': BLEDevice(B6F87858-1F92-FB98-1701-5E596E4C42B4, Galaxy Watch4 (TM8A)),\n",
       " 'A8055C31-2867-11B6-9962-625FEF2C426B': BLEDevice(A8055C31-2867-11B6-9962-625FEF2C426B, None),\n",
       " '60612CE9-891A-6C76-F8AA-CC57258FA2F6': BLEDevice(60612CE9-891A-6C76-F8AA-CC57258FA2F6, None),\n",
       " '1FB4F496-1366-3A48-49C7-AD8942A8CE0B': BLEDevice(1FB4F496-1366-3A48-49C7-AD8942A8CE0B, None),\n",
       " 'A5F9BD19-C20D-E757-4C89-B00B20EB9B81': BLEDevice(A5F9BD19-C20D-E757-4C89-B00B20EB9B81, None),\n",
       " '62CF138D-1C8E-2173-B85E-4C6A91E198FD': BLEDevice(62CF138D-1C8E-2173-B85E-4C6A91E198FD, None),\n",
       " '8FA856B7-B665-87FA-F91A-9A0401E46E26': BLEDevice(8FA856B7-B665-87FA-F91A-9A0401E46E26, None),\n",
       " '552B9F1F-87DE-FE68-7EBC-1D54FDD2D1E9': BLEDevice(552B9F1F-87DE-FE68-7EBC-1D54FDD2D1E9, None),\n",
       " 'A6DDFE23-6536-C382-89BC-8FE240EE2A5E': BLEDevice(A6DDFE23-6536-C382-89BC-8FE240EE2A5E, None),\n",
       " '231D6EF2-E49B-1369-D751-9F899F6B448A': BLEDevice(231D6EF2-E49B-1369-D751-9F899F6B448A, None),\n",
       " 'B74CB4BE-66DE-9A02-F414-5527FBF16869': BLEDevice(B74CB4BE-66DE-9A02-F414-5527FBF16869, None),\n",
       " '00A03052-76F9-D8EB-70DF-8EE0D1B05B45': BLEDevice(00A03052-76F9-D8EB-70DF-8EE0D1B05B45, None),\n",
       " 'C59A81D2-D505-2A3D-ED60-5742D0EC3C1B': BLEDevice(C59A81D2-D505-2A3D-ED60-5742D0EC3C1B, None),\n",
       " '54D781DB-B915-AF6A-613E-AC16CE02986F': BLEDevice(54D781DB-B915-AF6A-613E-AC16CE02986F, None),\n",
       " '3FDB0E69-BF9E-F864-4EDD-4BE686DF3472': BLEDevice(3FDB0E69-BF9E-F864-4EDD-4BE686DF3472, None),\n",
       " '8C231777-CBAB-4C07-96E9-7398980821A4': BLEDevice(8C231777-CBAB-4C07-96E9-7398980821A4, None),\n",
       " '33B00826-5DB6-9417-7DCA-2C8C587507B8': BLEDevice(33B00826-5DB6-9417-7DCA-2C8C587507B8, None),\n",
       " '1D34D94F-0ADF-57A2-004B-7A1E2C553AEC': BLEDevice(1D34D94F-0ADF-57A2-004B-7A1E2C553AEC, None),\n",
       " 'D829689A-841E-8B08-1C96-E36A88413F67': BLEDevice(D829689A-841E-8B08-1C96-E36A88413F67, None),\n",
       " '71046FC9-0758-1B0E-A4E9-7A7E84506939': BLEDevice(71046FC9-0758-1B0E-A4E9-7A7E84506939, None),\n",
       " '2223FE4E-C29A-7807-5CDF-904371D29BBF': BLEDevice(2223FE4E-C29A-7807-5CDF-904371D29BBF, None),\n",
       " '9A3909A8-3261-936B-9AAF-14A7B8D3FA40': BLEDevice(9A3909A8-3261-936B-9AAF-14A7B8D3FA40, None),\n",
       " '16DAD59E-64ED-451D-ED1B-9F6C9C2E3782': BLEDevice(16DAD59E-64ED-451D-ED1B-9F6C9C2E3782, None),\n",
       " '5EDE3343-61C3-76C6-492E-E3769FF55071': BLEDevice(5EDE3343-61C3-76C6-492E-E3769FF55071, None),\n",
       " '35D89F0E-C148-8C1C-D336-8220064E9CDE': BLEDevice(35D89F0E-C148-8C1C-D336-8220064E9CDE, None),\n",
       " 'F48AAA07-FAF9-3D72-154D-2B3F3A4436A7': BLEDevice(F48AAA07-FAF9-3D72-154D-2B3F3A4436A7, None),\n",
       " 'D8943F8A-A0B5-2281-E2D5-3A726511662C': BLEDevice(D8943F8A-A0B5-2281-E2D5-3A726511662C, None),\n",
       " '9ADB6FF1-3E32-D7D3-7BFA-70F469700240': BLEDevice(9ADB6FF1-3E32-D7D3-7BFA-70F469700240, None),\n",
       " '72F964CA-9654-427B-9DAC-63E6D1C692EA': BLEDevice(72F964CA-9654-427B-9DAC-63E6D1C692EA, None),\n",
       " 'B1D2EDFC-AB94-4B60-889F-67326DEBF8A3': BLEDevice(B1D2EDFC-AB94-4B60-889F-67326DEBF8A3, None),\n",
       " '4C9EAD66-468F-67BB-48D4-1743936A7415': BLEDevice(4C9EAD66-468F-67BB-48D4-1743936A7415, None),\n",
       " 'B66D9CF7-F944-4A91-4462-AACF594269A0': BLEDevice(B66D9CF7-F944-4A91-4462-AACF594269A0, None),\n",
       " '3E1F1D4E-42C0-1341-37E7-7B337DD0D53F': BLEDevice(3E1F1D4E-42C0-1341-37E7-7B337DD0D53F, None),\n",
       " 'EEC4D07E-248C-31EF-16B7-39AC8854822C': BLEDevice(EEC4D07E-248C-31EF-16B7-39AC8854822C, None),\n",
       " '41B4961C-3A71-92AD-9615-75B2C49DA010': BLEDevice(41B4961C-3A71-92AD-9615-75B2C49DA010, None),\n",
       " 'A9EB6164-6199-858B-B743-40D5EFE9C0CB': BLEDevice(A9EB6164-6199-858B-B743-40D5EFE9C0CB, None),\n",
       " '14863C4D-BF71-4EA3-C6B4-98001056AAF8': BLEDevice(14863C4D-BF71-4EA3-C6B4-98001056AAF8, WHOOPDEDOO)}"
      ]
     },
     "execution_count": 40,
     "metadata": {},
     "output_type": "execute_result"
    }
   ],
   "source": [
    "model.bt_devices"
   ]
  },
  {
   "cell_type": "code",
   "execution_count": 41,
   "metadata": {},
   "outputs": [
    {
     "name": "stdout",
     "output_type": "stream",
     "text": [
      "Success! Found device named WHOOPDEDOO\n"
     ]
    }
   ],
   "source": [
    "# Client should select the ID from the following list\n",
    "target_name = \"WHOOPDEDOO\"\n",
    "\n",
    "target_address = \"\"\n",
    "for k,v in model.bt_devices.items():\n",
    "    if v.name == target_name:\n",
    "        target_address = k\n",
    "\n",
    "if target_address == \"\":\n",
    "    print(f\"Fail. No device with name {target_name} found\")\n",
    "else:\n",
    "    print(f\"Success! Found device named {target_name}\")"
   ]
  },
  {
   "cell_type": "code",
   "execution_count": 42,
   "metadata": {},
   "outputs": [
    {
     "name": "stdout",
     "output_type": "stream",
     "text": [
      "Slept for 2 seconds (sending end signal to scanner)\n",
      "Stopped scanning\n"
     ]
    },
    {
     "data": {
      "text/plain": [
       "True"
      ]
     },
     "execution_count": 42,
     "metadata": {},
     "output_type": "execute_result"
    }
   ],
   "source": [
    "await asyncio.sleep(3)\n",
    "await model.set_target(target_address)"
   ]
  },
  {
   "cell_type": "code",
   "execution_count": 43,
   "metadata": {},
   "outputs": [
    {
     "data": {
      "text/plain": [
       "'TargetSet'"
      ]
     },
     "execution_count": 43,
     "metadata": {},
     "output_type": "execute_result"
    }
   ],
   "source": [
    "model.state"
   ]
  },
  {
   "cell_type": "code",
   "execution_count": 44,
   "metadata": {},
   "outputs": [],
   "source": [
    "await asyncio.sleep(3) # wait for scan to finish"
   ]
  },
  {
   "cell_type": "code",
   "execution_count": 45,
   "metadata": {},
   "outputs": [
    {
     "name": "stdout",
     "output_type": "stream",
     "text": [
      "Connected to 14863C4D-BF71-4EA3-C6B4-98001056AAF8\n"
     ]
    },
    {
     "data": {
      "text/plain": [
       "True"
      ]
     },
     "execution_count": 45,
     "metadata": {},
     "output_type": "execute_result"
    }
   ],
   "source": [
    "await model.connect() # first time connecting"
   ]
  },
  {
   "cell_type": "code",
   "execution_count": 46,
   "metadata": {},
   "outputs": [
    {
     "data": {
      "text/plain": [
       "'Connected'"
      ]
     },
     "execution_count": 46,
     "metadata": {},
     "output_type": "execute_result"
    }
   ],
   "source": [
    "model.state"
   ]
  },
  {
   "cell_type": "code",
   "execution_count": 47,
   "metadata": {},
   "outputs": [
    {
     "data": {
      "text/plain": [
       "<Task pending name='Task-36' coro=<run_stream() running at /var/folders/16/dbv855p93hx5m7mgrd8fwscw0000gn/T/ipykernel_86696/3697076873.py:1>>"
      ]
     },
     "execution_count": 47,
     "metadata": {},
     "output_type": "execute_result"
    }
   ],
   "source": [
    "async def run_stream():\n",
    "    await model.stream()\n",
    "\n",
    "asyncio.create_task(run_stream())"
   ]
  },
  {
   "cell_type": "code",
   "execution_count": 48,
   "metadata": {},
   "outputs": [
    {
     "name": "stdout",
     "output_type": "stream",
     "text": [
      "Started streaming\n",
      "Using Pycycling wrapper around BleakClient\n",
      "Heart Rate: HeartRateMeasurement(sensor_contact=False, bpm=92, rr_interval=[665, 671], energy_expended=None)\n",
      "Using Pycycling wrapper around BleakClient\n",
      "Heart Rate: HeartRateMeasurement(sensor_contact=False, bpm=94, rr_interval=[642], energy_expended=None)\n",
      "Using Pycycling wrapper around BleakClient\n",
      "Heart Rate: HeartRateMeasurement(sensor_contact=False, bpm=93, rr_interval=[681], energy_expended=None)\n",
      "Using Pycycling wrapper around BleakClient\n",
      "Heart Rate: HeartRateMeasurement(sensor_contact=False, bpm=92, rr_interval=[648, 662], energy_expended=None)\n",
      "Using Pycycling wrapper around BleakClient\n",
      "Heart Rate: HeartRateMeasurement(sensor_contact=False, bpm=90, rr_interval=[655], energy_expended=None)\n"
     ]
    }
   ],
   "source": [
    "await asyncio.sleep(5)"
   ]
  },
  {
   "cell_type": "code",
   "execution_count": 49,
   "metadata": {},
   "outputs": [
    {
     "name": "stdout",
     "output_type": "stream",
     "text": [
      "Stopped streaming\n",
      "Disconnected from 14863C4D-BF71-4EA3-C6B4-98001056AAF8\n"
     ]
    },
    {
     "data": {
      "text/plain": [
       "True"
      ]
     },
     "execution_count": 49,
     "metadata": {},
     "output_type": "execute_result"
    }
   ],
   "source": [
    "await model.disconnect()"
   ]
  },
  {
   "cell_type": "code",
   "execution_count": 50,
   "metadata": {},
   "outputs": [
    {
     "data": {
      "text/plain": [
       "'TargetSet'"
      ]
     },
     "execution_count": 50,
     "metadata": {},
     "output_type": "execute_result"
    }
   ],
   "source": [
    "model.state"
   ]
  },
  {
   "cell_type": "code",
   "execution_count": 51,
   "metadata": {},
   "outputs": [
    {
     "data": {
      "text/plain": [
       "True"
      ]
     },
     "execution_count": 51,
     "metadata": {},
     "output_type": "execute_result"
    }
   ],
   "source": [
    "await model.unset_target()"
   ]
  },
  {
   "cell_type": "code",
   "execution_count": 52,
   "metadata": {},
   "outputs": [
    {
     "data": {
      "text/plain": [
       "'Init'"
      ]
     },
     "execution_count": 52,
     "metadata": {},
     "output_type": "execute_result"
    }
   ],
   "source": [
    "model.state"
   ]
  },
  {
   "cell_type": "markdown",
   "metadata": {},
   "source": [
    "At this point, we have returned to 'Init' state, and you may 'start_scan', 'set_target_address', 'connect', etc."
   ]
  },
  {
   "cell_type": "markdown",
   "metadata": {},
   "source": [
    "# Again, with Errors\n",
    "\n",
    "For a fuller understanding of BleakFSM, Let's step through the same workflow as above but also check that the proper errors are being emitted. \n",
    "\n",
    "We'll discuss how best to handle those errors."
   ]
  },
  {
   "cell_type": "code",
   "execution_count": 53,
   "metadata": {},
   "outputs": [
    {
     "data": {
      "text/plain": [
       "'Init'"
      ]
     },
     "execution_count": 53,
     "metadata": {},
     "output_type": "execute_result"
    }
   ],
   "source": [
    "model.state"
   ]
  },
  {
   "cell_type": "markdown",
   "metadata": {},
   "source": [
    "Let's try to skip a step in the Finite State Machine.\n",
    "\n",
    "From `Init`, we may only go to `TargetSet`.\n",
    "\n",
    "If we try to go to `Connect`, we should get a `MachineError`:"
   ]
  },
  {
   "cell_type": "code",
   "execution_count": 54,
   "metadata": {},
   "outputs": [
    {
     "name": "stdout",
     "output_type": "stream",
     "text": [
      "\"Can't trigger event connect from state Init!\"\n"
     ]
    }
   ],
   "source": [
    "from transitions import MachineError\n",
    "try:\n",
    "    await model.connect()\n",
    "except MachineError as e:\n",
    "    print(e)"
   ]
  },
  {
   "cell_type": "markdown",
   "metadata": {},
   "source": [
    "In order to go to `TargetSet`, we need an address.\n",
    "\n",
    "To get an address, we need to scan"
   ]
  },
  {
   "cell_type": "code",
   "execution_count": 55,
   "metadata": {},
   "outputs": [
    {
     "data": {
      "text/plain": [
       "True"
      ]
     },
     "execution_count": 55,
     "metadata": {},
     "output_type": "execute_result"
    }
   ],
   "source": [
    "await model.start_scan()\n",
    "await asyncio.sleep(3)\n",
    "await model.stop_scan()"
   ]
  },
  {
   "cell_type": "markdown",
   "metadata": {},
   "source": [
    "When scanning is done, the results are saved in `model.bt_devices`"
   ]
  },
  {
   "cell_type": "code",
   "execution_count": 56,
   "metadata": {},
   "outputs": [
    {
     "data": {
      "text/plain": [
       "{'71236655-F4FC-D837-41B0-E892B06683BD': BLEDevice(71236655-F4FC-D837-41B0-E892B06683BD, Buds2 Pro),\n",
       " '25F0889C-F780-F707-F08C-E3D61B2FDD28': BLEDevice(25F0889C-F780-F707-F08C-E3D61B2FDD28, None),\n",
       " 'E9568877-2EF4-2623-BC72-75F46B60844F': BLEDevice(E9568877-2EF4-2623-BC72-75F46B60844F, None),\n",
       " 'FDCE05D9-92FD-46C5-05CC-F21094FF49DB': BLEDevice(FDCE05D9-92FD-46C5-05CC-F21094FF49DB, None),\n",
       " 'D1F8CF76-8380-5BEB-96E9-61A97C8E5354': BLEDevice(D1F8CF76-8380-5BEB-96E9-61A97C8E5354, None),\n",
       " '765DF92E-3806-13CC-7D8D-FDB1ED983EA5': BLEDevice(765DF92E-3806-13CC-7D8D-FDB1ED983EA5, None),\n",
       " 'C0C42CD0-51EA-8EF8-8E82-5E87024F8870': BLEDevice(C0C42CD0-51EA-8EF8-8E82-5E87024F8870, Logitech Pebble),\n",
       " '552F8AFB-F463-133D-0C77-222F9AFA2ECB': BLEDevice(552F8AFB-F463-133D-0C77-222F9AFA2ECB, None),\n",
       " '9F61C36A-D851-6DCD-0A62-926D93E0C6C9': BLEDevice(9F61C36A-D851-6DCD-0A62-926D93E0C6C9, 55445771,4,0,0),\n",
       " '03B447A1-E005-B088-6E5F-52A5D391BA92': BLEDevice(03B447A1-E005-B088-6E5F-52A5D391BA92, None),\n",
       " '06F5ABB5-5849-F965-5F62-815C77D438E7': BLEDevice(06F5ABB5-5849-F965-5F62-815C77D438E7, None),\n",
       " '0B521843-2D1C-1594-4A0C-84334230BE24': BLEDevice(0B521843-2D1C-1594-4A0C-84334230BE24, None),\n",
       " 'C382F458-5234-7B27-B37B-CBA07461E8E0': BLEDevice(C382F458-5234-7B27-B37B-CBA07461E8E0, None),\n",
       " '2BB1B8DC-0215-61F3-FB6F-BEE5A464D79F': BLEDevice(2BB1B8DC-0215-61F3-FB6F-BEE5A464D79F, None),\n",
       " 'B807A14A-27BA-B9CB-2155-4495ED50AB25': BLEDevice(B807A14A-27BA-B9CB-2155-4495ED50AB25, None),\n",
       " '20495F45-4B7F-6C33-763A-1ACBF88C0F4C': BLEDevice(20495F45-4B7F-6C33-763A-1ACBF88C0F4C, None),\n",
       " '979CC140-9875-EA26-7950-A9A24C04E4A2': BLEDevice(979CC140-9875-EA26-7950-A9A24C04E4A2, None),\n",
       " '38312D53-B478-ABA8-F2AE-37BE3C9C6B73': BLEDevice(38312D53-B478-ABA8-F2AE-37BE3C9C6B73, None),\n",
       " 'FED261F7-9BF8-4E01-0BC4-7971A5B64D15': BLEDevice(FED261F7-9BF8-4E01-0BC4-7971A5B64D15, None),\n",
       " '06FE8DFC-A13C-74A4-6215-DEA5A777CB8D': BLEDevice(06FE8DFC-A13C-74A4-6215-DEA5A777CB8D, None),\n",
       " 'B382454B-1ACE-B9E7-B71A-4CD2D322459B': BLEDevice(B382454B-1ACE-B9E7-B71A-4CD2D322459B, None),\n",
       " 'B52DCE2F-5296-2900-F74E-80BA190E2199': BLEDevice(B52DCE2F-5296-2900-F74E-80BA190E2199, None),\n",
       " 'F751F05D-029F-C892-8DD2-EB65D4694C18': BLEDevice(F751F05D-029F-C892-8DD2-EB65D4694C18, None),\n",
       " 'E0B0697C-AAB6-416D-A4D1-B24E05013B3D': BLEDevice(E0B0697C-AAB6-416D-A4D1-B24E05013B3D, None),\n",
       " 'BAB0811E-F85B-7EF8-F35C-9A27B60B23C0': BLEDevice(BAB0811E-F85B-7EF8-F35C-9A27B60B23C0, None),\n",
       " '0737B4B5-008E-B338-7247-FBE439EB38B4': BLEDevice(0737B4B5-008E-B338-7247-FBE439EB38B4, None),\n",
       " 'E747024C-27C8-AA35-4C69-763135CBABC5': BLEDevice(E747024C-27C8-AA35-4C69-763135CBABC5, ProPods Aero),\n",
       " 'FC525329-9382-CB5B-C56D-43839221D9C4': BLEDevice(FC525329-9382-CB5B-C56D-43839221D9C4, None),\n",
       " 'DE1590C1-AB20-504D-90E4-442B87496EF1': BLEDevice(DE1590C1-AB20-504D-90E4-442B87496EF1, None),\n",
       " '920E5B8D-7967-FCA3-BF64-7FF3939BC873': BLEDevice(920E5B8D-7967-FCA3-BF64-7FF3939BC873, None),\n",
       " '0A3B9FEA-10A6-1BE6-76EB-A179E57D2058': BLEDevice(0A3B9FEA-10A6-1BE6-76EB-A179E57D2058, None),\n",
       " '000144F1-1ACD-8B06-B6F5-E3096F4A7D3F': BLEDevice(000144F1-1ACD-8B06-B6F5-E3096F4A7D3F, None),\n",
       " '373723B8-ADEC-E90B-A32C-C895648335E2': BLEDevice(373723B8-ADEC-E90B-A32C-C895648335E2, None),\n",
       " 'C38DDBC6-8AA8-3D13-5D9E-3B66C60573C0': BLEDevice(C38DDBC6-8AA8-3D13-5D9E-3B66C60573C0, None),\n",
       " '54D27501-7BA7-CC10-105C-A7AD140DD3F1': BLEDevice(54D27501-7BA7-CC10-105C-A7AD140DD3F1, None),\n",
       " '18762008-6272-6451-567F-AE50EF712F22': BLEDevice(18762008-6272-6451-567F-AE50EF712F22, None),\n",
       " '4D399FDF-8F58-A464-F187-A0C569088F57': BLEDevice(4D399FDF-8F58-A464-F187-A0C569088F57, LE-214),\n",
       " '018A6114-F7F2-8001-CCA4-2D331FD609EF': BLEDevice(018A6114-F7F2-8001-CCA4-2D331FD609EF, None),\n",
       " '288B1169-3540-2626-8E3C-158946F9422A': BLEDevice(288B1169-3540-2626-8E3C-158946F9422A, None),\n",
       " '0592CF8C-8A85-F6F1-CA76-0C538DF2BF98': BLEDevice(0592CF8C-8A85-F6F1-CA76-0C538DF2BF98, None),\n",
       " '0942F827-C30E-AC29-645D-AC90813CB8E2': BLEDevice(0942F827-C30E-AC29-645D-AC90813CB8E2, None),\n",
       " '0830CAD6-DFEF-1176-CE7E-FBB04A9EE574': BLEDevice(0830CAD6-DFEF-1176-CE7E-FBB04A9EE574, None),\n",
       " 'EC37B25E-CB76-D42E-7A5A-65B38C4966D4': BLEDevice(EC37B25E-CB76-D42E-7A5A-65B38C4966D4, None),\n",
       " 'D4252657-53D3-61F0-8DEA-8AFC6DCDF765': BLEDevice(D4252657-53D3-61F0-8DEA-8AFC6DCDF765, None),\n",
       " 'FF7E25B7-2673-0CF7-0DDB-0D25F1D48024': BLEDevice(FF7E25B7-2673-0CF7-0DDB-0D25F1D48024, None),\n",
       " '08B09565-97D3-28FE-BFFE-937E6902CD4F': BLEDevice(08B09565-97D3-28FE-BFFE-937E6902CD4F, None),\n",
       " 'A2BDEEAE-FE52-60A2-B9C1-D65AE9667E7B': BLEDevice(A2BDEEAE-FE52-60A2-B9C1-D65AE9667E7B, None),\n",
       " '6F24B5ED-3B1D-ED11-75E0-955013AF5DCD': BLEDevice(6F24B5ED-3B1D-ED11-75E0-955013AF5DCD, None),\n",
       " '9713AC87-24B8-CF35-140A-EF401B1A93F6': BLEDevice(9713AC87-24B8-CF35-140A-EF401B1A93F6, None),\n",
       " 'E4241904-1271-B711-1241-2FAE1367ADD0': BLEDevice(E4241904-1271-B711-1241-2FAE1367ADD0, None),\n",
       " 'BE3C9137-AB50-5C0D-5E26-433556FD86BC': BLEDevice(BE3C9137-AB50-5C0D-5E26-433556FD86BC, Galaxy Watch4 (TM8A)),\n",
       " 'ADFC3A60-3F2C-7CEE-4F9F-5D9D9FFC0309': BLEDevice(ADFC3A60-3F2C-7CEE-4F9F-5D9D9FFC0309, None),\n",
       " 'F73AD3C6-418F-A15F-5663-C38B504855F7': BLEDevice(F73AD3C6-418F-A15F-5663-C38B504855F7, None),\n",
       " '5ACF3BEC-3022-F1EC-C92D-42C6848E7D79': BLEDevice(5ACF3BEC-3022-F1EC-C92D-42C6848E7D79, None),\n",
       " '25524185-AEB8-9476-CEBF-64C370939BA7': BLEDevice(25524185-AEB8-9476-CEBF-64C370939BA7, None),\n",
       " '901E3419-4C34-2C1A-80E0-74C258440953': BLEDevice(901E3419-4C34-2C1A-80E0-74C258440953, None),\n",
       " '7BA6F652-5AAC-822E-10B4-5CB8587158D4': BLEDevice(7BA6F652-5AAC-822E-10B4-5CB8587158D4, None),\n",
       " '2FF78CFF-9E33-4F5A-2D44-FAF1825E96F7': BLEDevice(2FF78CFF-9E33-4F5A-2D44-FAF1825E96F7, None),\n",
       " '87A49F52-AFCE-1EB2-FF8E-A94ECB9C7F82': BLEDevice(87A49F52-AFCE-1EB2-FF8E-A94ECB9C7F82, None),\n",
       " 'D7003535-8793-E3FB-07E1-1DEF577290FD': BLEDevice(D7003535-8793-E3FB-07E1-1DEF577290FD, None),\n",
       " '67B3E383-3C6D-2BB0-55DC-B35E80819893': BLEDevice(67B3E383-3C6D-2BB0-55DC-B35E80819893, None),\n",
       " '3C7B7EA7-E1D7-4E53-4FE7-CD9CF0F3D3E6': BLEDevice(3C7B7EA7-E1D7-4E53-4FE7-CD9CF0F3D3E6, None),\n",
       " 'C9E2E378-0FE9-4F5A-BD3D-A22F3C0B2EAF': BLEDevice(C9E2E378-0FE9-4F5A-BD3D-A22F3C0B2EAF, None),\n",
       " 'F96A906F-2244-9B8E-23B5-81D5CB95371C': BLEDevice(F96A906F-2244-9B8E-23B5-81D5CB95371C, None),\n",
       " '02C93592-90E6-0A4A-A0E7-A6881F922252': BLEDevice(02C93592-90E6-0A4A-A0E7-A6881F922252, None),\n",
       " '541DE720-D8C0-3E1F-C3F8-5043149359AE': BLEDevice(541DE720-D8C0-3E1F-C3F8-5043149359AE, None),\n",
       " 'A69F5CC7-95E7-8A55-8CAF-342753D77C18': BLEDevice(A69F5CC7-95E7-8A55-8CAF-342753D77C18, None),\n",
       " '2C8BA031-313F-64ED-8A95-CDE1B82A30D6': BLEDevice(2C8BA031-313F-64ED-8A95-CDE1B82A30D6, None),\n",
       " '9F3D0BE4-FFA9-4D4E-121D-85CD36BB8D4F': BLEDevice(9F3D0BE4-FFA9-4D4E-121D-85CD36BB8D4F, None),\n",
       " '158C1B23-B7D5-0DC0-4813-C64A112CC235': BLEDevice(158C1B23-B7D5-0DC0-4813-C64A112CC235, None),\n",
       " '97574695-CEE4-992B-864F-631CDDA52FC9': BLEDevice(97574695-CEE4-992B-864F-631CDDA52FC9, None),\n",
       " '7F3076D5-A9B7-DA67-EE90-CC8137B75975': BLEDevice(7F3076D5-A9B7-DA67-EE90-CC8137B75975, None),\n",
       " 'F3901E77-FF62-B19F-A490-55BF0FC6FB5C': BLEDevice(F3901E77-FF62-B19F-A490-55BF0FC6FB5C, None),\n",
       " '3CBFAEF3-AD79-B15E-DA29-C8F279EF2A39': BLEDevice(3CBFAEF3-AD79-B15E-DA29-C8F279EF2A39, None),\n",
       " '36D07898-3FED-743E-0B7A-077D1ADF4A7F': BLEDevice(36D07898-3FED-743E-0B7A-077D1ADF4A7F, None),\n",
       " '0BDBE507-5863-BE6A-9D99-BB27DA3DA141': BLEDevice(0BDBE507-5863-BE6A-9D99-BB27DA3DA141, None),\n",
       " '1821344A-797D-4E13-3D03-55FC89F0E1B8': BLEDevice(1821344A-797D-4E13-3D03-55FC89F0E1B8, None),\n",
       " '063ED134-2050-E403-BC7E-E4F6E36057A7': BLEDevice(063ED134-2050-E403-BC7E-E4F6E36057A7, None),\n",
       " 'D2F824DB-59CF-E08C-3225-C00BFC4D5E1E': BLEDevice(D2F824DB-59CF-E08C-3225-C00BFC4D5E1E, None),\n",
       " 'E6C829F6-3E96-0955-6DC5-CE7CCFD79D4E': BLEDevice(E6C829F6-3E96-0955-6DC5-CE7CCFD79D4E, None),\n",
       " 'D6C2D0C1-6949-296B-13DF-BF4C2115B8D9': BLEDevice(D6C2D0C1-6949-296B-13DF-BF4C2115B8D9, None),\n",
       " '6D87157F-63F9-C913-4D03-3141808360C7': BLEDevice(6D87157F-63F9-C913-4D03-3141808360C7, None),\n",
       " '8A32006E-9329-2ADC-9EC5-25581D573DC2': BLEDevice(8A32006E-9329-2ADC-9EC5-25581D573DC2, None),\n",
       " '11FC4B9C-78DA-BBA8-8A45-3A6481A55A37': BLEDevice(11FC4B9C-78DA-BBA8-8A45-3A6481A55A37, None),\n",
       " '515E61D8-B982-33AA-9AFD-5BA0CFE72637': BLEDevice(515E61D8-B982-33AA-9AFD-5BA0CFE72637, None),\n",
       " 'E4C35221-B2EF-F7F5-62BE-796A5EC84C5C': BLEDevice(E4C35221-B2EF-F7F5-62BE-796A5EC84C5C, None),\n",
       " 'DC3FAAB4-19E0-2C54-EA2C-5096C3AE1239': BLEDevice(DC3FAAB4-19E0-2C54-EA2C-5096C3AE1239, None),\n",
       " 'F3C93FC2-4AC5-D717-3B14-ACD0E1BD2EB0': BLEDevice(F3C93FC2-4AC5-D717-3B14-ACD0E1BD2EB0, None),\n",
       " '4242612D-3784-CBC9-BC5F-C6E2C824AA12': BLEDevice(4242612D-3784-CBC9-BC5F-C6E2C824AA12, None),\n",
       " '03150569-1CE9-BE02-43D5-DA859809B502': BLEDevice(03150569-1CE9-BE02-43D5-DA859809B502, None),\n",
       " '78EB7EA1-7F36-178A-790A-0ACDBEC5D890': BLEDevice(78EB7EA1-7F36-178A-790A-0ACDBEC5D890, None),\n",
       " 'EC4147B7-E7A3-B875-3485-9F40D3E96734': BLEDevice(EC4147B7-E7A3-B875-3485-9F40D3E96734, None),\n",
       " '78CBD3C5-5DE7-547E-BB5C-FAA72468F411': BLEDevice(78CBD3C5-5DE7-547E-BB5C-FAA72468F411, None),\n",
       " 'E38D4654-5126-8F63-89CE-E61D66D95046': BLEDevice(E38D4654-5126-8F63-89CE-E61D66D95046, None),\n",
       " '3727C3EE-02DE-7DB6-4A05-5E9FE68539E2': BLEDevice(3727C3EE-02DE-7DB6-4A05-5E9FE68539E2, None),\n",
       " '8B3E03DB-F549-1666-7ED2-BBE0CC382F33': BLEDevice(8B3E03DB-F549-1666-7ED2-BBE0CC382F33, CX 400BT TW),\n",
       " '9E7A2DAA-5908-0B17-B8D7-9AFBCA7B8EFC': BLEDevice(9E7A2DAA-5908-0B17-B8D7-9AFBCA7B8EFC, None),\n",
       " '01A3557E-1A9B-7CE0-18AD-DF9E6CE63E18': BLEDevice(01A3557E-1A9B-7CE0-18AD-DF9E6CE63E18, None),\n",
       " '45187FDC-79C8-ABB9-4009-629F95DD3D62': BLEDevice(45187FDC-79C8-ABB9-4009-629F95DD3D62, None),\n",
       " 'D1765D3D-0593-4579-1E77-835636E15257': BLEDevice(D1765D3D-0593-4579-1E77-835636E15257, None),\n",
       " '2A6DE099-1E73-20F7-93DE-8D8EC2815C3D': BLEDevice(2A6DE099-1E73-20F7-93DE-8D8EC2815C3D, None),\n",
       " 'D739A006-531E-B337-EDFF-9592216BF687': BLEDevice(D739A006-531E-B337-EDFF-9592216BF687, None),\n",
       " '2120D8A1-053D-D0D4-B8CA-404D18E6C77E': BLEDevice(2120D8A1-053D-D0D4-B8CA-404D18E6C77E, None),\n",
       " '4772BD55-7FDE-8885-9CF0-2DECE98EB1F9': BLEDevice(4772BD55-7FDE-8885-9CF0-2DECE98EB1F9, None),\n",
       " '8F4C6984-25D7-5E7E-22D2-5A189AFF5C2F': BLEDevice(8F4C6984-25D7-5E7E-22D2-5A189AFF5C2F, None),\n",
       " 'B8CF40AF-6C09-9F91-22BE-C4E925885133': BLEDevice(B8CF40AF-6C09-9F91-22BE-C4E925885133, None),\n",
       " 'B6F87858-1F92-FB98-1701-5E596E4C42B4': BLEDevice(B6F87858-1F92-FB98-1701-5E596E4C42B4, Galaxy Watch4 (TM8A)),\n",
       " 'A8055C31-2867-11B6-9962-625FEF2C426B': BLEDevice(A8055C31-2867-11B6-9962-625FEF2C426B, None),\n",
       " '60612CE9-891A-6C76-F8AA-CC57258FA2F6': BLEDevice(60612CE9-891A-6C76-F8AA-CC57258FA2F6, None),\n",
       " '1FB4F496-1366-3A48-49C7-AD8942A8CE0B': BLEDevice(1FB4F496-1366-3A48-49C7-AD8942A8CE0B, None),\n",
       " 'A5F9BD19-C20D-E757-4C89-B00B20EB9B81': BLEDevice(A5F9BD19-C20D-E757-4C89-B00B20EB9B81, None),\n",
       " '62CF138D-1C8E-2173-B85E-4C6A91E198FD': BLEDevice(62CF138D-1C8E-2173-B85E-4C6A91E198FD, None),\n",
       " '8FA856B7-B665-87FA-F91A-9A0401E46E26': BLEDevice(8FA856B7-B665-87FA-F91A-9A0401E46E26, None),\n",
       " '552B9F1F-87DE-FE68-7EBC-1D54FDD2D1E9': BLEDevice(552B9F1F-87DE-FE68-7EBC-1D54FDD2D1E9, None),\n",
       " 'A6DDFE23-6536-C382-89BC-8FE240EE2A5E': BLEDevice(A6DDFE23-6536-C382-89BC-8FE240EE2A5E, None),\n",
       " '231D6EF2-E49B-1369-D751-9F899F6B448A': BLEDevice(231D6EF2-E49B-1369-D751-9F899F6B448A, None),\n",
       " 'B74CB4BE-66DE-9A02-F414-5527FBF16869': BLEDevice(B74CB4BE-66DE-9A02-F414-5527FBF16869, None),\n",
       " '00A03052-76F9-D8EB-70DF-8EE0D1B05B45': BLEDevice(00A03052-76F9-D8EB-70DF-8EE0D1B05B45, None),\n",
       " 'C59A81D2-D505-2A3D-ED60-5742D0EC3C1B': BLEDevice(C59A81D2-D505-2A3D-ED60-5742D0EC3C1B, None),\n",
       " '54D781DB-B915-AF6A-613E-AC16CE02986F': BLEDevice(54D781DB-B915-AF6A-613E-AC16CE02986F, None),\n",
       " '3FDB0E69-BF9E-F864-4EDD-4BE686DF3472': BLEDevice(3FDB0E69-BF9E-F864-4EDD-4BE686DF3472, None),\n",
       " '8C231777-CBAB-4C07-96E9-7398980821A4': BLEDevice(8C231777-CBAB-4C07-96E9-7398980821A4, None),\n",
       " '33B00826-5DB6-9417-7DCA-2C8C587507B8': BLEDevice(33B00826-5DB6-9417-7DCA-2C8C587507B8, None),\n",
       " '1D34D94F-0ADF-57A2-004B-7A1E2C553AEC': BLEDevice(1D34D94F-0ADF-57A2-004B-7A1E2C553AEC, None),\n",
       " 'D829689A-841E-8B08-1C96-E36A88413F67': BLEDevice(D829689A-841E-8B08-1C96-E36A88413F67, None),\n",
       " '71046FC9-0758-1B0E-A4E9-7A7E84506939': BLEDevice(71046FC9-0758-1B0E-A4E9-7A7E84506939, None),\n",
       " '2223FE4E-C29A-7807-5CDF-904371D29BBF': BLEDevice(2223FE4E-C29A-7807-5CDF-904371D29BBF, None),\n",
       " '9A3909A8-3261-936B-9AAF-14A7B8D3FA40': BLEDevice(9A3909A8-3261-936B-9AAF-14A7B8D3FA40, None),\n",
       " '16DAD59E-64ED-451D-ED1B-9F6C9C2E3782': BLEDevice(16DAD59E-64ED-451D-ED1B-9F6C9C2E3782, None),\n",
       " '5EDE3343-61C3-76C6-492E-E3769FF55071': BLEDevice(5EDE3343-61C3-76C6-492E-E3769FF55071, None),\n",
       " '35D89F0E-C148-8C1C-D336-8220064E9CDE': BLEDevice(35D89F0E-C148-8C1C-D336-8220064E9CDE, None),\n",
       " 'F48AAA07-FAF9-3D72-154D-2B3F3A4436A7': BLEDevice(F48AAA07-FAF9-3D72-154D-2B3F3A4436A7, None),\n",
       " 'D8943F8A-A0B5-2281-E2D5-3A726511662C': BLEDevice(D8943F8A-A0B5-2281-E2D5-3A726511662C, None),\n",
       " '9ADB6FF1-3E32-D7D3-7BFA-70F469700240': BLEDevice(9ADB6FF1-3E32-D7D3-7BFA-70F469700240, None),\n",
       " '72F964CA-9654-427B-9DAC-63E6D1C692EA': BLEDevice(72F964CA-9654-427B-9DAC-63E6D1C692EA, None),\n",
       " 'B1D2EDFC-AB94-4B60-889F-67326DEBF8A3': BLEDevice(B1D2EDFC-AB94-4B60-889F-67326DEBF8A3, None),\n",
       " '4C9EAD66-468F-67BB-48D4-1743936A7415': BLEDevice(4C9EAD66-468F-67BB-48D4-1743936A7415, None),\n",
       " 'B66D9CF7-F944-4A91-4462-AACF594269A0': BLEDevice(B66D9CF7-F944-4A91-4462-AACF594269A0, None),\n",
       " '3E1F1D4E-42C0-1341-37E7-7B337DD0D53F': BLEDevice(3E1F1D4E-42C0-1341-37E7-7B337DD0D53F, None),\n",
       " 'EEC4D07E-248C-31EF-16B7-39AC8854822C': BLEDevice(EEC4D07E-248C-31EF-16B7-39AC8854822C, None),\n",
       " '41B4961C-3A71-92AD-9615-75B2C49DA010': BLEDevice(41B4961C-3A71-92AD-9615-75B2C49DA010, None),\n",
       " 'A9EB6164-6199-858B-B743-40D5EFE9C0CB': BLEDevice(A9EB6164-6199-858B-B743-40D5EFE9C0CB, None),\n",
       " '14863C4D-BF71-4EA3-C6B4-98001056AAF8': BLEDevice(14863C4D-BF71-4EA3-C6B4-98001056AAF8, WHOOPDEDOO)}"
      ]
     },
     "execution_count": 56,
     "metadata": {},
     "output_type": "execute_result"
    }
   ],
   "source": [
    "model.bt_devices"
   ]
  },
  {
   "cell_type": "markdown",
   "metadata": {},
   "source": [
    "The keys of this dictionary is the address. "
   ]
  },
  {
   "cell_type": "markdown",
   "metadata": {},
   "source": []
  }
 ],
 "metadata": {
  "kernelspec": {
   "display_name": "Python 3",
   "language": "python",
   "name": "python3"
  },
  "language_info": {
   "codemirror_mode": {
    "name": "ipython",
    "version": 3
   },
   "file_extension": ".py",
   "mimetype": "text/x-python",
   "name": "python",
   "nbconvert_exporter": "python",
   "pygments_lexer": "ipython3",
   "version": "3.9.6"
  }
 },
 "nbformat": 4,
 "nbformat_minor": 2
}
