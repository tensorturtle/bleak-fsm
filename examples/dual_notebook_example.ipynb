{
 "cells": [
  {
   "cell_type": "markdown",
   "metadata": {},
   "source": [
    "# Dual BLE: Heart Rate + Sterzo Example"
   ]
  },
  {
   "cell_type": "markdown",
   "metadata": {},
   "source": [
    "This is an advanced demonstration that builds on [`single_hr_notebook_example.ipynb`](single_hr_notebook_example.ipynb) to demonstrate streaming from two devices simultaneously.\n",
    "\n",
    "This examples uses Bluetooth Low Energy (BLE) Heart Rate service and BLE Sterzo.\n",
    "+ It must support Bluetooth, not just ANT+\n",
    "+ The GATT Characteristic required is: `00002a37-0000-1000-8000-00805f9b34fb`\n",
    "+ You may use the [`bluetooth_dissect.py` tool](https://github.com/tensorturtle/bluetooth_dissect) to check if your device supports that GATT Characteristic.\n",
    "\n",
    "Example compatible Heart Rate devices:\n",
    "+ Magene H603\n",
    "+ Wahoo TICKR & TICKR Fit\n",
    "+ WHOOP 4.0 (Broadcast Heart Rate ON)\n",
    "+ and many more advertised as \"supports Bluetooth Heart Rate\"\n",
    "\n",
    "Compatible Sterzo device:\n",
    "+ [Elite Sterzo Smart Steering Plate](https://www.elite-it.com/en/products/home-trainers/ecosystem-accessories/sterzo-smart)"
   ]
  },
  {
   "cell_type": "code",
   "execution_count": 1,
   "metadata": {},
   "outputs": [
    {
     "name": "stdout",
     "output_type": "stream",
     "text": [
      "Defaulting to user installation because normal site-packages is not writeable\n",
      "\u001b[31mERROR: Could not open requirements file: [Errno 2] No such file or directory: '-q'\u001b[0m\n",
      "\u001b[33mWARNING: You are using pip version 21.2.4; however, version 24.0 is available.\n",
      "You should consider upgrading via the '/Library/Developer/CommandLineTools/usr/bin/python3 -m pip install --upgrade pip' command.\u001b[0m\n"
     ]
    }
   ],
   "source": [
    "!pip3 install -r -q requirements.txt"
   ]
  },
  {
   "cell_type": "markdown",
   "metadata": {},
   "source": [
    "# Setup"
   ]
  },
  {
   "cell_type": "code",
   "execution_count": 2,
   "metadata": {},
   "outputs": [],
   "source": [
    "import asyncio"
   ]
  },
  {
   "cell_type": "code",
   "execution_count": 3,
   "metadata": {},
   "outputs": [],
   "source": [
    "from bleak_fsm import machine, BleakModel"
   ]
  },
  {
   "cell_type": "code",
   "execution_count": 4,
   "metadata": {},
   "outputs": [],
   "source": [
    "hr_model = BleakModel()\n",
    "sterzo_model = BleakModel()\n",
    "\n",
    "machine.add_model(hr_model)\n",
    "machine.add_model(sterzo_model)"
   ]
  },
  {
   "cell_type": "markdown",
   "metadata": {},
   "source": [
    "Toggle this `USE_PYCYCLING` flag to see how this library can accomodate using standard, raw BLeakClient or Pycycling-wrapped BleakClient."
   ]
  },
  {
   "cell_type": "code",
   "execution_count": 5,
   "metadata": {},
   "outputs": [],
   "source": [
    "# Define callbacks\n",
    "\n",
    "from pycycling.heart_rate_service import HeartRateService\n",
    "hr_model.wrap = lambda client: HeartRateService(client)\n",
    "hr_model.enable_notifications = lambda client: client.enable_hr_measurement_notifications()\n",
    "hr_model.disable_notifications = lambda client: client.disable_hr_measurement_notifications()\n",
    "def handle_hr_measurement(value):\n",
    "    print(\"Using Pycycling wrapper around BleakClient\")\n",
    "    print(f\"Heart Rate: {value}\")\n",
    "hr_model.set_measurement_handler = lambda client: client.set_hr_measurement_handler(handle_hr_measurement)\n",
    "\n",
    "from pycycling.sterzo import Sterzo\n",
    "sterzo_model.wrap = lambda client: Sterzo(client)\n",
    "sterzo_model.enable_notifications = lambda client: client.enable_steering_measurement_notifications()\n",
    "sterzo_model.disable_notifications = lambda client: client.disable_steering_measurement_notifications()\n",
    "def handle_steer_measurement(value):\n",
    "    print(\"Using Pycycling wrapper around BleakClient\")\n",
    "    print(f\"Sterzo: {value}\")\n",
    "sterzo_model.set_measurement_handler = lambda client: client.set_steering_measurement_callback(handle_steer_measurement)\n"
   ]
  },
  {
   "cell_type": "markdown",
   "metadata": {},
   "source": [
    "# Usage"
   ]
  },
  {
   "cell_type": "markdown",
   "metadata": {},
   "source": [
    "We can use any of the two models to call `start_scan()`, and the results will be shared among them through their shared class variable."
   ]
  },
  {
   "cell_type": "code",
   "execution_count": 6,
   "metadata": {},
   "outputs": [
    {
     "data": {
      "text/plain": [
       "True"
      ]
     },
     "execution_count": 6,
     "metadata": {},
     "output_type": "execute_result"
    }
   ],
   "source": [
    "await BleakModel.start_scan()"
   ]
  },
  {
   "cell_type": "code",
   "execution_count": 7,
   "metadata": {},
   "outputs": [],
   "source": [
    "await asyncio.sleep(3)"
   ]
  },
  {
   "cell_type": "code",
   "execution_count": 8,
   "metadata": {},
   "outputs": [
    {
     "data": {
      "text/plain": [
       "True"
      ]
     },
     "execution_count": 8,
     "metadata": {},
     "output_type": "execute_result"
    }
   ],
   "source": [
    "await BleakModel.stop_scan()"
   ]
  },
  {
   "cell_type": "code",
   "execution_count": 9,
   "metadata": {},
   "outputs": [
    {
     "data": {
      "text/plain": [
       "{'14863C4D-BF71-4EA3-C6B4-98001056AAF8': (BLEDevice(14863C4D-BF71-4EA3-C6B4-98001056AAF8, WHOOPDEDOO),\n",
       "  AdvertisementData(local_name='WHOOPDEDOO', service_uuids=['0000180d-0000-1000-8000-00805f9b34fb'], rssi=-50)),\n",
       " '37DA5EA4-DB46-2D6D-9E8F-A7B7D4DBCCA4': (BLEDevice(37DA5EA4-DB46-2D6D-9E8F-A7B7D4DBCCA4, GiGA Genie 3_F70E),\n",
       "  AdvertisementData(local_name='GiGA Genie 3_F70E', manufacturer_data={65535: b'\\x00\\x15C\\x11\\xff\\xf0\\x11\\xe3D9\\xbb\\x12\\xac\\xdc2\\x14\\x00\\x00\\x00\\xfa\\xf7\\x0e\\xc5'}, rssi=-77)),\n",
       " '715D8603-DC4C-2994-C0CD-2BC5A93E0B38': (BLEDevice(715D8603-DC4C-2994-C0CD-2BC5A93E0B38, STERZO),\n",
       "  AdvertisementData(local_name='STERZO', service_uuids=['347b0001-7635-408b-8918-8ff3949ce592'], rssi=-74)),\n",
       " '9E41F52B-BDEF-3C85-F51D-E0DE23B7CB41': (BLEDevice(9E41F52B-BDEF-3C85-F51D-E0DE23B7CB41, Study),\n",
       "  AdvertisementData(manufacturer_data={76: b'\\x0f\\x05\\x90\\x00\\xa5=\\x14\\x10\\x02-\\x04'}, tx_power=6, rssi=-52)),\n",
       " 'DC2343A7-C46E-E1BB-30E9-BC6E274B4A39': (BLEDevice(DC2343A7-C46E-E1BB-30E9-BC6E274B4A39, Fast Fred),\n",
       "  AdvertisementData(manufacturer_data={76: b'\\x10\\x06\\r\\x1d\\x1d\\xb8]H'}, tx_power=12, rssi=-58)),\n",
       " 'C01DDA98-E201-495D-0D2D-AF97315B1112': (BLEDevice(C01DDA98-E201-495D-0D2D-AF97315B1112, None),\n",
       "  AdvertisementData(manufacturer_data={76: b'\\t\\x08\\x13J\\xac\\x1e\\x01Q\\x1bX\\x13\\x08\\n\\x18\\x98F\\x8d\\x9a\\xdd\\x00'}, rssi=-44)),\n",
       " '3FEC3389-7F84-AFC4-6EF1-BDE6CD37F862': (BLEDevice(3FEC3389-7F84-AFC4-6EF1-BDE6CD37F862, Green Apple),\n",
       "  AdvertisementData(manufacturer_data={76: b'\\x10\\x07r\\x1f7;M\\xdaH'}, tx_power=7, rssi=-42)),\n",
       " '40C589D7-DCDD-3D46-CF1E-02F8E7A03FFA': (BLEDevice(40C589D7-DCDD-3D46-CF1E-02F8E7A03FFA, None),\n",
       "  AdvertisementData(manufacturer_data={76: b'\\x12\\x02\\x00\\x00'}, rssi=-54)),\n",
       " '70CA7246-98A5-6251-8A2F-2F81CE563FE1': (BLEDevice(70CA7246-98A5-6251-8A2F-2F81CE563FE1, None),\n",
       "  AdvertisementData(manufacturer_data={76: b'\\x16\\x08\\x00\\xbb\\xc6\\xc8N\\xc0\\xb2$'}, rssi=-43)),\n",
       " '4451F50C-EFE4-3F54-3C3E-0FCC5759CCD9': (BLEDevice(4451F50C-EFE4-3F54-3C3E-0FCC5759CCD9, None),\n",
       "  AdvertisementData(manufacturer_data={76: b'\\x12\\x02\\x00\\x03'}, rssi=-43)),\n",
       " 'F4E69182-CBA0-EEA8-92B3-731B8688023B': (BLEDevice(F4E69182-CBA0-EEA8-92B3-731B8688023B, None),\n",
       "  AdvertisementData(manufacturer_data={6: b'\\x01\\t \"\\xfa\\x92\\xf3\\xa2\\xacP\\x16^UqE\\x8ak]\\xd2{2\\xc0\\x8c\\xab\\xf6\\xf1\\xf2'}, rssi=-79))}"
      ]
     },
     "execution_count": 9,
     "metadata": {},
     "output_type": "execute_result"
    }
   ],
   "source": [
    "BleakModel.bt_devices"
   ]
  },
  {
   "cell_type": "markdown",
   "metadata": {},
   "source": [
    "Copy-and-paste the key corresponding to the device that you want to connect to:"
   ]
  },
  {
   "cell_type": "code",
   "execution_count": 10,
   "metadata": {},
   "outputs": [],
   "source": [
    "hr_target_address = \"14863C4D-BF71-4EA3-C6B4-98001056AAF8\"\n",
    "sterzo_target_address = \"715D8603-DC4C-2994-C0CD-2BC5A93E0B38\""
   ]
  },
  {
   "cell_type": "code",
   "execution_count": 11,
   "metadata": {},
   "outputs": [
    {
     "data": {
      "text/plain": [
       "'Init'"
      ]
     },
     "execution_count": 11,
     "metadata": {},
     "output_type": "execute_result"
    }
   ],
   "source": [
    "hr_model.state"
   ]
  },
  {
   "cell_type": "code",
   "execution_count": 12,
   "metadata": {},
   "outputs": [
    {
     "data": {
      "text/plain": [
       "'Init'"
      ]
     },
     "execution_count": 12,
     "metadata": {},
     "output_type": "execute_result"
    }
   ],
   "source": [
    "sterzo_model.state"
   ]
  },
  {
   "cell_type": "code",
   "execution_count": 13,
   "metadata": {},
   "outputs": [
    {
     "data": {
      "text/plain": [
       "True"
      ]
     },
     "execution_count": 13,
     "metadata": {},
     "output_type": "execute_result"
    }
   ],
   "source": [
    "await hr_model.set_target(hr_target_address)\n",
    "await sterzo_model.set_target(sterzo_target_address)"
   ]
  },
  {
   "cell_type": "code",
   "execution_count": 14,
   "metadata": {},
   "outputs": [
    {
     "data": {
      "text/plain": [
       "'TargetSet'"
      ]
     },
     "execution_count": 14,
     "metadata": {},
     "output_type": "execute_result"
    }
   ],
   "source": [
    "hr_model.state"
   ]
  },
  {
   "cell_type": "code",
   "execution_count": 15,
   "metadata": {},
   "outputs": [
    {
     "data": {
      "text/plain": [
       "'TargetSet'"
      ]
     },
     "execution_count": 15,
     "metadata": {},
     "output_type": "execute_result"
    }
   ],
   "source": [
    "sterzo_model.state"
   ]
  },
  {
   "cell_type": "code",
   "execution_count": 16,
   "metadata": {},
   "outputs": [
    {
     "data": {
      "text/plain": [
       "True"
      ]
     },
     "execution_count": 16,
     "metadata": {},
     "output_type": "execute_result"
    }
   ],
   "source": [
    "await hr_model.connect()"
   ]
  },
  {
   "cell_type": "code",
   "execution_count": 17,
   "metadata": {},
   "outputs": [
    {
     "data": {
      "text/plain": [
       "True"
      ]
     },
     "execution_count": 17,
     "metadata": {},
     "output_type": "execute_result"
    }
   ],
   "source": [
    "await sterzo_model.connect()"
   ]
  },
  {
   "cell_type": "markdown",
   "metadata": {},
   "source": [
    "Sidebar: Note how the above cell returns `True`. All transition methods on `model` returns True if the transition was successful. Therefore you may explicitly define happy-path and exception-path in different ways.\n",
    "\n",
    "For debugging,\n",
    "```python\n",
    "assert await model.connect(), \"Model failed to connect\"\n",
    "```\n",
    "\n",
    "Or, more properly check the return value\n",
    "```python\n",
    "success = await model.connect()\n",
    "if not succcess:\n",
    "    await model.clean_up() # this catch-all method brings the model back to \"Init\"\n",
    "    raise Exception(\"Failed to connect\")\n",
    "```\n",
    "\n",
    "Or, we can check the `.state` afterwards, like so:"
   ]
  },
  {
   "cell_type": "code",
   "execution_count": 18,
   "metadata": {},
   "outputs": [],
   "source": [
    "if hr_model.state != \"Connected\" or sterzo_model.state != \"Connected\":\n",
    "    raise Exception(\"Failed to connect. If the device was not properly disconnected last time, restart either the device or bluetooth adapter\")"
   ]
  },
  {
   "cell_type": "markdown",
   "metadata": {},
   "source": [
    "In order to receive/send actual data from/to the connected device, we need to start a stream.\n",
    "\n",
    "This will run forever until `model.disconnect()` is called, so for now let's sleep for several seconds and then call that."
   ]
  },
  {
   "cell_type": "code",
   "execution_count": 19,
   "metadata": {},
   "outputs": [
    {
     "data": {
      "text/plain": [
       "True"
      ]
     },
     "execution_count": 19,
     "metadata": {},
     "output_type": "execute_result"
    }
   ],
   "source": [
    "await hr_model.stream()"
   ]
  },
  {
   "cell_type": "code",
   "execution_count": 20,
   "metadata": {},
   "outputs": [
    {
     "data": {
      "text/plain": [
       "True"
      ]
     },
     "execution_count": 20,
     "metadata": {},
     "output_type": "execute_result"
    }
   ],
   "source": [
    "await sterzo_model.stream()"
   ]
  },
  {
   "cell_type": "code",
   "execution_count": 21,
   "metadata": {},
   "outputs": [
    {
     "name": "stdout",
     "output_type": "stream",
     "text": [
      "Using Pycycling wrapper around BleakClient\n",
      "Sterzo: nan\n",
      "Using Pycycling wrapper around BleakClient\n",
      "Sterzo: 0.736236572265625\n",
      "Using Pycycling wrapper around BleakClient\n",
      "Sterzo: 0.9089202880859375\n",
      "Using Pycycling wrapper around BleakClient\n",
      "Sterzo: 0.8070755004882812\n",
      "Using Pycycling wrapper around BleakClient\n",
      "Sterzo: 1.2215652465820312\n",
      "Using Pycycling wrapper around BleakClient\n",
      "Sterzo: 0.7060928344726562\n",
      "Using Pycycling wrapper around BleakClient\n",
      "Sterzo: 0.492279052734375\n",
      "Using Pycycling wrapper around BleakClient\n",
      "Sterzo: 0.9089202880859375\n",
      "Using Pycycling wrapper around BleakClient\n",
      "Sterzo: 0.8070755004882812\n",
      "Using Pycycling wrapper around BleakClient\n",
      "Sterzo: 0.9793319702148438\n",
      "Using Pycycling wrapper around BleakClient\n",
      "Sterzo: 0.46384429931640625\n",
      "Using Pycycling wrapper around BleakClient\n",
      "Sterzo: 0.8774948120117188\n",
      "Using Pycycling wrapper around BleakClient\n",
      "Sterzo: 0.8774948120117188\n",
      "Using Pycycling wrapper around BleakClient\n",
      "Sterzo: 0.5351104736328125\n",
      "Using Pycycling wrapper around BleakClient\n",
      "Heart Rate: HeartRateMeasurement(sensor_contact=False, bpm=75, rr_interval=[488, 488], energy_expended=None)\n",
      "Using Pycycling wrapper around BleakClient\n",
      "Sterzo: 0.7060928344726562\n",
      "Using Pycycling wrapper around BleakClient\n",
      "Sterzo: 0.6352462768554688\n",
      "Using Pycycling wrapper around BleakClient\n",
      "Sterzo: 0.736236572265625\n",
      "Using Pycycling wrapper around BleakClient\n",
      "Sterzo: 0.8774948120117188\n",
      "Using Pycycling wrapper around BleakClient\n",
      "Sterzo: 0.6352462768554688\n",
      "Using Pycycling wrapper around BleakClient\n",
      "Sterzo: 0.6352462768554688\n",
      "Using Pycycling wrapper around BleakClient\n",
      "Sterzo: 0.736236572265625\n",
      "Using Pycycling wrapper around BleakClient\n",
      "Sterzo: 0.9474945068359375\n",
      "Using Pycycling wrapper around BleakClient\n",
      "Sterzo: 0.9852828979492188\n",
      "Using Pycycling wrapper around BleakClient\n",
      "Sterzo: 0.9474945068359375\n",
      "Using Pycycling wrapper around BleakClient\n",
      "Sterzo: 0.247467041015625\n",
      "Using Pycycling wrapper around BleakClient\n",
      "Sterzo: 0.6649703979492188\n",
      "Using Pycycling wrapper around BleakClient\n",
      "Sterzo: 0.6352462768554688\n",
      "Using Pycycling wrapper around BleakClient\n",
      "Sterzo: 0.9793319702148438\n",
      "Using Pycycling wrapper around BleakClient\n",
      "Sterzo: 1.152008056640625\n",
      "Using Pycycling wrapper around BleakClient\n",
      "Sterzo: 0.2207489013671875\n",
      "Using Pycycling wrapper around BleakClient\n",
      "Sterzo: 1.04931640625\n",
      "Using Pycycling wrapper around BleakClient\n",
      "Sterzo: 0.8774948120117188\n",
      "Using Pycycling wrapper around BleakClient\n",
      "Sterzo: 1.04931640625\n",
      "Using Pycycling wrapper around BleakClient\n",
      "Sterzo: 0.5639801025390625\n",
      "Using Pycycling wrapper around BleakClient\n",
      "Sterzo: 1.04931640625\n",
      "Using Pycycling wrapper around BleakClient\n",
      "Sterzo: 0.9793319702148438\n",
      "Using Pycycling wrapper around BleakClient\n",
      "Sterzo: 0.6763763427734375\n",
      "Using Pycycling wrapper around BleakClient\n",
      "Sterzo: 0.736236572265625\n",
      "Using Pycycling wrapper around BleakClient\n",
      "Sterzo: 0.9474945068359375\n",
      "Using Pycycling wrapper around BleakClient\n",
      "Sterzo: 0.46384429931640625\n",
      "Using Pycycling wrapper around BleakClient\n",
      "Sterzo: 0.46384429931640625\n",
      "Using Pycycling wrapper around BleakClient\n",
      "Heart Rate: HeartRateMeasurement(sensor_contact=False, bpm=75, rr_interval=[488], energy_expended=None)\n",
      "Using Pycycling wrapper around BleakClient\n",
      "Sterzo: 0.7060928344726562\n",
      "Using Pycycling wrapper around BleakClient\n",
      "Sterzo: 0.8070755004882812\n",
      "Using Pycycling wrapper around BleakClient\n",
      "Sterzo: 0.6352462768554688\n",
      "Using Pycycling wrapper around BleakClient\n",
      "Sterzo: 0.9474945068359375\n",
      "Using Pycycling wrapper around BleakClient\n",
      "Sterzo: 1.0820388793945312\n",
      "Using Pycycling wrapper around BleakClient\n",
      "Sterzo: 0.9089202880859375\n",
      "Using Pycycling wrapper around BleakClient\n",
      "Sterzo: 0.9793319702148438\n",
      "Using Pycycling wrapper around BleakClient\n",
      "Sterzo: 0.43581390380859375\n",
      "Using Pycycling wrapper around BleakClient\n",
      "Sterzo: 0.736236572265625\n",
      "Using Pycycling wrapper around BleakClient\n",
      "Sterzo: 1.39422607421875\n",
      "Using Pycycling wrapper around BleakClient\n",
      "Sterzo: 0.8774948120117188\n",
      "Using Pycycling wrapper around BleakClient\n",
      "Sterzo: 0.5351104736328125\n",
      "Using Pycycling wrapper around BleakClient\n",
      "Sterzo: 0.7060928344726562\n",
      "Using Pycycling wrapper around BleakClient\n",
      "Sterzo: 0.7765121459960938\n",
      "Using Pycycling wrapper around BleakClient\n",
      "Sterzo: 0.6352462768554688\n",
      "Using Pycycling wrapper around BleakClient\n",
      "Sterzo: 1.04931640625\n",
      "Using Pycycling wrapper around BleakClient\n",
      "Sterzo: 0.8070755004882812\n",
      "Using Pycycling wrapper around BleakClient\n",
      "Sterzo: 1.0116424560546875\n",
      "Using Pycycling wrapper around BleakClient\n",
      "Sterzo: 0.6763763427734375\n",
      "Using Pycycling wrapper around BleakClient\n",
      "Sterzo: 0.8774948120117188\n",
      "Using Pycycling wrapper around BleakClient\n",
      "Sterzo: 0.8465118408203125\n",
      "Using Pycycling wrapper around BleakClient\n",
      "Sterzo: 0.6352462768554688\n",
      "Using Pycycling wrapper around BleakClient\n",
      "Sterzo: 0.5351104736328125\n",
      "Using Pycycling wrapper around BleakClient\n",
      "Sterzo: 1.0862350463867188\n",
      "Using Pycycling wrapper around BleakClient\n",
      "Sterzo: 0.7060928344726562\n",
      "Using Pycycling wrapper around BleakClient\n",
      "Sterzo: 0.46384429931640625\n",
      "Using Pycycling wrapper around BleakClient\n",
      "Sterzo: 0.247467041015625\n",
      "Using Pycycling wrapper around BleakClient\n",
      "Sterzo: 0.5639801025390625\n",
      "Using Pycycling wrapper around BleakClient\n",
      "Sterzo: 0.7060928344726562\n",
      "Using Pycycling wrapper around BleakClient\n",
      "Sterzo: 1.1188888549804688\n",
      "Using Pycycling wrapper around BleakClient\n",
      "Sterzo: 0.6352462768554688\n",
      "Using Pycycling wrapper around BleakClient\n",
      "Heart Rate: HeartRateMeasurement(sensor_contact=False, bpm=76, rr_interval=[809, 767], energy_expended=None)\n",
      "Using Pycycling wrapper around BleakClient\n",
      "Sterzo: 0.6763763427734375\n",
      "Using Pycycling wrapper around BleakClient\n",
      "Sterzo: 0.39215087890625\n",
      "Using Pycycling wrapper around BleakClient\n",
      "Sterzo: 0.7060928344726562\n",
      "Using Pycycling wrapper around BleakClient\n",
      "Sterzo: 1.04931640625\n",
      "Using Pycycling wrapper around BleakClient\n",
      "Sterzo: 0.50665283203125\n",
      "Using Pycycling wrapper around BleakClient\n",
      "Sterzo: 0.4201507568359375\n",
      "Using Pycycling wrapper around BleakClient\n",
      "Sterzo: 0.8774948120117188\n",
      "Using Pycycling wrapper around BleakClient\n",
      "Sterzo: 0.5351104736328125\n",
      "Using Pycycling wrapper around BleakClient\n",
      "Sterzo: 0.6352462768554688\n",
      "Using Pycycling wrapper around BleakClient\n",
      "Sterzo: 1.2215652465820312\n",
      "Using Pycycling wrapper around BleakClient\n",
      "Sterzo: 0.9089202880859375\n",
      "Using Pycycling wrapper around BleakClient\n",
      "Sterzo: 0.8070755004882812\n",
      "Using Pycycling wrapper around BleakClient\n",
      "Sterzo: 0.5639801025390625\n",
      "Using Pycycling wrapper around BleakClient\n",
      "Sterzo: 0.8070755004882812\n",
      "Using Pycycling wrapper around BleakClient\n",
      "Sterzo: 0.6352462768554688\n",
      "Using Pycycling wrapper around BleakClient\n",
      "Sterzo: 0.9474945068359375\n",
      "Using Pycycling wrapper around BleakClient\n",
      "Sterzo: 0.736236572265625\n",
      "Using Pycycling wrapper around BleakClient\n",
      "Sterzo: 0.6352462768554688\n",
      "Using Pycycling wrapper around BleakClient\n",
      "Sterzo: 0.7060928344726562\n",
      "Using Pycycling wrapper around BleakClient\n",
      "Sterzo: 0.8070755004882812\n",
      "Using Pycycling wrapper around BleakClient\n",
      "Sterzo: 0.5351104736328125\n",
      "Using Pycycling wrapper around BleakClient\n",
      "Sterzo: 0.6352462768554688\n",
      "Using Pycycling wrapper around BleakClient\n",
      "Sterzo: 0.6059494018554688\n",
      "Using Pycycling wrapper around BleakClient\n",
      "Sterzo: 1.152008056640625\n",
      "Using Pycycling wrapper around BleakClient\n",
      "Sterzo: 0.39215087890625\n",
      "Using Pycycling wrapper around BleakClient\n",
      "Sterzo: 0.5639801025390625\n",
      "Using Pycycling wrapper around BleakClient\n",
      "Sterzo: 0.5639801025390625\n",
      "Using Pycycling wrapper around BleakClient\n",
      "Sterzo: 0.6352462768554688\n",
      "Using Pycycling wrapper around BleakClient\n",
      "Sterzo: 0.8070755004882812\n",
      "Using Pycycling wrapper around BleakClient\n",
      "Sterzo: 1.0170669555664062\n",
      "Using Pycycling wrapper around BleakClient\n",
      "Heart Rate: HeartRateMeasurement(sensor_contact=False, bpm=76, rr_interval=[860], energy_expended=None)\n",
      "Using Pycycling wrapper around BleakClient\n",
      "Sterzo: 1.0170669555664062\n",
      "Using Pycycling wrapper around BleakClient\n",
      "Sterzo: 0.9089202880859375\n",
      "Using Pycycling wrapper around BleakClient\n",
      "Sterzo: 0.5351104736328125\n",
      "Using Pycycling wrapper around BleakClient\n",
      "Sterzo: 0.5351104736328125\n",
      "Using Pycycling wrapper around BleakClient\n",
      "Sterzo: 0.736236572265625\n",
      "Using Pycycling wrapper around BleakClient\n",
      "Sterzo: 0.8070755004882812\n",
      "Using Pycycling wrapper around BleakClient\n",
      "Sterzo: 0.5639801025390625\n",
      "Using Pycycling wrapper around BleakClient\n",
      "Sterzo: 0.2928619384765625\n",
      "Using Pycycling wrapper around BleakClient\n",
      "Sterzo: 0.9793319702148438\n",
      "Using Pycycling wrapper around BleakClient\n",
      "Sterzo: 1.0116424560546875\n",
      "Using Pycycling wrapper around BleakClient\n",
      "Sterzo: 0.8380889892578125\n",
      "Using Pycycling wrapper around BleakClient\n",
      "Sterzo: 0.6649703979492188\n",
      "Using Pycycling wrapper around BleakClient\n",
      "Sterzo: 1.04931640625\n",
      "Using Pycycling wrapper around BleakClient\n",
      "Sterzo: 0.6649703979492188\n",
      "Using Pycycling wrapper around BleakClient\n",
      "Sterzo: 0.736236572265625\n",
      "Using Pycycling wrapper around BleakClient\n",
      "Sterzo: 0.5639801025390625\n",
      "Using Pycycling wrapper around BleakClient\n",
      "Sterzo: 0.5351104736328125\n",
      "Using Pycycling wrapper around BleakClient\n",
      "Sterzo: 0.8070755004882812\n",
      "Using Pycycling wrapper around BleakClient\n",
      "Sterzo: 1.1880340576171875\n",
      "Using Pycycling wrapper around BleakClient\n",
      "Sterzo: 0.4201507568359375\n",
      "Using Pycycling wrapper around BleakClient\n",
      "Sterzo: 0.9474945068359375\n",
      "Using Pycycling wrapper around BleakClient\n",
      "Sterzo: 1.0820388793945312\n",
      "Using Pycycling wrapper around BleakClient\n",
      "Sterzo: 1.6039199829101562\n",
      "Using Pycycling wrapper around BleakClient\n",
      "Sterzo: 1.462921142578125\n",
      "Using Pycycling wrapper around BleakClient\n",
      "Sterzo: 0.7060928344726562\n",
      "Using Pycycling wrapper around BleakClient\n",
      "Sterzo: 0.6352462768554688\n",
      "Using Pycycling wrapper around BleakClient\n",
      "Sterzo: 1.04931640625\n",
      "Using Pycycling wrapper around BleakClient\n",
      "Sterzo: 0.6352462768554688\n",
      "Using Pycycling wrapper around BleakClient\n",
      "Sterzo: 1.1549911499023438\n",
      "Using Pycycling wrapper around BleakClient\n",
      "Sterzo: 0.736236572265625\n",
      "Using Pycycling wrapper around BleakClient\n",
      "Sterzo: 0.46384429931640625\n",
      "Using Pycycling wrapper around BleakClient\n",
      "Heart Rate: HeartRateMeasurement(sensor_contact=False, bpm=76, rr_interval=[823], energy_expended=None)\n",
      "Using Pycycling wrapper around BleakClient\n",
      "Sterzo: 0.736236572265625\n",
      "Using Pycycling wrapper around BleakClient\n",
      "Sterzo: 0.9474945068359375\n",
      "Using Pycycling wrapper around BleakClient\n",
      "Sterzo: 0.7060928344726562\n",
      "Using Pycycling wrapper around BleakClient\n",
      "Sterzo: 1.2215652465820312\n",
      "Using Pycycling wrapper around BleakClient\n",
      "Sterzo: 1.1188888549804688\n",
      "Using Pycycling wrapper around BleakClient\n",
      "Sterzo: 0.8070755004882812\n",
      "Using Pycycling wrapper around BleakClient\n",
      "Sterzo: 0.8774948120117188\n",
      "Using Pycycling wrapper around BleakClient\n",
      "Sterzo: 0.6352462768554688\n",
      "Using Pycycling wrapper around BleakClient\n",
      "Sterzo: 0.39215087890625\n",
      "Using Pycycling wrapper around BleakClient\n",
      "Sterzo: 0.736236572265625\n",
      "Using Pycycling wrapper around BleakClient\n",
      "Sterzo: 0.6649703979492188\n",
      "Using Pycycling wrapper around BleakClient\n",
      "Sterzo: 0.7060928344726562\n",
      "Using Pycycling wrapper around BleakClient\n",
      "Sterzo: 1.152008056640625\n"
     ]
    }
   ],
   "source": [
    "await asyncio.sleep(10)"
   ]
  },
  {
   "cell_type": "markdown",
   "metadata": {},
   "source": [
    "Bleak-FSM encapsulates a kind of bug in Bleak, where it is not possible to re-use a connected client. \n",
    "\n",
    "That is, we shouldn't step back to \"Connected\" state from \"Streaming\", because we can't go from \"Connected\" back to \"Streaming\".\n",
    "\n",
    "Instead we need to go back two steps to \"TargetSet\", re-establish a connection, and then we can stream again.\n",
    "\n",
    "Bleak-FSM enforces this behavior for your own safety.\n",
    "There exists not method for you to even try to go from \"Streaming\" to \"Connected\".\n"
   ]
  },
  {
   "cell_type": "code",
   "execution_count": 22,
   "metadata": {},
   "outputs": [
    {
     "name": "stdout",
     "output_type": "stream",
     "text": [
      "Using Pycycling wrapper around BleakClient\n",
      "Sterzo: 0.8070755004882812\n",
      "Using Pycycling wrapper around BleakClient\n",
      "Sterzo: 0.39215087890625\n",
      "Using Pycycling wrapper around BleakClient\n",
      "Sterzo: 0.6352462768554688\n",
      "Using Pycycling wrapper around BleakClient\n",
      "Sterzo: 1.04931640625\n",
      "Using Pycycling wrapper around BleakClient\n",
      "Sterzo: 0.5639801025390625\n",
      "Using Pycycling wrapper around BleakClient\n",
      "Sterzo: 0.5351104736328125\n",
      "Using Pycycling wrapper around BleakClient\n",
      "Sterzo: 0.8774948120117188\n",
      "Using Pycycling wrapper around BleakClient\n",
      "Sterzo: 1.2215652465820312\n",
      "Using Pycycling wrapper around BleakClient\n",
      "Sterzo: 1.0170669555664062\n",
      "Using Pycycling wrapper around BleakClient\n",
      "Sterzo: 1.1880340576171875\n",
      "Using Pycycling wrapper around BleakClient\n",
      "Sterzo: 0.6352462768554688\n",
      "Using Pycycling wrapper around BleakClient\n",
      "Sterzo: 0.8380889892578125\n",
      "Using Pycycling wrapper around BleakClient\n",
      "Sterzo: 0.39215087890625\n",
      "Using Pycycling wrapper around BleakClient\n",
      "Sterzo: 0.9089202880859375\n",
      "Using Pycycling wrapper around BleakClient\n",
      "Sterzo: 0.6352462768554688\n",
      "Using Pycycling wrapper around BleakClient\n",
      "Sterzo: 0.9793319702148438\n",
      "Using Pycycling wrapper around BleakClient\n",
      "Sterzo: 1.152008056640625\n",
      "Using Pycycling wrapper around BleakClient\n",
      "Sterzo: 1.04931640625\n",
      "Using Pycycling wrapper around BleakClient\n",
      "Sterzo: 0.4201507568359375\n",
      "Using Pycycling wrapper around BleakClient\n",
      "Sterzo: 0.8070755004882812\n",
      "Using Pycycling wrapper around BleakClient\n",
      "Sterzo: 0.9474945068359375\n",
      "Using Pycycling wrapper around BleakClient\n",
      "Sterzo: 0.8774948120117188\n",
      "Using Pycycling wrapper around BleakClient\n",
      "Sterzo: 1.04931640625\n",
      "Using Pycycling wrapper around BleakClient\n",
      "Sterzo: 0.9793319702148438\n",
      "Using Pycycling wrapper around BleakClient\n",
      "Sterzo: 0.46384429931640625\n",
      "Using Pycycling wrapper around BleakClient\n",
      "Sterzo: 0.9793319702148438\n",
      "Using Pycycling wrapper around BleakClient\n",
      "Sterzo: 1.6725616455078125\n",
      "Using Pycycling wrapper around BleakClient\n",
      "Sterzo: 0.9089202880859375\n",
      "Using Pycycling wrapper around BleakClient\n",
      "Sterzo: 0.122314453125\n",
      "Using Pycycling wrapper around BleakClient\n",
      "Sterzo: 0.6352462768554688\n",
      "Using Pycycling wrapper around BleakClient\n",
      "Sterzo: 0.9474945068359375\n",
      "Using Pycycling wrapper around BleakClient\n",
      "Sterzo: 1.04931640625\n",
      "Using Pycycling wrapper around BleakClient\n",
      "Sterzo: 0.6352462768554688\n",
      "Using Pycycling wrapper around BleakClient\n",
      "Sterzo: 0.8774948120117188\n",
      "Using Pycycling wrapper around BleakClient\n",
      "Sterzo: 0.492279052734375\n",
      "Using Pycycling wrapper around BleakClient\n",
      "Sterzo: 1.1188888549804688\n",
      "Using Pycycling wrapper around BleakClient\n",
      "Sterzo: 0.3200225830078125\n",
      "Using Pycycling wrapper around BleakClient\n",
      "Sterzo: 0.5639801025390625\n",
      "Using Pycycling wrapper around BleakClient\n",
      "Sterzo: 0.9474945068359375\n",
      "Using Pycycling wrapper around BleakClient\n",
      "Sterzo: 0.3475799560546875\n",
      "Using Pycycling wrapper around BleakClient\n",
      "Sterzo: 0.736236572265625\n",
      "Using Pycycling wrapper around BleakClient\n",
      "Sterzo: 0.9793319702148438\n",
      "Using Pycycling wrapper around BleakClient\n",
      "Sterzo: 0.5639801025390625\n",
      "Using Pycycling wrapper around BleakClient\n",
      "Sterzo: 0.736236572265625\n",
      "Using Pycycling wrapper around BleakClient\n",
      "Sterzo: 0.9474945068359375\n",
      "Using Pycycling wrapper around BleakClient\n",
      "Sterzo: 0.9793319702148438\n",
      "Using Pycycling wrapper around BleakClient\n",
      "Sterzo: 0.8774948120117188\n",
      "Using Pycycling wrapper around BleakClient\n",
      "Sterzo: 0.8070755004882812\n"
     ]
    },
    {
     "data": {
      "text/plain": [
       "True"
      ]
     },
     "execution_count": 22,
     "metadata": {},
     "output_type": "execute_result"
    }
   ],
   "source": [
    "await hr_model.clean_up()"
   ]
  },
  {
   "cell_type": "code",
   "execution_count": 23,
   "metadata": {},
   "outputs": [
    {
     "data": {
      "text/plain": [
       "True"
      ]
     },
     "execution_count": 23,
     "metadata": {},
     "output_type": "execute_result"
    }
   ],
   "source": [
    "await sterzo_model.clean_up()"
   ]
  },
  {
   "cell_type": "markdown",
   "metadata": {},
   "source": [
    "Whenever the application terminates, or otherwise no longer needs to communicate with the bluetooth device, it should always call `disconnect()` on the model. The model state should always e either \"TargetSet\" or \"Init\"."
   ]
  }
 ],
 "metadata": {
  "kernelspec": {
   "display_name": "Python 3",
   "language": "python",
   "name": "python3"
  },
  "language_info": {
   "codemirror_mode": {
    "name": "ipython",
    "version": 3
   },
   "file_extension": ".py",
   "mimetype": "text/x-python",
   "name": "python",
   "nbconvert_exporter": "python",
   "pygments_lexer": "ipython3",
   "version": "3.9.6"
  }
 },
 "nbformat": 4,
 "nbformat_minor": 2
}
