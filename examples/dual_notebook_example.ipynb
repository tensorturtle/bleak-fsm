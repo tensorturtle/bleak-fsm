{
 "cells": [
  {
   "cell_type": "markdown",
   "metadata": {},
   "source": [
    "# Dual BLE: Heart Rate + Sterzo Example"
   ]
  },
  {
   "cell_type": "markdown",
   "metadata": {},
   "source": [
    "This is an advanced demonstration that builds on [`single_hr_notebook_example.ipynb`](single_hr_notebook_example.ipynb) to demonstrate streaming from two devices simultaneously.\n",
    "\n",
    "This examples uses Bluetooth Low Energy (BLE) Heart Rate service and BLE Sterzo.\n",
    "+ It must support Bluetooth, not just ANT+\n",
    "+ The GATT Characteristic required is: `00002a37-0000-1000-8000-00805f9b34fb`\n",
    "+ You may use the [`bluetooth_dissect.py` tool](https://github.com/tensorturtle/bluetooth_dissect) to check if your device supports that GATT Characteristic.\n",
    "\n",
    "Example compatible Heart Rate devices:\n",
    "+ Magene H603\n",
    "+ Wahoo TICKR & TICKR Fit\n",
    "+ WHOOP 4.0 (Broadcast Heart Rate ON)\n",
    "+ and many more advertised as \"supports Bluetooth Heart Rate\"\n",
    "\n",
    "Compatible Sterzo device:\n",
    "+ [Elite Sterzo Smart Steering Plate](https://www.elite-it.com/en/products/home-trainers/ecosystem-accessories/sterzo-smart)"
   ]
  },
  {
   "cell_type": "code",
   "execution_count": null,
   "metadata": {},
   "outputs": [],
   "source": [
    "!pip3 install -r -q requirements.txt"
   ]
  },
  {
   "cell_type": "markdown",
   "metadata": {},
   "source": [
    "# Setup"
   ]
  },
  {
   "cell_type": "code",
   "execution_count": null,
   "metadata": {},
   "outputs": [],
   "source": [
    "import asyncio"
   ]
  },
  {
   "cell_type": "code",
   "execution_count": null,
   "metadata": {},
   "outputs": [],
   "source": [
    "from bleak_fsm import machine, BleakModel"
   ]
  },
  {
   "cell_type": "code",
   "execution_count": null,
   "metadata": {},
   "outputs": [],
   "source": [
    "hr_model = BleakModel()\n",
    "sterzo_model = BleakModel()\n",
    "\n",
    "machine.add_model(hr_model)\n",
    "machine.add_model(sterzo_model)"
   ]
  },
  {
   "cell_type": "markdown",
   "metadata": {},
   "source": [
    "Toggle this `USE_PYCYCLING` flag to see how this library can accomodate using standard, raw BLeakClient or Pycycling-wrapped BleakClient."
   ]
  },
  {
   "cell_type": "code",
   "execution_count": null,
   "metadata": {},
   "outputs": [],
   "source": [
    "# Define callbacks\n",
    "\n",
    "from pycycling.heart_rate_service import HeartRateService\n",
    "hr_model.wrap = lambda client: HeartRateService(client)\n",
    "hr_model.enable_notifications = lambda client: client.enable_hr_measurement_notifications()\n",
    "hr_model.disable_notifications = lambda client: client.disable_hr_measurement_notifications()\n",
    "def handle_hr_measurement(value):\n",
    "    print(\"Using Pycycling wrapper around BleakClient\")\n",
    "    print(f\"Heart Rate: {value}\")\n",
    "hr_model.set_measurement_handler = lambda client: client.set_hr_measurement_handler(handle_hr_measurement)\n",
    "\n",
    "from pycycling.sterzo import Sterzo\n",
    "sterzo_model.wrap = lambda client: Sterzo(client)\n",
    "sterzo_model.enable_notifications = lambda client: client.enable_steering_measurement_notifications()\n",
    "sterzo_model.disable_notifications = lambda client: client.disable_steering_measurement_notifications()\n",
    "def handle_steer_measurement(value):\n",
    "    print(\"Using Pycycling wrapper around BleakClient\")\n",
    "    print(f\"Sterzo: {value}\")\n",
    "sterzo_model.set_measurement_handler = lambda client: client.set_steering_measurement_callback(handle_steer_measurement)\n"
   ]
  },
  {
   "cell_type": "markdown",
   "metadata": {},
   "source": [
    "# Usage"
   ]
  },
  {
   "cell_type": "markdown",
   "metadata": {},
   "source": [
    "We can use any of the two models to call `start_scan()`, and the results will be shared among them through their shared class variable."
   ]
  },
  {
   "cell_type": "code",
   "execution_count": null,
   "metadata": {},
   "outputs": [],
   "source": [
    "await BleakModel.start_scan()"
   ]
  },
  {
   "cell_type": "code",
   "execution_count": null,
   "metadata": {},
   "outputs": [],
   "source": [
    "await asyncio.sleep(3)"
   ]
  },
  {
   "cell_type": "code",
   "execution_count": null,
   "metadata": {},
   "outputs": [],
   "source": [
    "await BleakModel.stop_scan()"
   ]
  },
  {
   "cell_type": "code",
   "execution_count": null,
   "metadata": {},
   "outputs": [],
   "source": [
    "BleakModel.bt_devices"
   ]
  },
  {
   "cell_type": "markdown",
   "metadata": {},
   "source": [
    "Copy-and-paste the key corresponding to the device that you want to connect to:"
   ]
  },
  {
   "cell_type": "code",
   "execution_count": null,
   "metadata": {},
   "outputs": [],
   "source": [
    "hr_target_address = \"14863C4D-BF71-4EA3-C6B4-98001056AAF8\"\n",
    "sterzo_target_address = \"715D8603-DC4C-2994-C0CD-2BC5A93E0B38\""
   ]
  },
  {
   "cell_type": "code",
   "execution_count": null,
   "metadata": {},
   "outputs": [],
   "source": [
    "hr_model.state"
   ]
  },
  {
   "cell_type": "code",
   "execution_count": null,
   "metadata": {},
   "outputs": [],
   "source": [
    "sterzo_model.state"
   ]
  },
  {
   "cell_type": "code",
   "execution_count": null,
   "metadata": {},
   "outputs": [],
   "source": [
    "await hr_model.set_target(hr_target_address)\n",
    "await sterzo_model.set_target(sterzo_target_address)"
   ]
  },
  {
   "cell_type": "code",
   "execution_count": null,
   "metadata": {},
   "outputs": [],
   "source": [
    "hr_model.state"
   ]
  },
  {
   "cell_type": "code",
   "execution_count": null,
   "metadata": {},
   "outputs": [],
   "source": [
    "sterzo_model.state"
   ]
  },
  {
   "cell_type": "code",
   "execution_count": null,
   "metadata": {},
   "outputs": [],
   "source": [
    "await hr_model.connect()"
   ]
  },
  {
   "cell_type": "code",
   "execution_count": null,
   "metadata": {},
   "outputs": [],
   "source": [
    "await sterzo_model.connect()"
   ]
  },
  {
   "cell_type": "markdown",
   "metadata": {},
   "source": [
    "Sidebar: Note how the above cell returns `True`. All transition methods on `model` returns True if the transition was successful. Therefore you may explicitly define happy-path and exception-path in different ways.\n",
    "\n",
    "For debugging,\n",
    "```python\n",
    "assert await model.connect(), \"Model failed to connect\"\n",
    "```\n",
    "\n",
    "Or, more properly check the return value\n",
    "```python\n",
    "success = await model.connect()\n",
    "if not succcess:\n",
    "    await model.clean_up() # this catch-all method brings the model back to \"Init\"\n",
    "    raise Exception(\"Failed to connect\")\n",
    "```\n",
    "\n",
    "Or, we can check the `.state` afterwards, like so:"
   ]
  },
  {
   "cell_type": "code",
   "execution_count": null,
   "metadata": {},
   "outputs": [],
   "source": [
    "if hr_model.state != \"Connected\" or sterzo_model.state != \"Connected\":\n",
    "    raise Exception(\"Failed to connect. If the device was not properly disconnected last time, restart either the device or bluetooth adapter\")"
   ]
  },
  {
   "cell_type": "markdown",
   "metadata": {},
   "source": [
    "In order to receive/send actual data from/to the connected device, we need to start a stream.\n",
    "\n",
    "This will run forever until `model.disconnect()` is called, so for now let's sleep for several seconds and then call that."
   ]
  },
  {
   "cell_type": "code",
   "execution_count": null,
   "metadata": {},
   "outputs": [],
   "source": [
    "await hr_model.stream()"
   ]
  },
  {
   "cell_type": "code",
   "execution_count": null,
   "metadata": {},
   "outputs": [],
   "source": [
    "await sterzo_model.stream()"
   ]
  },
  {
   "cell_type": "markdown",
   "metadata": {},
   "source": [
    "Look through the output of the next cell. You should see some heart rate data sprinkled among sterzo data."
   ]
  },
  {
   "cell_type": "code",
   "execution_count": null,
   "metadata": {},
   "outputs": [],
   "source": [
    "await asyncio.sleep(10)"
   ]
  },
  {
   "cell_type": "markdown",
   "metadata": {},
   "source": [
    "Bleak-FSM encapsulates a kind of bug in Bleak, where it is not possible to re-use a connected client. \n",
    "\n",
    "That is, we shouldn't step back to \"Connected\" state from \"Streaming\", because we can't go from \"Connected\" back to \"Streaming\".\n",
    "\n",
    "Instead we need to go back two steps to \"TargetSet\", re-establish a connection, and then we can stream again.\n",
    "\n",
    "Bleak-FSM enforces this behavior for your own safety.\n",
    "There exists not method for you to even try to go from \"Streaming\" to \"Connected\".\n"
   ]
  },
  {
   "cell_type": "code",
   "execution_count": null,
   "metadata": {},
   "outputs": [],
   "source": [
    "await hr_model.clean_up()"
   ]
  },
  {
   "cell_type": "code",
   "execution_count": null,
   "metadata": {},
   "outputs": [],
   "source": [
    "await sterzo_model.clean_up()"
   ]
  },
  {
   "cell_type": "markdown",
   "metadata": {},
   "source": [
    "Whenever the application terminates, or otherwise no longer needs to communicate with the bluetooth device, it should always call `disconnect()` on the model. The model state should always e either \"TargetSet\" or \"Init\"."
   ]
  }
 ],
 "metadata": {
  "kernelspec": {
   "display_name": "Python 3",
   "language": "python",
   "name": "python3"
  },
  "language_info": {
   "codemirror_mode": {
    "name": "ipython",
    "version": 3
   },
   "file_extension": ".py",
   "mimetype": "text/x-python",
   "name": "python",
   "nbconvert_exporter": "python",
   "pygments_lexer": "ipython3",
   "version": "3.9.6"
  }
 },
 "nbformat": 4,
 "nbformat_minor": 2
}
