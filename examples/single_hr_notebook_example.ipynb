{
 "cells": [
  {
   "cell_type": "markdown",
   "metadata": {},
   "source": [
    "# Single Heart Rate Monitor Example"
   ]
  },
  {
   "cell_type": "markdown",
   "metadata": {},
   "source": [
    "This is a minimal demonstration of how to set up and use Bleak-FSM.\n",
    "\n",
    "This examples uses Bluetooth Low Energy (BLE) Heart Rate service.\n",
    "+ It must support Bluetooth, not just ANT+\n",
    "+ The GATT Characteristic required is: `00002a37-0000-1000-8000-00805f9b34fb`\n",
    "+ You may use the [`bluetooth_dissect.py` tool](https://github.com/tensorturtle/bluetooth_dissect) to check if your device supports that GATT Characteristic.\n",
    "\n",
    "Example compatible devices:\n",
    "+ Magene H603\n",
    "+ Wahoo TICKR & TICKR Fit\n",
    "+ WHOOP 4.0 (Broadcast Heart Rate ON)\n",
    "+ and many more advertised as \"supports Bluetooth Heart Rate\"\n",
    "\n",
    "If you don't have access to a BLE Heart Rate device or want to a different BLE GATT characteristic, see the [Migration Guide](migration_guide.ipynb)\n",
    "\n",
    "\n",
    "## How to run this Notebook\n",
    "\n",
    "+ Make sure your computer's bluetooth adapter is powered on.\n",
    "+ At first, I recommend stepping through each cell, reading the code and explanations.\n",
    "+ You will need to set your Heart Rate monitor's address the first time.\n",
    "+ At any time, `print(model.state)` to confirm which state you're in. This will help you figure out what you can do from there.\n",
    "\n",
    "## Using a `with` block Context Manager\n",
    "\n",
    "The present notebook shows you the most detailed API. Bleak-FSM also offers a built-in context manager that you can optionally use to simplify your code.\n",
    "\n",
    "[See the context manager example (which is based on this notebook)](examples/context_manager.ipynb)"
   ]
  },
  {
   "cell_type": "markdown",
   "metadata": {},
   "source": [
    "# Setup"
   ]
  },
  {
   "cell_type": "code",
   "execution_count": null,
   "metadata": {},
   "outputs": [],
   "source": [
    "import asyncio"
   ]
  },
  {
   "cell_type": "code",
   "execution_count": null,
   "metadata": {},
   "outputs": [],
   "source": [
    "from bleak_fsm import BleakModel"
   ]
  },
  {
   "cell_type": "code",
   "execution_count": null,
   "metadata": {},
   "outputs": [],
   "source": [
    "model = BleakModel(connection_timeout=20)"
   ]
  },
  {
   "cell_type": "markdown",
   "metadata": {},
   "source": [
    "Toggle this `USE_PYCYCLING` flag to see how this library can accomodate using standard, raw BLeakClient or Pycycling-wrapped BleakClient."
   ]
  },
  {
   "cell_type": "code",
   "execution_count": null,
   "metadata": {},
   "outputs": [],
   "source": [
    "USE_PYCYCLING = False"
   ]
  },
  {
   "cell_type": "code",
   "execution_count": null,
   "metadata": {},
   "outputs": [],
   "source": [
    "if USE_PYCYCLING:\n",
    "    from pycycling.heart_rate_service import HeartRateService\n",
    "    model.wrap = lambda client: HeartRateService(client)\n",
    "    model.enable_notifications = lambda client: client.enable_hr_measurement_notifications()\n",
    "    model.disable_notifications = lambda client: client.disable_hr_measurement_notifications()\n",
    "    def handle_hr_measurement(value):\n",
    "        print(\"Using Pycycling wrapper around BleakClient\")\n",
    "        print(f\"Heart Rate: {value}\")\n",
    "    model.set_measurement_handler = lambda client: client.set_hr_measurement_handler(handle_hr_measurement)\n",
    "else:\n",
    "    HEART_RATE_MEASUREMENT_CHARACTERISTIC_UUID = \"00002a37-0000-1000-8000-00805f9b34fb\"\n",
    "\n",
    "    def handle_hr_measurement(sender, data):\n",
    "        print(\"Using raw BleakClient\")\n",
    "        print(f\"Data received from {sender}: {data}\")\n",
    "        flag = data[0]\n",
    "        heart_rate = data[1]\n",
    "        print(f\"Heart Rate: {heart_rate} beats per minute\")\n",
    "    model.enable_notifications = lambda client: client.start_notify(HEART_RATE_MEASUREMENT_CHARACTERISTIC_UUID, handle_hr_measurement)\n",
    "    model.disable_notifications = lambda client: client.stop_notify(HEART_RATE_MEASUREMENT_CHARACTERISTIC_UUID)"
   ]
  },
  {
   "cell_type": "markdown",
   "metadata": {},
   "source": [
    "# Usage"
   ]
  },
  {
   "cell_type": "markdown",
   "metadata": {},
   "source": [
    "Since we're in a Jupyter notebook, we need to use `create_task()` instead of `get_event_loop().run_until_complete()` to use the existing event loop which Jupyter runs on."
   ]
  },
  {
   "cell_type": "markdown",
   "metadata": {},
   "source": [
    "The `BleakModel` class represents this system's bluetooth adapter. This library currently supports one bluetooth adapter. We call the `start_scan()` class method."
   ]
  },
  {
   "cell_type": "code",
   "execution_count": null,
   "metadata": {},
   "outputs": [],
   "source": [
    "await BleakModel.start_scan()"
   ]
  },
  {
   "cell_type": "code",
   "execution_count": null,
   "metadata": {},
   "outputs": [],
   "source": [
    "async def print_as_we_go(max_devices=30):\n",
    "    for i in range(40):\n",
    "        if len(BleakModel.bt_devices) >= max_devices:\n",
    "            print(f\"{len(BleakModel.bt_devices)} devices found. Stopping scan.\")\n",
    "            await model.stop_scan()\n",
    "            break\n",
    "        print(f\"{len(BleakModel.bt_devices)} devices found in {round(i*0.05,2)} seconds.\")\n",
    "        await asyncio.sleep(0.05)\n",
    "\n",
    "await print_as_we_go()"
   ]
  },
  {
   "cell_type": "code",
   "execution_count": null,
   "metadata": {},
   "outputs": [],
   "source": [
    "await BleakModel.stop_scan()"
   ]
  },
  {
   "cell_type": "code",
   "execution_count": null,
   "metadata": {},
   "outputs": [],
   "source": [
    "BleakModel.bt_devices"
   ]
  },
  {
   "cell_type": "markdown",
   "metadata": {},
   "source": [
    "Copy-and-paste the key corresponding to the device that you want to connect to:"
   ]
  },
  {
   "cell_type": "code",
   "execution_count": null,
   "metadata": {},
   "outputs": [],
   "source": [
    "target_address = \"EF:E4:F6:7D:6C:F6\""
   ]
  },
  {
   "cell_type": "markdown",
   "metadata": {},
   "source": [
    "Or search for the name of the device from the values and retrieve its key.\n",
    "\n",
    "While most consumer heart rate monitors have a name, this name might be not unique or missing."
   ]
  },
  {
   "cell_type": "code",
   "execution_count": null,
   "metadata": {},
   "outputs": [],
   "source": [
    "target_name = \"WHOOPDEDOO\"\n",
    "\n",
    "target_address = \"\"\n",
    "for address, (ble_device, advertisement_data) in BleakModel.bt_devices.items():\n",
    "    if ble_device.name == target_name:\n",
    "        target_address = address\n",
    "        print(f\"Found {target_name} at {target_address}\")"
   ]
  },
  {
   "cell_type": "markdown",
   "metadata": {},
   "source": [
    "Anyhow, we will attempt to connect to the following address:"
   ]
  },
  {
   "cell_type": "code",
   "execution_count": null,
   "metadata": {},
   "outputs": [],
   "source": [
    "print(target_address)"
   ]
  },
  {
   "cell_type": "code",
   "execution_count": null,
   "metadata": {},
   "outputs": [],
   "source": [
    "await model.set_target(target_address)"
   ]
  },
  {
   "cell_type": "markdown",
   "metadata": {},
   "source": [
    " When you provide a target address to the `model`, its state changes to `TargetSet`"
   ]
  },
  {
   "cell_type": "code",
   "execution_count": null,
   "metadata": {},
   "outputs": [],
   "source": [
    "model.state"
   ]
  },
  {
   "cell_type": "markdown",
   "metadata": {},
   "source": [
    "From `TargetSet` state, you may now attempt to connect to the device.\n",
    "\n",
    "By default, if it has been over 120 seconds since the last scan, if `auto_rescan=True`, the model will automatically re-scan and then attempt the connection.\n",
    "These parameters may be changed in the `BleakModule` instantiation above."
   ]
  },
  {
   "cell_type": "code",
   "execution_count": null,
   "metadata": {},
   "outputs": [],
   "source": [
    "success = await model.connect()\n",
    "\n",
    "if success:\n",
    "    print(\"Connected to device\")"
   ]
  },
  {
   "cell_type": "markdown",
   "metadata": {},
   "source": [
    "Note how the above cell returns `True`. All transition methods on `model` returns True if the transition was successful. Therefore you may explicitly define happy-path and exception-path in different ways.\n",
    "\n",
    "For debugging,\n",
    "```python\n",
    "assert await model.connect(), \"Model failed to connect\"\n",
    "```\n",
    "\n",
    "Or, more properly check the return value\n",
    "```python\n",
    "success = await model.connect()\n",
    "if not succcess:\n",
    "    await model.clean_up() # this catch-all method brings the model back to \"Init\"\n",
    "    raise Exception(\"Failed to connect\")\n",
    "```\n",
    "\n",
    "Or, we can check the `.state` afterwards, like so:"
   ]
  },
  {
   "cell_type": "code",
   "execution_count": null,
   "metadata": {},
   "outputs": [],
   "source": [
    "if model.state != \"Connected\":\n",
    "    raise Exception(\"Failed to connect. If the device was not properly disconnected last time, restart either the device or bluetooth adapter\")"
   ]
  },
  {
   "cell_type": "markdown",
   "metadata": {},
   "source": [
    "In order to receive/send actual data from/to the connected device, we need to start a stream.\n",
    "\n",
    "This will run forever until `model.disconnect()` is called, so for now let's sleep for several seconds and then call that."
   ]
  },
  {
   "cell_type": "code",
   "execution_count": null,
   "metadata": {},
   "outputs": [],
   "source": [
    "await model.stream()"
   ]
  },
  {
   "cell_type": "code",
   "execution_count": null,
   "metadata": {},
   "outputs": [],
   "source": [
    "await asyncio.sleep(10)"
   ]
  },
  {
   "cell_type": "markdown",
   "metadata": {},
   "source": [
    "Bleak-FSM encapsulates a kind of bug in Bleak, where it is not possible to re-use a connected client. \n",
    "\n",
    "That is, we shouldn't step back to \"Connected\" state from \"Streaming\", because we can't go from \"Connected\" back to \"Streaming\".\n",
    "\n",
    "Instead we need to go back two steps to \"TargetSet\", re-establish a connection, and then we can stream again.\n",
    "\n",
    "Bleak-FSM enforces this behavior for your own safety.\n",
    "There exists not method for you to even try to go from \"Streaming\" to \"Connected\".\n"
   ]
  },
  {
   "cell_type": "code",
   "execution_count": null,
   "metadata": {},
   "outputs": [],
   "source": [
    "await model.disconnect()"
   ]
  },
  {
   "cell_type": "markdown",
   "metadata": {},
   "source": [
    "Whenever the application terminates, or otherwise no longer needs to communicate with the bluetooth device, it should always call `disconnect()` on the model. The model state should always e either \"TargetSet\" or \"Init\"."
   ]
  },
  {
   "cell_type": "code",
   "execution_count": null,
   "metadata": {},
   "outputs": [],
   "source": [
    "model.state"
   ]
  },
  {
   "cell_type": "code",
   "execution_count": null,
   "metadata": {},
   "outputs": [],
   "source": [
    "await model.unset_target()"
   ]
  },
  {
   "cell_type": "code",
   "execution_count": null,
   "metadata": {},
   "outputs": [],
   "source": [
    "model.state"
   ]
  },
  {
   "cell_type": "markdown",
   "metadata": {},
   "source": [
    "For convenience, you may call `await model.clean_up()` from any state to come back to \"Init\""
   ]
  },
  {
   "cell_type": "code",
   "execution_count": null,
   "metadata": {},
   "outputs": [],
   "source": [
    "await model.clean_up()"
   ]
  },
  {
   "cell_type": "markdown",
   "metadata": {},
   "source": [
    "For even more convenience, you may call the class's `clean_up_all()` classmethod to disconnect all devices:"
   ]
  },
  {
   "cell_type": "code",
   "execution_count": null,
   "metadata": {},
   "outputs": [],
   "source": [
    "await BleakModel.clean_up_all()"
   ]
  }
 ],
 "metadata": {
  "kernelspec": {
   "display_name": "Python 3",
   "language": "python",
   "name": "python3"
  },
  "language_info": {
   "codemirror_mode": {
    "name": "ipython",
    "version": 3
   },
   "file_extension": ".py",
   "mimetype": "text/x-python",
   "name": "python",
   "nbconvert_exporter": "python",
   "pygments_lexer": "ipython3",
   "version": "3.12.2"
  }
 },
 "nbformat": 4,
 "nbformat_minor": 2
}
