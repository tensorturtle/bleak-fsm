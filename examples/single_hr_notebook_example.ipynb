{
 "cells": [
  {
   "cell_type": "markdown",
   "metadata": {},
   "source": [
    "# Single Heart Rate Monitor Example"
   ]
  },
  {
   "cell_type": "markdown",
   "metadata": {},
   "source": [
    "This is a minimal demonstration of how to set up and use Bleak-FSM.\n",
    "\n",
    "This examples uses Bluetooth Low Energy (BLE) Heart Rate service.\n",
    "+ It must support Bluetooth, not just ANT+\n",
    "+ The GATT Characteristic required is: `00002a37-0000-1000-8000-00805f9b34fb`\n",
    "+ You may use the [`bluetooth_dissect.py` tool](https://github.com/tensorturtle/bluetooth_dissect) to check if your device supports that GATT Characteristic.\n",
    "\n",
    "Example compatible devices:\n",
    "+ Magene H603\n",
    "+ Wahoo TICKR & TICKR Fit\n",
    "+ WHOOP 4.0 (Broadcast Heart Rate ON)\n",
    "+ and many more advertised as \"supports Bluetooth Heart Rate\"\n",
    "\n",
    "If you don't have access to a BLE Heart Rate device or want to a different BLE GATT characteristic, see the [Migration Guide](migration_guide.ipynb)\n",
    "\n",
    "\n",
    "## How to run this Notebook\n",
    "\n",
    "+ Make sure your computer's bluetooth adapter is powered on.\n",
    "+ At first, I recommend stepping through each cell, reading the code and explanations.\n",
    "+ You will need to set your Heart Rate monitor's address the first time.\n",
    "+ At any time, `print(model.state)` to confirm which state you're in. This will help you figure out what you can do from there."
   ]
  },
  {
   "cell_type": "markdown",
   "metadata": {},
   "source": [
    "# Setup"
   ]
  },
  {
   "cell_type": "code",
   "execution_count": 1,
   "metadata": {},
   "outputs": [],
   "source": [
    "import asyncio"
   ]
  },
  {
   "cell_type": "code",
   "execution_count": 2,
   "metadata": {},
   "outputs": [],
   "source": [
    "from bleak_fsm import machine, BleakModel"
   ]
  },
  {
   "cell_type": "code",
   "execution_count": 3,
   "metadata": {},
   "outputs": [],
   "source": [
    "model = BleakModel(connection_timeout=20)\n",
    "machine.add_model(model)"
   ]
  },
  {
   "cell_type": "markdown",
   "metadata": {},
   "source": [
    "Toggle this `USE_PYCYCLING` flag to see how this library can accomodate using standard, raw BLeakClient or Pycycling-wrapped BleakClient."
   ]
  },
  {
   "cell_type": "code",
   "execution_count": 4,
   "metadata": {},
   "outputs": [],
   "source": [
    "USE_PYCYCLING = True"
   ]
  },
  {
   "cell_type": "code",
   "execution_count": 5,
   "metadata": {},
   "outputs": [],
   "source": [
    "# Define callbacks\n",
    "\n",
    "if USE_PYCYCLING:\n",
    "    from pycycling.heart_rate_service import HeartRateService\n",
    "    model.wrap = lambda client: HeartRateService(client)\n",
    "    model.enable_notifications = lambda client: client.enable_hr_measurement_notifications()\n",
    "    model.disable_notifications = lambda client: client.disable_hr_measurement_notifications()\n",
    "    def handle_hr_measurement(value):\n",
    "        print(\"Using Pycycling wrapper around BleakClient\")\n",
    "        print(f\"Heart Rate: {value}\")\n",
    "    model.set_measurement_handler = lambda client: client.set_hr_measurement_handler(handle_hr_measurement)\n",
    "else:\n",
    "    HEART_RATE_MEASUREMENT_CHARACTERISTIC_UUID = \"00002a37-0000-1000-8000-00805f9b34fb\"\n",
    "    model.enable_notifications = lambda client: client.start_notify(HEART_RATE_MEASUREMENT_CHARACTERISTIC_UUID, handle_hr_measurement)\n",
    "    model.disable_notifications = lambda client: client.stop_notify(HEART_RATE_MEASUREMENT_CHARACTERISTIC_UUID)\n",
    "    def handle_hr_measurement(sender, data):\n",
    "        print(\"Using raw BleakClient\")\n",
    "        print(f\"Data received from {sender}: {data}\")\n",
    "        flag = data[0]\n",
    "        heart_rate = data[1]\n",
    "        print(f\"Heart Rate: {heart_rate} beats per minute\")\n",
    "    model.set_measurement_handler = lambda client: handle_hr_measurement\n"
   ]
  },
  {
   "cell_type": "markdown",
   "metadata": {},
   "source": [
    "# Usage"
   ]
  },
  {
   "cell_type": "markdown",
   "metadata": {},
   "source": [
    "Since we're in a Jupyter notebook, we need to use `create_task()` instead of `get_event_loop().run_until_complete()` to use the existing event loop which Jupyter runs on."
   ]
  },
  {
   "cell_type": "markdown",
   "metadata": {},
   "source": [
    "The `BleakModel` class represents this system's bluetooth adapter. This library currently supports one bluetooth adapter. We call the `start_scan()` class method."
   ]
  },
  {
   "cell_type": "code",
   "execution_count": 6,
   "metadata": {},
   "outputs": [
    {
     "data": {
      "text/plain": [
       "True"
      ]
     },
     "execution_count": 6,
     "metadata": {},
     "output_type": "execute_result"
    }
   ],
   "source": [
    "await BleakModel.start_scan()"
   ]
  },
  {
   "cell_type": "code",
   "execution_count": 7,
   "metadata": {},
   "outputs": [
    {
     "name": "stdout",
     "output_type": "stream",
     "text": [
      "0 devices found in 0.0 seconds.\n",
      "0 devices found in 0.05 seconds.\n",
      "0 devices found in 0.1 seconds.\n",
      "0 devices found in 0.15 seconds.\n"
     ]
    },
    {
     "name": "stdout",
     "output_type": "stream",
     "text": [
      "0 devices found in 0.2 seconds.\n",
      "0 devices found in 0.25 seconds.\n",
      "0 devices found in 0.3 seconds.\n",
      "0 devices found in 0.35 seconds.\n",
      "0 devices found in 0.4 seconds.\n",
      "0 devices found in 0.45 seconds.\n",
      "0 devices found in 0.5 seconds.\n",
      "0 devices found in 0.55 seconds.\n",
      "0 devices found in 0.6 seconds.\n",
      "0 devices found in 0.65 seconds.\n",
      "1 devices found in 0.7 seconds.\n",
      "1 devices found in 0.75 seconds.\n",
      "2 devices found in 0.8 seconds.\n",
      "2 devices found in 0.85 seconds.\n",
      "3 devices found in 0.9 seconds.\n",
      "3 devices found in 0.95 seconds.\n",
      "4 devices found in 1.0 seconds.\n",
      "4 devices found in 1.05 seconds.\n",
      "4 devices found in 1.1 seconds.\n",
      "4 devices found in 1.15 seconds.\n",
      "4 devices found in 1.2 seconds.\n",
      "4 devices found in 1.25 seconds.\n",
      "4 devices found in 1.3 seconds.\n",
      "4 devices found in 1.35 seconds.\n",
      "4 devices found in 1.4 seconds.\n",
      "4 devices found in 1.45 seconds.\n",
      "4 devices found in 1.5 seconds.\n",
      "4 devices found in 1.55 seconds.\n",
      "4 devices found in 1.6 seconds.\n",
      "4 devices found in 1.65 seconds.\n",
      "4 devices found in 1.7 seconds.\n",
      "4 devices found in 1.75 seconds.\n",
      "4 devices found in 1.8 seconds.\n",
      "4 devices found in 1.85 seconds.\n",
      "4 devices found in 1.9 seconds.\n",
      "4 devices found in 1.95 seconds.\n"
     ]
    }
   ],
   "source": [
    "async def print_as_we_go(max_devices=30):\n",
    "    for i in range(40):\n",
    "        if len(BleakModel.bt_devices) >= max_devices:\n",
    "            print(f\"{len(BleakModel.bt_devices)} devices found. Stopping scan.\")\n",
    "            await model.stop_scan()\n",
    "            break\n",
    "        print(f\"{len(BleakModel.bt_devices)} devices found in {round(i*0.05,2)} seconds.\")\n",
    "        await asyncio.sleep(0.05)\n",
    "\n",
    "await print_as_we_go()"
   ]
  },
  {
   "cell_type": "code",
   "execution_count": 8,
   "metadata": {},
   "outputs": [
    {
     "data": {
      "text/plain": [
       "True"
      ]
     },
     "execution_count": 8,
     "metadata": {},
     "output_type": "execute_result"
    }
   ],
   "source": [
    "await BleakModel.stop_scan()"
   ]
  },
  {
   "cell_type": "code",
   "execution_count": 9,
   "metadata": {},
   "outputs": [
    {
     "data": {
      "text/plain": [
       "{'78:CA:AE:89:CE:A4': (BLEDevice(78:CA:AE:89:CE:A4, 78-CA-AE-89-CE-A4),\n",
       "  AdvertisementData(manufacturer_data={76: b'\\x10\\x06\\x0e\\x1dtN\\xbbh'}, tx_power=12, rssi=-63)),\n",
       " 'D8:E3:5E:86:97:97': (BLEDevice(D8:E3:5E:86:97:97, GiGA Genie 3_F70E),\n",
       "  AdvertisementData(local_name='GiGA Genie 3_F70E', manufacturer_data={65535: b'\\x00\\x15C\\x11\\xff\\xf0\\x11\\xe3D9\\xbb\\x12\\xac\\xdc2\\x14\\x00\\x00\\x00\\xfa\\xf7\\x0e\\xc5'}, rssi=-79)),\n",
       " '4A:A4:26:B4:F8:49': (BLEDevice(4A:A4:26:B4:F8:49, 4A-A4-26-B4-F8-49),\n",
       "  AdvertisementData(manufacturer_data={76: b'\\x10\\x07s\\x1f\\x98\\x14:)h'}, tx_power=7, rssi=-62)),\n",
       " 'EF:E4:F6:7D:6C:F6': (BLEDevice(EF:E4:F6:7D:6C:F6, WHOOPDEDOO),\n",
       "  AdvertisementData(local_name='WHOOPDEDOO', rssi=-72))}"
      ]
     },
     "execution_count": 9,
     "metadata": {},
     "output_type": "execute_result"
    }
   ],
   "source": [
    "BleakModel.bt_devices"
   ]
  },
  {
   "cell_type": "markdown",
   "metadata": {},
   "source": [
    "Copy-and-paste the key corresponding to the device that you want to connect to:"
   ]
  },
  {
   "cell_type": "code",
   "execution_count": 10,
   "metadata": {},
   "outputs": [],
   "source": [
    "target_address = \"EF:E4:F6:7D:6C:F6\""
   ]
  },
  {
   "cell_type": "markdown",
   "metadata": {},
   "source": [
    "Or search for the name of the device from the values and retrieve its key.\n",
    "\n",
    "While most consumer heart rate monitors have a name, this name might be not unique or missing."
   ]
  },
  {
   "cell_type": "code",
   "execution_count": 11,
   "metadata": {},
   "outputs": [
    {
     "name": "stdout",
     "output_type": "stream",
     "text": [
      "Found WHOOPDEDOO at EF:E4:F6:7D:6C:F6\n"
     ]
    }
   ],
   "source": [
    "target_name = \"WHOOPDEDOO\"\n",
    "\n",
    "target_address = \"\"\n",
    "for address, (ble_device, advertisement_data) in BleakModel.bt_devices.items():\n",
    "    if ble_device.name == target_name:\n",
    "        target_address = address\n",
    "        print(f\"Found {target_name} at {target_address}\")"
   ]
  },
  {
   "cell_type": "markdown",
   "metadata": {},
   "source": [
    "Anyhow, we will attempt to connect to the following address:"
   ]
  },
  {
   "cell_type": "code",
   "execution_count": 12,
   "metadata": {},
   "outputs": [
    {
     "name": "stdout",
     "output_type": "stream",
     "text": [
      "EF:E4:F6:7D:6C:F6\n"
     ]
    }
   ],
   "source": [
    "print(target_address)"
   ]
  },
  {
   "cell_type": "code",
   "execution_count": 13,
   "metadata": {},
   "outputs": [
    {
     "data": {
      "text/plain": [
       "True"
      ]
     },
     "execution_count": 13,
     "metadata": {},
     "output_type": "execute_result"
    }
   ],
   "source": [
    "await model.set_target(target_address)"
   ]
  },
  {
   "cell_type": "markdown",
   "metadata": {},
   "source": [
    " When you provide a target address to the `model`, its state changes to `TargetSet`"
   ]
  },
  {
   "cell_type": "code",
   "execution_count": 14,
   "metadata": {},
   "outputs": [
    {
     "data": {
      "text/plain": [
       "'TargetSet'"
      ]
     },
     "execution_count": 14,
     "metadata": {},
     "output_type": "execute_result"
    }
   ],
   "source": [
    "model.state"
   ]
  },
  {
   "cell_type": "markdown",
   "metadata": {},
   "source": [
    "From `TargetSet` state, you may now attempt to connect to the device.\n",
    "\n",
    "By default, if it has been over 120 seconds since the last scan, if `auto_rescan=True`, the model will automatically re-scan and then attempt the connection.\n",
    "These parameters may be changed in the `BleakModule` instantiation above."
   ]
  },
  {
   "cell_type": "code",
   "execution_count": 15,
   "metadata": {},
   "outputs": [
    {
     "name": "stderr",
     "output_type": "stream",
     "text": [
      "WARNING:root:Timed out while connecting to EF:E4:F6:7D:6C:F6\n"
     ]
    }
   ],
   "source": [
    "success = await model.connect()\n",
    "\n",
    "if success:\n",
    "    print(\"Connected to device\")"
   ]
  },
  {
   "cell_type": "markdown",
   "metadata": {},
   "source": [
    "Sidebar: Note how the above cell returns `True`. All transition methods on `model` returns True if the transition was successful. Therefore you may explicitly define happy-path and exception-path in different ways.\n",
    "\n",
    "For debugging,\n",
    "```python\n",
    "assert await model.connect(), \"Model failed to connect\"\n",
    "```\n",
    "\n",
    "Or, more properly check the return value\n",
    "```python\n",
    "success = await model.connect()\n",
    "if not succcess:\n",
    "    await model.clean_up() # this catch-all method brings the model back to \"Init\"\n",
    "    raise Exception(\"Failed to connect\")\n",
    "```\n",
    "\n",
    "Or, we can check the `.state` afterwards, like so:"
   ]
  },
  {
   "cell_type": "code",
   "execution_count": 16,
   "metadata": {},
   "outputs": [
    {
     "ename": "Exception",
     "evalue": "Failed to connect. If the device was not properly disconnected last time, restart either the device or bluetooth adapter",
     "output_type": "error",
     "traceback": [
      "\u001b[0;31m---------------------------------------------------------------------------\u001b[0m",
      "\u001b[0;31mException\u001b[0m                                 Traceback (most recent call last)",
      "Cell \u001b[0;32mIn[16], line 2\u001b[0m\n\u001b[1;32m      1\u001b[0m \u001b[38;5;28;01mif\u001b[39;00m model\u001b[38;5;241m.\u001b[39mstate \u001b[38;5;241m!=\u001b[39m \u001b[38;5;124m\"\u001b[39m\u001b[38;5;124mConnected\u001b[39m\u001b[38;5;124m\"\u001b[39m:\n\u001b[0;32m----> 2\u001b[0m     \u001b[38;5;28;01mraise\u001b[39;00m \u001b[38;5;167;01mException\u001b[39;00m(\u001b[38;5;124m\"\u001b[39m\u001b[38;5;124mFailed to connect. If the device was not properly disconnected last time, restart either the device or bluetooth adapter\u001b[39m\u001b[38;5;124m\"\u001b[39m)\n",
      "\u001b[0;31mException\u001b[0m: Failed to connect. If the device was not properly disconnected last time, restart either the device or bluetooth adapter"
     ]
    }
   ],
   "source": [
    "if model.state != \"Connected\":\n",
    "    raise Exception(\"Failed to connect. If the device was not properly disconnected last time, restart either the device or bluetooth adapter\")"
   ]
  },
  {
   "cell_type": "markdown",
   "metadata": {},
   "source": [
    "In order to receive/send actual data from/to the connected device, we need to start a stream.\n",
    "\n",
    "This will run forever until `model.disconnect()` is called, so for now let's sleep for several seconds and then call that."
   ]
  },
  {
   "cell_type": "code",
   "execution_count": null,
   "metadata": {},
   "outputs": [
    {
     "name": "stderr",
     "output_type": "stream",
     "text": [
      "ERROR:root:Exception: 'NoneType' object has no attribute 'set_hr_measurement_handler'\n"
     ]
    },
    {
     "data": {
      "text/plain": [
       "True"
      ]
     },
     "execution_count": 17,
     "metadata": {},
     "output_type": "execute_result"
    }
   ],
   "source": [
    "await model.stream()"
   ]
  },
  {
   "cell_type": "code",
   "execution_count": null,
   "metadata": {},
   "outputs": [],
   "source": [
    "await asyncio.sleep(5)"
   ]
  },
  {
   "cell_type": "markdown",
   "metadata": {},
   "source": [
    "Bleak-FSM encapsulates a kind of bug in Bleak, where it is not possible to re-use a connected client. \n",
    "\n",
    "That is, we shouldn't step back to \"Connected\" state from \"Streaming\", because we can't go from \"Connected\" back to \"Streaming\".\n",
    "\n",
    "Instead we need to go back two steps to \"TargetSet\", re-establish a connection, and then we can stream again.\n",
    "\n",
    "Bleak-FSM enforces this behavior for your own safety.\n",
    "There exists not method for you to even try to go from \"Streaming\" to \"Connected\".\n"
   ]
  },
  {
   "cell_type": "code",
   "execution_count": null,
   "metadata": {},
   "outputs": [
    {
     "name": "stderr",
     "output_type": "stream",
     "text": [
      "ERROR:root:An error occurred while stopping streaming: 'NoneType' object has no attribute 'disable_hr_measurement_notifications'\n"
     ]
    },
    {
     "data": {
      "text/plain": [
       "True"
      ]
     },
     "execution_count": 19,
     "metadata": {},
     "output_type": "execute_result"
    }
   ],
   "source": [
    "await model.disconnect()"
   ]
  },
  {
   "cell_type": "markdown",
   "metadata": {},
   "source": [
    "Whenever the application terminates, or otherwise no longer needs to communicate with the bluetooth device, it should always call `disconnect()` on the model. The model state should always e either \"TargetSet\" or \"Init\"."
   ]
  },
  {
   "cell_type": "code",
   "execution_count": null,
   "metadata": {},
   "outputs": [
    {
     "data": {
      "text/plain": [
       "'TargetSet'"
      ]
     },
     "execution_count": 20,
     "metadata": {},
     "output_type": "execute_result"
    }
   ],
   "source": [
    "model.state"
   ]
  },
  {
   "cell_type": "code",
   "execution_count": null,
   "metadata": {},
   "outputs": [
    {
     "data": {
      "text/plain": [
       "True"
      ]
     },
     "execution_count": 21,
     "metadata": {},
     "output_type": "execute_result"
    }
   ],
   "source": [
    "await model.unset_target()"
   ]
  },
  {
   "cell_type": "code",
   "execution_count": null,
   "metadata": {},
   "outputs": [
    {
     "data": {
      "text/plain": [
       "'Init'"
      ]
     },
     "execution_count": 22,
     "metadata": {},
     "output_type": "execute_result"
    }
   ],
   "source": [
    "model.state"
   ]
  },
  {
   "cell_type": "markdown",
   "metadata": {},
   "source": [
    "For convenience, you may call `await model.clean_up()` from any state to come back to \"Init\""
   ]
  },
  {
   "cell_type": "code",
   "execution_count": null,
   "metadata": {},
   "outputs": [
    {
     "data": {
      "text/plain": [
       "True"
      ]
     },
     "execution_count": 23,
     "metadata": {},
     "output_type": "execute_result"
    }
   ],
   "source": [
    "await model.clean_up()"
   ]
  },
  {
   "cell_type": "markdown",
   "metadata": {},
   "source": [
    "At this point, we have returned to 'Init' state, and you may 'start_scan', 'set_target_address', 'connect', etc."
   ]
  },
  {
   "cell_type": "markdown",
   "metadata": {},
   "source": [
    "# Again, with Errors\n",
    "\n",
    "Let's review the above tutorial, this time also checking that the proper errors are being emitted when you  attempt illegal things.\n",
    "\n",
    "We'll discuss how best to handle those errors."
   ]
  },
  {
   "cell_type": "markdown",
   "metadata": {},
   "source": [
    "Let's try to skip a step in the Finite State Machine.\n",
    "\n",
    "From `Init`, we are only allowed to go to `TargetSet`.\n",
    "\n",
    "If we try to go to `Connect`, we should get a `MachineError`:"
   ]
  },
  {
   "cell_type": "code",
   "execution_count": null,
   "metadata": {},
   "outputs": [
    {
     "data": {
      "text/plain": [
       "'Init'"
      ]
     },
     "execution_count": 24,
     "metadata": {},
     "output_type": "execute_result"
    }
   ],
   "source": [
    "model.state"
   ]
  },
  {
   "cell_type": "code",
   "execution_count": null,
   "metadata": {},
   "outputs": [
    {
     "name": "stderr",
     "output_type": "stream",
     "text": [
      "ERROR:transitions.extensions.asyncio:Exception was raised while processing the trigger: \"Can't trigger event connect from state Init!\"\n"
     ]
    },
    {
     "name": "stdout",
     "output_type": "stream",
     "text": [
      "Correct error raised:\n",
      "\"Can't trigger event connect from state Init!\"\n"
     ]
    }
   ],
   "source": [
    "from transitions import MachineError\n",
    "try:\n",
    "    await model.connect()\n",
    "except MachineError as e:\n",
    "    print(\"Correct error raised:\")\n",
    "    print(e)"
   ]
  },
  {
   "cell_type": "markdown",
   "metadata": {},
   "source": [
    "In order to go to `TargetSet`, we need an address.\n",
    "\n",
    "To get an address, we need to scan. For simplicity, we'll just `await` it instead of sending it to the background as we did above."
   ]
  },
  {
   "cell_type": "code",
   "execution_count": null,
   "metadata": {},
   "outputs": [
    {
     "data": {
      "text/plain": [
       "True"
      ]
     },
     "execution_count": 26,
     "metadata": {},
     "output_type": "execute_result"
    }
   ],
   "source": [
    "await model.start_scan()"
   ]
  },
  {
   "cell_type": "markdown",
   "metadata": {},
   "source": [
    "This puts us in \"Scaning\" state:"
   ]
  },
  {
   "cell_type": "code",
   "execution_count": null,
   "metadata": {},
   "outputs": [
    {
     "name": "stdout",
     "output_type": "stream",
     "text": [
      "Init\n"
     ]
    }
   ],
   "source": [
    "print(model.state)"
   ]
  },
  {
   "cell_type": "markdown",
   "metadata": {},
   "source": [
    "From \"Scanning\", transitioning to any other state besides \"Init\" is illegal:"
   ]
  },
  {
   "cell_type": "code",
   "execution_count": null,
   "metadata": {},
   "outputs": [
    {
     "name": "stderr",
     "output_type": "stream",
     "text": [
      "ERROR:transitions.extensions.asyncio:Exception was raised while processing the trigger: \"Can't trigger event connect from state Init!\"\n"
     ]
    },
    {
     "name": "stdout",
     "output_type": "stream",
     "text": [
      "Correct error raised:\n",
      "\"Can't trigger event connect from state Init!\"\n"
     ]
    }
   ],
   "source": [
    "try:\n",
    "    await model.connect()\n",
    "except MachineError as e:\n",
    "    print(\"Correct error raised:\")\n",
    "    print(e)"
   ]
  },
  {
   "cell_type": "markdown",
   "metadata": {},
   "source": [
    "Let's stop the scan."
   ]
  },
  {
   "cell_type": "code",
   "execution_count": null,
   "metadata": {},
   "outputs": [
    {
     "data": {
      "text/plain": [
       "True"
      ]
     },
     "execution_count": 29,
     "metadata": {},
     "output_type": "execute_result"
    }
   ],
   "source": [
    "await asyncio.sleep(3)\n",
    "await model.stop_scan()"
   ]
  },
  {
   "cell_type": "code",
   "execution_count": null,
   "metadata": {},
   "outputs": [
    {
     "name": "stdout",
     "output_type": "stream",
     "text": [
      "Init\n"
     ]
    }
   ],
   "source": [
    "print(model.state)"
   ]
  },
  {
   "cell_type": "markdown",
   "metadata": {},
   "source": [
    "As before, when scanning is done, the results are saved in the class variable `BleakModel.bt_devices`.\n",
    "\n",
    "Let's throw a wrench into the gears and use an invalid address.\n",
    "We expect a `BleakFSMError`"
   ]
  },
  {
   "cell_type": "code",
   "execution_count": null,
   "metadata": {},
   "outputs": [],
   "source": [
    "from bleak_fsm import BleakFSMError"
   ]
  },
  {
   "cell_type": "code",
   "execution_count": null,
   "metadata": {},
   "outputs": [
    {
     "name": "stderr",
     "output_type": "stream",
     "text": [
      "ERROR:transitions.extensions.asyncio:Exception was raised while processing the trigger: Address some_incorrect_nonexistent_address not found in discovered devices\n"
     ]
    },
    {
     "name": "stdout",
     "output_type": "stream",
     "text": [
      "Correct error raised:\n",
      "Address some_incorrect_nonexistent_address not found in discovered devices\n"
     ]
    }
   ],
   "source": [
    "incorrect_target_address = \"some_incorrect_nonexistent_address\"\n",
    "try:\n",
    "    await model.set_target(incorrect_target_address)\n",
    "except BleakFSMError as e:\n",
    "    print(\"Correct error raised:\")\n",
    "    print(e)"
   ]
  },
  {
   "cell_type": "markdown",
   "metadata": {},
   "source": [
    "Now back on track, let's set the target with a correct target address determined above:"
   ]
  },
  {
   "cell_type": "code",
   "execution_count": null,
   "metadata": {},
   "outputs": [
    {
     "name": "stderr",
     "output_type": "stream",
     "text": [
      "ERROR:transitions.extensions.asyncio:Exception was raised while processing the trigger: Address EF:E4:F6:7D:6C:F6 not found in discovered devices\n"
     ]
    },
    {
     "ename": "BleakFSMError",
     "evalue": "Address EF:E4:F6:7D:6C:F6 not found in discovered devices",
     "output_type": "error",
     "traceback": [
      "\u001b[0;31m---------------------------------------------------------------------------\u001b[0m",
      "\u001b[0;31mBleakFSMError\u001b[0m                             Traceback (most recent call last)",
      "Cell \u001b[0;32mIn[33], line 1\u001b[0m\n\u001b[0;32m----> 1\u001b[0m \u001b[38;5;28;01mawait\u001b[39;00m model\u001b[38;5;241m.\u001b[39mset_target(target_address)\n",
      "File \u001b[0;32m~/.local/lib/python3.10/site-packages/transitions/extensions/asyncio.py:177\u001b[0m, in \u001b[0;36mAsyncEvent.trigger\u001b[0;34m(self, model, *args, **kwargs)\u001b[0m\n\u001b[1;32m    167\u001b[0m \u001b[38;5;124;03m\"\"\" Serially execute all transitions that match the current state,\u001b[39;00m\n\u001b[1;32m    168\u001b[0m \u001b[38;5;124;03mhalting as soon as one successfully completes. Note that `AsyncEvent` triggers must be awaited.\u001b[39;00m\n\u001b[1;32m    169\u001b[0m \u001b[38;5;124;03mArgs:\u001b[39;00m\n\u001b[0;32m   (...)\u001b[0m\n\u001b[1;32m    174\u001b[0m \u001b[38;5;124;03m    successfully executed (True if successful, False if not).\u001b[39;00m\n\u001b[1;32m    175\u001b[0m \u001b[38;5;124;03m\"\"\"\u001b[39;00m\n\u001b[1;32m    176\u001b[0m func \u001b[38;5;241m=\u001b[39m partial(\u001b[38;5;28mself\u001b[39m\u001b[38;5;241m.\u001b[39m_trigger, EventData(\u001b[38;5;28;01mNone\u001b[39;00m, \u001b[38;5;28mself\u001b[39m, \u001b[38;5;28mself\u001b[39m\u001b[38;5;241m.\u001b[39mmachine, model, args\u001b[38;5;241m=\u001b[39margs, kwargs\u001b[38;5;241m=\u001b[39mkwargs))\n\u001b[0;32m--> 177\u001b[0m \u001b[38;5;28;01mreturn\u001b[39;00m \u001b[38;5;28;01mawait\u001b[39;00m \u001b[38;5;28mself\u001b[39m\u001b[38;5;241m.\u001b[39mmachine\u001b[38;5;241m.\u001b[39mprocess_context(func, model)\n",
      "File \u001b[0;32m~/.local/lib/python3.10/site-packages/transitions/extensions/asyncio.py:392\u001b[0m, in \u001b[0;36mAsyncMachine.process_context\u001b[0;34m(self, func, model)\u001b[0m\n\u001b[1;32m    390\u001b[0m     \u001b[38;5;28mself\u001b[39m\u001b[38;5;241m.\u001b[39masync_tasks[\u001b[38;5;28mid\u001b[39m(model)] \u001b[38;5;241m=\u001b[39m [asyncio\u001b[38;5;241m.\u001b[39mcurrent_task()]\n\u001b[1;32m    391\u001b[0m \u001b[38;5;28;01mtry\u001b[39;00m:\n\u001b[0;32m--> 392\u001b[0m     res \u001b[38;5;241m=\u001b[39m \u001b[38;5;28;01mawait\u001b[39;00m \u001b[38;5;28mself\u001b[39m\u001b[38;5;241m.\u001b[39m_process_async(func, model)\n\u001b[1;32m    393\u001b[0m \u001b[38;5;28;01mexcept\u001b[39;00m asyncio\u001b[38;5;241m.\u001b[39mCancelledError:\n\u001b[1;32m    394\u001b[0m     res \u001b[38;5;241m=\u001b[39m \u001b[38;5;28;01mFalse\u001b[39;00m\n",
      "File \u001b[0;32m~/.local/lib/python3.10/site-packages/transitions/extensions/asyncio.py:447\u001b[0m, in \u001b[0;36mAsyncMachine._process_async\u001b[0;34m(self, trigger, model)\u001b[0m\n\u001b[1;32m    444\u001b[0m \u001b[38;5;28;01mif\u001b[39;00m \u001b[38;5;129;01mnot\u001b[39;00m \u001b[38;5;28mself\u001b[39m\u001b[38;5;241m.\u001b[39mhas_queue:\n\u001b[1;32m    445\u001b[0m     \u001b[38;5;28;01mif\u001b[39;00m \u001b[38;5;129;01mnot\u001b[39;00m \u001b[38;5;28mself\u001b[39m\u001b[38;5;241m.\u001b[39m_transition_queue:\n\u001b[1;32m    446\u001b[0m         \u001b[38;5;66;03m# if trigger raises an Error, it has to be handled by the Machine.process caller\u001b[39;00m\n\u001b[0;32m--> 447\u001b[0m         \u001b[38;5;28;01mreturn\u001b[39;00m \u001b[38;5;28;01mawait\u001b[39;00m trigger()\n\u001b[1;32m    448\u001b[0m     \u001b[38;5;28;01mraise\u001b[39;00m MachineError(\u001b[38;5;124m\"\u001b[39m\u001b[38;5;124mAttempt to process events synchronously while transition queue is not empty!\u001b[39m\u001b[38;5;124m\"\u001b[39m)\n\u001b[1;32m    450\u001b[0m \u001b[38;5;28mself\u001b[39m\u001b[38;5;241m.\u001b[39m_transition_queue_dict[\u001b[38;5;28mid\u001b[39m(model)]\u001b[38;5;241m.\u001b[39mappend(trigger)\n",
      "File \u001b[0;32m~/.local/lib/python3.10/site-packages/transitions/extensions/asyncio.py:183\u001b[0m, in \u001b[0;36mAsyncEvent._trigger\u001b[0;34m(self, event_data)\u001b[0m\n\u001b[1;32m    181\u001b[0m \u001b[38;5;28;01mtry\u001b[39;00m:\n\u001b[1;32m    182\u001b[0m     \u001b[38;5;28;01mif\u001b[39;00m \u001b[38;5;28mself\u001b[39m\u001b[38;5;241m.\u001b[39m_is_valid_source(event_data\u001b[38;5;241m.\u001b[39mstate):\n\u001b[0;32m--> 183\u001b[0m         \u001b[38;5;28;01mawait\u001b[39;00m \u001b[38;5;28mself\u001b[39m\u001b[38;5;241m.\u001b[39m_process(event_data)\n\u001b[1;32m    184\u001b[0m \u001b[38;5;28;01mexcept\u001b[39;00m \u001b[38;5;167;01mException\u001b[39;00m \u001b[38;5;28;01mas\u001b[39;00m err:  \u001b[38;5;66;03m# pylint: disable=broad-except; Exception will be handled elsewhere\u001b[39;00m\n\u001b[1;32m    185\u001b[0m     _LOGGER\u001b[38;5;241m.\u001b[39merror(\u001b[38;5;124m\"\u001b[39m\u001b[38;5;132;01m%s\u001b[39;00m\u001b[38;5;124mException was raised while processing the trigger: \u001b[39m\u001b[38;5;132;01m%s\u001b[39;00m\u001b[38;5;124m\"\u001b[39m, \u001b[38;5;28mself\u001b[39m\u001b[38;5;241m.\u001b[39mmachine\u001b[38;5;241m.\u001b[39mname, err)\n",
      "File \u001b[0;32m~/.local/lib/python3.10/site-packages/transitions/extensions/asyncio.py:201\u001b[0m, in \u001b[0;36mAsyncEvent._process\u001b[0;34m(self, event_data)\u001b[0m\n\u001b[1;32m    199\u001b[0m \u001b[38;5;28;01mfor\u001b[39;00m trans \u001b[38;5;129;01min\u001b[39;00m \u001b[38;5;28mself\u001b[39m\u001b[38;5;241m.\u001b[39mtransitions[event_data\u001b[38;5;241m.\u001b[39mstate\u001b[38;5;241m.\u001b[39mname]:\n\u001b[1;32m    200\u001b[0m     event_data\u001b[38;5;241m.\u001b[39mtransition \u001b[38;5;241m=\u001b[39m trans\n\u001b[0;32m--> 201\u001b[0m     event_data\u001b[38;5;241m.\u001b[39mresult \u001b[38;5;241m=\u001b[39m \u001b[38;5;28;01mawait\u001b[39;00m trans\u001b[38;5;241m.\u001b[39mexecute(event_data)\n\u001b[1;32m    202\u001b[0m     \u001b[38;5;28;01mif\u001b[39;00m event_data\u001b[38;5;241m.\u001b[39mresult:\n\u001b[1;32m    203\u001b[0m         \u001b[38;5;28;01mbreak\u001b[39;00m\n",
      "File \u001b[0;32m~/.local/lib/python3.10/site-packages/transitions/extensions/asyncio.py:122\u001b[0m, in \u001b[0;36mAsyncTransition.execute\u001b[0;34m(self, event_data)\u001b[0m\n\u001b[1;32m    119\u001b[0m \u001b[38;5;28;01mawait\u001b[39;00m machine\u001b[38;5;241m.\u001b[39mswitch_model_context(event_data\u001b[38;5;241m.\u001b[39mmodel)\n\u001b[1;32m    121\u001b[0m \u001b[38;5;28;01mawait\u001b[39;00m event_data\u001b[38;5;241m.\u001b[39mmachine\u001b[38;5;241m.\u001b[39mcallbacks(event_data\u001b[38;5;241m.\u001b[39mmachine\u001b[38;5;241m.\u001b[39mbefore_state_change, event_data)\n\u001b[0;32m--> 122\u001b[0m \u001b[38;5;28;01mawait\u001b[39;00m event_data\u001b[38;5;241m.\u001b[39mmachine\u001b[38;5;241m.\u001b[39mcallbacks(\u001b[38;5;28mself\u001b[39m\u001b[38;5;241m.\u001b[39mbefore, event_data)\n\u001b[1;32m    123\u001b[0m _LOGGER\u001b[38;5;241m.\u001b[39mdebug(\u001b[38;5;124m\"\u001b[39m\u001b[38;5;132;01m%s\u001b[39;00m\u001b[38;5;124mExecuted callback before transition.\u001b[39m\u001b[38;5;124m\"\u001b[39m, event_data\u001b[38;5;241m.\u001b[39mmachine\u001b[38;5;241m.\u001b[39mname)\n\u001b[1;32m    125\u001b[0m \u001b[38;5;28;01mif\u001b[39;00m \u001b[38;5;28mself\u001b[39m\u001b[38;5;241m.\u001b[39mdest:  \u001b[38;5;66;03m# if self.dest is None this is an internal transition with no actual state change\u001b[39;00m\n",
      "File \u001b[0;32m~/.local/lib/python3.10/site-packages/transitions/extensions/asyncio.py:328\u001b[0m, in \u001b[0;36mAsyncMachine.callbacks\u001b[0;34m(self, funcs, event_data)\u001b[0m\n\u001b[1;32m    326\u001b[0m \u001b[38;5;28;01masync\u001b[39;00m \u001b[38;5;28;01mdef\u001b[39;00m \u001b[38;5;21mcallbacks\u001b[39m(\u001b[38;5;28mself\u001b[39m, funcs, event_data):\n\u001b[1;32m    327\u001b[0m     \u001b[38;5;124;03m\"\"\" Triggers a list of callbacks \"\"\"\u001b[39;00m\n\u001b[0;32m--> 328\u001b[0m     \u001b[38;5;28;01mawait\u001b[39;00m \u001b[38;5;28mself\u001b[39m\u001b[38;5;241m.\u001b[39mawait_all([partial(event_data\u001b[38;5;241m.\u001b[39mmachine\u001b[38;5;241m.\u001b[39mcallback, func, event_data) \u001b[38;5;28;01mfor\u001b[39;00m func \u001b[38;5;129;01min\u001b[39;00m funcs])\n",
      "File \u001b[0;32m~/.local/lib/python3.10/site-packages/transitions/extensions/asyncio.py:358\u001b[0m, in \u001b[0;36mAsyncMachine.await_all\u001b[0;34m(callables)\u001b[0m\n\u001b[1;32m    348\u001b[0m \u001b[38;5;129m@staticmethod\u001b[39m\n\u001b[1;32m    349\u001b[0m \u001b[38;5;28;01masync\u001b[39;00m \u001b[38;5;28;01mdef\u001b[39;00m \u001b[38;5;21mawait_all\u001b[39m(callables):\n\u001b[1;32m    350\u001b[0m     \u001b[38;5;124;03m\"\"\"\u001b[39;00m\n\u001b[1;32m    351\u001b[0m \u001b[38;5;124;03m    Executes callables without parameters in parallel and collects their results.\u001b[39;00m\n\u001b[1;32m    352\u001b[0m \u001b[38;5;124;03m    Args:\u001b[39;00m\n\u001b[0;32m   (...)\u001b[0m\n\u001b[1;32m    356\u001b[0m \u001b[38;5;124;03m        list: A list of results. Using asyncio the list will be in the same order as the passed callables.\u001b[39;00m\n\u001b[1;32m    357\u001b[0m \u001b[38;5;124;03m    \"\"\"\u001b[39;00m\n\u001b[0;32m--> 358\u001b[0m     \u001b[38;5;28;01mreturn\u001b[39;00m \u001b[38;5;28;01mawait\u001b[39;00m asyncio\u001b[38;5;241m.\u001b[39mgather(\u001b[38;5;241m*\u001b[39m[func() \u001b[38;5;28;01mfor\u001b[39;00m func \u001b[38;5;129;01min\u001b[39;00m callables])\n",
      "File \u001b[0;32m~/.local/lib/python3.10/site-packages/transitions/extensions/asyncio.py:344\u001b[0m, in \u001b[0;36mAsyncMachine.callback\u001b[0;34m(self, func, event_data)\u001b[0m\n\u001b[1;32m    331\u001b[0m \u001b[38;5;124;03m\"\"\" Trigger a callback function with passed event_data parameters. In case func is a string,\u001b[39;00m\n\u001b[1;32m    332\u001b[0m \u001b[38;5;124;03m    the callable will be resolved from the passed model in event_data. This function is not intended to\u001b[39;00m\n\u001b[1;32m    333\u001b[0m \u001b[38;5;124;03m    be called directly but through state and transition callback definitions.\u001b[39;00m\n\u001b[0;32m   (...)\u001b[0m\n\u001b[1;32m    341\u001b[0m \u001b[38;5;124;03m        from (if event sending is disabled).\u001b[39;00m\n\u001b[1;32m    342\u001b[0m \u001b[38;5;124;03m\"\"\"\u001b[39;00m\n\u001b[1;32m    343\u001b[0m func \u001b[38;5;241m=\u001b[39m \u001b[38;5;28mself\u001b[39m\u001b[38;5;241m.\u001b[39mresolve_callable(func, event_data)\n\u001b[0;32m--> 344\u001b[0m res \u001b[38;5;241m=\u001b[39m func(event_data) \u001b[38;5;28;01mif\u001b[39;00m \u001b[38;5;28mself\u001b[39m\u001b[38;5;241m.\u001b[39msend_event \u001b[38;5;28;01melse\u001b[39;00m \u001b[43mfunc\u001b[49m\u001b[43m(\u001b[49m\u001b[38;5;241;43m*\u001b[39;49m\u001b[43mevent_data\u001b[49m\u001b[38;5;241;43m.\u001b[39;49m\u001b[43margs\u001b[49m\u001b[43m,\u001b[49m\u001b[43m \u001b[49m\u001b[38;5;241;43m*\u001b[39;49m\u001b[38;5;241;43m*\u001b[39;49m\u001b[43mevent_data\u001b[49m\u001b[38;5;241;43m.\u001b[39;49m\u001b[43mkwargs\u001b[49m\u001b[43m)\u001b[49m\n\u001b[1;32m    345\u001b[0m \u001b[38;5;28;01mif\u001b[39;00m inspect\u001b[38;5;241m.\u001b[39misawaitable(res):\n\u001b[1;32m    346\u001b[0m     \u001b[38;5;28;01mawait\u001b[39;00m res\n",
      "File \u001b[0;32m~/.local/lib/python3.10/site-packages/bleak_fsm/bleak_model.py:109\u001b[0m, in \u001b[0;36mBleakModel._set_target\u001b[0;34m(self, address)\u001b[0m\n\u001b[1;32m    107\u001b[0m     \u001b[38;5;28;01mreturn\u001b[39;00m \u001b[38;5;28;01mTrue\u001b[39;00m\n\u001b[1;32m    108\u001b[0m \u001b[38;5;28;01melse\u001b[39;00m:\n\u001b[0;32m--> 109\u001b[0m     \u001b[38;5;28;01mraise\u001b[39;00m BleakFSMError(\u001b[38;5;124mf\u001b[39m\u001b[38;5;124m\"\u001b[39m\u001b[38;5;124mAddress \u001b[39m\u001b[38;5;132;01m{\u001b[39;00maddress\u001b[38;5;132;01m}\u001b[39;00m\u001b[38;5;124m not found in discovered devices\u001b[39m\u001b[38;5;124m\"\u001b[39m)\n",
      "\u001b[0;31mBleakFSMError\u001b[0m: Address EF:E4:F6:7D:6C:F6 not found in discovered devices"
     ]
    }
   ],
   "source": [
    "await model.set_target(target_address)"
   ]
  },
  {
   "cell_type": "markdown",
   "metadata": {},
   "source": [
    "We will now test what happens if we try to connect when the last scan is too old. \n",
    "\n",
    "Notice how we instantiated `model` as:\n",
    "\n",
    "```python\n",
    "model = BleakModel(\n",
    "    scan_stale_time=3,\n",
    "    auto_rescan=False,\n",
    ")\n",
    "```\n",
    "\n",
    "If we sleep 5 seconds, then the scanned results will be considered stale. And since `auto_rescan` was set to False, we will get a `StaleScanError`:"
   ]
  },
  {
   "cell_type": "code",
   "execution_count": null,
   "metadata": {},
   "outputs": [],
   "source": [
    "from bleak_fsm import StaleScanError"
   ]
  },
  {
   "cell_type": "code",
   "execution_count": null,
   "metadata": {},
   "outputs": [],
   "source": [
    "await asyncio.sleep(5) # sleeping in order to trigger stale scan error\n",
    "\n",
    "try:\n",
    "    await model.connect()\n",
    "except StaleScanError as e:\n",
    "    print(\"Correct error raised:\")\n",
    "    print(e)\n"
   ]
  },
  {
   "cell_type": "code",
   "execution_count": null,
   "metadata": {},
   "outputs": [],
   "source": [
    "await model.clean_up() # always remember to return the device to \"Init\" state before exiting the program"
   ]
  },
  {
   "cell_type": "code",
   "execution_count": null,
   "metadata": {},
   "outputs": [],
   "source": []
  }
 ],
 "metadata": {
  "kernelspec": {
   "display_name": "Python 3",
   "language": "python",
   "name": "python3"
  },
  "language_info": {
   "codemirror_mode": {
    "name": "ipython",
    "version": 3
   },
   "file_extension": ".py",
   "mimetype": "text/x-python",
   "name": "python",
   "nbconvert_exporter": "python",
   "pygments_lexer": "ipython3",
   "version": "3.10.12"
  }
 },
 "nbformat": 4,
 "nbformat_minor": 2
}
