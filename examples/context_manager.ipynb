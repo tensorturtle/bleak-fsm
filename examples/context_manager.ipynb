{
 "cells": [
  {
   "cell_type": "markdown",
   "metadata": {},
   "source": [
    "# Built-In Context Manager"
   ]
  },
  {
   "cell_type": "markdown",
   "metadata": {},
   "source": [
    "This notebook is very similar to [`single_hr_notebook_example.ipynb`](examples/single_hr_notebook_example.ipynb). \n",
    "\n",
    "The purpose of this notebook is to demonstrate using the BleakModel context manager to use `with` blocks to more robustly and pythonically disconnect/clean up blueooth accessories before the program exits."
   ]
  },
  {
   "cell_type": "code",
   "execution_count": null,
   "metadata": {},
   "outputs": [],
   "source": [
    "import asyncio\n",
    "from bleak_fsm import BleakModel\n",
    "from pycycling.heart_rate_service import HeartRateService\n",
    "\n",
    "model = BleakModel(connection_timeout=20)\n",
    "model.wrap = lambda client: HeartRateService(client)\n",
    "model.enable_notifications = lambda client: client.enable_hr_measurement_notifications()\n",
    "model.disable_notifications = lambda client: client.disable_hr_measurement_notifications()\n",
    "def handle_hr_measurement(value):\n",
    "    print(\"Using Pycycling wrapper around BleakClient\")\n",
    "    print(f\"Heart Rate: {value}\")\n",
    "model.set_measurement_handler = lambda client: client.set_hr_measurement_handler(handle_hr_measurement)"
   ]
  },
  {
   "cell_type": "code",
   "execution_count": null,
   "metadata": {},
   "outputs": [],
   "source": [
    "await BleakModel.start_scan()\n",
    "await asyncio.sleep(3)\n",
    "await BleakModel.stop_scan()"
   ]
  },
  {
   "cell_type": "code",
   "execution_count": null,
   "metadata": {},
   "outputs": [],
   "source": [
    "BleakModel.bt_devices"
   ]
  },
  {
   "cell_type": "code",
   "execution_count": null,
   "metadata": {},
   "outputs": [],
   "source": [
    "target_name = \"WHOOPDEDOO\" # Change this to the name of your device"
   ]
  },
  {
   "cell_type": "code",
   "execution_count": null,
   "metadata": {},
   "outputs": [],
   "source": [
    "target_address = \"\"\n",
    "for address, (ble_device, advertisement_data) in BleakModel.bt_devices.items():\n",
    "    if ble_device.name == target_name:\n",
    "        target_address = address\n",
    "        print(f\"Found {target_name} at {target_address}\")"
   ]
  },
  {
   "cell_type": "markdown",
   "metadata": {},
   "source": [
    "## The Main Part: `with` Block:"
   ]
  },
  {
   "cell_type": "code",
   "execution_count": null,
   "metadata": {},
   "outputs": [],
   "source": [
    "async with model:\n",
    "    await model.set_target(target_address)\n",
    "    await model.connect()\n",
    "    await model.stream()\n",
    "    await asyncio.sleep(10)"
   ]
  },
  {
   "cell_type": "code",
   "execution_count": null,
   "metadata": {},
   "outputs": [],
   "source": [
    "# verify that the model is in its initial state\n",
    "assert model.state == \"Init\""
   ]
  },
  {
   "cell_type": "markdown",
   "metadata": {},
   "source": [
    "The above `with` block just ensures that when the block ends, `model.clean_up()` is called.\n",
    "\n",
    "The [source of `model.clean_up`](https://github.com/tensorturtle/bleak-fsm/blob/a9a4ac165aa0adc1425c6d7a7fbabb04ca4be727/bleak_fsm/bleak_model.py#L150) shows that it calls `model.disconnect()` and/or `model.unset_target()` depending on the current state.\n",
    "\n",
    "So in effect, the above code is equivalent to:"
   ]
  },
  {
   "cell_type": "code",
   "execution_count": null,
   "metadata": {},
   "outputs": [],
   "source": [
    "try:\n",
    "    await model.set_target(target_address)\n",
    "    print(f\"State after setting target: {model.state}\")\n",
    "    await model.connect()\n",
    "    print(f\"State after connecting: {model.state}\")\n",
    "    await model.stream()\n",
    "    print(f\"State after streaming: {model.state}\")\n",
    "    await asyncio.sleep(10)\n",
    "\n",
    "    await model.disconnect()\n",
    "    await model.unset_target()\n",
    "    # or, `clean_up()` will smartly disconnect and unset target\n",
    "\n",
    "finally:\n",
    "    await model.clean_up()\n",
    "    print(\"Disconnected and stopped\")"
   ]
  },
  {
   "cell_type": "code",
   "execution_count": null,
   "metadata": {},
   "outputs": [],
   "source": [
    "# again, check that the model is in its initial state\n",
    "assert model.state == \"Init\"\n"
   ]
  }
 ],
 "metadata": {
  "kernelspec": {
   "display_name": "bleak-fsm-JCwxQpWU-py3.12",
   "language": "python",
   "name": "python3"
  },
  "language_info": {
   "codemirror_mode": {
    "name": "ipython",
    "version": 3
   },
   "file_extension": ".py",
   "mimetype": "text/x-python",
   "name": "python",
   "nbconvert_exporter": "python",
   "pygments_lexer": "ipython3",
   "version": "3.12.2"
  }
 },
 "nbformat": 4,
 "nbformat_minor": 2
}
