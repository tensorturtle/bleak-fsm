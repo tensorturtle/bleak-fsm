{
 "cells": [
  {
   "cell_type": "markdown",
   "metadata": {},
   "source": [
    "# Migration Guide"
   ]
  },
  {
   "cell_type": "markdown",
   "metadata": {},
   "source": [
    "This jupyter notebook demonstrates how to adapt a [pycycling](https://github.com/zacharyedwardbull/pycycling) device into Bleak-FSM.\n",
    "\n",
    "For this example we will use . Sterzo is a bluetooth steering angle sensor that goes under the front wheel of a bicycle mounted on an indoor trainer. \n",
    "\n",
    "The implementation of Sterzo is at [pycycling/sterzo.py](https://github.com/zacharyedwardbull/pycycling/blob/master/pycycling/sterzo.py) but we only need to look at [examples/sterzo_examples.py](https://github.com/zacharyedwardbull/pycycling/blob/master/examples/sterzo_example.py)."
   ]
  },
  {
   "cell_type": "markdown",
   "metadata": {},
   "source": [
    "For your convenience, here is `sterzo_example.py`:\n",
    "\n",
    "```python\n",
    "\n",
    "import asyncio\n",
    "from bleak import BleakClient\n",
    "\n",
    "from pycycling.sterzo import Sterzo\n",
    "\n",
    "\n",
    "async def run(address):\n",
    "    async with BleakClient(address) as client:\n",
    "        def steering_handler(steering_angle):\n",
    "            print(steering_angle)\n",
    "\n",
    "        await client.is_connected()\n",
    "        sterzo = Sterzo(client)\n",
    "        sterzo.set_steering_measurement_callback(steering_handler)\n",
    "        await sterzo.enable_steering_measurement_notifications()\n",
    "        await asyncio.sleep(60)\n",
    "\n",
    "if __name__ == \"__main__\":\n",
    "    import os\n",
    "\n",
    "    os.environ[\"PYTHONASYNCIODEBUG\"] = str(1)\n",
    "\n",
    "    device_address = \"36A444C9-2A18-4B6B-B671-E0A8D3DADB1D\"\n",
    "    loop = asyncio.get_event_loop()\n",
    "    loop.run_until_complete(run(device_address))\n",
    "\n",
    "```"
   ]
  },
  {
   "cell_type": "markdown",
   "metadata": {},
   "source": [
    "To begin with, we'll import the same modules plus Bleak-FSM"
   ]
  },
  {
   "cell_type": "code",
   "execution_count": 1,
   "metadata": {},
   "outputs": [],
   "source": [
    "import asyncio\n",
    "from pycycling.sterzo import Sterzo\n",
    "\n",
    "from bleak_fsm import machine, BleakModel"
   ]
  },
  {
   "cell_type": "code",
   "execution_count": 2,
   "metadata": {},
   "outputs": [],
   "source": [
    "model = BleakModel() # This represents a given bluetooth adapter. Let's assume there's one on the system.\n",
    "machine.add_model(model) # Add the model to the state machine"
   ]
  },
  {
   "cell_type": "markdown",
   "metadata": {},
   "source": [
    "By default, `model.wrap` is a function that does nothing and just returns the input.\n",
    "That's fine if we want to use the `client`, which is an instance of `BleakClient` directly.\n",
    "\n",
    "However, we want to take advantage of the work that went into creating the `Sterzo` implementation.\n",
    "Therefore we need to modify the `model.wrap` function as follows:"
   ]
  },
  {
   "cell_type": "code",
   "execution_count": 3,
   "metadata": {},
   "outputs": [],
   "source": [
    "model.wrap = lambda client: Sterzo(client) # Wrap the model with the Sterzo class"
   ]
  },
  {
   "cell_type": "markdown",
   "metadata": {},
   "source": [
    "If you look at [line 54 of sterzo.py](https://github.com/zacharyedwardbull/pycycling/blob/a5998eb191edb1b2f2591d26b06f442a4f1ccff3/pycycling/sterzo.py#L54), you can see that the steering measurement callback is called with one positional argument, called `steering_value`. \n",
    "The steering measurement callback is set according through `set_steering_measurement_callback()` ([line 46-47](https://github.com/zacharyedwardbull/pycycling/blob/a5998eb191edb1b2f2591d26b06f442a4f1ccff3/pycycling/sterzo.py#L46-L47))\n",
    "\n",
    "We are responsible for creating and passing in a callback function that will become `self._steering_measurement_callback`"
   ]
  },
  {
   "cell_type": "code",
   "execution_count": 4,
   "metadata": {},
   "outputs": [],
   "source": [
    "def handle_sterzo_measurement(value):\n",
    "    print(f\"Sterzo angle: {value}\")"
   ]
  },
  {
   "cell_type": "code",
   "execution_count": 5,
   "metadata": {},
   "outputs": [],
   "source": [
    "model.set_measurement_handler = lambda client: client.set_steering_measurement_callback(handle_sterzo_measurement)"
   ]
  },
  {
   "cell_type": "markdown",
   "metadata": {},
   "source": [
    "Next, we set the `enable_notifications` and `disable_notifications` functions to their corresponding functions in [examples/sterzo_examples.py](https://github.com/zacharyedwardbull/pycycling/blob/master/examples/sterzo_example.py)"
   ]
  },
  {
   "cell_type": "code",
   "execution_count": 6,
   "metadata": {},
   "outputs": [],
   "source": [
    "model.enable_notifications = lambda client: client.enable_steering_measurement_notifications()\n",
    "model.disable_notifications = lambda client: client.disable_steering_measurement_notifications()"
   ]
  },
  {
   "cell_type": "code",
   "execution_count": 7,
   "metadata": {},
   "outputs": [
    {
     "data": {
      "text/plain": [
       "'Init'"
      ]
     },
     "execution_count": 7,
     "metadata": {},
     "output_type": "execute_result"
    }
   ],
   "source": [
    "model.state"
   ]
  },
  {
   "cell_type": "code",
   "execution_count": 8,
   "metadata": {},
   "outputs": [
    {
     "data": {
      "text/plain": [
       "True"
      ]
     },
     "execution_count": 8,
     "metadata": {},
     "output_type": "execute_result"
    }
   ],
   "source": [
    "asyncio.create_task(model.start_scan()) \n",
    "# This async function will wait for the stop_scan() before returning,\n",
    "# So we don't `await` it. Instead we create a task and let it run in the background.\n",
    "\n",
    "await asyncio.sleep(3)\n",
    "await model.stop_scan()"
   ]
  },
  {
   "cell_type": "code",
   "execution_count": 9,
   "metadata": {},
   "outputs": [
    {
     "data": {
      "text/plain": [
       "{'0B017D91-48E0-8A7F-A878-F0F2F61A16E3': BLEDevice(0B017D91-48E0-8A7F-A878-F0F2F61A16E3, ProPods Aero),\n",
       " '6FE76CFE-0681-FC03-E66A-C925EDB230F1': BLEDevice(6FE76CFE-0681-FC03-E66A-C925EDB230F1, None),\n",
       " '14863C4D-BF71-4EA3-C6B4-98001056AAF8': BLEDevice(14863C4D-BF71-4EA3-C6B4-98001056AAF8, WHOOPDEDOO),\n",
       " '37DA5EA4-DB46-2D6D-9E8F-A7B7D4DBCCA4': BLEDevice(37DA5EA4-DB46-2D6D-9E8F-A7B7D4DBCCA4, GiGA Genie 3_F70E),\n",
       " '715D8603-DC4C-2994-C0CD-2BC5A93E0B38': BLEDevice(715D8603-DC4C-2994-C0CD-2BC5A93E0B38, STERZO),\n",
       " 'DC2343A7-C46E-E1BB-30E9-BC6E274B4A39': BLEDevice(DC2343A7-C46E-E1BB-30E9-BC6E274B4A39, Fast Fred),\n",
       " '20BF6293-9322-9334-F51A-F51C102FD12F': BLEDevice(20BF6293-9322-9334-F51A-F51C102FD12F, None),\n",
       " '9E41F52B-BDEF-3C85-F51D-E0DE23B7CB41': BLEDevice(9E41F52B-BDEF-3C85-F51D-E0DE23B7CB41, Study),\n",
       " '3FEC3389-7F84-AFC4-6EF1-BDE6CD37F862': BLEDevice(3FEC3389-7F84-AFC4-6EF1-BDE6CD37F862, Green Apple),\n",
       " '7ADF6295-3580-8840-4B61-5A84E1ABCD6E': BLEDevice(7ADF6295-3580-8840-4B61-5A84E1ABCD6E, None),\n",
       " 'AE2C6B85-69C9-6007-8BD6-6DE16C90790B': BLEDevice(AE2C6B85-69C9-6007-8BD6-6DE16C90790B, None)}"
      ]
     },
     "execution_count": 9,
     "metadata": {},
     "output_type": "execute_result"
    }
   ],
   "source": [
    "model.bt_devices"
   ]
  },
  {
   "cell_type": "code",
   "execution_count": 10,
   "metadata": {},
   "outputs": [
    {
     "data": {
      "text/plain": [
       "True"
      ]
     },
     "execution_count": 10,
     "metadata": {},
     "output_type": "execute_result"
    }
   ],
   "source": [
    "await model.set_target(\"715D8603-DC4C-2994-C0CD-2BC5A93E0B38\")"
   ]
  },
  {
   "cell_type": "code",
   "execution_count": 11,
   "metadata": {},
   "outputs": [
    {
     "name": "stdout",
     "output_type": "stream",
     "text": [
      "Connected to 715D8603-DC4C-2994-C0CD-2BC5A93E0B38\n"
     ]
    },
    {
     "data": {
      "text/plain": [
       "True"
      ]
     },
     "execution_count": 11,
     "metadata": {},
     "output_type": "execute_result"
    }
   ],
   "source": [
    "await model.connect()"
   ]
  },
  {
   "cell_type": "code",
   "execution_count": 12,
   "metadata": {},
   "outputs": [
    {
     "data": {
      "text/plain": [
       "<Task pending name='Task-13' coro=<AsyncEvent.trigger() running at /Users/tensorturtle/Library/Python/3.9/lib/python/site-packages/transitions/extensions/asyncio.py:166>>"
      ]
     },
     "execution_count": 12,
     "metadata": {},
     "output_type": "execute_result"
    }
   ],
   "source": [
    "asyncio.create_task(model.stream())\n",
    "# Like `model.start_scan()`, this async function will wait for `disconnect()` before returning,\n",
    "# So we don't `await` it. Instead we create a task and let it run in the background."
   ]
  },
  {
   "cell_type": "code",
   "execution_count": 13,
   "metadata": {},
   "outputs": [
    {
     "name": "stdout",
     "output_type": "stream",
     "text": [
      "Sterzo angle: nan\n",
      "Sterzo angle: nan\n",
      "Sterzo angle: nan\n",
      "Sterzo angle: nan\n",
      "Sterzo angle: nan\n",
      "Sterzo angle: nan\n",
      "Sterzo angle: nan\n",
      "Sterzo angle: nan\n",
      "Sterzo angle: nan\n",
      "Sterzo angle: nan\n",
      "Sterzo angle: nan\n",
      "Sterzo angle: nan\n",
      "Sterzo angle: nan\n",
      "Sterzo angle: nan\n",
      "Sterzo angle: nan\n",
      "Sterzo angle: nan\n",
      "Sterzo angle: nan\n",
      "Sterzo angle: nan\n",
      "Sterzo angle: nan\n",
      "Sterzo angle: nan\n",
      "Sterzo angle: nan\n",
      "Sterzo angle: nan\n",
      "Sterzo angle: nan\n",
      "Sterzo angle: nan\n",
      "Sterzo angle: nan\n",
      "Sterzo angle: nan\n",
      "Sterzo angle: nan\n",
      "Sterzo angle: nan\n",
      "Sterzo angle: nan\n",
      "Sterzo angle: nan\n",
      "Sterzo angle: nan\n",
      "Sterzo angle: nan\n",
      "Sterzo angle: nan\n",
      "Sterzo angle: nan\n",
      "Sterzo angle: 5.1046142578125\n",
      "Sterzo angle: 5.0430755615234375\n",
      "Sterzo angle: 4.750457763671875\n",
      "Sterzo angle: 4.750457763671875\n",
      "Sterzo angle: 4.573921203613281\n",
      "Sterzo angle: 4.985389709472656\n",
      "Sterzo angle: 4.8101959228515625\n",
      "Sterzo angle: 5.0467071533203125\n",
      "Sterzo angle: 5.2822265625\n",
      "Sterzo angle: 4.3977508544921875\n",
      "Sterzo angle: 4.632926940917969\n",
      "Sterzo angle: 5.339286804199219\n",
      "Sterzo angle: 4.985389709472656\n",
      "Sterzo angle: 4.988433837890625\n",
      "Sterzo angle: 5.395988464355469\n",
      "Sterzo angle: 6.214408874511719\n",
      "Sterzo angle: 9.7169189453125\n",
      "Sterzo angle: 14.394424438476562\n",
      "Started streaming\n",
      "Sterzo angle: 21.278907775878906\n",
      "Sterzo angle: 22.941696166992188\n",
      "Sterzo angle: 24.80571746826172\n",
      "Sterzo angle: 26.12944793701172\n",
      "Sterzo angle: 26.10991668701172\n",
      "Sterzo angle: 26.656524658203125\n",
      "Sterzo angle: 25.92375946044922\n",
      "Sterzo angle: 26.306350708007812\n",
      "Sterzo angle: 26.29601287841797\n",
      "Sterzo angle: 26.12944793701172\n",
      "Sterzo angle: 26.482040405273438\n",
      "Sterzo angle: 28.014915466308594\n",
      "Sterzo angle: 28.522811889648438\n",
      "Sterzo angle: 29.135520935058594\n",
      "Sterzo angle: 28.930091857910156\n",
      "Sterzo angle: 29.880088806152344\n",
      "Sterzo angle: 29.902175903320312\n",
      "Sterzo angle: 30.733383178710938\n",
      "Sterzo angle: 31.443077087402344\n",
      "Sterzo angle: 33.91962432861328\n",
      "Sterzo angle: 35.98063659667969\n",
      "Sterzo angle: 36.43175506591797\n",
      "Sterzo angle: 36.24829864501953\n",
      "Sterzo angle: 35.797752380371094\n",
      "Sterzo angle: 36.20564270019531\n",
      "Sterzo angle: 36.02246856689453\n",
      "Sterzo angle: 35.614601135253906\n",
      "Sterzo angle: 35.696311950683594\n",
      "Sterzo angle: 35.65532684326172\n",
      "Sterzo angle: 35.89775848388672\n",
      "Sterzo angle: 36.10694885253906\n",
      "Sterzo angle: 35.326988220214844\n",
      "Sterzo angle: 33.14539337158203\n",
      "Sterzo angle: 29.528968811035156\n",
      "Sterzo angle: 26.29601287841797\n",
      "Sterzo angle: 22.18732452392578\n",
      "Sterzo angle: 19.161865234375\n",
      "Sterzo angle: 16.394882202148438\n",
      "Sterzo angle: 13.541175842285156\n",
      "Sterzo angle: 11.305030822753906\n",
      "Sterzo angle: 10.27239990234375\n",
      "Sterzo angle: 9.587310791015625\n",
      "Sterzo angle: 7.723091125488281\n",
      "Sterzo angle: 6.747459411621094\n",
      "Sterzo angle: 6.409332275390625\n",
      "Sterzo angle: 4.691566467285156\n",
      "Sterzo angle: 4.337898254394531\n",
      "Sterzo angle: 3.8010330200195312\n",
      "Sterzo angle: 3.8101654052734375\n",
      "Sterzo angle: 4.4572296142578125\n",
      "Sterzo angle: 3.8101654052734375\n",
      "Sterzo angle: 4.106941223144531\n",
      "Sterzo angle: 3.8101654052734375\n",
      "Sterzo angle: 3.3976364135742188\n",
      "Sterzo angle: 3.6350021362304688\n",
      "Sterzo angle: 3.0482864379882812\n",
      "Sterzo angle: 1.2555770874023438\n",
      "Sterzo angle: 0.04978179931640625\n",
      "Sterzo angle: -1.1780319213867188\n",
      "Sterzo angle: -2.7654876708984375\n",
      "Sterzo angle: -3.1029815673828125\n",
      "Sterzo angle: -3.6080474853515625\n",
      "Sterzo angle: -5.634639739990234\n",
      "Sterzo angle: -7.415714263916016\n",
      "Sterzo angle: -10.301448822021484\n",
      "Sterzo angle: -11.927474975585938\n",
      "Sterzo angle: -14.234691619873047\n",
      "Sterzo angle: -15.504043579101562\n",
      "Sterzo angle: -15.976516723632812\n",
      "Sterzo angle: -15.681648254394531\n",
      "Sterzo angle: -16.439422607421875\n",
      "Sterzo angle: -16.96685028076172\n",
      "Sterzo angle: -18.790271759033203\n",
      "Sterzo angle: -19.861576080322266\n",
      "Sterzo angle: -19.210479736328125\n",
      "Sterzo angle: -18.93096160888672\n",
      "Sterzo angle: -18.272205352783203\n",
      "Sterzo angle: -17.454254150390625\n",
      "Sterzo angle: -16.79977798461914\n",
      "Sterzo angle: -14.966320037841797\n",
      "Sterzo angle: -13.24979019165039\n",
      "Sterzo angle: -11.460372924804688\n",
      "Sterzo angle: -8.55584716796875\n",
      "Sterzo angle: -7.512065887451172\n",
      "Sterzo angle: -2.5144882202148438\n",
      "Sterzo angle: 2.4195785522460938\n",
      "Sterzo angle: 5.619354248046875\n",
      "Sterzo angle: 8.552299499511719\n",
      "Sterzo angle: 9.402145385742188\n",
      "Sterzo angle: 9.938705444335938\n",
      "Sterzo angle: 9.580734252929688\n",
      "Sterzo angle: 9.402145385742188\n",
      "Sterzo angle: 8.644752502441406\n",
      "Sterzo angle: 8.644752502441406\n",
      "Sterzo angle: 9.13507080078125\n",
      "Sterzo angle: 9.494071960449219\n",
      "Sterzo angle: 8.552299499511719\n",
      "Sterzo angle: 8.999832153320312\n",
      "Sterzo angle: 8.411445617675781\n",
      "Sterzo angle: 8.278900146484375\n",
      "Sterzo angle: 8.183052062988281\n",
      "Sterzo angle: 8.598670959472656\n",
      "Sterzo angle: 6.8214263916015625\n",
      "Sterzo angle: 5.2822265625\n",
      "Sterzo angle: 4.86895751953125\n",
      "Sterzo angle: 4.573921203613281\n",
      "Sterzo angle: 4.514549255371094\n",
      "Sterzo angle: 4.3946990966796875\n",
      "Sterzo angle: 4.454811096191406\n",
      "Sterzo angle: 4.217079162597656\n",
      "Sterzo angle: 4.632316589355469\n",
      "Sterzo angle: 3.9245223999023438\n",
      "Sterzo angle: 2.63568115234375\n",
      "Sterzo angle: 2.6799392700195312\n",
      "Sterzo angle: 3.0955047607421875\n",
      "Sterzo angle: 2.8098373413085938\n",
      "Sterzo angle: 2.9666748046875\n",
      "Sterzo angle: 2.8554153442382812\n",
      "Sterzo angle: 3.0482864379882812\n",
      "Sterzo angle: 2.8741989135742188\n",
      "Sterzo angle: 2.5704727172851562\n",
      "Sterzo angle: 3.0955047607421875\n",
      "Sterzo angle: 3.0482864379882812\n",
      "Sterzo angle: 2.745086669921875\n",
      "Sterzo angle: 3.0482864379882812\n",
      "Sterzo angle: 2.745086669921875\n",
      "Sterzo angle: 3.8714370727539062\n",
      "Sterzo angle: 3.3346633911132812\n",
      "Sterzo angle: 3.932342529296875\n",
      "Sterzo angle: 3.696746826171875\n",
      "Sterzo angle: 3.1118011474609375\n",
      "Sterzo angle: 3.2227706909179688\n",
      "Sterzo angle: 2.63568115234375\n",
      "Sterzo angle: 0.9793319702148438\n",
      "Sterzo angle: -0.02318572998046875\n",
      "Sterzo angle: -1.14453125\n",
      "Sterzo angle: -1.8333206176757812\n",
      "Sterzo angle: -1.8333206176757812\n",
      "Sterzo angle: -1.661834716796875\n",
      "Sterzo angle: -1.8333206176757812\n",
      "Sterzo angle: -2.0043258666992188\n",
      "Sterzo angle: -1.582763671875\n",
      "Sterzo angle: -1.582763671875\n",
      "Sterzo angle: -1.6352157592773438\n",
      "Sterzo angle: -1.1613998413085938\n",
      "Sterzo angle: -0.98931884765625\n",
      "Sterzo angle: -0.91241455078125\n",
      "Sterzo angle: -0.6642532348632812\n",
      "Sterzo angle: -0.6642532348632812\n",
      "Sterzo angle: -0.49208831787109375\n",
      "Sterzo angle: -0.41692352294921875\n",
      "Sterzo angle: -0.759979248046875\n",
      "Sterzo angle: -0.9308319091796875\n",
      "Sterzo angle: -0.98931884765625\n",
      "Sterzo angle: -1.0840835571289062\n",
      "Sterzo angle: -1.3330154418945312\n",
      "Sterzo angle: -1.2391815185546875\n",
      "Sterzo angle: -1.2391815185546875\n",
      "Sterzo angle: -1.3330154418945312\n",
      "Sterzo angle: -1.582763671875\n",
      "Sterzo angle: -2.0945968627929688\n",
      "Sterzo angle: -2.7605056762695312\n",
      "Sterzo angle: -3.691680908203125\n",
      "Sterzo angle: -4.957065582275391\n",
      "Sterzo angle: -4.623210906982422\n",
      "Sterzo angle: -5.199634552001953\n",
      "Sterzo angle: -4.368030548095703\n",
      "Sterzo angle: -4.614528656005859\n",
      "Sterzo angle: -4.6059722900390625\n",
      "Sterzo angle: -4.702205657958984\n",
      "Sterzo angle: -4.8581085205078125\n",
      "Sterzo angle: -4.4480438232421875\n",
      "Sterzo angle: -4.113563537597656\n",
      "Sterzo angle: -3.691680908203125\n",
      "Sterzo angle: -3.0172462463378906\n",
      "Sterzo angle: -3.1823692321777344\n",
      "Sterzo angle: -2.2555999755859375\n",
      "Sterzo angle: -2.4260482788085938\n",
      "Sterzo angle: -2.4260482788085938\n",
      "Sterzo angle: -2.2642593383789062\n",
      "Sterzo angle: -1.91326904296875\n",
      "Sterzo angle: -1.845062255859375\n",
      "Sterzo angle: -1.8333206176757812\n",
      "Sterzo angle: -1.1780319213867188\n",
      "Sterzo angle: -1.3174362182617188\n",
      "Sterzo angle: -1.5963211059570312\n",
      "Sterzo angle: -1.007232666015625\n",
      "Sterzo angle: -1.4112091064453125\n",
      "Sterzo angle: -1.3483734130859375\n",
      "Sterzo angle: -0.9308319091796875\n",
      "Sterzo angle: -1.3483734130859375\n",
      "Sterzo angle: -1.101226806640625\n",
      "Sterzo angle: -0.6297378540039062\n",
      "Sterzo angle: 0.02471160888671875\n",
      "Sterzo angle: 0.9474945068359375\n",
      "Sterzo angle: 0.9852828979492188\n",
      "Sterzo angle: 1.1880340576171875\n",
      "Sterzo angle: 1.5990829467773438\n",
      "Sterzo angle: 1.25677490234375\n",
      "Sterzo angle: 1.5990829467773438\n",
      "Sterzo angle: 1.8378829956054688\n",
      "Sterzo angle: 2.5490493774414062\n",
      "Sterzo angle: 3.0017471313476562\n",
      "Sterzo angle: 3.3000411987304688\n",
      "Sterzo angle: 3.7068023681640625\n",
      "Sterzo angle: 3.4236602783203125\n",
      "Sterzo angle: 3.4107818603515625\n",
      "Sterzo angle: 3.0187530517578125\n",
      "Sterzo angle: 3.4107818603515625\n",
      "Sterzo angle: 3.7068023681640625\n",
      "Sterzo angle: 3.1277694702148438\n",
      "Sterzo angle: 3.75811767578125\n",
      "Sterzo angle: 3.2522811889648438\n",
      "Sterzo angle: 3.645721435546875\n",
      "Sterzo angle: 3.94000244140625\n",
      "Sterzo angle: 3.4726943969726562\n",
      "Sterzo angle: 3.8797378540039062\n",
      "Sterzo angle: 3.645721435546875\n",
      "Sterzo angle: 3.7675247192382812\n",
      "Sterzo angle: 3.8797378540039062\n",
      "Sterzo angle: 3.7068023681640625\n",
      "Sterzo angle: 3.1277694702148438\n",
      "Sterzo angle: 3.4726943969726562\n",
      "Sterzo angle: 3.4726943969726562\n",
      "Sterzo angle: 3.7068023681640625\n",
      "Sterzo angle: 3.3000411987304688\n",
      "Sterzo angle: 3.2376708984375\n",
      "Sterzo angle: 3.1749267578125\n"
     ]
    }
   ],
   "source": [
    "await asyncio.sleep(10)"
   ]
  },
  {
   "cell_type": "code",
   "execution_count": 14,
   "metadata": {},
   "outputs": [
    {
     "name": "stdout",
     "output_type": "stream",
     "text": [
      "Stopped streaming\n",
      "Disconnected from 715D8603-DC4C-2994-C0CD-2BC5A93E0B38\n"
     ]
    },
    {
     "data": {
      "text/plain": [
       "True"
      ]
     },
     "execution_count": 14,
     "metadata": {},
     "output_type": "execute_result"
    }
   ],
   "source": [
    "await model.disconnect()"
   ]
  }
 ],
 "metadata": {
  "kernelspec": {
   "display_name": "Python 3",
   "language": "python",
   "name": "python3"
  },
  "language_info": {
   "codemirror_mode": {
    "name": "ipython",
    "version": 3
   },
   "file_extension": ".py",
   "mimetype": "text/x-python",
   "name": "python",
   "nbconvert_exporter": "python",
   "pygments_lexer": "ipython3",
   "version": "3.9.6"
  }
 },
 "nbformat": 4,
 "nbformat_minor": 2
}
