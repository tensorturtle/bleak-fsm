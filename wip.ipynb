{
 "cells": [
  {
   "cell_type": "markdown",
   "metadata": {},
   "source": [
    "# Extremely Minimal, Dirty Bleak Scanner implementation "
   ]
  },
  {
   "cell_type": "code",
   "execution_count": 1,
   "metadata": {},
   "outputs": [
    {
     "name": "stdout",
     "output_type": "stream",
     "text": [
      "Defaulting to user installation because normal site-packages is not writeable\n",
      "Requirement already satisfied: transitions in /Users/tensorturtle/Library/Python/3.9/lib/python/site-packages (from -r requirements.txt (line 5)) (0.9.0)\n",
      "Requirement already satisfied: bleak in /Users/tensorturtle/Library/Python/3.9/lib/python/site-packages (from -r requirements.txt (line 6)) (0.21.1)\n",
      "Requirement already satisfied: pycycling in /Users/tensorturtle/Library/Python/3.9/lib/python/site-packages (from -r requirements.txt (line 7)) (0.3.4)\n",
      "Requirement already satisfied: six in /Library/Developer/CommandLineTools/Library/Frameworks/Python3.framework/Versions/3.9/lib/python3.9/site-packages (from transitions->-r requirements.txt (line 5)) (1.15.0)\n",
      "Requirement already satisfied: pyobjc-framework-CoreBluetooth<10.0,>=9.2 in /Users/tensorturtle/Library/Python/3.9/lib/python/site-packages (from bleak->-r requirements.txt (line 6)) (9.2)\n",
      "Requirement already satisfied: typing-extensions>=4.7.0 in /Users/tensorturtle/Library/Python/3.9/lib/python/site-packages (from bleak->-r requirements.txt (line 6)) (4.9.0)\n",
      "Requirement already satisfied: pyobjc-framework-libdispatch<10.0,>=9.2 in /Users/tensorturtle/Library/Python/3.9/lib/python/site-packages (from bleak->-r requirements.txt (line 6)) (9.2)\n",
      "Requirement already satisfied: async-timeout<5,>=3.0.0 in /Users/tensorturtle/Library/Python/3.9/lib/python/site-packages (from bleak->-r requirements.txt (line 6)) (4.0.3)\n",
      "Requirement already satisfied: pyobjc-core<10.0,>=9.2 in /Users/tensorturtle/Library/Python/3.9/lib/python/site-packages (from bleak->-r requirements.txt (line 6)) (9.2)\n",
      "Requirement already satisfied: pyobjc-framework-Cocoa>=9.2 in /Users/tensorturtle/Library/Python/3.9/lib/python/site-packages (from pyobjc-framework-CoreBluetooth<10.0,>=9.2->bleak->-r requirements.txt (line 6)) (9.2)\n",
      "\u001b[33mWARNING: You are using pip version 21.2.4; however, version 24.0 is available.\n",
      "You should consider upgrading via the '/Library/Developer/CommandLineTools/usr/bin/python3 -m pip install --upgrade pip' command.\u001b[0m\n"
     ]
    }
   ],
   "source": [
    "!pip3 install -r requirements.txt"
   ]
  },
  {
   "cell_type": "code",
   "execution_count": 2,
   "metadata": {},
   "outputs": [],
   "source": [
    "from transitions.extensions.asyncio import AsyncMachine\n",
    "import asyncio\n",
    "import time"
   ]
  },
  {
   "cell_type": "code",
   "execution_count": 3,
   "metadata": {},
   "outputs": [],
   "source": [
    "from bleak import BleakClient, BleakScanner\n",
    "from bleak.backends.device import BLEDevice"
   ]
  },
  {
   "cell_type": "code",
   "execution_count": 4,
   "metadata": {},
   "outputs": [],
   "source": [
    "USE_PYCYCLING = True\n",
    "\n",
    "if USE_PYCYCLING:\n",
    "    from pycycling.heart_rate_service import HeartRateService\n"
   ]
  },
  {
   "cell_type": "code",
   "execution_count": 5,
   "metadata": {},
   "outputs": [],
   "source": [
    "HEART_RATE_MEASUREMENT_CHARACTERISTIC_UUID = \"00002a37-0000-1000-8000-00805f9b34fb\""
   ]
  },
  {
   "cell_type": "code",
   "execution_count": 6,
   "metadata": {},
   "outputs": [],
   "source": [
    "class BleakFSMError(Exception):\n",
    "    '''\n",
    "    Base class for this library's exceptions.\n",
    "    When developers use Bleak FSM, they should only see subclasses of this exception.\n",
    "    No other types of exceptions should pass through and be raised.\n",
    "    '''\n",
    "    pass\n",
    "\n",
    "class StaleScanError(BleakFSMError):\n",
    "    '''\n",
    "    Raised when the scan is stale.\n",
    "    '''\n",
    "    def __init__(self):\n",
    "        super().__init__(\"Scan is stale. Please rescan. Consider setting 'auto_rescan=True' to avoid this error.\")\n",
    "\n",
    "class NoDevicesFoundError(BleakFSMError):\n",
    "    '''\n",
    "    Raised when no devices are found during a scan.\n",
    "    '''\n",
    "    def __init__(self):\n",
    "        super().__init__(\"No devices found during scan.\")"
   ]
  },
  {
   "cell_type": "code",
   "execution_count": 7,
   "metadata": {},
   "outputs": [],
   "source": [
    "from pycycling.heart_rate_service import HeartRateService"
   ]
  },
  {
   "cell_type": "code",
   "execution_count": 8,
   "metadata": {},
   "outputs": [],
   "source": [
    "class BleakModel:\n",
    "    '''\n",
    "    This class is a transitions.AsyncModel wrapper around the BleakScanner class.\n",
    "    It is used to scan and receive data for Bluetooth Low Energy devices,\n",
    "    while providing a simple state machine interface to the programmer.\n",
    "\n",
    "    Many of this class's methods are meant to be state machine callbacks, \n",
    "    so they are prefixed with an underscore to prevent accidentally calling them directly.\n",
    "    '''\n",
    "    bt_devices = {} # class variable to store the discovered devices, since we can only have one BleakScanner\n",
    "    _stop_scan_event = asyncio.Event() # class variable to stop the scan\n",
    "    def __init__(self, scan_stale_time=120, auto_rescan=True, rescan_timeout=3):\n",
    "        '''\n",
    "        Args\n",
    "            (int) scan_stale_time: number of seconds while scan results are considered valid for establishing connection. Must re-scan if connection attempted after this time.\n",
    "            (bool) auto_rescan: If connect() attempted when scan is stale, run scan for `rescan_timeout` seconds\n",
    "            (int) rescan_timeout: Number of seconds to scan, if auto_rescan is True. If scan isn't stale, then this value is not used and scan continues indefinitely until you call stop_scan().\n",
    "        '''\n",
    "        self.bleak_client: BleakClient = None\n",
    "        self.ble_device: BLEDevice = None\n",
    "        self.target = None\n",
    "        self._stop_streaming_event = asyncio.Event()\n",
    "\n",
    "        self.scan_stale_time = scan_stale_time\n",
    "        self.auto_rescan = auto_rescan\n",
    "        self.rescan_timeout = rescan_timeout\n",
    "\n",
    "        self.wrapped_client = None # Either identical to `self.bleak_client` (not wrapped) or custom object that represents the BLE device that presumably takes in a BleakClient, such as pycycling classes\n",
    "        self.enable_notifications = None # an Async Callable must be set later that takes in a BleakClient or similar (Pycycling) object\n",
    "        self.set_measurement_handler = None  # a Callable must be set later that takes in a BleakClient or similar (Pycycling) object and a value\n",
    "        self.disable_notifications = None # an Async Callable must be set later that takes in a BleakClient or similar (Pycycling) object\n",
    "\n",
    "        self.last_scan_time = None\n",
    "        \n",
    "    def set_target_address(self, address):\n",
    "        if address in BleakModel.bt_devices:\n",
    "            self.target = address\n",
    "            return True\n",
    "        else:\n",
    "            return BleakFSMError(f\"Address {address} not found in discovered devices\")\n",
    "\n",
    "    async def _bt_scan(self):        \n",
    "        def detection_callback(device, _advertisement_data):\n",
    "            BleakModel.bt_devices[device.address] = device\n",
    "        async with BleakScanner(detection_callback) as scanner:\n",
    "            await self._stop_scan_event.wait() # continues to scan until stop_scan_event is set\n",
    "\n",
    "\n",
    "    async def _stop_bt_scan(self):\n",
    "        self.last_scan_time = time.time()\n",
    "        self._stop_scan_event.set()\n",
    "\n",
    "    async def _connect_to_device(self):\n",
    "        # stale scan data\n",
    "        if self.last_scan_time is not None:\n",
    "            if time.time() - self.last_scan_time > self.scan_stale_time:\n",
    "                if self.auto_rescan:\n",
    "                    print(\"Stale scan. Automatically re-scanning before attempting connect\")\n",
    "                    await self._bt_scan()\n",
    "                    await asyncio.sleep(self.rescan_timeout)\n",
    "                    await self._stop_bt_scan()\n",
    "                    await self._connect_to_device() # while this looks recursive, it isn't because after one iteration, the stale time will not have been reached\n",
    "                    return True\n",
    "                else:\n",
    "                    raise StaleScanError()\n",
    "                \n",
    "        if len(BleakModel.bt_devices) == 0:\n",
    "            raise NoDevicesFoundError()\n",
    "        try:\n",
    "            self.ble_device = (BleakModel.bt_devices.pop(self.target))# remove the device from the list to avoid connecting to it multiple times\n",
    "        except:\n",
    "            raise BleakFSMError(f\"Bluetooth device {self.target} not found in scanned list. It could be powered off, connected to another device, or to another BleakModel.\")\n",
    "        self.bleak_client = BleakClient(self.ble_device) # we don't use the async context manager because we want to access the client object from the disconnect function\n",
    "        try:\n",
    "            connected = await self.bleak_client.connect()\n",
    "            if connected:\n",
    "                print(f\"Connected to {self.target}\")\n",
    "\n",
    "                self.wrapped_client = self.wrap(self.bleak_client)\n",
    "                    \n",
    "                return True\n",
    "            else:\n",
    "                print(f\"Failed to connect to {self.target}\")\n",
    "        except Exception as e:\n",
    "            print(f\"An error occurred: {e}\")\n",
    "            return False\n",
    "        return True\n",
    "    \n",
    "    async def _disconnect_from_device(self):\n",
    "        BleakModel.bt_devices[self.target] = self.ble_device # put it back in the list\n",
    "        await self.bleak_client.disconnect()\n",
    "        print(f\"Disconnected from {self.bleak_client.address}\")\n",
    "\n",
    "    async def _stream_from_device(self):\n",
    "        self._stop_streaming_event.clear()\n",
    "\n",
    "        self.set_measurement_handler(self.wrapped_client)\n",
    "        await self.enable_notifications(self.wrapped_client)\n",
    "        \n",
    "        print(\"Started streaming\")\n",
    "\n",
    "        await self._stop_streaming_event.wait()\n",
    "        return True\n",
    "    \n",
    "    async def send_command(self, command):\n",
    "        if self.state != \"Streaming\":\n",
    "            raise BleakFSMError(\"Cannot send command while not streaming\")\n",
    "        raise NotImplementedError(\"Todo: Implement this method\")\n",
    "\n",
    "    async def _stop_stream_from_device(self):\n",
    "        self._stop_streaming_event.set()\n",
    "        try:\n",
    "            await self.disable_notifications(self.wrapped_client)\n",
    "\n",
    "            print(\"Stopped streaming\")\n",
    "            return True\n",
    "        except Exception as e:\n",
    "            print(f\"An error occurred while stopping streaming: {e}\")\n",
    "            return False\n",
    "\n",
    "    async def _stop_stream_and_disconnect_from_device(self):\n",
    "        '''\n",
    "        Since we can't re-use the connection after stopping notify,\n",
    "        we bundle the stop streaming and disconnect logic\n",
    "        so that the state jumps from Streaming to Init.\n",
    "        '''\n",
    "        await self._stop_stream_from_device()\n",
    "        await self._disconnect_from_device()\n",
    "        return True\n",
    "    "
   ]
  },
  {
   "cell_type": "code",
   "execution_count": 9,
   "metadata": {},
   "outputs": [],
   "source": [
    "\n",
    "model = BleakModel()\n",
    "\n",
    "if USE_PYCYCLING:\n",
    "    model.wrap = lambda client: HeartRateService(client)\n",
    "    model.enable_notifications = lambda client: client.enable_hr_measurement_notifications()\n",
    "    model.disable_notifications = lambda client: client.disable_hr_measurement_notifications()\n",
    "    model.set_measurement_handler = lambda client: client.set_hr_measurement_handler(lambda value: print(f\"HR: {value}\"))\n",
    "else:\n",
    "    model.wrap = lambda client: client # no wrapping; use the BleakClient object directly\n",
    "    model.enable_notifications = lambda client: client.start_notify(HEART_RATE_MEASUREMENT_CHARACTERISTIC_UUID, handle_hr_measurement)\n",
    "    model.disable_notifications = lambda client: client.stop_notify(HEART_RATE_MEASUREMENT_CHARACTERISTIC_UUID)\n",
    "    def handle_hr_measurement(sender, data):\n",
    "        print(f\"Data received from {sender}: {data}\")\n",
    "        flag = data[0]\n",
    "        heart_rate = data[1]\n",
    "        print(f\"Heart Rate: {heart_rate} beats per minute\")\n",
    "    model.set_measurement_handler = lambda client: handle_hr_measurement\n",
    "\n",
    "transitions = []\n",
    "\n",
    "machine = AsyncMachine(model, states=[\"Init\", \"Scanning\", \"Connected\", \"Streaming\"], transitions=transitions, initial='Init')\n",
    "\n",
    "machine.add_transition(\n",
    "    trigger=\"start_scan\",\n",
    "    source=\"Init\",\n",
    "    dest=\"Scanning\",\n",
    "    after=\"_bt_scan\"\n",
    ")\n",
    "\n",
    "machine.add_transition(\n",
    "    trigger=\"stop_scan\",\n",
    "    source=\"Scanning\",\n",
    "    dest=\"Init\",\n",
    "    after=\"_stop_bt_scan\"\n",
    ")\n",
    "\n",
    "machine.add_transition(\n",
    "    trigger=\"connect\",\n",
    "    source=\"Init\",\n",
    "    dest=\"Connected\",\n",
    "    conditions=\"_connect_to_device\",\n",
    ")\n",
    "\n",
    "machine.add_transition(\n",
    "    trigger=\"stream\",\n",
    "    source=\"Connected\",\n",
    "    dest=\"Streaming\",\n",
    "    after=\"_stream_from_device\"\n",
    ")\n",
    "\n",
    "# The following two \"disconnect\" triggers are for\n",
    "# Connected -> Init (which is obvious) and\n",
    "# Streaming -> Init: After a stream is stopped, we can't go back to Connected\n",
    "# because we can't re-use the BleakClient object.\n",
    "# Therefore we need to go one more back to Init,\n",
    "# then to Connect, and then back to Streaming.\n",
    "\n",
    "machine.add_transition(\n",
    "    trigger=\"disconnect\",\n",
    "    source=\"Connected\",\n",
    "    dest=\"Init\",\n",
    "    before=\"_disconnect_from_device\"\n",
    ")\n",
    "\n",
    "\n",
    "machine.add_transition(\n",
    "    trigger=\"disconnect\",\n",
    "    source=\"Streaming\",\n",
    "    dest=\"Init\",\n",
    "    before=\"_stop_stream_and_disconnect_from_device\"\n",
    ")"
   ]
  },
  {
   "cell_type": "code",
   "execution_count": 10,
   "metadata": {},
   "outputs": [
    {
     "name": "stdout",
     "output_type": "stream",
     "text": [
      "Correctly raised error: No devices found during scan.\n"
     ]
    }
   ],
   "source": [
    "# If we try to run connect() without having scanned, it should fail \n",
    "# and raise BleakFSMError\n",
    "# specifically, `is_device_list_empty` will return True, and the `unless` condition will fail\n",
    "\n",
    "try:\n",
    "    await model.connect()\n",
    "except BleakFSMError as e:\n",
    "    print(f\"Correctly raised error: {e}\")"
   ]
  },
  {
   "cell_type": "code",
   "execution_count": 11,
   "metadata": {},
   "outputs": [
    {
     "data": {
      "text/plain": [
       "<Task pending name='Task-7' coro=<AsyncEvent.trigger() running at /Users/tensorturtle/Library/Python/3.9/lib/python/site-packages/transitions/extensions/asyncio.py:166>>"
      ]
     },
     "execution_count": 11,
     "metadata": {},
     "output_type": "execute_result"
    }
   ],
   "source": [
    "# Since we're in a Jupyter notebook, \n",
    "# we need to use `create_task()` instead of `get_event_loop().run_until_complete()`\n",
    "# to use the existing event loop which Jupyter runs on.\n",
    "asyncio.create_task(model.start_scan())\n",
    "# if we used\n",
    "# `await model.start_scan()`\n",
    "# then it would work, but it would block until the scan is finished, which is not what we want,\n",
    "# because below we will show how the `model.bt_devices` dictionary gets filled with the results of the scan."
   ]
  },
  {
   "cell_type": "code",
   "execution_count": 12,
   "metadata": {},
   "outputs": [
    {
     "data": {
      "text/plain": [
       "'Scanning'"
      ]
     },
     "execution_count": 12,
     "metadata": {},
     "output_type": "execute_result"
    }
   ],
   "source": [
    "model.state"
   ]
  },
  {
   "cell_type": "code",
   "execution_count": 13,
   "metadata": {},
   "outputs": [
    {
     "data": {
      "text/plain": [
       "<Task pending name='Task-9' coro=<stop_after_delay() running at /var/folders/16/dbv855p93hx5m7mgrd8fwscw0000gn/T/ipykernel_84298/921128545.py:1>>"
      ]
     },
     "execution_count": 13,
     "metadata": {},
     "output_type": "execute_result"
    }
   ],
   "source": [
    "async def stop_after_delay(delay, model):\n",
    "    print(\"Starting sleep for 2 seconds (giving the scanner time to scan)\")\n",
    "    await asyncio.sleep(delay)\n",
    "    print(\"Slept for 2 seconds (sending end signal to scanner)\")\n",
    "    await model.stop_scan()\n",
    "    print(\"Stopped scanning\")\n",
    "    \n",
    "\n",
    "asyncio.create_task(stop_after_delay(2, model))"
   ]
  },
  {
   "cell_type": "code",
   "execution_count": 14,
   "metadata": {},
   "outputs": [
    {
     "name": "stdout",
     "output_type": "stream",
     "text": [
      "Starting sleep for 2 seconds (giving the scanner time to scan)\n",
      "1 devices found in 0.0 seconds.\n",
      "3 devices found in 0.05 seconds.\n",
      "7 devices found in 0.1 seconds.\n",
      "9 devices found in 0.15 seconds.\n",
      "11 devices found in 0.2 seconds.\n",
      "14 devices found in 0.25 seconds.\n",
      "14 devices found in 0.3 seconds.\n",
      "14 devices found in 0.35 seconds.\n",
      "14 devices found in 0.4 seconds.\n",
      "15 devices found in 0.45 seconds.\n",
      "17 devices found in 0.5 seconds.\n",
      "17 devices found in 0.55 seconds.\n",
      "17 devices found in 0.6 seconds.\n",
      "18 devices found in 0.65 seconds.\n",
      "20 devices found in 0.7 seconds.\n",
      "20 devices found in 0.75 seconds.\n",
      "21 devices found in 0.8 seconds.\n",
      "21 devices found in 0.85 seconds.\n",
      "22 devices found in 0.9 seconds.\n",
      "23 devices found in 0.95 seconds.\n"
     ]
    }
   ],
   "source": [
    "async def print_as_we_go():\n",
    "    for i in range(20):\n",
    "        print(f\"{len(BleakModel.bt_devices)} devices found in {round(i*0.05,2)} seconds.\")\n",
    "        await asyncio.sleep(0.05)\n",
    "\n",
    "await print_as_we_go()"
   ]
  },
  {
   "cell_type": "code",
   "execution_count": 15,
   "metadata": {},
   "outputs": [
    {
     "data": {
      "text/plain": [
       "{'DC9EC886-4EE3-4520-3889-F7BDD5458063': BLEDevice(DC9EC886-4EE3-4520-3889-F7BDD5458063, None),\n",
       " 'DDD428B0-CF74-9B34-C04A-D50C13B9F3E1': BLEDevice(DDD428B0-CF74-9B34-C04A-D50C13B9F3E1, None),\n",
       " '07A90BAE-DBB9-16F3-E665-93218FF7FF07': BLEDevice(07A90BAE-DBB9-16F3-E665-93218FF7FF07, None),\n",
       " '3FEC3389-7F84-AFC4-6EF1-BDE6CD37F862': BLEDevice(3FEC3389-7F84-AFC4-6EF1-BDE6CD37F862, Green Apple),\n",
       " '2D3E1ECB-9227-97D4-7186-93BFB708BB32': BLEDevice(2D3E1ECB-9227-97D4-7186-93BFB708BB32, None),\n",
       " 'C0C85B6F-FA91-DB58-A8C4-B5A9E4CDE002': BLEDevice(C0C85B6F-FA91-DB58-A8C4-B5A9E4CDE002, None),\n",
       " 'F2284159-6962-7274-C8B8-2E5180CEDCFD': BLEDevice(F2284159-6962-7274-C8B8-2E5180CEDCFD, midea),\n",
       " '680A9629-A8FF-B01B-4065-4CEED62679AA': BLEDevice(680A9629-A8FF-B01B-4065-4CEED62679AA, None),\n",
       " '91E0D34D-21C3-1DFD-4021-CF9C4D058AAE': BLEDevice(91E0D34D-21C3-1DFD-4021-CF9C4D058AAE, None),\n",
       " '18F94F01-45F9-4FA1-B464-5F48A9F74383': BLEDevice(18F94F01-45F9-4FA1-B464-5F48A9F74383, None),\n",
       " 'FA77102A-9850-CE72-BEE1-CA293B632CDF': BLEDevice(FA77102A-9850-CE72-BEE1-CA293B632CDF, None),\n",
       " 'F1557751-523C-BC0B-706D-4471F7AE43E9': BLEDevice(F1557751-523C-BC0B-706D-4471F7AE43E9, None),\n",
       " '185F398C-CC97-38B8-6356-1AFEE20E0592': BLEDevice(185F398C-CC97-38B8-6356-1AFEE20E0592, None),\n",
       " '0581653B-744E-B91D-60DE-38D1D94B45DC': BLEDevice(0581653B-744E-B91D-60DE-38D1D94B45DC, None),\n",
       " '04626C12-EF6F-E18E-2E4A-01FB9C49EB29': BLEDevice(04626C12-EF6F-E18E-2E4A-01FB9C49EB29, None),\n",
       " '21A2BAB1-5D6C-0EB8-A089-D3BA3EC97555': BLEDevice(21A2BAB1-5D6C-0EB8-A089-D3BA3EC97555, None),\n",
       " '38B41F2B-8D6B-9171-6E5A-0AE5F83FDE4E': BLEDevice(38B41F2B-8D6B-9171-6E5A-0AE5F83FDE4E, None),\n",
       " '5F262530-034D-BD1D-9AA0-174536915BCF': BLEDevice(5F262530-034D-BD1D-9AA0-174536915BCF, None),\n",
       " 'C865A5FB-1D0D-6B30-A781-ED4B48301061': BLEDevice(C865A5FB-1D0D-6B30-A781-ED4B48301061, None),\n",
       " '4786980C-B022-B5D3-AF83-ED5898ECF34B': BLEDevice(4786980C-B022-B5D3-AF83-ED5898ECF34B, None),\n",
       " '87E335FE-D932-B933-47F8-8DB14B39647A': BLEDevice(87E335FE-D932-B933-47F8-8DB14B39647A, None),\n",
       " '406672F4-C03E-A1DB-C5AD-9B3050C5CEEE': BLEDevice(406672F4-C03E-A1DB-C5AD-9B3050C5CEEE, None),\n",
       " '14863C4D-BF71-4EA3-C6B4-98001056AAF8': BLEDevice(14863C4D-BF71-4EA3-C6B4-98001056AAF8, WHOOPDEDOO)}"
      ]
     },
     "execution_count": 15,
     "metadata": {},
     "output_type": "execute_result"
    }
   ],
   "source": [
    "model.bt_devices"
   ]
  },
  {
   "cell_type": "code",
   "execution_count": 16,
   "metadata": {},
   "outputs": [
    {
     "name": "stdout",
     "output_type": "stream",
     "text": [
      "Slept for 2 seconds (sending end signal to scanner)\n",
      "Stopped scanning\n"
     ]
    }
   ],
   "source": [
    "await asyncio.sleep(3)"
   ]
  },
  {
   "cell_type": "code",
   "execution_count": 17,
   "metadata": {},
   "outputs": [
    {
     "name": "stdout",
     "output_type": "stream",
     "text": [
      "DC9EC886-4EE3-4520-3889-F7BDD5458063: None\n",
      "DDD428B0-CF74-9B34-C04A-D50C13B9F3E1: None\n",
      "07A90BAE-DBB9-16F3-E665-93218FF7FF07: None\n",
      "3FEC3389-7F84-AFC4-6EF1-BDE6CD37F862: Green Apple\n",
      "2D3E1ECB-9227-97D4-7186-93BFB708BB32: None\n",
      "C0C85B6F-FA91-DB58-A8C4-B5A9E4CDE002: None\n",
      "F2284159-6962-7274-C8B8-2E5180CEDCFD: midea\n",
      "680A9629-A8FF-B01B-4065-4CEED62679AA: None\n",
      "91E0D34D-21C3-1DFD-4021-CF9C4D058AAE: None\n",
      "18F94F01-45F9-4FA1-B464-5F48A9F74383: None\n",
      "FA77102A-9850-CE72-BEE1-CA293B632CDF: None\n",
      "F1557751-523C-BC0B-706D-4471F7AE43E9: None\n",
      "185F398C-CC97-38B8-6356-1AFEE20E0592: None\n",
      "0581653B-744E-B91D-60DE-38D1D94B45DC: None\n",
      "04626C12-EF6F-E18E-2E4A-01FB9C49EB29: None\n",
      "21A2BAB1-5D6C-0EB8-A089-D3BA3EC97555: None\n",
      "38B41F2B-8D6B-9171-6E5A-0AE5F83FDE4E: None\n",
      "5F262530-034D-BD1D-9AA0-174536915BCF: None\n",
      "C865A5FB-1D0D-6B30-A781-ED4B48301061: None\n",
      "4786980C-B022-B5D3-AF83-ED5898ECF34B: None\n",
      "87E335FE-D932-B933-47F8-8DB14B39647A: None\n",
      "406672F4-C03E-A1DB-C5AD-9B3050C5CEEE: None\n",
      "14863C4D-BF71-4EA3-C6B4-98001056AAF8: WHOOPDEDOO\n",
      "6FECB596-5421-1A30-ECF2-8B1808B9ED81: None\n",
      "6B647B17-FEE9-8078-CBBC-54192B58EF43: None\n",
      "D34CC96F-7A5A-3183-A18D-9E0AA411F245: None\n",
      "76C9191B-5459-1F46-D428-82AE4D5E2CEF: None\n",
      "6F9143F6-84AC-6E3F-A53F-24249BC6D855: None\n",
      "62ED5CDF-1BBC-B4CD-876B-183985770C1C: None\n",
      "65C50F6D-9430-6EAE-AF4E-C881FA502428: None\n"
     ]
    }
   ],
   "source": [
    "# Client should select the ID from the following list\n",
    "\n",
    "for k,v in model.bt_devices.items():\n",
    "    print(v)"
   ]
  },
  {
   "cell_type": "code",
   "execution_count": 18,
   "metadata": {},
   "outputs": [
    {
     "data": {
      "text/plain": [
       "True"
      ]
     },
     "execution_count": 18,
     "metadata": {},
     "output_type": "execute_result"
    }
   ],
   "source": [
    "# Client should set the target address \n",
    "\n",
    "model.set_target_address(\"14863C4D-BF71-4EA3-C6B4-98001056AAF8\")"
   ]
  },
  {
   "cell_type": "code",
   "execution_count": 19,
   "metadata": {},
   "outputs": [
    {
     "name": "stdout",
     "output_type": "stream",
     "text": [
      "Connected to 14863C4D-BF71-4EA3-C6B4-98001056AAF8\n"
     ]
    },
    {
     "data": {
      "text/plain": [
       "True"
      ]
     },
     "execution_count": 19,
     "metadata": {},
     "output_type": "execute_result"
    }
   ],
   "source": [
    "await model.connect() # first time connecting"
   ]
  },
  {
   "cell_type": "code",
   "execution_count": 20,
   "metadata": {},
   "outputs": [
    {
     "data": {
      "text/plain": [
       "'Connected'"
      ]
     },
     "execution_count": 20,
     "metadata": {},
     "output_type": "execute_result"
    }
   ],
   "source": [
    "model.state"
   ]
  },
  {
   "cell_type": "code",
   "execution_count": 21,
   "metadata": {},
   "outputs": [],
   "source": [
    "# a second bluetooth model\n",
    "\n",
    "model2 = BleakModel()\n",
    "machine.add_model(model2)"
   ]
  },
  {
   "cell_type": "code",
   "execution_count": 22,
   "metadata": {},
   "outputs": [
    {
     "data": {
      "text/plain": [
       "__main__.BleakFSMError('Address 14863C4D-BF71-4EA3-C6B4-98001056AAF8 not found in discovered devices')"
      ]
     },
     "execution_count": 22,
     "metadata": {},
     "output_type": "execute_result"
    }
   ],
   "source": [
    "model2.set_target_address(\"14863C4D-BF71-4EA3-C6B4-98001056AAF8\")\n"
   ]
  },
  {
   "cell_type": "code",
   "execution_count": 23,
   "metadata": {},
   "outputs": [
    {
     "name": "stderr",
     "output_type": "stream",
     "text": [
      "/var/folders/16/dbv855p93hx5m7mgrd8fwscw0000gn/T/ipykernel_84298/1969657322.py:3: RuntimeWarning: coroutine 'sleep' was never awaited\n",
      "  asyncio.sleep(3)\n",
      "RuntimeWarning: Enable tracemalloc to get the object allocation traceback\n"
     ]
    },
    {
     "data": {
      "text/plain": [
       "{'DC9EC886-4EE3-4520-3889-F7BDD5458063': BLEDevice(DC9EC886-4EE3-4520-3889-F7BDD5458063, None),\n",
       " 'DDD428B0-CF74-9B34-C04A-D50C13B9F3E1': BLEDevice(DDD428B0-CF74-9B34-C04A-D50C13B9F3E1, None),\n",
       " '07A90BAE-DBB9-16F3-E665-93218FF7FF07': BLEDevice(07A90BAE-DBB9-16F3-E665-93218FF7FF07, None),\n",
       " '3FEC3389-7F84-AFC4-6EF1-BDE6CD37F862': BLEDevice(3FEC3389-7F84-AFC4-6EF1-BDE6CD37F862, Green Apple),\n",
       " '2D3E1ECB-9227-97D4-7186-93BFB708BB32': BLEDevice(2D3E1ECB-9227-97D4-7186-93BFB708BB32, None),\n",
       " 'C0C85B6F-FA91-DB58-A8C4-B5A9E4CDE002': BLEDevice(C0C85B6F-FA91-DB58-A8C4-B5A9E4CDE002, None),\n",
       " 'F2284159-6962-7274-C8B8-2E5180CEDCFD': BLEDevice(F2284159-6962-7274-C8B8-2E5180CEDCFD, midea),\n",
       " '680A9629-A8FF-B01B-4065-4CEED62679AA': BLEDevice(680A9629-A8FF-B01B-4065-4CEED62679AA, None),\n",
       " '91E0D34D-21C3-1DFD-4021-CF9C4D058AAE': BLEDevice(91E0D34D-21C3-1DFD-4021-CF9C4D058AAE, None),\n",
       " '18F94F01-45F9-4FA1-B464-5F48A9F74383': BLEDevice(18F94F01-45F9-4FA1-B464-5F48A9F74383, None),\n",
       " 'FA77102A-9850-CE72-BEE1-CA293B632CDF': BLEDevice(FA77102A-9850-CE72-BEE1-CA293B632CDF, None),\n",
       " 'F1557751-523C-BC0B-706D-4471F7AE43E9': BLEDevice(F1557751-523C-BC0B-706D-4471F7AE43E9, None),\n",
       " '185F398C-CC97-38B8-6356-1AFEE20E0592': BLEDevice(185F398C-CC97-38B8-6356-1AFEE20E0592, None),\n",
       " '0581653B-744E-B91D-60DE-38D1D94B45DC': BLEDevice(0581653B-744E-B91D-60DE-38D1D94B45DC, None),\n",
       " '04626C12-EF6F-E18E-2E4A-01FB9C49EB29': BLEDevice(04626C12-EF6F-E18E-2E4A-01FB9C49EB29, None),\n",
       " '21A2BAB1-5D6C-0EB8-A089-D3BA3EC97555': BLEDevice(21A2BAB1-5D6C-0EB8-A089-D3BA3EC97555, None),\n",
       " '38B41F2B-8D6B-9171-6E5A-0AE5F83FDE4E': BLEDevice(38B41F2B-8D6B-9171-6E5A-0AE5F83FDE4E, None),\n",
       " '5F262530-034D-BD1D-9AA0-174536915BCF': BLEDevice(5F262530-034D-BD1D-9AA0-174536915BCF, None),\n",
       " 'C865A5FB-1D0D-6B30-A781-ED4B48301061': BLEDevice(C865A5FB-1D0D-6B30-A781-ED4B48301061, None),\n",
       " '4786980C-B022-B5D3-AF83-ED5898ECF34B': BLEDevice(4786980C-B022-B5D3-AF83-ED5898ECF34B, None),\n",
       " '87E335FE-D932-B933-47F8-8DB14B39647A': BLEDevice(87E335FE-D932-B933-47F8-8DB14B39647A, None),\n",
       " '406672F4-C03E-A1DB-C5AD-9B3050C5CEEE': BLEDevice(406672F4-C03E-A1DB-C5AD-9B3050C5CEEE, None),\n",
       " '6FECB596-5421-1A30-ECF2-8B1808B9ED81': BLEDevice(6FECB596-5421-1A30-ECF2-8B1808B9ED81, None),\n",
       " '6B647B17-FEE9-8078-CBBC-54192B58EF43': BLEDevice(6B647B17-FEE9-8078-CBBC-54192B58EF43, None),\n",
       " 'D34CC96F-7A5A-3183-A18D-9E0AA411F245': BLEDevice(D34CC96F-7A5A-3183-A18D-9E0AA411F245, None),\n",
       " '76C9191B-5459-1F46-D428-82AE4D5E2CEF': BLEDevice(76C9191B-5459-1F46-D428-82AE4D5E2CEF, None),\n",
       " '6F9143F6-84AC-6E3F-A53F-24249BC6D855': BLEDevice(6F9143F6-84AC-6E3F-A53F-24249BC6D855, None),\n",
       " '62ED5CDF-1BBC-B4CD-876B-183985770C1C': BLEDevice(62ED5CDF-1BBC-B4CD-876B-183985770C1C, None),\n",
       " '65C50F6D-9430-6EAE-AF4E-C881FA502428': BLEDevice(65C50F6D-9430-6EAE-AF4E-C881FA502428, None)}"
      ]
     },
     "execution_count": 23,
     "metadata": {},
     "output_type": "execute_result"
    }
   ],
   "source": [
    "# since models share the same scan results, this is optional\n",
    "await model2.start_scan()\n",
    "asyncio.sleep(3)\n",
    "await model2.stop_scan()\n",
    "model2.bt_devices"
   ]
  },
  {
   "cell_type": "code",
   "execution_count": 24,
   "metadata": {},
   "outputs": [
    {
     "data": {
      "text/plain": [
       "'Init'"
      ]
     },
     "execution_count": 24,
     "metadata": {},
     "output_type": "execute_result"
    }
   ],
   "source": [
    "model2.state"
   ]
  },
  {
   "cell_type": "code",
   "execution_count": 25,
   "metadata": {},
   "outputs": [
    {
     "data": {
      "text/plain": [
       "'Connected'"
      ]
     },
     "execution_count": 25,
     "metadata": {},
     "output_type": "execute_result"
    }
   ],
   "source": [
    "model.state"
   ]
  },
  {
   "cell_type": "code",
   "execution_count": 26,
   "metadata": {},
   "outputs": [
    {
     "data": {
      "text/plain": [
       "'Connected'"
      ]
     },
     "execution_count": 26,
     "metadata": {},
     "output_type": "execute_result"
    }
   ],
   "source": [
    "model.state"
   ]
  },
  {
   "cell_type": "code",
   "execution_count": 27,
   "metadata": {},
   "outputs": [
    {
     "data": {
      "text/plain": [
       "'Init'"
      ]
     },
     "execution_count": 27,
     "metadata": {},
     "output_type": "execute_result"
    }
   ],
   "source": [
    "model2.state"
   ]
  },
  {
   "cell_type": "code",
   "execution_count": 28,
   "metadata": {},
   "outputs": [
    {
     "data": {
      "text/plain": [
       "<Task pending name='Task-18' coro=<run_stream() running at /var/folders/16/dbv855p93hx5m7mgrd8fwscw0000gn/T/ipykernel_84298/3697076873.py:1>>"
      ]
     },
     "execution_count": 28,
     "metadata": {},
     "output_type": "execute_result"
    }
   ],
   "source": [
    "async def run_stream():\n",
    "    await model.stream()\n",
    "\n",
    "asyncio.create_task(run_stream())"
   ]
  },
  {
   "cell_type": "code",
   "execution_count": 29,
   "metadata": {},
   "outputs": [
    {
     "data": {
      "text/plain": [
       "<Task pending name='Task-20' coro=<run_stream_2() running at /var/folders/16/dbv855p93hx5m7mgrd8fwscw0000gn/T/ipykernel_84298/2315783810.py:1>>"
      ]
     },
     "execution_count": 29,
     "metadata": {},
     "output_type": "execute_result"
    }
   ],
   "source": [
    "async def run_stream_2():\n",
    "    await model2.stream()\n",
    "\n",
    "asyncio.create_task(run_stream_2())"
   ]
  },
  {
   "cell_type": "code",
   "execution_count": 30,
   "metadata": {},
   "outputs": [
    {
     "name": "stdout",
     "output_type": "stream",
     "text": [
      "Started streaming\n",
      "Data received from 00002a37-0000-1000-8000-00805f9b34fb (Handle: 36): Heart Rate Measurement: bytearray(b'\\x10F=\\x03')\n",
      "Heart Rate: 70 beats per minute\n",
      "Data received from 00002a37-0000-1000-8000-00805f9b34fb (Handle: 36): Heart Rate Measurement: bytearray(b'\\x10GO\\x03')\n",
      "Heart Rate: 71 beats per minute\n",
      "Data received from 00002a37-0000-1000-8000-00805f9b34fb (Handle: 36): Heart Rate Measurement: bytearray(b'\\x10G\\xb6\\x03')\n",
      "Heart Rate: 71 beats per minute\n",
      "Data received from 00002a37-0000-1000-8000-00805f9b34fb (Handle: 36): Heart Rate Measurement: bytearray(b'\\x10G+\\x03')\n",
      "Heart Rate: 71 beats per minute\n",
      "Data received from 00002a37-0000-1000-8000-00805f9b34fb (Handle: 36): Heart Rate Measurement: bytearray(b'\\x10Ff\\x03')\n",
      "Heart Rate: 70 beats per minute\n",
      "Data received from 00002a37-0000-1000-8000-00805f9b34fb (Handle: 36): Heart Rate Measurement: bytearray(b'\\x10Ey\\x03')\n",
      "Heart Rate: 69 beats per minute\n",
      "Data received from 00002a37-0000-1000-8000-00805f9b34fb (Handle: 36): Heart Rate Measurement: bytearray(b'\\x10E\\xad\\x03')\n",
      "Heart Rate: 69 beats per minute\n",
      "Data received from 00002a37-0000-1000-8000-00805f9b34fb (Handle: 36): Heart Rate Measurement: bytearray(b'\\x10Ej\\x03')\n",
      "Heart Rate: 69 beats per minute\n",
      "Data received from 00002a37-0000-1000-8000-00805f9b34fb (Handle: 36): Heart Rate Measurement: bytearray(b'\\x10D\\x9d\\x03')\n",
      "Heart Rate: 68 beats per minute\n"
     ]
    }
   ],
   "source": [
    "await asyncio.sleep(10)"
   ]
  },
  {
   "cell_type": "code",
   "execution_count": 31,
   "metadata": {},
   "outputs": [
    {
     "name": "stdout",
     "output_type": "stream",
     "text": [
      "Stopped streaming\n",
      "Disconnected from 14863C4D-BF71-4EA3-C6B4-98001056AAF8\n"
     ]
    },
    {
     "data": {
      "text/plain": [
       "True"
      ]
     },
     "execution_count": 31,
     "metadata": {},
     "output_type": "execute_result"
    }
   ],
   "source": [
    "await model.disconnect()"
   ]
  },
  {
   "cell_type": "code",
   "execution_count": 32,
   "metadata": {},
   "outputs": [
    {
     "data": {
      "text/plain": [
       "'Init'"
      ]
     },
     "execution_count": 32,
     "metadata": {},
     "output_type": "execute_result"
    }
   ],
   "source": [
    "model.state"
   ]
  },
  {
   "cell_type": "code",
   "execution_count": null,
   "metadata": {},
   "outputs": [],
   "source": []
  }
 ],
 "metadata": {
  "kernelspec": {
   "display_name": "Python 3",
   "language": "python",
   "name": "python3"
  },
  "language_info": {
   "codemirror_mode": {
    "name": "ipython",
    "version": 3
   },
   "file_extension": ".py",
   "mimetype": "text/x-python",
   "name": "python",
   "nbconvert_exporter": "python",
   "pygments_lexer": "ipython3",
   "version": "3.9.6"
  }
 },
 "nbformat": 4,
 "nbformat_minor": 2
}
