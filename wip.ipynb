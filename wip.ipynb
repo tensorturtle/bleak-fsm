{
 "cells": [
  {
   "cell_type": "markdown",
   "metadata": {},
   "source": [
    "# Extremely Minimal, Dirty Bleak Scanner implementation "
   ]
  },
  {
   "cell_type": "code",
   "execution_count": 1,
   "metadata": {},
   "outputs": [
    {
     "name": "stdout",
     "output_type": "stream",
     "text": [
      "Defaulting to user installation because normal site-packages is not writeable\n",
      "Requirement already satisfied: transitions in /Users/tensorturtle/Library/Python/3.9/lib/python/site-packages (from -r requirements.txt (line 5)) (0.9.0)\n",
      "Requirement already satisfied: bleak in /Users/tensorturtle/Library/Python/3.9/lib/python/site-packages (from -r requirements.txt (line 6)) (0.21.1)\n",
      "Requirement already satisfied: pycycling in /Users/tensorturtle/Library/Python/3.9/lib/python/site-packages (from -r requirements.txt (line 7)) (0.3.4)\n",
      "Requirement already satisfied: six in /Library/Developer/CommandLineTools/Library/Frameworks/Python3.framework/Versions/3.9/lib/python3.9/site-packages (from transitions->-r requirements.txt (line 5)) (1.15.0)\n",
      "Requirement already satisfied: pyobjc-core<10.0,>=9.2 in /Users/tensorturtle/Library/Python/3.9/lib/python/site-packages (from bleak->-r requirements.txt (line 6)) (9.2)\n",
      "Requirement already satisfied: pyobjc-framework-libdispatch<10.0,>=9.2 in /Users/tensorturtle/Library/Python/3.9/lib/python/site-packages (from bleak->-r requirements.txt (line 6)) (9.2)\n",
      "Requirement already satisfied: async-timeout<5,>=3.0.0 in /Users/tensorturtle/Library/Python/3.9/lib/python/site-packages (from bleak->-r requirements.txt (line 6)) (4.0.3)\n",
      "Requirement already satisfied: typing-extensions>=4.7.0 in /Users/tensorturtle/Library/Python/3.9/lib/python/site-packages (from bleak->-r requirements.txt (line 6)) (4.9.0)\n",
      "Requirement already satisfied: pyobjc-framework-CoreBluetooth<10.0,>=9.2 in /Users/tensorturtle/Library/Python/3.9/lib/python/site-packages (from bleak->-r requirements.txt (line 6)) (9.2)\n",
      "Requirement already satisfied: pyobjc-framework-Cocoa>=9.2 in /Users/tensorturtle/Library/Python/3.9/lib/python/site-packages (from pyobjc-framework-CoreBluetooth<10.0,>=9.2->bleak->-r requirements.txt (line 6)) (9.2)\n",
      "\u001b[33mWARNING: You are using pip version 21.2.4; however, version 24.0 is available.\n",
      "You should consider upgrading via the '/Library/Developer/CommandLineTools/usr/bin/python3 -m pip install --upgrade pip' command.\u001b[0m\n"
     ]
    }
   ],
   "source": [
    "!pip3 install -r requirements.txt"
   ]
  },
  {
   "cell_type": "code",
   "execution_count": 2,
   "metadata": {},
   "outputs": [],
   "source": [
    "from transitions.extensions.asyncio import AsyncMachine\n",
    "import asyncio\n",
    "import time"
   ]
  },
  {
   "cell_type": "code",
   "execution_count": 3,
   "metadata": {},
   "outputs": [],
   "source": [
    "from bleak import BleakClient, BleakScanner\n",
    "from bleak.backends.device import BLEDevice"
   ]
  },
  {
   "cell_type": "code",
   "execution_count": 4,
   "metadata": {},
   "outputs": [],
   "source": [
    "USE_PYCYCLING_EXAMPLE=False\n",
    "if USE_PYCYCLING_EXAMPLE:\n",
    "    from pycycling.sterzo import Sterzo"
   ]
  },
  {
   "cell_type": "code",
   "execution_count": 5,
   "metadata": {},
   "outputs": [],
   "source": [
    "HEART_RATE_MEASUREMENT_CHARACTERISTIC_UUID = \"00002a37-0000-1000-8000-00805f9b34fb\""
   ]
  },
  {
   "cell_type": "code",
   "execution_count": 6,
   "metadata": {},
   "outputs": [],
   "source": [
    "class BleakFSMError(Exception):\n",
    "    pass\n",
    "\n",
    "class StaleScanError(Exception):\n",
    "    pass"
   ]
  },
  {
   "cell_type": "code",
   "execution_count": 7,
   "metadata": {},
   "outputs": [],
   "source": [
    "class BleakModel:\n",
    "    '''\n",
    "    This class is a transitions.AsyncModel wrapper around the BleakScanner class.\n",
    "    It is used to scan for Bluetooth Low Energy devices and return the results within the state machine framework.\n",
    "\n",
    "    Since most of the methods are meant to be state machine callbacks, \n",
    "    they are prefixed with an underscore to prevent accidentally calling them directly.\n",
    "\n",
    "    '''\n",
    "    bt_devices = {} # class variable to store the discovered devices, since we can only have one BleakScanner\n",
    "    _stop_scan_event = asyncio.Event() # class variable to stop the scan\n",
    "    def __init__(self, scan_stale_time=120, auto_rescan=True, scan_timeout=3):\n",
    "        '''\n",
    "        Args\n",
    "            (int) scan_stale_time: number of seconds while scan results are considered valid for establishing connection. Must re-scan if connection attempted after this time.\n",
    "            (bool) auto_rescan: If connect() attempted when scan is stale, run scan for `scan_timeout` seconds\n",
    "            (int) scan_timeout: Number of seconds to scan, if auto_rescan is True\n",
    "        '''\n",
    "        self.bleak_client: BleakClient = None\n",
    "        self.ble_device: BLEDevice = None\n",
    "        self.target = None\n",
    "        self._stop_streaming_event = asyncio.Event()\n",
    "\n",
    "        self.scan_stale_time = scan_stale_time\n",
    "        self.auto_rescan = auto_rescan\n",
    "        self.scan_timeout = scan_timeout\n",
    "\n",
    "        self.last_scan_time = None\n",
    "\n",
    "        if USE_PYCYCLING_EXAMPLE:\n",
    "            self.sterzo: Sterzo = None\n",
    "\n",
    "    def set_target_address(self, address):\n",
    "        if address in BleakModel.bt_devices:\n",
    "            self.target = address\n",
    "            return True\n",
    "        else:\n",
    "            return BleakFSMError(f\"Address {address} not found in discovered devices\")\n",
    "\n",
    "    async def _bt_scan(self):        \n",
    "        def detection_callback(device, _advertisement_data):\n",
    "            BleakModel.bt_devices[device.address] = device\n",
    "        async with BleakScanner(detection_callback) as scanner:\n",
    "            await self._stop_scan_event.wait() # continues to scan until stop_scan_event is set\n",
    "\n",
    "\n",
    "    async def _stop_bt_scan(self):\n",
    "        self.last_scan_time = time.time()\n",
    "\n",
    "        self._stop_scan_event.set()\n",
    "\n",
    "    async def _connect_to_device(self):\n",
    "        # stale scan data\n",
    "        if self.last_scan_time is not None:\n",
    "            if time.time() - self.last_scan_time > self.scan_stale_time:\n",
    "                if self.auto_rescan:\n",
    "                    print(\"Stale scan. Automatically re-scanning before attempting connect\")\n",
    "                    await self._bt_scan()\n",
    "                    await asyncio.sleep(self.scan_timeout)\n",
    "                    await self._stop_bt_scan()\n",
    "                    await self._connect_to_device() # while this looks recursive, it isn't because after one iteration, the stale time will not have been reached\n",
    "                    return True\n",
    "                else:\n",
    "                    raise StaleScanError(f\"It's been over {self.scan_stale_time} seconds since last scan. Scan first (model.start_scan()), and Reconnect (model.connect()). Or, set `auto_rescan=True` to do this automatically\")\n",
    "                \n",
    "        if len(BleakModel.bt_devices) == 0:\n",
    "            raise BleakFSMError(\"No devices found\")\n",
    "            # return False\n",
    "        try:\n",
    "            self.ble_device = (BleakModel.bt_devices.pop(self.target))# remove the device from the list to avoid connecting to it multiple times\n",
    "        except:\n",
    "            raise BleakFSMError(f\"Bluetooth device {self.target} not found in scanned list. It could be powered off, connected to another device, or to another BleakModel.\")\n",
    "        self.bleak_client = BleakClient(self.ble_device) # we don't use the async context manager because we want to access the client object from the disconnect function\n",
    "        try:\n",
    "            connected = await self.bleak_client.connect()\n",
    "            if connected:\n",
    "                print(f\"Connected to {self.target}\")\n",
    "\n",
    "                # If we want to create a class abstraction for the bluetooth device,\n",
    "                # Instantiate it here and pass in the bleak_client. For example:\n",
    "                if USE_PYCYCLING_EXAMPLE:\n",
    "                    self.sterzo = Sterzo(self.bleak_client)\n",
    "                else:\n",
    "                    pass # Otherwise, we can just use the bleak_client itself later on.\n",
    "\n",
    "\n",
    "                return True\n",
    "            else:\n",
    "                print(f\"Failed to connect to {self.target}\")\n",
    "        except Exception as e:\n",
    "            print(f\"An error occurred: {e}\")\n",
    "            return False\n",
    "        return True\n",
    "    \n",
    "    async def _disconnect_from_device(self):\n",
    "        BleakModel.bt_devices[self.target] = self.ble_device # put it back in the list\n",
    "        await self.bleak_client.disconnect()\n",
    "        print(f\"Disconnected from {self.bleak_client.address}\")\n",
    "\n",
    "    async def _stream_from_device(self):\n",
    "        self._stop_streaming_event.clear()\n",
    "\n",
    "        if USE_PYCYCLING_EXAMPLE:\n",
    "            def steering_handler(steering_angle):\n",
    "                print(steering_angle)\n",
    "            \n",
    "            self.sterzo.set_steering_measurement_callback(steering_handler)\n",
    "            await self.sterzo.enable_steering_measurement_notifications()\n",
    "        else: # use heart rate example\n",
    "            def handle_hr_measurement(sender, data):\n",
    "                print(f\"Data received from {sender}: {data}\")\n",
    "                flag = data[0]\n",
    "                heart_rate = data[1]\n",
    "                print(f\"Heart Rate: {heart_rate} beats per minute\")\n",
    "            \n",
    "            await self.bleak_client.start_notify(HEART_RATE_MEASUREMENT_CHARACTERISTIC_UUID, handle_hr_measurement)\n",
    "\n",
    "        print(\"Started streaming\")\n",
    "\n",
    "        await self._stop_streaming_event.wait()\n",
    "        return True\n",
    "\n",
    "    async def _stop_stream_from_device(self):\n",
    "        self._stop_streaming_event.set()\n",
    "        try:\n",
    "            if USE_PYCYCLING_EXAMPLE:\n",
    "                await self.sterzo.disable_steering_measurement_notifications()\n",
    "            else:\n",
    "                await self.bleak_client.stop_notify(HEART_RATE_MEASUREMENT_CHARACTERISTIC_UUID)\n",
    "                \n",
    "            print(\"Stopped streaming\")\n",
    "            return True\n",
    "        except Exception as e:\n",
    "            print(f\"An error occurred while stopping streaming: {e}\")\n",
    "            return False\n",
    "\n",
    "    async def _stop_stream_and_disconnect_from_device(self):\n",
    "        '''\n",
    "        Since we can't re-use the connection after stopping notify,\n",
    "        we bundle the stop streaming and disconnect logic\n",
    "        so that the state jumps from Streaming to Init.\n",
    "        '''\n",
    "        await self._stop_stream_from_device()\n",
    "        await self._disconnect_from_device()\n",
    "        return True\n",
    "    "
   ]
  },
  {
   "cell_type": "code",
   "execution_count": 8,
   "metadata": {},
   "outputs": [],
   "source": [
    "\n",
    "model = BleakModel(\n",
    "    auto_rescan=True\n",
    ")\n",
    "\n",
    "transitions = []\n",
    "\n",
    "machine = AsyncMachine(model, states=[\"Init\", \"Scanning\", \"Connected\", \"Streaming\"], transitions=transitions, initial='Init')\n",
    "\n",
    "machine.add_transition(\n",
    "    trigger=\"start_scan\",\n",
    "    source=\"Init\",\n",
    "    dest=\"Scanning\",\n",
    "    after=\"_bt_scan\"\n",
    ")\n",
    "\n",
    "machine.add_transition(\n",
    "    trigger=\"stop_scan\",\n",
    "    source=\"Scanning\",\n",
    "    dest=\"Init\",\n",
    "    after=\"_stop_bt_scan\"\n",
    ")\n",
    "\n",
    "machine.add_transition(\n",
    "    trigger=\"connect\",\n",
    "    source=\"Init\",\n",
    "    dest=\"Connected\",\n",
    "    conditions=\"_connect_to_device\",\n",
    ")\n",
    "\n",
    "machine.add_transition(\n",
    "    trigger=\"stream\",\n",
    "    source=\"Connected\",\n",
    "    dest=\"Streaming\",\n",
    "    after=\"_stream_from_device\"\n",
    ")\n",
    "\n",
    "# The following two \"disconnect\" triggers are for\n",
    "# Connected -> Init (which is obvious) and\n",
    "# Streaming -> Init: After a stream is stopped, we can't go back to Connected\n",
    "# because we can't re-use the BleakClient object.\n",
    "# Therefore we need to go one more back to Init,\n",
    "# then to Connect, and then back to Streaming.\n",
    "\n",
    "machine.add_transition(\n",
    "    trigger=\"disconnect\",\n",
    "    source=\"Connected\",\n",
    "    dest=\"Init\",\n",
    "    before=\"_disconnect_from_device\"\n",
    ")\n",
    "\n",
    "\n",
    "machine.add_transition(\n",
    "    trigger=\"disconnect\",\n",
    "    source=\"Streaming\",\n",
    "    dest=\"Init\",\n",
    "    before=\"_stop_stream_and_disconnect_from_device\"\n",
    ")"
   ]
  },
  {
   "cell_type": "code",
   "execution_count": 9,
   "metadata": {},
   "outputs": [
    {
     "name": "stdout",
     "output_type": "stream",
     "text": [
      "Correctly raised error: No devices found\n"
     ]
    }
   ],
   "source": [
    "# If we try to run connect() without having scanned, it should fail \n",
    "# and raise BleakFSMError\n",
    "# specifically, `is_device_list_empty` will return True, and the `unless` condition will fail\n",
    "\n",
    "try:\n",
    "    await model.connect()\n",
    "except BleakFSMError as e:\n",
    "    print(f\"Correctly raised error: {e}\")"
   ]
  },
  {
   "cell_type": "code",
   "execution_count": 10,
   "metadata": {},
   "outputs": [
    {
     "data": {
      "text/plain": [
       "<Task pending name='Task-7' coro=<AsyncEvent.trigger() running at /Users/tensorturtle/Library/Python/3.9/lib/python/site-packages/transitions/extensions/asyncio.py:166>>"
      ]
     },
     "execution_count": 10,
     "metadata": {},
     "output_type": "execute_result"
    }
   ],
   "source": [
    "# Since we're in a Jupyter notebook, \n",
    "# we need to use `create_task()` instead of `get_event_loop().run_until_complete()`\n",
    "# to use the existing event loop which Jupyter runs on.\n",
    "asyncio.create_task(model.start_scan())\n",
    "# if we used\n",
    "# `await model.start_scan()`\n",
    "# then it would work, but it would block until the scan is finished, which is not what we want,\n",
    "# because below we will show how the `model.bt_devices` dictionary gets filled with the results of the scan."
   ]
  },
  {
   "cell_type": "code",
   "execution_count": 11,
   "metadata": {},
   "outputs": [
    {
     "data": {
      "text/plain": [
       "'Scanning'"
      ]
     },
     "execution_count": 11,
     "metadata": {},
     "output_type": "execute_result"
    }
   ],
   "source": [
    "model.state"
   ]
  },
  {
   "cell_type": "code",
   "execution_count": 12,
   "metadata": {},
   "outputs": [
    {
     "data": {
      "text/plain": [
       "<Task pending name='Task-9' coro=<stop_after_delay() running at /var/folders/16/dbv855p93hx5m7mgrd8fwscw0000gn/T/ipykernel_49872/921128545.py:1>>"
      ]
     },
     "execution_count": 12,
     "metadata": {},
     "output_type": "execute_result"
    }
   ],
   "source": [
    "async def stop_after_delay(delay, model):\n",
    "    print(\"Starting sleep for 2 seconds (giving the scanner time to scan)\")\n",
    "    await asyncio.sleep(delay)\n",
    "    print(\"Slept for 2 seconds (sending end signal to scanner)\")\n",
    "    await model.stop_scan()\n",
    "    print(\"Stopped scanning\")\n",
    "    \n",
    "\n",
    "asyncio.create_task(stop_after_delay(2, model))"
   ]
  },
  {
   "cell_type": "code",
   "execution_count": 13,
   "metadata": {},
   "outputs": [
    {
     "name": "stdout",
     "output_type": "stream",
     "text": [
      "Starting sleep for 2 seconds (giving the scanner time to scan)\n",
      "0 devices found in 0.0 seconds.\n",
      "0 devices found in 0.05 seconds.\n",
      "0 devices found in 0.1 seconds.\n",
      "0 devices found in 0.15 seconds.\n",
      "2 devices found in 0.2 seconds.\n",
      "6 devices found in 0.25 seconds.\n",
      "6 devices found in 0.3 seconds.\n",
      "6 devices found in 0.35 seconds.\n",
      "7 devices found in 0.4 seconds.\n",
      "7 devices found in 0.45 seconds.\n",
      "7 devices found in 0.5 seconds.\n",
      "7 devices found in 0.55 seconds.\n",
      "7 devices found in 0.6 seconds.\n",
      "7 devices found in 0.65 seconds.\n",
      "7 devices found in 0.7 seconds.\n",
      "7 devices found in 0.75 seconds.\n",
      "7 devices found in 0.8 seconds.\n",
      "7 devices found in 0.85 seconds.\n",
      "7 devices found in 0.9 seconds.\n",
      "7 devices found in 0.95 seconds.\n"
     ]
    }
   ],
   "source": [
    "async def print_as_we_go():\n",
    "    for i in range(20):\n",
    "        print(f\"{len(BleakModel.bt_devices)} devices found in {round(i*0.05,2)} seconds.\")\n",
    "        await asyncio.sleep(0.05)\n",
    "\n",
    "await print_as_we_go()"
   ]
  },
  {
   "cell_type": "code",
   "execution_count": 14,
   "metadata": {},
   "outputs": [
    {
     "data": {
      "text/plain": [
       "{'14863C4D-BF71-4EA3-C6B4-98001056AAF8': BLEDevice(14863C4D-BF71-4EA3-C6B4-98001056AAF8, WHOOPDEDOO),\n",
       " 'CAFED98A-0110-DC79-35AD-4E015094E64B': BLEDevice(CAFED98A-0110-DC79-35AD-4E015094E64B, None),\n",
       " '99FF17C7-A82C-5DD9-195F-6F4E1810746E': BLEDevice(99FF17C7-A82C-5DD9-195F-6F4E1810746E, None),\n",
       " 'FE3F10AF-3FA6-0F72-1532-09BC89AF7C43': BLEDevice(FE3F10AF-3FA6-0F72-1532-09BC89AF7C43, None),\n",
       " '39613AEE-762C-928A-2BA6-9965101AF3C2': BLEDevice(39613AEE-762C-928A-2BA6-9965101AF3C2, None),\n",
       " '3984D4FE-75B5-36B2-CBC9-A4A24710D75D': BLEDevice(3984D4FE-75B5-36B2-CBC9-A4A24710D75D, None),\n",
       " '45D8FE73-595E-3847-80B4-37CAD9A697E0': BLEDevice(45D8FE73-595E-3847-80B4-37CAD9A697E0, None),\n",
       " '46AA3748-C6A6-8B21-4E79-8B1F0D8A95B4': BLEDevice(46AA3748-C6A6-8B21-4E79-8B1F0D8A95B4, None)}"
      ]
     },
     "execution_count": 14,
     "metadata": {},
     "output_type": "execute_result"
    }
   ],
   "source": [
    "model.bt_devices"
   ]
  },
  {
   "cell_type": "code",
   "execution_count": 15,
   "metadata": {},
   "outputs": [
    {
     "name": "stdout",
     "output_type": "stream",
     "text": [
      "Slept for 2 seconds (sending end signal to scanner)\n",
      "Stopped scanning\n"
     ]
    }
   ],
   "source": [
    "await asyncio.sleep(3)"
   ]
  },
  {
   "cell_type": "code",
   "execution_count": 16,
   "metadata": {},
   "outputs": [
    {
     "name": "stdout",
     "output_type": "stream",
     "text": [
      "14863C4D-BF71-4EA3-C6B4-98001056AAF8: WHOOPDEDOO\n",
      "CAFED98A-0110-DC79-35AD-4E015094E64B: None\n",
      "99FF17C7-A82C-5DD9-195F-6F4E1810746E: None\n",
      "FE3F10AF-3FA6-0F72-1532-09BC89AF7C43: None\n",
      "39613AEE-762C-928A-2BA6-9965101AF3C2: None\n",
      "3984D4FE-75B5-36B2-CBC9-A4A24710D75D: None\n",
      "45D8FE73-595E-3847-80B4-37CAD9A697E0: None\n",
      "46AA3748-C6A6-8B21-4E79-8B1F0D8A95B4: None\n",
      "91C2295A-4DE3-ED34-1544-0F7BAECEE4F3: None\n"
     ]
    }
   ],
   "source": [
    "# Client should select the ID from the following list\n",
    "\n",
    "for k,v in model.bt_devices.items():\n",
    "    print(v)"
   ]
  },
  {
   "cell_type": "code",
   "execution_count": 17,
   "metadata": {},
   "outputs": [
    {
     "data": {
      "text/plain": [
       "True"
      ]
     },
     "execution_count": 17,
     "metadata": {},
     "output_type": "execute_result"
    }
   ],
   "source": [
    "# Client should set the target address \n",
    "\n",
    "model.set_target_address(\"14863C4D-BF71-4EA3-C6B4-98001056AAF8\")"
   ]
  },
  {
   "cell_type": "code",
   "execution_count": 18,
   "metadata": {},
   "outputs": [
    {
     "name": "stdout",
     "output_type": "stream",
     "text": [
      "Connected to 14863C4D-BF71-4EA3-C6B4-98001056AAF8\n"
     ]
    },
    {
     "data": {
      "text/plain": [
       "True"
      ]
     },
     "execution_count": 18,
     "metadata": {},
     "output_type": "execute_result"
    }
   ],
   "source": [
    "await model.connect() # first time connecting"
   ]
  },
  {
   "cell_type": "code",
   "execution_count": 19,
   "metadata": {},
   "outputs": [
    {
     "data": {
      "text/plain": [
       "'Connected'"
      ]
     },
     "execution_count": 19,
     "metadata": {},
     "output_type": "execute_result"
    }
   ],
   "source": [
    "model.state"
   ]
  },
  {
   "cell_type": "code",
   "execution_count": 20,
   "metadata": {},
   "outputs": [],
   "source": [
    "# a second bluetooth model\n",
    "\n",
    "model2 = BleakModel()\n",
    "machine.add_model(model2)"
   ]
  },
  {
   "cell_type": "code",
   "execution_count": 21,
   "metadata": {},
   "outputs": [
    {
     "name": "stderr",
     "output_type": "stream",
     "text": [
      "/var/folders/16/dbv855p93hx5m7mgrd8fwscw0000gn/T/ipykernel_49872/1274855101.py:2: RuntimeWarning: coroutine 'sleep' was never awaited\n",
      "  asyncio.sleep(3)\n",
      "RuntimeWarning: Enable tracemalloc to get the object allocation traceback\n"
     ]
    },
    {
     "data": {
      "text/plain": [
       "True"
      ]
     },
     "execution_count": 21,
     "metadata": {},
     "output_type": "execute_result"
    }
   ],
   "source": [
    "await model2.start_scan()\n",
    "asyncio.sleep(3)\n",
    "await model2.stop_scan()"
   ]
  },
  {
   "cell_type": "code",
   "execution_count": 22,
   "metadata": {},
   "outputs": [
    {
     "data": {
      "text/plain": [
       "{'CAFED98A-0110-DC79-35AD-4E015094E64B': BLEDevice(CAFED98A-0110-DC79-35AD-4E015094E64B, None),\n",
       " '99FF17C7-A82C-5DD9-195F-6F4E1810746E': BLEDevice(99FF17C7-A82C-5DD9-195F-6F4E1810746E, None),\n",
       " 'FE3F10AF-3FA6-0F72-1532-09BC89AF7C43': BLEDevice(FE3F10AF-3FA6-0F72-1532-09BC89AF7C43, None),\n",
       " '39613AEE-762C-928A-2BA6-9965101AF3C2': BLEDevice(39613AEE-762C-928A-2BA6-9965101AF3C2, None),\n",
       " '3984D4FE-75B5-36B2-CBC9-A4A24710D75D': BLEDevice(3984D4FE-75B5-36B2-CBC9-A4A24710D75D, None),\n",
       " '45D8FE73-595E-3847-80B4-37CAD9A697E0': BLEDevice(45D8FE73-595E-3847-80B4-37CAD9A697E0, None),\n",
       " '46AA3748-C6A6-8B21-4E79-8B1F0D8A95B4': BLEDevice(46AA3748-C6A6-8B21-4E79-8B1F0D8A95B4, None),\n",
       " '91C2295A-4DE3-ED34-1544-0F7BAECEE4F3': BLEDevice(91C2295A-4DE3-ED34-1544-0F7BAECEE4F3, None)}"
      ]
     },
     "execution_count": 22,
     "metadata": {},
     "output_type": "execute_result"
    }
   ],
   "source": [
    "model2.bt_devices"
   ]
  },
  {
   "cell_type": "code",
   "execution_count": 24,
   "metadata": {},
   "outputs": [
    {
     "data": {
      "text/plain": [
       "'Init'"
      ]
     },
     "execution_count": 24,
     "metadata": {},
     "output_type": "execute_result"
    }
   ],
   "source": [
    "model2.state"
   ]
  },
  {
   "cell_type": "code",
   "execution_count": 25,
   "metadata": {},
   "outputs": [
    {
     "data": {
      "text/plain": [
       "'Connected'"
      ]
     },
     "execution_count": 25,
     "metadata": {},
     "output_type": "execute_result"
    }
   ],
   "source": [
    "model.state"
   ]
  },
  {
   "cell_type": "code",
   "execution_count": 26,
   "metadata": {},
   "outputs": [
    {
     "data": {
      "text/plain": [
       "<Task pending name='Task-20' coro=<run_stream() running at /var/folders/16/dbv855p93hx5m7mgrd8fwscw0000gn/T/ipykernel_49872/3697076873.py:1>>"
      ]
     },
     "execution_count": 26,
     "metadata": {},
     "output_type": "execute_result"
    },
    {
     "name": "stdout",
     "output_type": "stream",
     "text": [
      "Started streaming\n",
      "Data received from 00002a37-0000-1000-8000-00805f9b34fb (Handle: 36): Heart Rate Measurement: bytearray(b'\\x10D\\xeb\\x04')\n",
      "Heart Rate: 68 beats per minute\n",
      "Data received from 00002a37-0000-1000-8000-00805f9b34fb (Handle: 36): Heart Rate Measurement: bytearray(b'\\x10D\\xcc\\x025\\x02')\n",
      "Heart Rate: 68 beats per minute\n",
      "Data received from 00002a37-0000-1000-8000-00805f9b34fb (Handle: 36): Heart Rate Measurement: bytearray(b'\\x10D|\\x03')\n",
      "Heart Rate: 68 beats per minute\n",
      "Data received from 00002a37-0000-1000-8000-00805f9b34fb (Handle: 36): Heart Rate Measurement: bytearray(b'\\x10DL\\x03')\n",
      "Heart Rate: 68 beats per minute\n",
      "Data received from 00002a37-0000-1000-8000-00805f9b34fb (Handle: 36): Heart Rate Measurement: bytearray(b'\\x10D)\\x03')\n",
      "Heart Rate: 68 beats per minute\n",
      "Data received from 00002a37-0000-1000-8000-00805f9b34fb (Handle: 36): Heart Rate Measurement: bytearray(b'\\x10C_\\x03')\n",
      "Heart Rate: 67 beats per minute\n",
      "Data received from 00002a37-0000-1000-8000-00805f9b34fb (Handle: 36): Heart Rate Measurement: bytearray(b'\\x10C\\xdd\\x03')\n",
      "Heart Rate: 67 beats per minute\n"
     ]
    }
   ],
   "source": [
    "async def run_stream():\n",
    "    await model.stream()\n",
    "\n",
    "asyncio.create_task(run_stream())"
   ]
  },
  {
   "cell_type": "code",
   "execution_count": 28,
   "metadata": {},
   "outputs": [
    {
     "name": "stdout",
     "output_type": "stream",
     "text": [
      "Data received from 00002a37-0000-1000-8000-00805f9b34fb (Handle: 36): Heart Rate Measurement: bytearray(b'\\x10C}\\x05')\n",
      "Heart Rate: 67 beats per minute\n",
      "Data received from 00002a37-0000-1000-8000-00805f9b34fb (Handle: 36): Heart Rate Measurement: bytearray(b'\\x10C\\xee\\x02')\n",
      "Heart Rate: 67 beats per minute\n",
      "Data received from 00002a37-0000-1000-8000-00805f9b34fb (Handle: 36): Heart Rate Measurement: bytearray(b'\\x10C\\xfe\\x02')\n",
      "Heart Rate: 67 beats per minute\n",
      "Data received from 00002a37-0000-1000-8000-00805f9b34fb (Handle: 36): Heart Rate Measurement: bytearray(b'\\x00C')\n",
      "Heart Rate: 67 beats per minute\n",
      "Data received from 00002a37-0000-1000-8000-00805f9b34fb (Handle: 36): Heart Rate Measurement: bytearray(b'\\x00C')\n",
      "Heart Rate: 67 beats per minute\n",
      "Data received from 00002a37-0000-1000-8000-00805f9b34fb (Handle: 36): Heart Rate Measurement: bytearray(b'\\x00B')\n",
      "Heart Rate: 66 beats per minute\n",
      "Data received from 00002a37-0000-1000-8000-00805f9b34fb (Handle: 36): Heart Rate Measurement: bytearray(b'\\x00B')\n",
      "Heart Rate: 66 beats per minute\n",
      "Data received from 00002a37-0000-1000-8000-00805f9b34fb (Handle: 36): Heart Rate Measurement: bytearray(b'\\x00B')\n",
      "Heart Rate: 66 beats per minute\n",
      "Data received from 00002a37-0000-1000-8000-00805f9b34fb (Handle: 36): Heart Rate Measurement: bytearray(b'\\x00B')\n",
      "Heart Rate: 66 beats per minute\n",
      "Data received from 00002a37-0000-1000-8000-00805f9b34fb (Handle: 36): Heart Rate Measurement: bytearray(b'\\x00B')\n",
      "Heart Rate: 66 beats per minute\n",
      "Data received from 00002a37-0000-1000-8000-00805f9b34fb (Handle: 36): Heart Rate Measurement: bytearray(b'\\x00B')\n",
      "Heart Rate: 66 beats per minute\n"
     ]
    }
   ],
   "source": [
    "await asyncio.sleep(10)"
   ]
  },
  {
   "cell_type": "code",
   "execution_count": 29,
   "metadata": {},
   "outputs": [
    {
     "name": "stdout",
     "output_type": "stream",
     "text": [
      "Stopped streaming\n",
      "Disconnected from 14863C4D-BF71-4EA3-C6B4-98001056AAF8\n"
     ]
    },
    {
     "data": {
      "text/plain": [
       "True"
      ]
     },
     "execution_count": 29,
     "metadata": {},
     "output_type": "execute_result"
    }
   ],
   "source": [
    "await model.disconnect()"
   ]
  },
  {
   "cell_type": "code",
   "execution_count": 30,
   "metadata": {},
   "outputs": [
    {
     "data": {
      "text/plain": [
       "'Init'"
      ]
     },
     "execution_count": 30,
     "metadata": {},
     "output_type": "execute_result"
    }
   ],
   "source": [
    "model.state"
   ]
  }
 ],
 "metadata": {
  "kernelspec": {
   "display_name": "Python 3",
   "language": "python",
   "name": "python3"
  },
  "language_info": {
   "codemirror_mode": {
    "name": "ipython",
    "version": 3
   },
   "file_extension": ".py",
   "mimetype": "text/x-python",
   "name": "python",
   "nbconvert_exporter": "python",
   "pygments_lexer": "ipython3",
   "version": "3.9.6"
  }
 },
 "nbformat": 4,
 "nbformat_minor": 2
}
