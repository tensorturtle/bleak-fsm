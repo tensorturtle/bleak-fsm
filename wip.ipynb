{
 "cells": [
  {
   "cell_type": "markdown",
   "metadata": {},
   "source": [
    "# Extremely Minimal, Dirty Bleak Scanner implementation "
   ]
  },
  {
   "cell_type": "markdown",
   "metadata": {},
   "source": [
    "+ This code should only return variants of BleakFSMError\n"
   ]
  },
  {
   "cell_type": "code",
   "execution_count": 1,
   "metadata": {},
   "outputs": [
    {
     "name": "stdout",
     "output_type": "stream",
     "text": [
      "Defaulting to user installation because normal site-packages is not writeable\n",
      "Requirement already satisfied: transitions in /Users/tensorturtle/Library/Python/3.9/lib/python/site-packages (from -r requirements.txt (line 5)) (0.9.0)\n",
      "Requirement already satisfied: bleak in /Users/tensorturtle/Library/Python/3.9/lib/python/site-packages (from -r requirements.txt (line 6)) (0.21.1)\n",
      "Requirement already satisfied: pycycling in /Users/tensorturtle/Library/Python/3.9/lib/python/site-packages (from -r requirements.txt (line 7)) (0.3.4)\n",
      "Requirement already satisfied: six in /Library/Developer/CommandLineTools/Library/Frameworks/Python3.framework/Versions/3.9/lib/python3.9/site-packages (from transitions->-r requirements.txt (line 5)) (1.15.0)\n",
      "Requirement already satisfied: pyobjc-framework-libdispatch<10.0,>=9.2 in /Users/tensorturtle/Library/Python/3.9/lib/python/site-packages (from bleak->-r requirements.txt (line 6)) (9.2)\n",
      "Requirement already satisfied: typing-extensions>=4.7.0 in /Users/tensorturtle/Library/Python/3.9/lib/python/site-packages (from bleak->-r requirements.txt (line 6)) (4.9.0)\n",
      "Requirement already satisfied: async-timeout<5,>=3.0.0 in /Users/tensorturtle/Library/Python/3.9/lib/python/site-packages (from bleak->-r requirements.txt (line 6)) (4.0.3)\n",
      "Requirement already satisfied: pyobjc-framework-CoreBluetooth<10.0,>=9.2 in /Users/tensorturtle/Library/Python/3.9/lib/python/site-packages (from bleak->-r requirements.txt (line 6)) (9.2)\n",
      "Requirement already satisfied: pyobjc-core<10.0,>=9.2 in /Users/tensorturtle/Library/Python/3.9/lib/python/site-packages (from bleak->-r requirements.txt (line 6)) (9.2)\n",
      "Requirement already satisfied: pyobjc-framework-Cocoa>=9.2 in /Users/tensorturtle/Library/Python/3.9/lib/python/site-packages (from pyobjc-framework-CoreBluetooth<10.0,>=9.2->bleak->-r requirements.txt (line 6)) (9.2)\n",
      "\u001b[33mWARNING: You are using pip version 21.2.4; however, version 24.0 is available.\n",
      "You should consider upgrading via the '/Library/Developer/CommandLineTools/usr/bin/python3 -m pip install --upgrade pip' command.\u001b[0m\n"
     ]
    }
   ],
   "source": [
    "!pip3 install -r requirements.txt"
   ]
  },
  {
   "cell_type": "code",
   "execution_count": 2,
   "metadata": {},
   "outputs": [],
   "source": [
    "from transitions.extensions.asyncio import AsyncMachine\n",
    "import asyncio"
   ]
  },
  {
   "cell_type": "code",
   "execution_count": 3,
   "metadata": {},
   "outputs": [],
   "source": [
    "from bleak import BleakClient, BleakScanner\n",
    "from bleak.backends.device import BLEDevice"
   ]
  },
  {
   "cell_type": "code",
   "execution_count": 4,
   "metadata": {},
   "outputs": [],
   "source": [
    "USE_PYCYCLING_EXAMPLE=False\n",
    "if USE_PYCYCLING_EXAMPLE:\n",
    "    from pycycling.sterzo import Sterzo"
   ]
  },
  {
   "cell_type": "code",
   "execution_count": 5,
   "metadata": {},
   "outputs": [],
   "source": [
    "# class GattServer:\n",
    "#     def __init__(self):\n",
    "#         self.address = address\n"
   ]
  },
  {
   "cell_type": "code",
   "execution_count": 6,
   "metadata": {},
   "outputs": [],
   "source": [
    "HEART_RATE_MEASUREMENT_CHARACTERISTIC_UUID = \"00002a37-0000-1000-8000-00805f9b34fb\""
   ]
  },
  {
   "cell_type": "code",
   "execution_count": 7,
   "metadata": {},
   "outputs": [],
   "source": [
    "class BleakModel:\n",
    "    '''\n",
    "    This class is a transitions.AsyncModel wrapper around the BleakScanner class.\n",
    "    It is used to scan for Bluetooth Low Energy devices and return the results within the state machine framework.\n",
    "    '''\n",
    "    bt_devices = {} # class variable to store the discovered devices, since we can only have one BleakScanner\n",
    "    stop_scan_event = asyncio.Event() # class variable to stop the scan\n",
    "    def __init__(self):\n",
    "        self.bleak_client: BleakClient = None\n",
    "        self.ble_device: BLEDevice = None\n",
    "        self.connection_target = None\n",
    "        self.stop_streaming_event = asyncio.Event()\n",
    "        self.sterzo: Sterzo = None\n",
    "\n",
    "    def set_target_address(self, address):\n",
    "        if address in BleakModel.bt_devices:\n",
    "            self.connection_target = address\n",
    "            return True\n",
    "        else:\n",
    "            return ValueError(f\"Address {address} not found in discovered devices\")\n",
    "\n",
    "    async def bt_scan(self):        \n",
    "        # Start the scanner with the detection callback\n",
    "        def detection_callback(device, _advertisement_data):\n",
    "            BleakModel.bt_devices[device.address] = device\n",
    "        async with BleakScanner(detection_callback) as scanner:\n",
    "            await self.stop_scan_event.wait() # continues to scan until stop_scan_event is set\n",
    "\n",
    "    async def stop_bt_scan(self):\n",
    "        self.stop_scan_event.set()\n",
    "\n",
    "    async def connect_to_device(self):\n",
    "        if len(BleakModel.bt_devices) == 0:\n",
    "            return False\n",
    "        self.ble_device = (BleakModel.bt_devices.pop(self.connection_target))# remove the device from the list to avoid connecting to it multiple times\n",
    "        self.bleak_client = BleakClient(self.ble_device) # we don't use the async context manager because we want to access the client object from the disconnect function\n",
    "        try:\n",
    "            connected = await self.bleak_client.connect()\n",
    "            if connected:\n",
    "                print(f\"Connected to {self.connection_target}\")\n",
    "\n",
    "                # If we want to create a class abstraction for the bluetooth device,\n",
    "                # Instantiate it here and pass in the bleak_client. For example:\n",
    "                if USE_PYCYCLING_EXAMPLE:\n",
    "                    self.sterzo = Sterzo(self.bleak_client)\n",
    "                else:\n",
    "                    pass # Otherwise, we can just use the bleak_client itself later on.\n",
    "\n",
    "\n",
    "                return True\n",
    "            else:\n",
    "                print(f\"Failed to connect to {self.connection_target}\")\n",
    "        except Exception as e:\n",
    "            print(f\"An error occurred: {e}\")\n",
    "            return False\n",
    "        return True\n",
    "    \n",
    "    async def disconnect_from_device(self):\n",
    "        BleakModel.bt_devices[self.connection_target] = self.ble_device # put it back in the list\n",
    "        await self.bleak_client.disconnect()\n",
    "        print(f\"Disconnected from {self.bleak_client.address}\")\n",
    "\n",
    "    async def stream_from_device(self):\n",
    "        self.stop_streaming_event.clear()\n",
    "\n",
    "        if USE_PYCYCLING_EXAMPLE:\n",
    "            def steering_handler(steering_angle):\n",
    "                print(steering_angle)\n",
    "            \n",
    "            self.sterzo.set_steering_measurement_callback(steering_handler)\n",
    "            await self.sterzo.enable_steering_measurement_notifications()\n",
    "        else: # use heart rate example\n",
    "            def handle_hr_measurement(sender, data):\n",
    "                print(f\"Data received from {sender}: {data}\")\n",
    "                flag = data[0]\n",
    "                heart_rate = data[1]\n",
    "                print(f\"Heart Rate: {heart_rate} beats per minute\")\n",
    "            \n",
    "            await self.bleak_client.start_notify(HEART_RATE_MEASUREMENT_CHARACTERISTIC_UUID, handle_hr_measurement)\n",
    "\n",
    "        print(\"Started streaming\")\n",
    "\n",
    "        await self.stop_streaming_event.wait()\n",
    "        return True\n",
    "\n",
    "    async def stop_stream_from_device(self):\n",
    "        self.stop_streaming_event.set()\n",
    "        try:\n",
    "            if USE_PYCYCLING_EXAMPLE:\n",
    "                await self.sterzo.disable_steering_measurement_notifications()\n",
    "            else:\n",
    "                await self.bleak_client.stop_notify(HEART_RATE_MEASUREMENT_CHARACTERISTIC_UUID)\n",
    "                \n",
    "            print(\"Stopped streaming\")\n",
    "            return True\n",
    "        except Exception as e:\n",
    "            print(f\"An error occurred while stopping streaming: {e}\")\n",
    "            return False\n",
    "\n",
    "    async def stop_stream_and_disconnect_from_device(self):\n",
    "        '''\n",
    "        Since we can't re-use the connection after stopping notify,\n",
    "        we bundle the stop streaming and disconnect logic\n",
    "        so that the state jumps from Streaming to Init.\n",
    "        '''\n",
    "        await self.stop_stream_from_device()\n",
    "        await self.disconnect_from_device()\n",
    "        return True\n",
    "\n",
    "\n",
    "\n",
    "\n",
    "\n",
    "    "
   ]
  },
  {
   "cell_type": "code",
   "execution_count": 8,
   "metadata": {},
   "outputs": [],
   "source": [
    "\n",
    "model = BleakModel()\n",
    "\n",
    "transitions = []\n",
    "\n",
    "machine = AsyncMachine(model, states=[\"Init\", \"Scanning\", \"Connected\", \"Streaming\"], transitions=transitions, initial='Init')\n",
    "\n",
    "machine.add_transition(\n",
    "    trigger=\"start_scan\",\n",
    "    source=\"Init\",\n",
    "    dest=\"Scanning\",\n",
    "    after=\"bt_scan\"\n",
    ")\n",
    "\n",
    "machine.add_transition(\n",
    "    trigger=\"stop_scan\",\n",
    "    source=\"Scanning\",\n",
    "    dest=\"Init\",\n",
    "    after=\"stop_bt_scan\"\n",
    ")\n",
    "\n",
    "machine.add_transition(\n",
    "    trigger=\"connect\",\n",
    "    source=\"Init\",\n",
    "    dest=\"Connected\",\n",
    "    conditions=\"connect_to_device\",\n",
    ")\n",
    "\n",
    "machine.add_transition(\n",
    "    trigger=\"disconnect\",\n",
    "    source=\"Connected\",\n",
    "    dest=\"Init\",\n",
    "    before=\"disconnect_from_device\"\n",
    "    \n",
    ")\n",
    "\n",
    "machine.add_transition(\n",
    "    trigger=\"stream\",\n",
    "    source=\"Connected\",\n",
    "    dest=\"Streaming\",\n",
    "    after=\"stream_from_device\"\n",
    ")\n",
    "\n",
    "machine.add_transition(\n",
    "    trigger=\"stop_stream\",\n",
    "    source=\"Streaming\",\n",
    "    dest=\"Init\",\n",
    "    before=\"stop_stream_and_disconnect_from_device\"\n",
    ")"
   ]
  },
  {
   "cell_type": "code",
   "execution_count": 9,
   "metadata": {},
   "outputs": [
    {
     "data": {
      "text/plain": [
       "False"
      ]
     },
     "execution_count": 9,
     "metadata": {},
     "output_type": "execute_result"
    }
   ],
   "source": [
    "await model.connect() # should Fail, because we're trying to connect to a device without scanning first\n",
    "# specifically, `is_device_list_empty` will return True, and the `unless` condition will fail"
   ]
  },
  {
   "cell_type": "code",
   "execution_count": 10,
   "metadata": {},
   "outputs": [
    {
     "data": {
      "text/plain": [
       "<Task pending name='Task-7' coro=<AsyncEvent.trigger() running at /Users/tensorturtle/Library/Python/3.9/lib/python/site-packages/transitions/extensions/asyncio.py:166>>"
      ]
     },
     "execution_count": 10,
     "metadata": {},
     "output_type": "execute_result"
    }
   ],
   "source": [
    "# Since we're in a Jupyter notebook, \n",
    "# we need to use `create_task()` instead of `get_event_loop().run_until_complete()`\n",
    "# to use the existing event loop which Jupyter runs on.\n",
    "asyncio.create_task(model.start_scan())\n",
    "# if we used\n",
    "# `await model.start_scan()`\n",
    "# then it would work, but it would block until the scan is finished, which is not what we want,\n",
    "# because below we will show how the `model.bt_devices` dictionary gets filled with the results of the scan."
   ]
  },
  {
   "cell_type": "code",
   "execution_count": 11,
   "metadata": {},
   "outputs": [
    {
     "data": {
      "text/plain": [
       "<Task pending name='Task-9' coro=<stop_after_delay() running at /var/folders/16/dbv855p93hx5m7mgrd8fwscw0000gn/T/ipykernel_5328/921128545.py:1>>"
      ]
     },
     "execution_count": 11,
     "metadata": {},
     "output_type": "execute_result"
    }
   ],
   "source": [
    "async def stop_after_delay(delay, model):\n",
    "    print(\"Starting sleep for 2 seconds (giving the scanner time to scan)\")\n",
    "    await asyncio.sleep(delay)\n",
    "    print(\"Slept for 2 seconds (sending end signal to scanner)\")\n",
    "    await model.stop_scan()\n",
    "    print(\"Stopped scanning\")\n",
    "    \n",
    "\n",
    "asyncio.create_task(stop_after_delay(2, model))"
   ]
  },
  {
   "cell_type": "code",
   "execution_count": 12,
   "metadata": {},
   "outputs": [
    {
     "name": "stdout",
     "output_type": "stream",
     "text": [
      "Starting sleep for 2 seconds (giving the scanner time to scan)\n",
      "0 devices found in 0.0 seconds.\n",
      "2 devices found in 0.05 seconds.\n",
      "5 devices found in 0.1 seconds.\n",
      "5 devices found in 0.15 seconds.\n",
      "5 devices found in 0.2 seconds.\n",
      "5 devices found in 0.25 seconds.\n",
      "5 devices found in 0.3 seconds.\n",
      "7 devices found in 0.35 seconds.\n",
      "7 devices found in 0.4 seconds.\n",
      "7 devices found in 0.45 seconds.\n",
      "7 devices found in 0.5 seconds.\n",
      "7 devices found in 0.55 seconds.\n",
      "7 devices found in 0.6 seconds.\n",
      "8 devices found in 0.65 seconds.\n",
      "8 devices found in 0.7 seconds.\n",
      "8 devices found in 0.75 seconds.\n",
      "8 devices found in 0.8 seconds.\n",
      "8 devices found in 0.85 seconds.\n",
      "8 devices found in 0.9 seconds.\n",
      "12 devices found in 0.95 seconds.\n"
     ]
    }
   ],
   "source": [
    "async def print_as_we_go():\n",
    "    for i in range(20):\n",
    "        print(f\"{len(BleakModel.bt_devices)} devices found in {round(i*0.05,2)} seconds.\")\n",
    "        await asyncio.sleep(0.05)\n",
    "\n",
    "await print_as_we_go()"
   ]
  },
  {
   "cell_type": "code",
   "execution_count": 13,
   "metadata": {},
   "outputs": [
    {
     "data": {
      "text/plain": [
       "{'C4F6DA9D-5F06-A0F8-F751-3E44702AEA97': BLEDevice(C4F6DA9D-5F06-A0F8-F751-3E44702AEA97, None),\n",
       " 'BF6518BC-F320-9DA1-6CC2-98FBC9415816': BLEDevice(BF6518BC-F320-9DA1-6CC2-98FBC9415816, None),\n",
       " '9A85F53D-A82B-F520-9150-E8BBC977B8DB': BLEDevice(9A85F53D-A82B-F520-9150-E8BBC977B8DB, None),\n",
       " '88FCEBA3-F600-FE32-05A8-A50CB13991FA': BLEDevice(88FCEBA3-F600-FE32-05A8-A50CB13991FA, None),\n",
       " 'E8C7CA68-9BA3-7FC2-BBD7-E0BC9B05916A': BLEDevice(E8C7CA68-9BA3-7FC2-BBD7-E0BC9B05916A, S46a89b0afdd395b2C),\n",
       " 'D02741C6-CF5E-1B79-E9AA-C84C50E3BFA5': BLEDevice(D02741C6-CF5E-1B79-E9AA-C84C50E3BFA5, None),\n",
       " '14863C4D-BF71-4EA3-C6B4-98001056AAF8': BLEDevice(14863C4D-BF71-4EA3-C6B4-98001056AAF8, WHOOPDEDOO),\n",
       " '34D5DE4F-37FE-6A98-9C0F-133205377C9F': BLEDevice(34D5DE4F-37FE-6A98-9C0F-133205377C9F, None),\n",
       " 'CE38A319-3910-6E64-516C-E54E05550C30': BLEDevice(CE38A319-3910-6E64-516C-E54E05550C30, None),\n",
       " 'B3D6894A-A00F-A466-CC1F-FCB31BE4263C': BLEDevice(B3D6894A-A00F-A466-CC1F-FCB31BE4263C, None),\n",
       " 'E4D6DFB4-FCE3-9505-4120-13F13D325DB8': BLEDevice(E4D6DFB4-FCE3-9505-4120-13F13D325DB8, None),\n",
       " '1F523B0F-1099-3EBF-E077-4373337229FF': BLEDevice(1F523B0F-1099-3EBF-E077-4373337229FF, None)}"
      ]
     },
     "execution_count": 13,
     "metadata": {},
     "output_type": "execute_result"
    }
   ],
   "source": [
    "model.bt_devices"
   ]
  },
  {
   "cell_type": "code",
   "execution_count": 14,
   "metadata": {},
   "outputs": [
    {
     "data": {
      "text/plain": [
       "True"
      ]
     },
     "execution_count": 14,
     "metadata": {},
     "output_type": "execute_result"
    }
   ],
   "source": [
    "model.set_target_address(\"14863C4D-BF71-4EA3-C6B4-98001056AAF8\")"
   ]
  },
  {
   "cell_type": "code",
   "execution_count": 15,
   "metadata": {},
   "outputs": [
    {
     "name": "stdout",
     "output_type": "stream",
     "text": [
      "Slept for 2 seconds (sending end signal to scanner)\n",
      "Stopped scanning\n"
     ]
    }
   ],
   "source": [
    "await asyncio.sleep(3)"
   ]
  },
  {
   "cell_type": "code",
   "execution_count": 16,
   "metadata": {},
   "outputs": [
    {
     "name": "stdout",
     "output_type": "stream",
     "text": [
      "Connected to 14863C4D-BF71-4EA3-C6B4-98001056AAF8\n"
     ]
    },
    {
     "data": {
      "text/plain": [
       "True"
      ]
     },
     "execution_count": 16,
     "metadata": {},
     "output_type": "execute_result"
    }
   ],
   "source": [
    "await model.connect()"
   ]
  },
  {
   "cell_type": "code",
   "execution_count": 17,
   "metadata": {},
   "outputs": [
    {
     "data": {
      "text/plain": [
       "'Connected'"
      ]
     },
     "execution_count": 17,
     "metadata": {},
     "output_type": "execute_result"
    }
   ],
   "source": [
    "model.state"
   ]
  },
  {
   "cell_type": "code",
   "execution_count": 18,
   "metadata": {},
   "outputs": [
    {
     "data": {
      "text/plain": [
       "'14863C4D-BF71-4EA3-C6B4-98001056AAF8'"
      ]
     },
     "execution_count": 18,
     "metadata": {},
     "output_type": "execute_result"
    }
   ],
   "source": [
    "model.connection_target"
   ]
  },
  {
   "cell_type": "code",
   "execution_count": 19,
   "metadata": {},
   "outputs": [],
   "source": [
    "# a second bluetooth model\n",
    "\n",
    "model2 = BleakModel()\n",
    "machine.add_model(model2)"
   ]
  },
  {
   "cell_type": "code",
   "execution_count": 20,
   "metadata": {},
   "outputs": [
    {
     "data": {
      "text/plain": [
       "<Task pending name='Task-15' coro=<run_stream() running at /var/folders/16/dbv855p93hx5m7mgrd8fwscw0000gn/T/ipykernel_5328/3697076873.py:1>>"
      ]
     },
     "execution_count": 20,
     "metadata": {},
     "output_type": "execute_result"
    }
   ],
   "source": [
    "async def run_stream():\n",
    "    await model.stream()\n",
    "\n",
    "asyncio.create_task(run_stream())"
   ]
  },
  {
   "cell_type": "code",
   "execution_count": 21,
   "metadata": {},
   "outputs": [
    {
     "name": "stdout",
     "output_type": "stream",
     "text": [
      "Started streaming\n",
      "Data received from 00002a37-0000-1000-8000-00805f9b34fb (Handle: 36): Heart Rate Measurement: bytearray(b'\\x10L\\xe7\\x02')\n",
      "Heart Rate: 76 beats per minute\n",
      "Data received from 00002a37-0000-1000-8000-00805f9b34fb (Handle: 36): Heart Rate Measurement: bytearray(b'\\x10L\\xfd\\x02\\xe8\\x01')\n",
      "Heart Rate: 76 beats per minute\n",
      "Data received from 00002a37-0000-1000-8000-00805f9b34fb (Handle: 36): Heart Rate Measurement: bytearray(b'\\x10L+\\x02\\xbd\\x02\\xe8\\x01')\n",
      "Heart Rate: 76 beats per minute\n",
      "Data received from 00002a37-0000-1000-8000-00805f9b34fb (Handle: 36): Heart Rate Measurement: bytearray(b'\\x10L\\xe8\\x01\\xe8\\x01')\n",
      "Heart Rate: 76 beats per minute\n",
      "Data received from 00002a37-0000-1000-8000-00805f9b34fb (Handle: 36): Heart Rate Measurement: bytearray(b'\\x10L\\xe8\\x01')\n",
      "Heart Rate: 76 beats per minute\n",
      "Data received from 00002a37-0000-1000-8000-00805f9b34fb (Handle: 36): Heart Rate Measurement: bytearray(b'\\x10L\\xe5\\x02\\r\\x03')\n",
      "Heart Rate: 76 beats per minute\n",
      "Data received from 00002a37-0000-1000-8000-00805f9b34fb (Handle: 36): Heart Rate Measurement: bytearray(b'\\x10L\\xef\\x02')\n",
      "Heart Rate: 76 beats per minute\n",
      "Data received from 00002a37-0000-1000-8000-00805f9b34fb (Handle: 36): Heart Rate Measurement: bytearray(b'\\x00L')\n",
      "Heart Rate: 76 beats per minute\n",
      "Data received from 00002a37-0000-1000-8000-00805f9b34fb (Handle: 36): Heart Rate Measurement: bytearray(b'\\x10Lc\\x05\\x96\\x02')\n",
      "Heart Rate: 76 beats per minute\n",
      "Data received from 00002a37-0000-1000-8000-00805f9b34fb (Handle: 36): Heart Rate Measurement: bytearray(b'\\x10M\\xdb\\x02')\n",
      "Heart Rate: 77 beats per minute\n"
     ]
    }
   ],
   "source": [
    "await asyncio.sleep(10)"
   ]
  },
  {
   "cell_type": "code",
   "execution_count": 22,
   "metadata": {},
   "outputs": [
    {
     "data": {
      "text/plain": [
       "'Streaming'"
      ]
     },
     "execution_count": 22,
     "metadata": {},
     "output_type": "execute_result"
    }
   ],
   "source": [
    "model.state"
   ]
  },
  {
   "cell_type": "code",
   "execution_count": 23,
   "metadata": {},
   "outputs": [
    {
     "name": "stdout",
     "output_type": "stream",
     "text": [
      "Stopped streaming\n"
     ]
    },
    {
     "data": {
      "text/plain": [
       "True"
      ]
     },
     "execution_count": 23,
     "metadata": {},
     "output_type": "execute_result"
    }
   ],
   "source": [
    "await model.stop_stream()"
   ]
  },
  {
   "cell_type": "code",
   "execution_count": 24,
   "metadata": {},
   "outputs": [
    {
     "name": "stdout",
     "output_type": "stream",
     "text": [
      "Disconnected from 14863C4D-BF71-4EA3-C6B4-98001056AAF8\n"
     ]
    },
    {
     "data": {
      "text/plain": [
       "True"
      ]
     },
     "execution_count": 24,
     "metadata": {},
     "output_type": "execute_result"
    }
   ],
   "source": [
    "await model.disconnect()"
   ]
  },
  {
   "cell_type": "markdown",
   "metadata": {},
   "source": [
    "# Important Todo\n",
    "\n",
    "After stream is stopped, we can't simpy re-start it.\n",
    "\n",
    "We need to re-create a BleakClient object, which means we need to retreat back to Init state\n",
    "in order to call `connect()`, which re-creates that BleakClient object.\n",
    "\n",
    "In our FSM, we need to remove the path from Connected -> Streaming because that's not possible."
   ]
  },
  {
   "cell_type": "code",
   "execution_count": 25,
   "metadata": {},
   "outputs": [
    {
     "data": {
      "text/plain": [
       "'Init'"
      ]
     },
     "execution_count": 25,
     "metadata": {},
     "output_type": "execute_result"
    }
   ],
   "source": [
    "model.state"
   ]
  },
  {
   "cell_type": "code",
   "execution_count": 26,
   "metadata": {},
   "outputs": [
    {
     "name": "stdout",
     "output_type": "stream",
     "text": [
      "Connected to 14863C4D-BF71-4EA3-C6B4-98001056AAF8\n"
     ]
    },
    {
     "data": {
      "text/plain": [
       "True"
      ]
     },
     "execution_count": 26,
     "metadata": {},
     "output_type": "execute_result"
    }
   ],
   "source": [
    "await model.connect()"
   ]
  },
  {
   "cell_type": "code",
   "execution_count": 27,
   "metadata": {},
   "outputs": [
    {
     "data": {
      "text/plain": [
       "<Task pending name='Task-24' coro=<run_stream() running at /var/folders/16/dbv855p93hx5m7mgrd8fwscw0000gn/T/ipykernel_5328/3697076873.py:1>>"
      ]
     },
     "execution_count": 27,
     "metadata": {},
     "output_type": "execute_result"
    },
    {
     "name": "stdout",
     "output_type": "stream",
     "text": [
      "Started streaming\n",
      "Data received from 00002a37-0000-1000-8000-00805f9b34fb (Handle: 36): Heart Rate Measurement: bytearray(b'\\x00P')\n",
      "Heart Rate: 80 beats per minute\n",
      "Data received from 00002a37-0000-1000-8000-00805f9b34fb (Handle: 36): Heart Rate Measurement: bytearray(b'\\x00P')\n",
      "Heart Rate: 80 beats per minute\n",
      "Data received from 00002a37-0000-1000-8000-00805f9b34fb (Handle: 36): Heart Rate Measurement: bytearray(b'\\x00O')\n",
      "Heart Rate: 79 beats per minute\n",
      "Data received from 00002a37-0000-1000-8000-00805f9b34fb (Handle: 36): Heart Rate Measurement: bytearray(b'\\x00O')\n",
      "Heart Rate: 79 beats per minute\n",
      "Data received from 00002a37-0000-1000-8000-00805f9b34fb (Handle: 36): Heart Rate Measurement: bytearray(b'\\x00O')\n",
      "Heart Rate: 79 beats per minute\n",
      "Data received from 00002a37-0000-1000-8000-00805f9b34fb (Handle: 36): Heart Rate Measurement: bytearray(b'\\x00O')\n",
      "Heart Rate: 79 beats per minute\n",
      "Data received from 00002a37-0000-1000-8000-00805f9b34fb (Handle: 36): Heart Rate Measurement: bytearray(b'\\x00P')\n",
      "Heart Rate: 80 beats per minute\n",
      "Data received from 00002a37-0000-1000-8000-00805f9b34fb (Handle: 36): Heart Rate Measurement: bytearray(b'\\x00P')\n",
      "Heart Rate: 80 beats per minute\n",
      "Data received from 00002a37-0000-1000-8000-00805f9b34fb (Handle: 36): Heart Rate Measurement: bytearray(b'\\x00P')\n",
      "Heart Rate: 80 beats per minute\n",
      "Data received from 00002a37-0000-1000-8000-00805f9b34fb (Handle: 36): Heart Rate Measurement: bytearray(b'\\x00P')\n",
      "Heart Rate: 80 beats per minute\n",
      "Data received from 00002a37-0000-1000-8000-00805f9b34fb (Handle: 36): Heart Rate Measurement: bytearray(b'\\x00P')\n",
      "Heart Rate: 80 beats per minute\n",
      "Data received from 00002a37-0000-1000-8000-00805f9b34fb (Handle: 36): Heart Rate Measurement: bytearray(b'\\x00P')\n",
      "Heart Rate: 80 beats per minute\n",
      "Data received from 00002a37-0000-1000-8000-00805f9b34fb (Handle: 36): Heart Rate Measurement: bytearray(b'\\x00P')\n",
      "Heart Rate: 80 beats per minute\n",
      "Data received from 00002a37-0000-1000-8000-00805f9b34fb (Handle: 36): Heart Rate Measurement: bytearray(b'\\x00P')\n",
      "Heart Rate: 80 beats per minute\n",
      "Data received from 00002a37-0000-1000-8000-00805f9b34fb (Handle: 36): Heart Rate Measurement: bytearray(b'\\x00P')\n",
      "Heart Rate: 80 beats per minute\n",
      "Data received from 00002a37-0000-1000-8000-00805f9b34fb (Handle: 36): Heart Rate Measurement: bytearray(b'\\x00P')\n",
      "Heart Rate: 80 beats per minute\n",
      "Data received from 00002a37-0000-1000-8000-00805f9b34fb (Handle: 36): Heart Rate Measurement: bytearray(b'\\x00P')\n",
      "Heart Rate: 80 beats per minute\n",
      "Data received from 00002a37-0000-1000-8000-00805f9b34fb (Handle: 36): Heart Rate Measurement: bytearray(b'\\x00P')\n",
      "Heart Rate: 80 beats per minute\n",
      "Data received from 00002a37-0000-1000-8000-00805f9b34fb (Handle: 36): Heart Rate Measurement: bytearray(b'\\x00P')\n",
      "Heart Rate: 80 beats per minute\n",
      "Data received from 00002a37-0000-1000-8000-00805f9b34fb (Handle: 36): Heart Rate Measurement: bytearray(b'\\x00P')\n",
      "Heart Rate: 80 beats per minute\n",
      "Data received from 00002a37-0000-1000-8000-00805f9b34fb (Handle: 36): Heart Rate Measurement: bytearray(b'\\x00P')\n",
      "Heart Rate: 80 beats per minute\n",
      "Data received from 00002a37-0000-1000-8000-00805f9b34fb (Handle: 36): Heart Rate Measurement: bytearray(b'\\x00O')\n",
      "Heart Rate: 79 beats per minute\n",
      "Data received from 00002a37-0000-1000-8000-00805f9b34fb (Handle: 36): Heart Rate Measurement: bytearray(b'\\x00N')\n",
      "Heart Rate: 78 beats per minute\n",
      "Data received from 00002a37-0000-1000-8000-00805f9b34fb (Handle: 36): Heart Rate Measurement: bytearray(b'\\x00N')\n",
      "Heart Rate: 78 beats per minute\n",
      "Data received from 00002a37-0000-1000-8000-00805f9b34fb (Handle: 36): Heart Rate Measurement: bytearray(b'\\x00N')\n",
      "Heart Rate: 78 beats per minute\n",
      "Data received from 00002a37-0000-1000-8000-00805f9b34fb (Handle: 36): Heart Rate Measurement: bytearray(b'\\x00M')\n",
      "Heart Rate: 77 beats per minute\n",
      "Data received from 00002a37-0000-1000-8000-00805f9b34fb (Handle: 36): Heart Rate Measurement: bytearray(b'\\x00M')\n",
      "Heart Rate: 77 beats per minute\n",
      "Data received from 00002a37-0000-1000-8000-00805f9b34fb (Handle: 36): Heart Rate Measurement: bytearray(b'\\x00M')\n",
      "Heart Rate: 77 beats per minute\n",
      "Data received from 00002a37-0000-1000-8000-00805f9b34fb (Handle: 36): Heart Rate Measurement: bytearray(b'\\x00L')\n",
      "Heart Rate: 76 beats per minute\n",
      "Data received from 00002a37-0000-1000-8000-00805f9b34fb (Handle: 36): Heart Rate Measurement: bytearray(b'\\x00L')\n",
      "Heart Rate: 76 beats per minute\n",
      "Data received from 00002a37-0000-1000-8000-00805f9b34fb (Handle: 36): Heart Rate Measurement: bytearray(b'\\x00L')\n",
      "Heart Rate: 76 beats per minute\n",
      "Data received from 00002a37-0000-1000-8000-00805f9b34fb (Handle: 36): Heart Rate Measurement: bytearray(b'\\x00L')\n",
      "Heart Rate: 76 beats per minute\n",
      "Data received from 00002a37-0000-1000-8000-00805f9b34fb (Handle: 36): Heart Rate Measurement: bytearray(b'\\x00L')\n",
      "Heart Rate: 76 beats per minute\n",
      "Data received from 00002a37-0000-1000-8000-00805f9b34fb (Handle: 36): Heart Rate Measurement: bytearray(b'\\x00L')\n",
      "Heart Rate: 76 beats per minute\n",
      "Data received from 00002a37-0000-1000-8000-00805f9b34fb (Handle: 36): Heart Rate Measurement: bytearray(b'\\x00L')\n",
      "Heart Rate: 76 beats per minute\n",
      "Data received from 00002a37-0000-1000-8000-00805f9b34fb (Handle: 36): Heart Rate Measurement: bytearray(b'\\x00L')\n",
      "Heart Rate: 76 beats per minute\n",
      "Data received from 00002a37-0000-1000-8000-00805f9b34fb (Handle: 36): Heart Rate Measurement: bytearray(b'\\x00L')\n",
      "Heart Rate: 76 beats per minute\n",
      "Data received from 00002a37-0000-1000-8000-00805f9b34fb (Handle: 36): Heart Rate Measurement: bytearray(b'\\x00K')\n",
      "Heart Rate: 75 beats per minute\n",
      "Data received from 00002a37-0000-1000-8000-00805f9b34fb (Handle: 36): Heart Rate Measurement: bytearray(b'\\x00J')\n",
      "Heart Rate: 74 beats per minute\n",
      "Data received from 00002a37-0000-1000-8000-00805f9b34fb (Handle: 36): Heart Rate Measurement: bytearray(b'\\x00J')\n",
      "Heart Rate: 74 beats per minute\n",
      "Data received from 00002a37-0000-1000-8000-00805f9b34fb (Handle: 36): Heart Rate Measurement: bytearray(b'\\x00I')\n",
      "Heart Rate: 73 beats per minute\n",
      "Data received from 00002a37-0000-1000-8000-00805f9b34fb (Handle: 36): Heart Rate Measurement: bytearray(b'\\x00I')\n",
      "Heart Rate: 73 beats per minute\n",
      "Data received from 00002a37-0000-1000-8000-00805f9b34fb (Handle: 36): Heart Rate Measurement: bytearray(b'\\x00J')\n",
      "Heart Rate: 74 beats per minute\n",
      "Data received from 00002a37-0000-1000-8000-00805f9b34fb (Handle: 36): Heart Rate Measurement: bytearray(b'\\x00J')\n",
      "Heart Rate: 74 beats per minute\n",
      "Data received from 00002a37-0000-1000-8000-00805f9b34fb (Handle: 36): Heart Rate Measurement: bytearray(b'\\x00J')\n",
      "Heart Rate: 74 beats per minute\n",
      "Data received from 00002a37-0000-1000-8000-00805f9b34fb (Handle: 36): Heart Rate Measurement: bytearray(b'\\x00J')\n",
      "Heart Rate: 74 beats per minute\n",
      "Data received from 00002a37-0000-1000-8000-00805f9b34fb (Handle: 36): Heart Rate Measurement: bytearray(b'\\x00J')\n",
      "Heart Rate: 74 beats per minute\n",
      "Data received from 00002a37-0000-1000-8000-00805f9b34fb (Handle: 36): Heart Rate Measurement: bytearray(b'\\x10J+\\x03')\n",
      "Heart Rate: 74 beats per minute\n",
      "Data received from 00002a37-0000-1000-8000-00805f9b34fb (Handle: 36): Heart Rate Measurement: bytearray(b'\\x10I&\\x03')\n",
      "Heart Rate: 73 beats per minute\n",
      "Data received from 00002a37-0000-1000-8000-00805f9b34fb (Handle: 36): Heart Rate Measurement: bytearray(b'\\x10IW\\x04\\xe8\\x01')\n",
      "Heart Rate: 73 beats per minute\n",
      "Data received from 00002a37-0000-1000-8000-00805f9b34fb (Handle: 36): Heart Rate Measurement: bytearray(b'\\x10I\\xe7\\x02')\n",
      "Heart Rate: 73 beats per minute\n",
      "Data received from 00002a37-0000-1000-8000-00805f9b34fb (Handle: 36): Heart Rate Measurement: bytearray(b'\\x10I\\xdc\\x02')\n",
      "Heart Rate: 73 beats per minute\n",
      "Data received from 00002a37-0000-1000-8000-00805f9b34fb (Handle: 36): Heart Rate Measurement: bytearray(b'\\x10I\\xef\\x02')\n",
      "Heart Rate: 73 beats per minute\n",
      "Data received from 00002a37-0000-1000-8000-00805f9b34fb (Handle: 36): Heart Rate Measurement: bytearray(b'\\x10J\\xd4\\x02\\xea\\x02')\n",
      "Heart Rate: 74 beats per minute\n",
      "Data received from 00002a37-0000-1000-8000-00805f9b34fb (Handle: 36): Heart Rate Measurement: bytearray(b'\\x10K\\x11\\x03')\n",
      "Heart Rate: 75 beats per minute\n",
      "Data received from 00002a37-0000-1000-8000-00805f9b34fb (Handle: 36): Heart Rate Measurement: bytearray(b'\\x10K\\xd3\\x02')\n",
      "Heart Rate: 75 beats per minute\n",
      "Data received from 00002a37-0000-1000-8000-00805f9b34fb (Handle: 36): Heart Rate Measurement: bytearray(b'\\x10L\\x0e\\x03')\n",
      "Heart Rate: 76 beats per minute\n",
      "Data received from 00002a37-0000-1000-8000-00805f9b34fb (Handle: 36): Heart Rate Measurement: bytearray(b'\\x10L8\\x03')\n",
      "Heart Rate: 76 beats per minute\n",
      "Data received from 00002a37-0000-1000-8000-00805f9b34fb (Handle: 36): Heart Rate Measurement: bytearray(b'\\x10L5\\x03')\n",
      "Heart Rate: 76 beats per minute\n",
      "Data received from 00002a37-0000-1000-8000-00805f9b34fb (Handle: 36): Heart Rate Measurement: bytearray(b'\\x10L\\xf0\\x02\\x1d\\x03')\n",
      "Heart Rate: 76 beats per minute\n",
      "Data received from 00002a37-0000-1000-8000-00805f9b34fb (Handle: 36): Heart Rate Measurement: bytearray(b'\\x10LA\\x03')\n",
      "Heart Rate: 76 beats per minute\n",
      "Data received from 00002a37-0000-1000-8000-00805f9b34fb (Handle: 36): Heart Rate Measurement: bytearray(b'\\x10K\\x07\\x03')\n",
      "Heart Rate: 75 beats per minute\n",
      "Data received from 00002a37-0000-1000-8000-00805f9b34fb (Handle: 36): Heart Rate Measurement: bytearray(b'\\x10K\\x03\\x03')\n",
      "Heart Rate: 75 beats per minute\n",
      "Data received from 00002a37-0000-1000-8000-00805f9b34fb (Handle: 36): Heart Rate Measurement: bytearray(b'\\x10J\\x0c\\x03')\n",
      "Heart Rate: 74 beats per minute\n",
      "Data received from 00002a37-0000-1000-8000-00805f9b34fb (Handle: 36): Heart Rate Measurement: bytearray(b'\\x00J')\n",
      "Heart Rate: 74 beats per minute\n",
      "Data received from 00002a37-0000-1000-8000-00805f9b34fb (Handle: 36): Heart Rate Measurement: bytearray(b'\\x00J')\n",
      "Heart Rate: 74 beats per minute\n",
      "Data received from 00002a37-0000-1000-8000-00805f9b34fb (Handle: 36): Heart Rate Measurement: bytearray(b'\\x00J')\n",
      "Heart Rate: 74 beats per minute\n",
      "Data received from 00002a37-0000-1000-8000-00805f9b34fb (Handle: 36): Heart Rate Measurement: bytearray(b'\\x00H')\n",
      "Heart Rate: 72 beats per minute\n",
      "Data received from 00002a37-0000-1000-8000-00805f9b34fb (Handle: 36): Heart Rate Measurement: bytearray(b'\\x00I')\n",
      "Heart Rate: 73 beats per minute\n",
      "Data received from 00002a37-0000-1000-8000-00805f9b34fb (Handle: 36): Heart Rate Measurement: bytearray(b'\\x00I')\n",
      "Heart Rate: 73 beats per minute\n",
      "Data received from 00002a37-0000-1000-8000-00805f9b34fb (Handle: 36): Heart Rate Measurement: bytearray(b'\\x00I')\n",
      "Heart Rate: 73 beats per minute\n",
      "Data received from 00002a37-0000-1000-8000-00805f9b34fb (Handle: 36): Heart Rate Measurement: bytearray(b'\\x00I')\n",
      "Heart Rate: 73 beats per minute\n",
      "Data received from 00002a37-0000-1000-8000-00805f9b34fb (Handle: 36): Heart Rate Measurement: bytearray(b'\\x00J')\n",
      "Heart Rate: 74 beats per minute\n",
      "Data received from 00002a37-0000-1000-8000-00805f9b34fb (Handle: 36): Heart Rate Measurement: bytearray(b'\\x00K')\n",
      "Heart Rate: 75 beats per minute\n",
      "Data received from 00002a37-0000-1000-8000-00805f9b34fb (Handle: 36): Heart Rate Measurement: bytearray(b'\\x00L')\n",
      "Heart Rate: 76 beats per minute\n",
      "Data received from 00002a37-0000-1000-8000-00805f9b34fb (Handle: 36): Heart Rate Measurement: bytearray(b'\\x00L')\n",
      "Heart Rate: 76 beats per minute\n",
      "Data received from 00002a37-0000-1000-8000-00805f9b34fb (Handle: 36): Heart Rate Measurement: bytearray(b'\\x00L')\n",
      "Heart Rate: 76 beats per minute\n",
      "Data received from 00002a37-0000-1000-8000-00805f9b34fb (Handle: 36): Heart Rate Measurement: bytearray(b'\\x00L')\n",
      "Heart Rate: 76 beats per minute\n",
      "Data received from 00002a37-0000-1000-8000-00805f9b34fb (Handle: 36): Heart Rate Measurement: bytearray(b'\\x00L')\n",
      "Heart Rate: 76 beats per minute\n",
      "Data received from 00002a37-0000-1000-8000-00805f9b34fb (Handle: 36): Heart Rate Measurement: bytearray(b'\\x00L')\n",
      "Heart Rate: 76 beats per minute\n",
      "Data received from 00002a37-0000-1000-8000-00805f9b34fb (Handle: 36): Heart Rate Measurement: bytearray(b'\\x00L')\n",
      "Heart Rate: 76 beats per minute\n",
      "Data received from 00002a37-0000-1000-8000-00805f9b34fb (Handle: 36): Heart Rate Measurement: bytearray(b'\\x00L')\n",
      "Heart Rate: 76 beats per minute\n",
      "Data received from 00002a37-0000-1000-8000-00805f9b34fb (Handle: 36): Heart Rate Measurement: bytearray(b'\\x00L')\n",
      "Heart Rate: 76 beats per minute\n",
      "Data received from 00002a37-0000-1000-8000-00805f9b34fb (Handle: 36): Heart Rate Measurement: bytearray(b'\\x00L')\n",
      "Heart Rate: 76 beats per minute\n",
      "Data received from 00002a37-0000-1000-8000-00805f9b34fb (Handle: 36): Heart Rate Measurement: bytearray(b'\\x00L')\n",
      "Heart Rate: 76 beats per minute\n",
      "Data received from 00002a37-0000-1000-8000-00805f9b34fb (Handle: 36): Heart Rate Measurement: bytearray(b'\\x00L')\n",
      "Heart Rate: 76 beats per minute\n",
      "Data received from 00002a37-0000-1000-8000-00805f9b34fb (Handle: 36): Heart Rate Measurement: bytearray(b'\\x00K')\n",
      "Heart Rate: 75 beats per minute\n",
      "Data received from 00002a37-0000-1000-8000-00805f9b34fb (Handle: 36): Heart Rate Measurement: bytearray(b'\\x00K')\n",
      "Heart Rate: 75 beats per minute\n",
      "Data received from 00002a37-0000-1000-8000-00805f9b34fb (Handle: 36): Heart Rate Measurement: bytearray(b'\\x00K')\n",
      "Heart Rate: 75 beats per minute\n",
      "Data received from 00002a37-0000-1000-8000-00805f9b34fb (Handle: 36): Heart Rate Measurement: bytearray(b'\\x00K')\n",
      "Heart Rate: 75 beats per minute\n",
      "Data received from 00002a37-0000-1000-8000-00805f9b34fb (Handle: 36): Heart Rate Measurement: bytearray(b'\\x00J')\n",
      "Heart Rate: 74 beats per minute\n",
      "Data received from 00002a37-0000-1000-8000-00805f9b34fb (Handle: 36): Heart Rate Measurement: bytearray(b'\\x00J')\n",
      "Heart Rate: 74 beats per minute\n",
      "Data received from 00002a37-0000-1000-8000-00805f9b34fb (Handle: 36): Heart Rate Measurement: bytearray(b'\\x00J')\n",
      "Heart Rate: 74 beats per minute\n",
      "Data received from 00002a37-0000-1000-8000-00805f9b34fb (Handle: 36): Heart Rate Measurement: bytearray(b'\\x00J')\n",
      "Heart Rate: 74 beats per minute\n",
      "Data received from 00002a37-0000-1000-8000-00805f9b34fb (Handle: 36): Heart Rate Measurement: bytearray(b'\\x00J')\n",
      "Heart Rate: 74 beats per minute\n",
      "Data received from 00002a37-0000-1000-8000-00805f9b34fb (Handle: 36): Heart Rate Measurement: bytearray(b'\\x00K')\n",
      "Heart Rate: 75 beats per minute\n",
      "Data received from 00002a37-0000-1000-8000-00805f9b34fb (Handle: 36): Heart Rate Measurement: bytearray(b'\\x00J')\n",
      "Heart Rate: 74 beats per minute\n",
      "Data received from 00002a37-0000-1000-8000-00805f9b34fb (Handle: 36): Heart Rate Measurement: bytearray(b'\\x00J')\n",
      "Heart Rate: 74 beats per minute\n",
      "Data received from 00002a37-0000-1000-8000-00805f9b34fb (Handle: 36): Heart Rate Measurement: bytearray(b'\\x00J')\n",
      "Heart Rate: 74 beats per minute\n",
      "Data received from 00002a37-0000-1000-8000-00805f9b34fb (Handle: 36): Heart Rate Measurement: bytearray(b'\\x00K')\n",
      "Heart Rate: 75 beats per minute\n",
      "Data received from 00002a37-0000-1000-8000-00805f9b34fb (Handle: 36): Heart Rate Measurement: bytearray(b'\\x00K')\n",
      "Heart Rate: 75 beats per minute\n",
      "Data received from 00002a37-0000-1000-8000-00805f9b34fb (Handle: 36): Heart Rate Measurement: bytearray(b'\\x00M')\n",
      "Heart Rate: 77 beats per minute\n",
      "Data received from 00002a37-0000-1000-8000-00805f9b34fb (Handle: 36): Heart Rate Measurement: bytearray(b'\\x00O')\n",
      "Heart Rate: 79 beats per minute\n",
      "Data received from 00002a37-0000-1000-8000-00805f9b34fb (Handle: 36): Heart Rate Measurement: bytearray(b'\\x00O')\n",
      "Heart Rate: 79 beats per minute\n",
      "Data received from 00002a37-0000-1000-8000-00805f9b34fb (Handle: 36): Heart Rate Measurement: bytearray(b'\\x00O')\n",
      "Heart Rate: 79 beats per minute\n",
      "Data received from 00002a37-0000-1000-8000-00805f9b34fb (Handle: 36): Heart Rate Measurement: bytearray(b'\\x10O\\xc4\\x02')\n",
      "Heart Rate: 79 beats per minute\n",
      "Data received from 00002a37-0000-1000-8000-00805f9b34fb (Handle: 36): Heart Rate Measurement: bytearray(b'\\x10O\\xfe\\x02\\x1d\\x02')\n",
      "Heart Rate: 79 beats per minute\n",
      "Data received from 00002a37-0000-1000-8000-00805f9b34fb (Handle: 36): Heart Rate Measurement: bytearray(b'\\x00O')\n",
      "Heart Rate: 79 beats per minute\n",
      "Data received from 00002a37-0000-1000-8000-00805f9b34fb (Handle: 36): Heart Rate Measurement: bytearray(b'\\x10N\\x13\\x07')\n",
      "Heart Rate: 78 beats per minute\n",
      "Data received from 00002a37-0000-1000-8000-00805f9b34fb (Handle: 36): Heart Rate Measurement: bytearray(b'\\x10O\\x1a\\x03')\n",
      "Heart Rate: 79 beats per minute\n",
      "Data received from 00002a37-0000-1000-8000-00805f9b34fb (Handle: 36): Heart Rate Measurement: bytearray(b'\\x10O(\\x03')\n",
      "Heart Rate: 79 beats per minute\n",
      "Data received from 00002a37-0000-1000-8000-00805f9b34fb (Handle: 36): Heart Rate Measurement: bytearray(b'\\x10O\\xec\\x02')\n",
      "Heart Rate: 79 beats per minute\n",
      "Data received from 00002a37-0000-1000-8000-00805f9b34fb (Handle: 36): Heart Rate Measurement: bytearray(b'\\x10O*\\x032\\x03')\n",
      "Heart Rate: 79 beats per minute\n",
      "Data received from 00002a37-0000-1000-8000-00805f9b34fb (Handle: 36): Heart Rate Measurement: bytearray(b'\\x10N+\\x03')\n",
      "Heart Rate: 78 beats per minute\n",
      "Data received from 00002a37-0000-1000-8000-00805f9b34fb (Handle: 36): Heart Rate Measurement: bytearray(b'\\x00N')\n",
      "Heart Rate: 78 beats per minute\n",
      "Data received from 00002a37-0000-1000-8000-00805f9b34fb (Handle: 36): Heart Rate Measurement: bytearray(b'\\x00M')\n",
      "Heart Rate: 77 beats per minute\n",
      "Data received from 00002a37-0000-1000-8000-00805f9b34fb (Handle: 36): Heart Rate Measurement: bytearray(b'\\x00M')\n",
      "Heart Rate: 77 beats per minute\n",
      "Data received from 00002a37-0000-1000-8000-00805f9b34fb (Handle: 36): Heart Rate Measurement: bytearray(b'\\x00M')\n",
      "Heart Rate: 77 beats per minute\n",
      "Data received from 00002a37-0000-1000-8000-00805f9b34fb (Handle: 36): Heart Rate Measurement: bytearray(b'\\x00M')\n",
      "Heart Rate: 77 beats per minute\n",
      "Data received from 00002a37-0000-1000-8000-00805f9b34fb (Handle: 36): Heart Rate Measurement: bytearray(b'\\x00M')\n",
      "Heart Rate: 77 beats per minute\n",
      "Data received from 00002a37-0000-1000-8000-00805f9b34fb (Handle: 36): Heart Rate Measurement: bytearray(b'\\x00M')\n",
      "Heart Rate: 77 beats per minute\n",
      "Data received from 00002a37-0000-1000-8000-00805f9b34fb (Handle: 36): Heart Rate Measurement: bytearray(b'\\x00M')\n",
      "Heart Rate: 77 beats per minute\n"
     ]
    }
   ],
   "source": [
    "async def run_stream():\n",
    "    await model.stream()\n",
    "\n",
    "asyncio.create_task(run_stream())"
   ]
  }
 ],
 "metadata": {
  "kernelspec": {
   "display_name": "Python 3",
   "language": "python",
   "name": "python3"
  },
  "language_info": {
   "codemirror_mode": {
    "name": "ipython",
    "version": 3
   },
   "file_extension": ".py",
   "mimetype": "text/x-python",
   "name": "python",
   "nbconvert_exporter": "python",
   "pygments_lexer": "ipython3",
   "version": "3.9.6"
  }
 },
 "nbformat": 4,
 "nbformat_minor": 2
}
