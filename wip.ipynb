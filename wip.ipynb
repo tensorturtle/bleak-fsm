{
 "cells": [
  {
   "cell_type": "markdown",
   "metadata": {},
   "source": [
    "# Extremely Minimal, Dirty Bleak Scanner implementation "
   ]
  },
  {
   "cell_type": "code",
   "execution_count": 1,
   "metadata": {},
   "outputs": [
    {
     "name": "stdout",
     "output_type": "stream",
     "text": [
      "Defaulting to user installation because normal site-packages is not writeable\n",
      "Requirement already satisfied: transitions in /Users/tensorturtle/Library/Python/3.9/lib/python/site-packages (from -r requirements.txt (line 5)) (0.9.0)\n",
      "Requirement already satisfied: bleak in /Users/tensorturtle/Library/Python/3.9/lib/python/site-packages (from -r requirements.txt (line 6)) (0.21.1)\n",
      "Requirement already satisfied: six in /Library/Developer/CommandLineTools/Library/Frameworks/Python3.framework/Versions/3.9/lib/python3.9/site-packages (from transitions->-r requirements.txt (line 5)) (1.15.0)\n",
      "Requirement already satisfied: pyobjc-framework-CoreBluetooth<10.0,>=9.2 in /Users/tensorturtle/Library/Python/3.9/lib/python/site-packages (from bleak->-r requirements.txt (line 6)) (9.2)\n",
      "Requirement already satisfied: pyobjc-core<10.0,>=9.2 in /Users/tensorturtle/Library/Python/3.9/lib/python/site-packages (from bleak->-r requirements.txt (line 6)) (9.2)\n",
      "Requirement already satisfied: pyobjc-framework-libdispatch<10.0,>=9.2 in /Users/tensorturtle/Library/Python/3.9/lib/python/site-packages (from bleak->-r requirements.txt (line 6)) (9.2)\n",
      "Requirement already satisfied: async-timeout<5,>=3.0.0 in /Users/tensorturtle/Library/Python/3.9/lib/python/site-packages (from bleak->-r requirements.txt (line 6)) (4.0.3)\n",
      "Requirement already satisfied: typing-extensions>=4.7.0 in /Users/tensorturtle/Library/Python/3.9/lib/python/site-packages (from bleak->-r requirements.txt (line 6)) (4.9.0)\n",
      "Requirement already satisfied: pyobjc-framework-Cocoa>=9.2 in /Users/tensorturtle/Library/Python/3.9/lib/python/site-packages (from pyobjc-framework-CoreBluetooth<10.0,>=9.2->bleak->-r requirements.txt (line 6)) (9.2)\n",
      "\u001b[33mWARNING: You are using pip version 21.2.4; however, version 24.0 is available.\n",
      "You should consider upgrading via the '/Library/Developer/CommandLineTools/usr/bin/python3 -m pip install --upgrade pip' command.\u001b[0m\n"
     ]
    }
   ],
   "source": [
    "!pip3 install -r requirements.txt"
   ]
  },
  {
   "cell_type": "code",
   "execution_count": 2,
   "metadata": {},
   "outputs": [],
   "source": [
    "from transitions.extensions.asyncio import AsyncMachine\n",
    "import asyncio"
   ]
  },
  {
   "cell_type": "code",
   "execution_count": 3,
   "metadata": {},
   "outputs": [],
   "source": [
    "from bleak import BleakClient, BleakScanner"
   ]
  },
  {
   "cell_type": "code",
   "execution_count": 4,
   "metadata": {},
   "outputs": [],
   "source": [
    "def detection_callback(device_dict, device, advertisement_data):\n",
    "    # Here, we're adding device information to the global list\n",
    "    # Note 'BLEDevice' is a BleakScanner object, which is not JSON serializable, so don't send that to client.\n",
    "    # But we need it to connect to the device later (simply using the address text doesn't work)\n",
    "    #ble_devices[device.address] = (device, advertisement_data)\n",
    "    # we eagerly send the results of the scan to the client through websocket\n",
    "    # async def eagerly_send_scan_results():\n",
    "    #     # send `discovered_devices` except for the `BLEDevice` key\n",
    "    #     print(f\"Sending websocket message. Event name: 'scan_reply'. Data: {serialize(ble_devices)}\")\n",
    "    #     await websocket.send(json.dumps({\"event\": \"scan_reply\", \"data\": serialize(ble_devices)}))\n",
    "    # if websocket is not None:\n",
    "    #     asyncio.create_task(eagerly_send_scan_results())\n",
    "    # else:\n",
    "    #     print(\"No active websocket connection.\")\n",
    "    # print(f\"Advertisement {advertisement_data} found.\")\n",
    "    # print(f\"Device {device} found.\")\n",
    "    # print(f\"BLE Devices: {device_dict}\")\n",
    "    device_dict[device.address] = (device, advertisement_data)\n",
    "    return device_dict"
   ]
  },
  {
   "cell_type": "code",
   "execution_count": 5,
   "metadata": {},
   "outputs": [],
   "source": [
    "from functools import partial\n",
    "class BleakModel:\n",
    "    '''\n",
    "    This class is a transitions.AsyncModel wrapper around the BleakScanner class.\n",
    "    It is used to scan for Bluetooth Low Energy devices and return the results within the state machine framework.\n",
    "    '''\n",
    "    def __init__(self):\n",
    "        self.ble_devices = {}\n",
    "\n",
    "    async def bt_scan(self):\n",
    "        stop_event = asyncio.Event()\n",
    "\n",
    "        # This will automatically stop the scanner after the given number of seconds\n",
    "        def stop_scan():\n",
    "            stop_event.set()\n",
    "            # async def send_scan_finished_message():\n",
    "            #     print(f\"Sending websocket message. Event name: 'scan_finished'. Data: (empty)\")\n",
    "            #     await websocket.send(json.dumps({\"event\": \"scan_finished\", \"data\": \"\"}))\n",
    "            # asyncio.create_task(send_scan_finished_message())\n",
    "\n",
    "        # Start the scanner with the detection callback\n",
    "        detection_callback_with_devices = partial(detection_callback, self.ble_devices)\n",
    "        async with BleakScanner(detection_callback_with_devices) as scanner:\n",
    "            await asyncio.sleep(3)  # Adjust the sleep time as needed\n",
    "            stop_scan()\n",
    "\n",
    "        # Return the list of discovered devices\n",
    "        return self.ble_devices\n"
   ]
  },
  {
   "cell_type": "code",
   "execution_count": 6,
   "metadata": {},
   "outputs": [],
   "source": [
    "\n",
    "model = BleakModel()\n",
    "\n",
    "transitions = [\n",
    "    { 'trigger': 'start_scan', 'source': 'Init', 'dest': 'Scanning', 'after': 'bt_scan' }\n",
    "]\n",
    "machine = AsyncMachine(model, states=[\"Init\", \"Scanning\"], transitions=transitions, initial='Init')"
   ]
  },
  {
   "cell_type": "code",
   "execution_count": 7,
   "metadata": {},
   "outputs": [
    {
     "data": {
      "text/plain": [
       "<Task pending name='Task-5' coro=<AsyncEvent.trigger() running at /Users/tensorturtle/Library/Python/3.9/lib/python/site-packages/transitions/extensions/asyncio.py:166>>"
      ]
     },
     "execution_count": 7,
     "metadata": {},
     "output_type": "execute_result"
    }
   ],
   "source": [
    "# Since we're in a Jupyter notebook, \n",
    "# we need to use `create_task()` instead of `get_event_loop().run_until_complete()`\n",
    "# to use the existing event loop which Jupyter runs on.\n",
    "asyncio.create_task(model.start_scan())"
   ]
  },
  {
   "cell_type": "code",
   "execution_count": 8,
   "metadata": {},
   "outputs": [
    {
     "data": {
      "text/plain": [
       "<Task pending name='Task-7' coro=<print_as_we_go() running at /var/folders/16/dbv855p93hx5m7mgrd8fwscw0000gn/T/ipykernel_10374/1665713095.py:1>>"
      ]
     },
     "execution_count": 8,
     "metadata": {},
     "output_type": "execute_result"
    },
    {
     "name": "stdout",
     "output_type": "stream",
     "text": [
      "0 devices found in 0.0 seconds.\n",
      "1 devices found in 0.02 seconds.\n",
      "1 devices found in 0.04 seconds.\n",
      "3 devices found in 0.06 seconds.\n",
      "3 devices found in 0.08 seconds.\n",
      "5 devices found in 0.1 seconds.\n",
      "5 devices found in 0.12 seconds.\n",
      "6 devices found in 0.14 seconds.\n",
      "6 devices found in 0.16 seconds.\n",
      "6 devices found in 0.18 seconds.\n",
      "6 devices found in 0.2 seconds.\n",
      "6 devices found in 0.22 seconds.\n",
      "6 devices found in 0.24 seconds.\n",
      "6 devices found in 0.26 seconds.\n",
      "6 devices found in 0.28 seconds.\n",
      "6 devices found in 0.3 seconds.\n",
      "6 devices found in 0.32 seconds.\n",
      "6 devices found in 0.34 seconds.\n",
      "6 devices found in 0.36 seconds.\n",
      "6 devices found in 0.38 seconds.\n"
     ]
    }
   ],
   "source": [
    "async def print_as_we_go():\n",
    "    for i in range(20):\n",
    "        print(f\"{len(model.ble_devices)} devices found in {i*0.02} seconds.\")\n",
    "        await asyncio.sleep(0.05)\n",
    "\n",
    "asyncio.create_task(print_as_we_go())"
   ]
  },
  {
   "cell_type": "code",
   "execution_count": null,
   "metadata": {},
   "outputs": [],
   "source": []
  }
 ],
 "metadata": {
  "kernelspec": {
   "display_name": "Python 3",
   "language": "python",
   "name": "python3"
  },
  "language_info": {
   "codemirror_mode": {
    "name": "ipython",
    "version": 3
   },
   "file_extension": ".py",
   "mimetype": "text/x-python",
   "name": "python",
   "nbconvert_exporter": "python",
   "pygments_lexer": "ipython3",
   "version": "3.9.6"
  }
 },
 "nbformat": 4,
 "nbformat_minor": 2
}
