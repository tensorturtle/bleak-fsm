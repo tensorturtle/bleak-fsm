{
 "cells": [
  {
   "cell_type": "markdown",
   "metadata": {},
   "source": [
    "# Extremely Minimal, Dirty Bleak Scanner implementation "
   ]
  },
  {
   "cell_type": "code",
   "execution_count": 1,
   "metadata": {},
   "outputs": [
    {
     "name": "stdout",
     "output_type": "stream",
     "text": [
      "Defaulting to user installation because normal site-packages is not writeable\n",
      "Requirement already satisfied: transitions in /Users/tensorturtle/Library/Python/3.9/lib/python/site-packages (from -r requirements.txt (line 5)) (0.9.0)\n",
      "Requirement already satisfied: bleak in /Users/tensorturtle/Library/Python/3.9/lib/python/site-packages (from -r requirements.txt (line 6)) (0.21.1)\n",
      "Requirement already satisfied: pycycling in /Users/tensorturtle/Library/Python/3.9/lib/python/site-packages (from -r requirements.txt (line 7)) (0.3.4)\n",
      "Requirement already satisfied: six in /Library/Developer/CommandLineTools/Library/Frameworks/Python3.framework/Versions/3.9/lib/python3.9/site-packages (from transitions->-r requirements.txt (line 5)) (1.15.0)\n",
      "Requirement already satisfied: pyobjc-framework-libdispatch<10.0,>=9.2 in /Users/tensorturtle/Library/Python/3.9/lib/python/site-packages (from bleak->-r requirements.txt (line 6)) (9.2)\n",
      "Requirement already satisfied: typing-extensions>=4.7.0 in /Users/tensorturtle/Library/Python/3.9/lib/python/site-packages (from bleak->-r requirements.txt (line 6)) (4.9.0)\n",
      "Requirement already satisfied: pyobjc-core<10.0,>=9.2 in /Users/tensorturtle/Library/Python/3.9/lib/python/site-packages (from bleak->-r requirements.txt (line 6)) (9.2)\n",
      "Requirement already satisfied: pyobjc-framework-CoreBluetooth<10.0,>=9.2 in /Users/tensorturtle/Library/Python/3.9/lib/python/site-packages (from bleak->-r requirements.txt (line 6)) (9.2)\n",
      "Requirement already satisfied: async-timeout<5,>=3.0.0 in /Users/tensorturtle/Library/Python/3.9/lib/python/site-packages (from bleak->-r requirements.txt (line 6)) (4.0.3)\n",
      "Requirement already satisfied: pyobjc-framework-Cocoa>=9.2 in /Users/tensorturtle/Library/Python/3.9/lib/python/site-packages (from pyobjc-framework-CoreBluetooth<10.0,>=9.2->bleak->-r requirements.txt (line 6)) (9.2)\n",
      "\u001b[33mWARNING: You are using pip version 21.2.4; however, version 24.0 is available.\n",
      "You should consider upgrading via the '/Library/Developer/CommandLineTools/usr/bin/python3 -m pip install --upgrade pip' command.\u001b[0m\n"
     ]
    }
   ],
   "source": [
    "!pip3 install -r requirements.txt"
   ]
  },
  {
   "cell_type": "code",
   "execution_count": 1,
   "metadata": {},
   "outputs": [],
   "source": [
    "from transitions.extensions.asyncio import AsyncMachine\n",
    "import asyncio\n",
    "import time"
   ]
  },
  {
   "cell_type": "code",
   "execution_count": 2,
   "metadata": {},
   "outputs": [],
   "source": [
    "from bleak import BleakClient, BleakScanner\n",
    "from bleak.backends.device import BLEDevice"
   ]
  },
  {
   "cell_type": "code",
   "execution_count": 3,
   "metadata": {},
   "outputs": [],
   "source": [
    "USE_PYCYCLING = False\n",
    "\n",
    "if USE_PYCYCLING:\n",
    "    from pycycling.heart_rate_service import HeartRateService\n"
   ]
  },
  {
   "cell_type": "code",
   "execution_count": 4,
   "metadata": {},
   "outputs": [],
   "source": [
    "HEART_RATE_MEASUREMENT_CHARACTERISTIC_UUID = \"00002a37-0000-1000-8000-00805f9b34fb\""
   ]
  },
  {
   "cell_type": "code",
   "execution_count": 5,
   "metadata": {},
   "outputs": [],
   "source": [
    "class BleakFSMError(Exception):\n",
    "    '''\n",
    "    Base class for this library's exceptions.\n",
    "    When developers use Bleak FSM, they should only see subclasses of this exception.\n",
    "    No other types of exceptions should pass through and be raised.\n",
    "    '''\n",
    "    pass\n",
    "\n",
    "class StaleScanError(BleakFSMError):\n",
    "    '''\n",
    "    Raised when the scan is stale.\n",
    "    '''\n",
    "    def __init__(self):\n",
    "        super().__init__(\"Scan is stale. Please rescan. Consider setting 'auto_rescan=True' to avoid this error.\")\n",
    "\n",
    "class NoDevicesFoundError(BleakFSMError):\n",
    "    '''\n",
    "    Raised when no devices are found during a scan.\n",
    "    '''\n",
    "    def __init__(self):\n",
    "        super().__init__(\"No devices found during scan.\")"
   ]
  },
  {
   "cell_type": "code",
   "execution_count": 7,
   "metadata": {},
   "outputs": [],
   "source": [
    "class BleakModel:\n",
    "    '''\n",
    "    This class is a transitions.AsyncModel wrapper around the BleakScanner class.\n",
    "    It is used to scan and receive data for Bluetooth Low Energy devices,\n",
    "    while providing a simple state machine interface to the programmer.\n",
    "\n",
    "    Many of this class's methods are meant to be state machine callbacks, \n",
    "    so they are prefixed with an underscore to prevent accidentally calling them directly.\n",
    "    '''\n",
    "    bt_devices = {} # class variable to store the discovered devices, since we can only have one BleakScanner\n",
    "    _stop_scan_event = asyncio.Event() # class variable to stop the scan\n",
    "    def __init__(self, scan_stale_time=120, auto_rescan=True, rescan_timeout=3):\n",
    "        '''\n",
    "        Args\n",
    "            (int) scan_stale_time: number of seconds while scan results are considered valid for establishing connection. Must re-scan if connection attempted after this time.\n",
    "            (bool) auto_rescan: If connect() attempted when scan is stale, run scan for `rescan_timeout` seconds\n",
    "            (int) rescan_timeout: Number of seconds to scan, if auto_rescan is True. If scan isn't stale, then this value is not used and scan continues indefinitely until you call stop_scan().\n",
    "        '''\n",
    "        self.bleak_client: BleakClient = None\n",
    "        self.ble_device: BLEDevice = None\n",
    "        self.target = None\n",
    "        self._stop_streaming_event = asyncio.Event()\n",
    "\n",
    "        self.scan_stale_time = scan_stale_time\n",
    "        self.auto_rescan = auto_rescan\n",
    "        self.rescan_timeout = rescan_timeout\n",
    "\n",
    "        self.wrapped_client = None # Either identical to `self.bleak_client` (not wrapped) or custom object that represents the BLE device that presumably takes in a BleakClient, such as pycycling classes\n",
    "        self.enable_notifications = None # an Async Callable must be set later that takes in a BleakClient or similar (Pycycling) object\n",
    "        self.set_measurement_handler = None  # a Callable must be set later that takes in a BleakClient or similar (Pycycling) object and a value\n",
    "        self.disable_notifications = None # an Async Callable must be set later that takes in a BleakClient or similar (Pycycling) object\n",
    "\n",
    "        self.last_scan_time = None\n",
    "        \n",
    "    def set_target_address(self, address):\n",
    "        if address in BleakModel.bt_devices:\n",
    "            self.target = address\n",
    "            return True\n",
    "        else:\n",
    "            return BleakFSMError(f\"Address {address} not found in discovered devices\")\n",
    "\n",
    "    async def _bt_scan(self):        \n",
    "        def detection_callback(device, _advertisement_data):\n",
    "            BleakModel.bt_devices[device.address] = device\n",
    "        async with BleakScanner(detection_callback) as scanner:\n",
    "            await self._stop_scan_event.wait() # continues to scan until stop_scan_event is set\n",
    "\n",
    "\n",
    "    async def _stop_bt_scan(self):\n",
    "        self.last_scan_time = time.time()\n",
    "        self._stop_scan_event.set()\n",
    "\n",
    "    async def _connect_to_device(self):\n",
    "        # stale scan data\n",
    "        if self.last_scan_time is not None:\n",
    "            if time.time() - self.last_scan_time > self.scan_stale_time:\n",
    "                if self.auto_rescan:\n",
    "                    print(\"Stale scan. Automatically re-scanning before attempting connect\")\n",
    "                    await self._bt_scan()\n",
    "                    await asyncio.sleep(self.rescan_timeout)\n",
    "                    await self._stop_bt_scan()\n",
    "                    await self._connect_to_device() # while this looks recursive, it isn't because after one iteration, the stale time will not have been reached\n",
    "                    return True\n",
    "                else:\n",
    "                    raise StaleScanError()\n",
    "                \n",
    "        if len(BleakModel.bt_devices) == 0:\n",
    "            raise NoDevicesFoundError()\n",
    "        try:\n",
    "            self.ble_device = (BleakModel.bt_devices.pop(self.target))# remove the device from the list to avoid connecting to it multiple times\n",
    "        except:\n",
    "            raise BleakFSMError(f\"Bluetooth device {self.target} not found in scanned list. It could be powered off, connected to another device, or to another BleakModel.\")\n",
    "        self.bleak_client = BleakClient(self.ble_device) # we don't use the async context manager because we want to access the client object from the disconnect function\n",
    "        try:\n",
    "            connected = await self.bleak_client.connect()\n",
    "            if connected:\n",
    "                print(f\"Connected to {self.target}\")\n",
    "\n",
    "                self.wrapped_client = self.wrap(self.bleak_client)\n",
    "                    \n",
    "                return True\n",
    "            else:\n",
    "                print(f\"Failed to connect to {self.target}\")\n",
    "        except Exception as e:\n",
    "            print(f\"An error occurred: {e}\")\n",
    "            return False\n",
    "        return True\n",
    "    \n",
    "    async def _disconnect_from_device(self):\n",
    "        BleakModel.bt_devices[self.target] = self.ble_device # put it back in the list\n",
    "        await self.bleak_client.disconnect()\n",
    "        print(f\"Disconnected from {self.bleak_client.address}\")\n",
    "\n",
    "    async def _stream_from_device(self):\n",
    "        self._stop_streaming_event.clear()\n",
    "\n",
    "        self.set_measurement_handler(self.wrapped_client)\n",
    "        await self.enable_notifications(self.wrapped_client)\n",
    "        \n",
    "        print(\"Started streaming\")\n",
    "\n",
    "        await self._stop_streaming_event.wait()\n",
    "        return True\n",
    "    \n",
    "    async def send_command(self, command):\n",
    "        if self.state != \"Streaming\":\n",
    "            raise BleakFSMError(\"Cannot send command while not streaming\")\n",
    "        raise NotImplementedError(\"Todo: Implement this method\")\n",
    "\n",
    "    async def _stop_stream_from_device(self):\n",
    "        self._stop_streaming_event.set()\n",
    "        try:\n",
    "            await self.disable_notifications(self.wrapped_client)\n",
    "\n",
    "            print(\"Stopped streaming\")\n",
    "            return True\n",
    "        except Exception as e:\n",
    "            print(f\"An error occurred while stopping streaming: {e}\")\n",
    "            return False\n",
    "\n",
    "    async def _stop_stream_and_disconnect_from_device(self):\n",
    "        '''\n",
    "        Since we can't re-use the connection after stopping notify,\n",
    "        we bundle the stop streaming and disconnect logic\n",
    "        so that the state jumps from Streaming to Init.\n",
    "        '''\n",
    "        await self._stop_stream_from_device()\n",
    "        await self._disconnect_from_device()\n",
    "        return True\n",
    "    "
   ]
  },
  {
   "cell_type": "code",
   "execution_count": 8,
   "metadata": {},
   "outputs": [],
   "source": [
    "\n",
    "model = BleakModel()\n",
    "\n",
    "if USE_PYCYCLING:\n",
    "    model.wrap = lambda client: HeartRateService(client)\n",
    "    model.enable_notifications = lambda client: client.enable_hr_measurement_notifications()\n",
    "    model.disable_notifications = lambda client: client.disable_hr_measurement_notifications()\n",
    "    def handle_hr_measurement(value):\n",
    "        print(\"Using Pycycling wrapper around BleakClient\")\n",
    "        print(f\"Heart Rate: {value}\")\n",
    "    model.set_measurement_handler = lambda client: client.set_hr_measurement_handler(handle_hr_measurement)\n",
    "else:\n",
    "    model.wrap = lambda client: client # no wrapping; use the BleakClient object directly\n",
    "    model.enable_notifications = lambda client: client.start_notify(HEART_RATE_MEASUREMENT_CHARACTERISTIC_UUID, handle_hr_measurement)\n",
    "    model.disable_notifications = lambda client: client.stop_notify(HEART_RATE_MEASUREMENT_CHARACTERISTIC_UUID)\n",
    "    def handle_hr_measurement(sender, data):\n",
    "        print(\"Using raw BleakClient\")\n",
    "        print(f\"Data received from {sender}: {data}\")\n",
    "        flag = data[0]\n",
    "        heart_rate = data[1]\n",
    "        print(f\"Heart Rate: {heart_rate} beats per minute\")\n",
    "    model.set_measurement_handler = lambda client: handle_hr_measurement\n",
    "\n",
    "transitions = []\n",
    "\n",
    "machine = AsyncMachine(model, states=[\"Init\", \"Scanning\", \"Connected\", \"Streaming\"], transitions=transitions, initial='Init')\n",
    "\n",
    "machine.add_transition(\n",
    "    trigger=\"start_scan\",\n",
    "    source=\"Init\",\n",
    "    dest=\"Scanning\",\n",
    "    after=\"_bt_scan\"\n",
    ")\n",
    "\n",
    "machine.add_transition(\n",
    "    trigger=\"stop_scan\",\n",
    "    source=\"Scanning\",\n",
    "    dest=\"Init\",\n",
    "    after=\"_stop_bt_scan\"\n",
    ")\n",
    "\n",
    "machine.add_transition(\n",
    "    trigger=\"connect\",\n",
    "    source=\"Init\",\n",
    "    dest=\"Connected\",\n",
    "    conditions=\"_connect_to_device\",\n",
    ")\n",
    "\n",
    "machine.add_transition(\n",
    "    trigger=\"stream\",\n",
    "    source=\"Connected\",\n",
    "    dest=\"Streaming\",\n",
    "    after=\"_stream_from_device\"\n",
    ")\n",
    "\n",
    "# The following two \"disconnect\" triggers are for\n",
    "# Connected -> Init (which is obvious) and\n",
    "# Streaming -> Init: After a stream is stopped, we can't go back to Connected\n",
    "# because we can't re-use the BleakClient object.\n",
    "# Therefore we need to go one more back to Init,\n",
    "# then to Connect, and then back to Streaming.\n",
    "\n",
    "machine.add_transition(\n",
    "    trigger=\"disconnect\",\n",
    "    source=\"Connected\",\n",
    "    dest=\"Init\",\n",
    "    before=\"_disconnect_from_device\"\n",
    ")\n",
    "\n",
    "\n",
    "machine.add_transition(\n",
    "    trigger=\"disconnect\",\n",
    "    source=\"Streaming\",\n",
    "    dest=\"Init\",\n",
    "    before=\"_stop_stream_and_disconnect_from_device\"\n",
    ")"
   ]
  },
  {
   "cell_type": "code",
   "execution_count": 9,
   "metadata": {},
   "outputs": [
    {
     "name": "stdout",
     "output_type": "stream",
     "text": [
      "Correctly raised error: No devices found during scan.\n"
     ]
    }
   ],
   "source": [
    "# If we try to run connect() without having scanned, it should fail \n",
    "# and raise BleakFSMError\n",
    "# specifically, `is_device_list_empty` will return True, and the `unless` condition will fail\n",
    "\n",
    "try:\n",
    "    await model.connect()\n",
    "except BleakFSMError as e:\n",
    "    print(f\"Correctly raised error: {e}\")"
   ]
  },
  {
   "cell_type": "code",
   "execution_count": 10,
   "metadata": {},
   "outputs": [
    {
     "data": {
      "text/plain": [
       "<Task pending name='Task-7' coro=<AsyncEvent.trigger() running at /Users/tensorturtle/Library/Python/3.9/lib/python/site-packages/transitions/extensions/asyncio.py:166>>"
      ]
     },
     "execution_count": 10,
     "metadata": {},
     "output_type": "execute_result"
    }
   ],
   "source": [
    "# Since we're in a Jupyter notebook, \n",
    "# we need to use `create_task()` instead of `get_event_loop().run_until_complete()`\n",
    "# to use the existing event loop which Jupyter runs on.\n",
    "asyncio.create_task(model.start_scan())\n",
    "# if we used\n",
    "# `await model.start_scan()`\n",
    "# then it would work, but it would block until the scan is finished, which is not what we want,\n",
    "# because below we will show how the `model.bt_devices` dictionary gets filled with the results of the scan."
   ]
  },
  {
   "cell_type": "code",
   "execution_count": 11,
   "metadata": {},
   "outputs": [
    {
     "data": {
      "text/plain": [
       "'Scanning'"
      ]
     },
     "execution_count": 11,
     "metadata": {},
     "output_type": "execute_result"
    }
   ],
   "source": [
    "model.state"
   ]
  },
  {
   "cell_type": "code",
   "execution_count": 12,
   "metadata": {},
   "outputs": [
    {
     "data": {
      "text/plain": [
       "<Task pending name='Task-9' coro=<stop_after_delay() running at /var/folders/16/dbv855p93hx5m7mgrd8fwscw0000gn/T/ipykernel_73476/921128545.py:1>>"
      ]
     },
     "execution_count": 12,
     "metadata": {},
     "output_type": "execute_result"
    },
    {
     "name": "stdout",
     "output_type": "stream",
     "text": [
      "Starting sleep for 2 seconds (giving the scanner time to scan)\n"
     ]
    }
   ],
   "source": [
    "async def stop_after_delay(delay, model):\n",
    "    print(\"Starting sleep for 2 seconds (giving the scanner time to scan)\")\n",
    "    await asyncio.sleep(delay)\n",
    "    print(\"Slept for 2 seconds (sending end signal to scanner)\")\n",
    "    await model.stop_scan()\n",
    "    print(\"Stopped scanning\")\n",
    "    \n",
    "\n",
    "asyncio.create_task(stop_after_delay(2, model))"
   ]
  },
  {
   "cell_type": "code",
   "execution_count": 13,
   "metadata": {},
   "outputs": [
    {
     "name": "stdout",
     "output_type": "stream",
     "text": [
      "105 devices found in 0.0 seconds.\n",
      "105 devices found in 0.05 seconds.\n",
      "106 devices found in 0.1 seconds.\n",
      "107 devices found in 0.15 seconds.\n",
      "107 devices found in 0.2 seconds.\n",
      "107 devices found in 0.25 seconds.\n",
      "107 devices found in 0.3 seconds.\n",
      "109 devices found in 0.35 seconds.\n",
      "111 devices found in 0.4 seconds.\n",
      "111 devices found in 0.45 seconds.\n",
      "111 devices found in 0.5 seconds.\n",
      "111 devices found in 0.55 seconds.\n",
      "113 devices found in 0.6 seconds.\n",
      "113 devices found in 0.65 seconds.\n",
      "113 devices found in 0.7 seconds.\n",
      "114 devices found in 0.75 seconds.\n",
      "114 devices found in 0.8 seconds.\n",
      "114 devices found in 0.85 seconds.\n",
      "114 devices found in 0.9 seconds.\n",
      "114 devices found in 0.95 seconds.\n"
     ]
    }
   ],
   "source": [
    "async def print_as_we_go():\n",
    "    for i in range(20):\n",
    "        print(f\"{len(BleakModel.bt_devices)} devices found in {round(i*0.05,2)} seconds.\")\n",
    "        await asyncio.sleep(0.05)\n",
    "\n",
    "await print_as_we_go()"
   ]
  },
  {
   "cell_type": "code",
   "execution_count": 14,
   "metadata": {},
   "outputs": [
    {
     "data": {
      "text/plain": [
       "{'A9902FBF-BD9D-AD77-924F-9FD7990ED4D0': BLEDevice(A9902FBF-BD9D-AD77-924F-9FD7990ED4D0, Xiaomi Smart Band 8 EFA8),\n",
       " 'B069CDB8-D98E-A215-1FD5-30D2EA672C54': BLEDevice(B069CDB8-D98E-A215-1FD5-30D2EA672C54, None),\n",
       " '2B9EAC64-38BA-12B5-74A7-FF171E753B12': BLEDevice(2B9EAC64-38BA-12B5-74A7-FF171E753B12, None),\n",
       " '288A3D7C-D70C-C70A-7A0D-1CF517EBED11': BLEDevice(288A3D7C-D70C-C70A-7A0D-1CF517EBED11, None),\n",
       " 'D1A5BC49-67F7-F76E-74A9-4FBC1D43392A': BLEDevice(D1A5BC49-67F7-F76E-74A9-4FBC1D43392A, None),\n",
       " 'DBAD7A59-27E3-663C-9FD2-AFDFE8FF8002': BLEDevice(DBAD7A59-27E3-663C-9FD2-AFDFE8FF8002, None),\n",
       " '14863C4D-BF71-4EA3-C6B4-98001056AAF8': BLEDevice(14863C4D-BF71-4EA3-C6B4-98001056AAF8, WHOOPDEDOO),\n",
       " 'FF88B79E-DE1B-0BA4-EFDE-C03C2CC07141': BLEDevice(FF88B79E-DE1B-0BA4-EFDE-C03C2CC07141, None),\n",
       " '8D19A6CB-0CA1-16EF-661C-148809A72E1B': BLEDevice(8D19A6CB-0CA1-16EF-661C-148809A72E1B, None),\n",
       " 'E1C6E36C-1686-75B1-DAF6-14BD1A1654BD': BLEDevice(E1C6E36C-1686-75B1-DAF6-14BD1A1654BD, 32618441,10,0,0),\n",
       " 'AB555D42-4B6C-B527-544C-3B5DADDB7F9F': BLEDevice(AB555D42-4B6C-B527-544C-3B5DADDB7F9F, None),\n",
       " '84722509-8231-ADB3-27AC-CBBBC83690A3': BLEDevice(84722509-8231-ADB3-27AC-CBBBC83690A3, None),\n",
       " 'BFF588FD-F562-ADE0-EB1E-54FEE89F95F0': BLEDevice(BFF588FD-F562-ADE0-EB1E-54FEE89F95F0, None),\n",
       " '471F8704-8229-A21A-02E7-68ED3988483B': BLEDevice(471F8704-8229-A21A-02E7-68ED3988483B, None),\n",
       " 'F2863862-FA4E-2197-E169-E215231FA69C': BLEDevice(F2863862-FA4E-2197-E169-E215231FA69C, None),\n",
       " 'E5856460-465B-15F4-D50C-90A3999F3D00': BLEDevice(E5856460-465B-15F4-D50C-90A3999F3D00, None),\n",
       " '8D894A21-08EE-1D84-C951-ABF2D5707311': BLEDevice(8D894A21-08EE-1D84-C951-ABF2D5707311, None),\n",
       " '79A8E8BE-6D21-9C64-887B-D183F585260B': BLEDevice(79A8E8BE-6D21-9C64-887B-D183F585260B, None),\n",
       " '0C4775E3-3F19-2C53-8A6D-59840B21F806': BLEDevice(0C4775E3-3F19-2C53-8A6D-59840B21F806, None),\n",
       " '27B814AF-D07E-6EB8-5DD2-6F2BFBD0DAA7': BLEDevice(27B814AF-D07E-6EB8-5DD2-6F2BFBD0DAA7, None),\n",
       " 'E050F358-9AAF-72AC-57C0-24438795F3DF': BLEDevice(E050F358-9AAF-72AC-57C0-24438795F3DF, None),\n",
       " 'E747024C-27C8-AA35-4C69-763135CBABC5': BLEDevice(E747024C-27C8-AA35-4C69-763135CBABC5, ProPods Aero),\n",
       " '27B0B45F-7B16-7431-9AB7-5EB8490FB1F9': BLEDevice(27B0B45F-7B16-7431-9AB7-5EB8490FB1F9, None),\n",
       " '35C67203-5727-5B43-14DC-0D4651E44C66': BLEDevice(35C67203-5727-5B43-14DC-0D4651E44C66, None),\n",
       " '696B9C00-572E-B5DF-85C2-6BB9332C9A33': BLEDevice(696B9C00-572E-B5DF-85C2-6BB9332C9A33, Cleer ARC II),\n",
       " '1DE761F5-5518-514F-A76E-B9A5F68FC837': BLEDevice(1DE761F5-5518-514F-A76E-B9A5F68FC837, None),\n",
       " '952666F2-B74E-0EF2-0F41-AC3A725DF012': BLEDevice(952666F2-B74E-0EF2-0F41-AC3A725DF012, EDIFIER Lolli Pods Plus),\n",
       " '41398D5D-99FF-71E4-E485-31A60251D063': BLEDevice(41398D5D-99FF-71E4-E485-31A60251D063, None),\n",
       " 'FD34E480-0DDA-7E57-253D-621EA3FFFD61': BLEDevice(FD34E480-0DDA-7E57-253D-621EA3FFFD61, HUAWEI WATCH D-744),\n",
       " 'FCE52BEE-E8BE-A038-AE99-155DD0E07435': BLEDevice(FCE52BEE-E8BE-A038-AE99-155DD0E07435, 134367551,9,1,2),\n",
       " 'A4A4D567-02C1-52D8-AC40-BD63FB936A48': BLEDevice(A4A4D567-02C1-52D8-AC40-BD63FB936A48, None),\n",
       " '31C7BB2D-6A08-AF2A-C3C5-AF7F0549CB11': BLEDevice(31C7BB2D-6A08-AF2A-C3C5-AF7F0549CB11, None),\n",
       " '3B234F56-3F02-3C27-2B51-F2AAAEBC640C': BLEDevice(3B234F56-3F02-3C27-2B51-F2AAAEBC640C, None),\n",
       " 'E816C8F2-D94E-F031-C93A-0052CBDD7073': BLEDevice(E816C8F2-D94E-F031-C93A-0052CBDD7073, None),\n",
       " 'DB0BA36B-4377-E3E4-0DDA-D8F7692C2B2D': BLEDevice(DB0BA36B-4377-E3E4-0DDA-D8F7692C2B2D, None),\n",
       " '3F2FCECE-456A-CDE1-D0E1-82DC91682B0E': BLEDevice(3F2FCECE-456A-CDE1-D0E1-82DC91682B0E, None),\n",
       " 'C24DD671-FB26-5536-6D3D-82699B6B2A47': BLEDevice(C24DD671-FB26-5536-6D3D-82699B6B2A47, None),\n",
       " '29DED035-B142-E18A-C181-8F35869A9C00': BLEDevice(29DED035-B142-E18A-C181-8F35869A9C00, None),\n",
       " 'F0000057-5D3B-EBEA-E7DB-5CDAB0F23971': BLEDevice(F0000057-5D3B-EBEA-E7DB-5CDAB0F23971, None),\n",
       " '0AC72ECF-53BA-2959-9F87-2F2725C28236': BLEDevice(0AC72ECF-53BA-2959-9F87-2F2725C28236, None),\n",
       " 'EE3C781B-72BC-3DE5-32C7-C1DFF262AB3A': BLEDevice(EE3C781B-72BC-3DE5-32C7-C1DFF262AB3A, None),\n",
       " 'AD836839-C580-1535-90F8-30526555D954': BLEDevice(AD836839-C580-1535-90F8-30526555D954, None),\n",
       " 'BCA45B0A-50BB-789C-85F2-D73112B12FFB': BLEDevice(BCA45B0A-50BB-789C-85F2-D73112B12FFB, None),\n",
       " '90BCC382-31D5-1A91-8687-79606AC371F2': BLEDevice(90BCC382-31D5-1A91-8687-79606AC371F2, None),\n",
       " '07929827-B3AB-A1B9-C099-27E7D07DF6EB': BLEDevice(07929827-B3AB-A1B9-C099-27E7D07DF6EB, EOSM50m2_92DF12),\n",
       " 'CC06D9F2-7ABD-B659-28AA-39CB3201D81C': BLEDevice(CC06D9F2-7ABD-B659-28AA-39CB3201D81C, None),\n",
       " 'F17D0675-7088-855D-1C52-5C6DD7283AFF': BLEDevice(F17D0675-7088-855D-1C52-5C6DD7283AFF, None),\n",
       " 'D11A5CE5-95F4-F0E5-631F-E740CAF4BD9F': BLEDevice(D11A5CE5-95F4-F0E5-631F-E740CAF4BD9F, None),\n",
       " '088EE603-072B-056D-30E2-C07DC228D26F': BLEDevice(088EE603-072B-056D-30E2-C07DC228D26F, Cleer ARC II),\n",
       " '8FC23527-75E9-5BDB-DEE8-25EE2E0C1095': BLEDevice(8FC23527-75E9-5BDB-DEE8-25EE2E0C1095, None),\n",
       " '888D081B-2170-2FD0-3B2D-1BF0497F3D25': BLEDevice(888D081B-2170-2FD0-3B2D-1BF0497F3D25, None),\n",
       " 'EB4CB570-D0ED-CE3D-3B17-3C7426788070': BLEDevice(EB4CB570-D0ED-CE3D-3B17-3C7426788070, None),\n",
       " '440454AB-392F-3663-C829-FDC405313CA7': BLEDevice(440454AB-392F-3663-C829-FDC405313CA7, None),\n",
       " '53F692F1-8F14-0C15-7DB8-00FBFE7D0E26': BLEDevice(53F692F1-8F14-0C15-7DB8-00FBFE7D0E26, None),\n",
       " '7FF128BC-6AA7-D068-8768-24A4FAA218B8': BLEDevice(7FF128BC-6AA7-D068-8768-24A4FAA218B8, None),\n",
       " '13E357F2-5F73-3327-0344-67831D788E3D': BLEDevice(13E357F2-5F73-3327-0344-67831D788E3D, None),\n",
       " '462C35AE-E49C-90A6-4EE5-2E07988633CD': BLEDevice(462C35AE-E49C-90A6-4EE5-2E07988633CD, None),\n",
       " '8A475846-FE93-2C0E-9691-BC29332B124C': BLEDevice(8A475846-FE93-2C0E-9691-BC29332B124C, None),\n",
       " '3821FED5-9A99-4158-13DE-F9A37F218872': BLEDevice(3821FED5-9A99-4158-13DE-F9A37F218872, None),\n",
       " '31AEE62C-E1DE-E063-90CE-761A42A4FD02': BLEDevice(31AEE62C-E1DE-E063-90CE-761A42A4FD02, None),\n",
       " 'AD792D21-F29E-5891-7738-41C339ADED02': BLEDevice(AD792D21-F29E-5891-7738-41C339ADED02, None),\n",
       " '45033B9C-442B-7711-0667-0E4C53947DA4': BLEDevice(45033B9C-442B-7711-0667-0E4C53947DA4, None),\n",
       " '87E21CFF-46D4-43BA-E192-4AA12897B205': BLEDevice(87E21CFF-46D4-43BA-E192-4AA12897B205, None),\n",
       " 'CA55E600-4375-B0A7-2DF0-964E8E16FC83': BLEDevice(CA55E600-4375-B0A7-2DF0-964E8E16FC83, None),\n",
       " '709F5855-1A3E-2714-65EF-DAE0F3769B4E': BLEDevice(709F5855-1A3E-2714-65EF-DAE0F3769B4E, None),\n",
       " '0C0076D0-1BBD-C366-8F60-042765CD463F': BLEDevice(0C0076D0-1BBD-C366-8F60-042765CD463F, None),\n",
       " '739BB40E-E7D1-97BF-5A32-0D735264F3EF': BLEDevice(739BB40E-E7D1-97BF-5A32-0D735264F3EF, None),\n",
       " '78600589-7F4E-EAC9-3EB8-7D4CA551CA29': BLEDevice(78600589-7F4E-EAC9-3EB8-7D4CA551CA29, None),\n",
       " '748787C8-AF9B-2453-463F-152D6DB5A916': BLEDevice(748787C8-AF9B-2453-463F-152D6DB5A916, None),\n",
       " 'D42DA3D5-050E-4A0A-F161-F167F6BFD95E': BLEDevice(D42DA3D5-050E-4A0A-F161-F167F6BFD95E, None),\n",
       " '8607E02A-532B-A476-B219-ADF1C397A4D1': BLEDevice(8607E02A-532B-A476-B219-ADF1C397A4D1, None),\n",
       " '52F0CB36-CD8C-216A-4AFA-C8A4B92604F5': BLEDevice(52F0CB36-CD8C-216A-4AFA-C8A4B92604F5, None),\n",
       " '3CE0DDBA-750A-D78C-CFA2-5A0CE16FF2AC': BLEDevice(3CE0DDBA-750A-D78C-CFA2-5A0CE16FF2AC, None),\n",
       " '9AE4A89D-7253-295E-B2BF-FF3125431F2A': BLEDevice(9AE4A89D-7253-295E-B2BF-FF3125431F2A, None),\n",
       " '0B59415F-9838-026F-53A5-F317E64B1D3A': BLEDevice(0B59415F-9838-026F-53A5-F317E64B1D3A, None),\n",
       " 'D751F2B3-C62C-70EA-6D7C-C0225A1BE881': BLEDevice(D751F2B3-C62C-70EA-6D7C-C0225A1BE881, None),\n",
       " '30E79EE5-D76C-41A3-9496-0D07745DBDB3': BLEDevice(30E79EE5-D76C-41A3-9496-0D07745DBDB3, None),\n",
       " '6AE6AC5D-DBC8-5FDD-CD6F-11CEBC1B4885': BLEDevice(6AE6AC5D-DBC8-5FDD-CD6F-11CEBC1B4885, None),\n",
       " '988CB3E1-0D58-6B6F-2271-18F41D6BAA9A': BLEDevice(988CB3E1-0D58-6B6F-2271-18F41D6BAA9A, None),\n",
       " '914ECF83-59A4-F7B7-6CE2-1BAB317984EB': BLEDevice(914ECF83-59A4-F7B7-6CE2-1BAB317984EB, None),\n",
       " 'C86F6013-6B71-4609-1873-DAB9D1A90B94': BLEDevice(C86F6013-6B71-4609-1873-DAB9D1A90B94, None),\n",
       " '524E2377-3D58-3392-FF8F-0F80E857E83F': BLEDevice(524E2377-3D58-3392-FF8F-0F80E857E83F, None),\n",
       " '233A4056-BF31-C755-DA04-7F2182B7A261': BLEDevice(233A4056-BF31-C755-DA04-7F2182B7A261, None),\n",
       " 'C9533FD7-0FB6-43D5-53D7-861664406290': BLEDevice(C9533FD7-0FB6-43D5-53D7-861664406290, None),\n",
       " 'C3D2DFD0-E742-9D46-F4B9-B19ACEB64C79': BLEDevice(C3D2DFD0-E742-9D46-F4B9-B19ACEB64C79, None),\n",
       " '2D34FA2C-20A9-E914-AE38-034D4EDB0D88': BLEDevice(2D34FA2C-20A9-E914-AE38-034D4EDB0D88, COD_X3_RE),\n",
       " '0704C300-D77F-7FD7-19C6-466EC5B80846': BLEDevice(0704C300-D77F-7FD7-19C6-466EC5B80846, None),\n",
       " 'FBB54FB8-C7E4-7777-5C0E-168901F50A53': BLEDevice(FBB54FB8-C7E4-7777-5C0E-168901F50A53, None),\n",
       " '4787129C-27EF-BD11-2F08-A271613627B9': BLEDevice(4787129C-27EF-BD11-2F08-A271613627B9, None),\n",
       " 'D846B240-B8F4-7B84-7150-64B57DE58649': BLEDevice(D846B240-B8F4-7B84-7150-64B57DE58649, None),\n",
       " 'B30196FE-9537-004D-6A74-5E5928A2A345': BLEDevice(B30196FE-9537-004D-6A74-5E5928A2A345, None),\n",
       " 'E833AA7D-3583-F504-259A-9024FF233CED': BLEDevice(E833AA7D-3583-F504-259A-9024FF233CED, None),\n",
       " '3FEC3389-7F84-AFC4-6EF1-BDE6CD37F862': BLEDevice(3FEC3389-7F84-AFC4-6EF1-BDE6CD37F862, Green Apple),\n",
       " '851C2FFA-A472-0D22-F949-76E273700720': BLEDevice(851C2FFA-A472-0D22-F949-76E273700720, None),\n",
       " 'A369B1BD-A94D-5ED3-D1EA-663C374BA8F8': BLEDevice(A369B1BD-A94D-5ED3-D1EA-663C374BA8F8, None),\n",
       " '00EED748-3C0F-346A-14D1-5E67F8219DA2': BLEDevice(00EED748-3C0F-346A-14D1-5E67F8219DA2, None),\n",
       " '34E598D3-519E-8F40-5475-AD159113FEDF': BLEDevice(34E598D3-519E-8F40-5475-AD159113FEDF, None),\n",
       " 'B703B38E-88A9-BEDC-B595-D417FE9EB775': BLEDevice(B703B38E-88A9-BEDC-B595-D417FE9EB775, None),\n",
       " '9BB941FA-34C1-7301-FFD0-4B5A59E6D2C2': BLEDevice(9BB941FA-34C1-7301-FFD0-4B5A59E6D2C2, None),\n",
       " 'D4D89A3A-BCE5-B46F-150A-B1C00CD7F910': BLEDevice(D4D89A3A-BCE5-B46F-150A-B1C00CD7F910, None),\n",
       " '5BFC9BDF-9726-6A3C-FCF5-FD32CA4F0607': BLEDevice(5BFC9BDF-9726-6A3C-FCF5-FD32CA4F0607, None),\n",
       " 'F4770292-5467-0040-647C-3DED26CEAF70': BLEDevice(F4770292-5467-0040-647C-3DED26CEAF70, None),\n",
       " 'D7459EF6-5488-D404-3135-8F2D65214C3F': BLEDevice(D7459EF6-5488-D404-3135-8F2D65214C3F, None),\n",
       " '4E9CC74E-FBB8-A473-1345-02CF23B3498A': BLEDevice(4E9CC74E-FBB8-A473-1345-02CF23B3498A, None),\n",
       " '6F34C3A2-DEAC-66AF-DAB3-A99AF1376AA8': BLEDevice(6F34C3A2-DEAC-66AF-DAB3-A99AF1376AA8, None),\n",
       " 'CE479A47-C386-3795-7C13-E82B325AA1CC': BLEDevice(CE479A47-C386-3795-7C13-E82B325AA1CC, None),\n",
       " '27F86120-8E03-C6FF-69CB-840F2FDC1E1E': BLEDevice(27F86120-8E03-C6FF-69CB-840F2FDC1E1E, None),\n",
       " '13A01237-A0B9-9E7A-6128-4D3CAFF5E92E': BLEDevice(13A01237-A0B9-9E7A-6128-4D3CAFF5E92E, None),\n",
       " 'D0EE48A0-9A8F-777B-BF82-D407013847B4': BLEDevice(D0EE48A0-9A8F-777B-BF82-D407013847B4, ProPods Aero),\n",
       " '897A5D12-716A-642C-8117-B724433E4ABF': BLEDevice(897A5D12-716A-642C-8117-B724433E4ABF, None),\n",
       " 'AF16A42D-7E4D-99D4-0A08-BCBB70D95C62': BLEDevice(AF16A42D-7E4D-99D4-0A08-BCBB70D95C62, None),\n",
       " '6B899451-56E0-557D-81E0-55916ADEC6AE': BLEDevice(6B899451-56E0-557D-81E0-55916ADEC6AE, None),\n",
       " 'B5EB0117-A3EF-853F-CDF8-BA606B4D5A9C': BLEDevice(B5EB0117-A3EF-853F-CDF8-BA606B4D5A9C, None),\n",
       " '702F8B0B-375F-A678-B778-596674936677': BLEDevice(702F8B0B-375F-A678-B778-596674936677, None),\n",
       " 'FE11E512-4886-BC2A-5C01-3BC6D0BB05AD': BLEDevice(FE11E512-4886-BC2A-5C01-3BC6D0BB05AD, None)}"
      ]
     },
     "execution_count": 14,
     "metadata": {},
     "output_type": "execute_result"
    }
   ],
   "source": [
    "model.bt_devices"
   ]
  },
  {
   "cell_type": "code",
   "execution_count": 15,
   "metadata": {},
   "outputs": [
    {
     "name": "stdout",
     "output_type": "stream",
     "text": [
      "Slept for 2 seconds (sending end signal to scanner)\n",
      "Stopped scanning\n"
     ]
    }
   ],
   "source": [
    "await asyncio.sleep(3)"
   ]
  },
  {
   "cell_type": "code",
   "execution_count": 16,
   "metadata": {},
   "outputs": [
    {
     "name": "stdout",
     "output_type": "stream",
     "text": [
      "Success! Found device named WHOOPDEDOO\n"
     ]
    }
   ],
   "source": [
    "# Client should select the ID from the following list\n",
    "target_name = \"WHOOPDEDOO\"\n",
    "\n",
    "target_address = \"\"\n",
    "for k,v in model.bt_devices.items():\n",
    "    if v.name == target_name:\n",
    "        target_address = k\n",
    "\n",
    "if target_address == \"\":\n",
    "    print(f\"Fail. No device with name {target_name} found\")\n",
    "else:\n",
    "    print(f\"Success! Found device named {target_name}\")"
   ]
  },
  {
   "cell_type": "code",
   "execution_count": 20,
   "metadata": {},
   "outputs": [
    {
     "data": {
      "text/plain": [
       "True"
      ]
     },
     "execution_count": 20,
     "metadata": {},
     "output_type": "execute_result"
    }
   ],
   "source": [
    "model.set_target_address(target_address)"
   ]
  },
  {
   "cell_type": "code",
   "execution_count": 21,
   "metadata": {},
   "outputs": [
    {
     "name": "stdout",
     "output_type": "stream",
     "text": [
      "Connected to 14863C4D-BF71-4EA3-C6B4-98001056AAF8\n"
     ]
    },
    {
     "data": {
      "text/plain": [
       "True"
      ]
     },
     "execution_count": 21,
     "metadata": {},
     "output_type": "execute_result"
    }
   ],
   "source": [
    "await model.connect() # first time connecting"
   ]
  },
  {
   "cell_type": "code",
   "execution_count": 22,
   "metadata": {},
   "outputs": [
    {
     "data": {
      "text/plain": [
       "'Connected'"
      ]
     },
     "execution_count": 22,
     "metadata": {},
     "output_type": "execute_result"
    }
   ],
   "source": [
    "model.state"
   ]
  },
  {
   "cell_type": "code",
   "execution_count": 21,
   "metadata": {},
   "outputs": [],
   "source": [
    "# a second bluetooth model\n",
    "\n",
    "model2 = BleakModel()\n",
    "machine.add_model(model2)"
   ]
  },
  {
   "cell_type": "code",
   "execution_count": 22,
   "metadata": {},
   "outputs": [
    {
     "data": {
      "text/plain": [
       "__main__.BleakFSMError('Address 14863C4D-BF71-4EA3-C6B4-98001056AAF8 not found in discovered devices')"
      ]
     },
     "execution_count": 22,
     "metadata": {},
     "output_type": "execute_result"
    }
   ],
   "source": [
    "model2.set_target_address(\"14863C4D-BF71-4EA3-C6B4-98001056AAF8\")\n"
   ]
  },
  {
   "cell_type": "code",
   "execution_count": 23,
   "metadata": {},
   "outputs": [
    {
     "name": "stderr",
     "output_type": "stream",
     "text": [
      "/var/folders/16/dbv855p93hx5m7mgrd8fwscw0000gn/T/ipykernel_84444/1969657322.py:3: RuntimeWarning: coroutine 'sleep' was never awaited\n",
      "  asyncio.sleep(3)\n",
      "RuntimeWarning: Enable tracemalloc to get the object allocation traceback\n"
     ]
    },
    {
     "data": {
      "text/plain": [
       "{'21A2BAB1-5D6C-0EB8-A089-D3BA3EC97555': BLEDevice(21A2BAB1-5D6C-0EB8-A089-D3BA3EC97555, None),\n",
       " 'DC9EC886-4EE3-4520-3889-F7BDD5458063': BLEDevice(DC9EC886-4EE3-4520-3889-F7BDD5458063, None),\n",
       " '680A9629-A8FF-B01B-4065-4CEED62679AA': BLEDevice(680A9629-A8FF-B01B-4065-4CEED62679AA, None),\n",
       " 'F2284159-6962-7274-C8B8-2E5180CEDCFD': BLEDevice(F2284159-6962-7274-C8B8-2E5180CEDCFD, midea),\n",
       " '406672F4-C03E-A1DB-C5AD-9B3050C5CEEE': BLEDevice(406672F4-C03E-A1DB-C5AD-9B3050C5CEEE, None),\n",
       " '07A90BAE-DBB9-16F3-E665-93218FF7FF07': BLEDevice(07A90BAE-DBB9-16F3-E665-93218FF7FF07, None),\n",
       " 'C0C85B6F-FA91-DB58-A8C4-B5A9E4CDE002': BLEDevice(C0C85B6F-FA91-DB58-A8C4-B5A9E4CDE002, None),\n",
       " '3FEC3389-7F84-AFC4-6EF1-BDE6CD37F862': BLEDevice(3FEC3389-7F84-AFC4-6EF1-BDE6CD37F862, Green Apple),\n",
       " '4786980C-B022-B5D3-AF83-ED5898ECF34B': BLEDevice(4786980C-B022-B5D3-AF83-ED5898ECF34B, None),\n",
       " '0581653B-744E-B91D-60DE-38D1D94B45DC': BLEDevice(0581653B-744E-B91D-60DE-38D1D94B45DC, None),\n",
       " '18F94F01-45F9-4FA1-B464-5F48A9F74383': BLEDevice(18F94F01-45F9-4FA1-B464-5F48A9F74383, None),\n",
       " 'DDD428B0-CF74-9B34-C04A-D50C13B9F3E1': BLEDevice(DDD428B0-CF74-9B34-C04A-D50C13B9F3E1, None),\n",
       " '91E0D34D-21C3-1DFD-4021-CF9C4D058AAE': BLEDevice(91E0D34D-21C3-1DFD-4021-CF9C4D058AAE, None),\n",
       " 'BD4F715C-72FB-F84F-532C-390FD9DFE62C': BLEDevice(BD4F715C-72FB-F84F-532C-390FD9DFE62C, None),\n",
       " '69DCF180-0960-B3B1-33B3-A15625096DCB': BLEDevice(69DCF180-0960-B3B1-33B3-A15625096DCB, None),\n",
       " 'D34CC96F-7A5A-3183-A18D-9E0AA411F245': BLEDevice(D34CC96F-7A5A-3183-A18D-9E0AA411F245, None),\n",
       " '6FECB596-5421-1A30-ECF2-8B1808B9ED81': BLEDevice(6FECB596-5421-1A30-ECF2-8B1808B9ED81, None),\n",
       " '62ED5CDF-1BBC-B4CD-876B-183985770C1C': BLEDevice(62ED5CDF-1BBC-B4CD-876B-183985770C1C, None),\n",
       " '6F9143F6-84AC-6E3F-A53F-24249BC6D855': BLEDevice(6F9143F6-84AC-6E3F-A53F-24249BC6D855, None),\n",
       " '04626C12-EF6F-E18E-2E4A-01FB9C49EB29': BLEDevice(04626C12-EF6F-E18E-2E4A-01FB9C49EB29, None),\n",
       " '5F262530-034D-BD1D-9AA0-174536915BCF': BLEDevice(5F262530-034D-BD1D-9AA0-174536915BCF, None),\n",
       " '2D3E1ECB-9227-97D4-7186-93BFB708BB32': BLEDevice(2D3E1ECB-9227-97D4-7186-93BFB708BB32, None),\n",
       " '38B41F2B-8D6B-9171-6E5A-0AE5F83FDE4E': BLEDevice(38B41F2B-8D6B-9171-6E5A-0AE5F83FDE4E, None),\n",
       " '95799930-CAC5-BE56-C94C-5EE7ECEA9D79': BLEDevice(95799930-CAC5-BE56-C94C-5EE7ECEA9D79, W3 PRO)}"
      ]
     },
     "execution_count": 23,
     "metadata": {},
     "output_type": "execute_result"
    }
   ],
   "source": [
    "# since models share the same scan results, this is optional\n",
    "await model2.start_scan()\n",
    "asyncio.sleep(3)\n",
    "await model2.stop_scan()\n",
    "model2.bt_devices"
   ]
  },
  {
   "cell_type": "code",
   "execution_count": 23,
   "metadata": {},
   "outputs": [
    {
     "data": {
      "text/plain": [
       "<Task pending name='Task-19' coro=<run_stream() running at /var/folders/16/dbv855p93hx5m7mgrd8fwscw0000gn/T/ipykernel_73476/3697076873.py:1>>"
      ]
     },
     "execution_count": 23,
     "metadata": {},
     "output_type": "execute_result"
    },
    {
     "name": "stdout",
     "output_type": "stream",
     "text": [
      "Started streaming\n",
      "Using raw BleakClient\n",
      "Data received from 00002a37-0000-1000-8000-00805f9b34fb (Handle: 36): Heart Rate Measurement: bytearray(b'\\x00K')\n",
      "Heart Rate: 75 beats per minute\n",
      "Using raw BleakClient\n",
      "Data received from 00002a37-0000-1000-8000-00805f9b34fb (Handle: 36): Heart Rate Measurement: bytearray(b'\\x00K')\n",
      "Heart Rate: 75 beats per minute\n",
      "Using raw BleakClient\n",
      "Data received from 00002a37-0000-1000-8000-00805f9b34fb (Handle: 36): Heart Rate Measurement: bytearray(b'\\x00K')\n",
      "Heart Rate: 75 beats per minute\n",
      "Using raw BleakClient\n",
      "Data received from 00002a37-0000-1000-8000-00805f9b34fb (Handle: 36): Heart Rate Measurement: bytearray(b'\\x00K')\n",
      "Heart Rate: 75 beats per minute\n",
      "Using raw BleakClient\n",
      "Data received from 00002a37-0000-1000-8000-00805f9b34fb (Handle: 36): Heart Rate Measurement: bytearray(b'\\x00K')\n",
      "Heart Rate: 75 beats per minute\n",
      "Using raw BleakClient\n",
      "Data received from 00002a37-0000-1000-8000-00805f9b34fb (Handle: 36): Heart Rate Measurement: bytearray(b'\\x00K')\n",
      "Heart Rate: 75 beats per minute\n",
      "Using raw BleakClient\n",
      "Data received from 00002a37-0000-1000-8000-00805f9b34fb (Handle: 36): Heart Rate Measurement: bytearray(b'\\x00K')\n",
      "Heart Rate: 75 beats per minute\n",
      "Using raw BleakClient\n",
      "Data received from 00002a37-0000-1000-8000-00805f9b34fb (Handle: 36): Heart Rate Measurement: bytearray(b'\\x00K')\n",
      "Heart Rate: 75 beats per minute\n",
      "Using raw BleakClient\n",
      "Data received from 00002a37-0000-1000-8000-00805f9b34fb (Handle: 36): Heart Rate Measurement: bytearray(b'\\x00K')\n",
      "Heart Rate: 75 beats per minute\n",
      "Using raw BleakClient\n",
      "Data received from 00002a37-0000-1000-8000-00805f9b34fb (Handle: 36): Heart Rate Measurement: bytearray(b'\\x00K')\n",
      "Heart Rate: 75 beats per minute\n",
      "Using raw BleakClient\n",
      "Data received from 00002a37-0000-1000-8000-00805f9b34fb (Handle: 36): Heart Rate Measurement: bytearray(b'\\x10L\\xd1\\x02')\n",
      "Heart Rate: 76 beats per minute\n",
      "Using raw BleakClient\n",
      "Data received from 00002a37-0000-1000-8000-00805f9b34fb (Handle: 36): Heart Rate Measurement: bytearray(b'\\x10L\\xce\\x02\\xe9\\x02')\n",
      "Heart Rate: 76 beats per minute\n",
      "Using raw BleakClient\n",
      "Data received from 00002a37-0000-1000-8000-00805f9b34fb (Handle: 36): Heart Rate Measurement: bytearray(b'\\x10L\\xcf\\x02')\n",
      "Heart Rate: 76 beats per minute\n",
      "Using raw BleakClient\n",
      "Data received from 00002a37-0000-1000-8000-00805f9b34fb (Handle: 36): Heart Rate Measurement: bytearray(b'\\x10L\\xe8\\x01\\xe8\\x01')\n",
      "Heart Rate: 76 beats per minute\n",
      "Using raw BleakClient\n",
      "Data received from 00002a37-0000-1000-8000-00805f9b34fb (Handle: 36): Heart Rate Measurement: bytearray(b'\\x10L\\xdd\\x02')\n",
      "Heart Rate: 76 beats per minute\n",
      "Using raw BleakClient\n",
      "Data received from 00002a37-0000-1000-8000-00805f9b34fb (Handle: 36): Heart Rate Measurement: bytearray(b'\\x10M\\xc9\\x02')\n",
      "Heart Rate: 77 beats per minute\n",
      "Using raw BleakClient\n",
      "Data received from 00002a37-0000-1000-8000-00805f9b34fb (Handle: 36): Heart Rate Measurement: bytearray(b'\\x10Ol\\x04\\xe8\\x01')\n",
      "Heart Rate: 79 beats per minute\n"
     ]
    }
   ],
   "source": [
    "async def run_stream():\n",
    "    await model.stream()\n",
    "\n",
    "asyncio.create_task(run_stream())"
   ]
  },
  {
   "cell_type": "code",
   "execution_count": 30,
   "metadata": {},
   "outputs": [
    {
     "name": "stdout",
     "output_type": "stream",
     "text": [
      "Started streaming\n",
      "HR: HeartRateMeasurement(sensor_contact=False, bpm=67, rr_interval=[1708], energy_expended=None)\n",
      "HR: HeartRateMeasurement(sensor_contact=False, bpm=66, rr_interval=[488], energy_expended=None)\n",
      "HR: HeartRateMeasurement(sensor_contact=False, bpm=66, rr_interval=[631], energy_expended=None)\n",
      "HR: HeartRateMeasurement(sensor_contact=False, bpm=66, rr_interval=[], energy_expended=None)\n",
      "HR: HeartRateMeasurement(sensor_contact=False, bpm=67, rr_interval=[764, 1133], energy_expended=None)\n",
      "HR: HeartRateMeasurement(sensor_contact=False, bpm=66, rr_interval=[916], energy_expended=None)\n",
      "HR: HeartRateMeasurement(sensor_contact=False, bpm=66, rr_interval=[932, 656], energy_expended=None)\n",
      "HR: HeartRateMeasurement(sensor_contact=False, bpm=66, rr_interval=[], energy_expended=None)\n",
      "HR: HeartRateMeasurement(sensor_contact=False, bpm=67, rr_interval=[1453], energy_expended=None)\n",
      "HR: HeartRateMeasurement(sensor_contact=False, bpm=67, rr_interval=[1379], energy_expended=None)\n"
     ]
    }
   ],
   "source": [
    "await asyncio.sleep(10)"
   ]
  },
  {
   "cell_type": "code",
   "execution_count": 24,
   "metadata": {},
   "outputs": [
    {
     "name": "stdout",
     "output_type": "stream",
     "text": [
      "Stopped streaming\n",
      "Disconnected from 14863C4D-BF71-4EA3-C6B4-98001056AAF8\n"
     ]
    },
    {
     "data": {
      "text/plain": [
       "True"
      ]
     },
     "execution_count": 24,
     "metadata": {},
     "output_type": "execute_result"
    }
   ],
   "source": [
    "await model.disconnect()"
   ]
  },
  {
   "cell_type": "code",
   "execution_count": 25,
   "metadata": {},
   "outputs": [
    {
     "data": {
      "text/plain": [
       "'Init'"
      ]
     },
     "execution_count": 25,
     "metadata": {},
     "output_type": "execute_result"
    }
   ],
   "source": [
    "model.state"
   ]
  },
  {
   "cell_type": "code",
   "execution_count": null,
   "metadata": {},
   "outputs": [],
   "source": []
  }
 ],
 "metadata": {
  "kernelspec": {
   "display_name": "Python 3",
   "language": "python",
   "name": "python3"
  },
  "language_info": {
   "codemirror_mode": {
    "name": "ipython",
    "version": 3
   },
   "file_extension": ".py",
   "mimetype": "text/x-python",
   "name": "python",
   "nbconvert_exporter": "python",
   "pygments_lexer": "ipython3",
   "version": "3.9.6"
  }
 },
 "nbformat": 4,
 "nbformat_minor": 2
}
